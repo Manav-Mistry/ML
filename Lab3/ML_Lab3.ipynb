{
 "cells": [
  {
   "cell_type": "markdown",
   "metadata": {
    "id": "BleaYhTghB-z"
   },
   "source": [
    "**practice of diff data structures**"
   ]
  },
  {
   "cell_type": "code",
   "execution_count": null,
   "metadata": {
    "colab": {
     "base_uri": "https://localhost:8080/"
    },
    "id": "SzqTC5kEjwso",
    "outputId": "e966bde8-1ba8-4905-9e6f-a0c8807abbab"
   },
   "outputs": [
    {
     "name": "stdout",
     "output_type": "stream",
     "text": [
      "[1, 2, 'hii']\n",
      "[1, 2, 'hii']\n",
      "['heyy', 4, [234, 8]]\n",
      "[4, 7, [234, 8]]\n",
      "[1, 2, 'ajsxg', [87, 'yabc']]\n",
      "[2, 'ajsxg', [87, 'yabc']]\n"
     ]
    }
   ],
   "source": [
    "#shallow copy, deepcopy and normal assignment like x1 = x\n",
    "import copy\n",
    "\n",
    "#1 normal assigmnent --> if we change x1 then similarly change will also happen in x , so in simple word it works as a referance\n",
    "x = [1,2,\"hii\", [7,5]]\n",
    "\n",
    "x1 = x\n",
    "x.pop(3)\n",
    "\n",
    "print(x1)\n",
    "print(x)\n",
    "\n",
    "#2 shallow copy  --> not chane the originsl data of y\n",
    "\n",
    "y = [\"heyy\", 4,7, [234, 8]]\n",
    "\n",
    "y1 = copy.copy(y)\n",
    "\n",
    "y1.pop(0)\n",
    "y.pop(2)\n",
    "\n",
    "print(y)\n",
    "print(y1)\n",
    "\n",
    "\n",
    "#deep copy -->\n",
    "\n",
    "z = [1,2,\"ajsxg\", [87,\"yabc\"]]\n",
    "\n",
    "z1 = copy.deepcopy(z)\n",
    "\n",
    "z1.pop(0)\n",
    "\n",
    "print(z)\n",
    "print(z1)"
   ]
  },
  {
   "cell_type": "code",
   "execution_count": null,
   "metadata": {
    "colab": {
     "base_uri": "https://localhost:8080/"
    },
    "id": "JCYS_L22mDQ0",
    "outputId": "1110183a-b068-4a61-a9fc-bdb3a5ec1266"
   },
   "outputs": [
    {
     "name": "stdout",
     "output_type": "stream",
     "text": [
      "(1, 2, 3)\n",
      "(1, 2, 3, 1, 2, 3, 1, 2, 3)\n",
      "((((('hello',),),),),)\n"
     ]
    }
   ],
   "source": [
    "#tuples \n",
    "\n",
    "t1 = (1,2,3,)\n",
    "print(t1)\n",
    "\n",
    "t1 = t1*3\n",
    "print(t1)\n",
    "\n",
    "t2 = (\"hello\",) #---> ',' is needed while we want to create tuple of one value otherwise it will acts like a string\n",
    "\n",
    "for i in range(4) : # what is the meaning of this ????\n",
    "  t2 = (t2,)\n",
    "\n",
    "print(t2)\n",
    "\n"
   ]
  },
  {
   "cell_type": "code",
   "execution_count": null,
   "metadata": {
    "colab": {
     "base_uri": "https://localhost:8080/"
    },
    "id": "JpUvHnqAtWoD",
    "outputId": "c5027203-d26c-414b-8054-19ec6746208d"
   },
   "outputs": [
    {
     "name": "stdout",
     "output_type": "stream",
     "text": [
      "{1, 2, 3, 'hii', 5, 'bye'}\n",
      "{1, 2, 3, 'hii', 5, 'nice to meet you', 'bye'}\n",
      "frozenset({3, 5, 'asdfgf'})\n"
     ]
    }
   ],
   "source": [
    "#set()\n",
    "\n",
    "#set is a dataStructure which is implemented by hash map so..\n",
    "#  1 -> we can not access it with index\n",
    "#  2 -> it we be in any order, means in append(x) it is not neccessary that x will append at the end of the set \n",
    "\n",
    "s = set([1,2,3,\"hii\", 5, \"bye\"])\n",
    "print(s)\n",
    "\n",
    "s.add(\"nice to meet you\")\n",
    "print(s)\n",
    "\n",
    "#about frozen set --> is a immutable set\n",
    "\n",
    "s1 = frozenset([3,5,\"asdfgf\"])\n",
    "#s1.add(789) --. this will give error\n",
    "\n",
    "print(s1)"
   ]
  },
  {
   "cell_type": "code",
   "execution_count": null,
   "metadata": {
    "colab": {
     "base_uri": "https://localhost:8080/"
    },
    "id": "OupwNSqYwGFB",
    "outputId": "ab6ce45d-9948-4341-a64b-46e9d4d4bcb2"
   },
   "outputs": [
    {
     "name": "stdout",
     "output_type": "stream",
     "text": [
      "{1: 'hello', 3: 'world'}\n",
      "{'hii': 123, 456: 'bye'}\n"
     ]
    }
   ],
   "source": [
    "#dictionary\n",
    "\n",
    "#two diff ways of diclaration\n",
    "d = {1:\"hello\", 3:\"world\"}\n",
    "d1 = dict({'hii':123, 456: \"bye\"})\n",
    "\n",
    "print(d)\n",
    "print(d1)\n",
    "\n",
    "# delete a value having index --> pop(index)\n",
    "# delete all arbitary index -> value pair --> popitem()\n",
    "# empty the dict --> clear()\n"
   ]
  },
  {
   "cell_type": "markdown",
   "metadata": {
    "id": "x6HHMuoqyCXA"
   },
   "source": [
    "**Now start the assignments quetions**"
   ]
  },
  {
   "cell_type": "code",
   "execution_count": null,
   "metadata": {
    "colab": {
     "base_uri": "https://localhost:8080/"
    },
    "id": "vgNRb0ZvyHJ4",
    "outputId": "f378eb63-4b33-4554-9237-f2716b852b6e"
   },
   "outputs": [
    {
     "name": "stdout",
     "output_type": "stream",
     "text": [
      "ramu shyamu kanu manu ramu radha manu "
     ]
    }
   ],
   "source": [
    "#1\n",
    "\n",
    "names = ['ramu', 'shyamu', 'kanu', 'manu', 'ramu', 'radha', 'manu']\n",
    "\n",
    "for i in names :\n",
    "  print(i, end =\" \")"
   ]
  },
  {
   "cell_type": "code",
   "execution_count": null,
   "metadata": {
    "colab": {
     "base_uri": "https://localhost:8080/"
    },
    "id": "w5TYwatOZN95",
    "outputId": "fbd235ae-720b-4918-b814-e14efe50d70d"
   },
   "outputs": [
    {
     "name": "stdout",
     "output_type": "stream",
     "text": [
      "{'shyamu', 'kanu', 'manu', 'radha', 'ramu'}\n"
     ]
    }
   ],
   "source": [
    "#2\n",
    "\n",
    "names = ['ramu', 'shyamu', 'kanu', 'manu', 'ramu', 'radha', 'manu']\n",
    "s = set();\n",
    "\n",
    "for i in names:\n",
    "  s.add(i)\n",
    "print(s)\n",
    "     "
   ]
  },
  {
   "cell_type": "code",
   "execution_count": null,
   "metadata": {
    "colab": {
     "base_uri": "https://localhost:8080/"
    },
    "id": "463Uzx2kzPio",
    "outputId": "a133f5d3-dbd1-41d0-cefa-158d10c7c280"
   },
   "outputs": [
    {
     "name": "stdout",
     "output_type": "stream",
     "text": [
      "12 manav 19 99 \n",
      "87 vinit 18 99 \n",
      "34 mihir 18 98 \n"
     ]
    }
   ],
   "source": [
    "#3\n",
    "\n",
    "records = dict({\"rec1\" : {\"id\" : 12,\"name\" : \"manav\",\"age\" : 19,\"percentage\" : 99}, \n",
    "                \"rec2\" : {\"id\" : 87,\"name\" : \"vinit\",\"age\" : 18,\"percentage\" : 99}});\n",
    "records[\"rec3\"] ={\"id\" : 34,\"name\" : \"mihir\",\"age\" : 18,\"percentage\" : 98}\n",
    "\n",
    "for rec in records :\n",
    "    for val in records[rec] :\n",
    "      print(records[rec][val], end = \" \" )\n",
    "    print()\n"
   ]
  },
  {
   "cell_type": "code",
   "execution_count": null,
   "metadata": {
    "colab": {
     "base_uri": "https://localhost:8080/"
    },
    "id": "LnG_GWyXemh6",
    "outputId": "a448b308-0b3d-4331-d203-bd5f2560ad71"
   },
   "outputs": [
    {
     "name": "stdout",
     "output_type": "stream",
     "text": [
      "12 manav 19 99 \n",
      "87 vinit 18 99 \n",
      "22 preet 19 99 \n",
      "25 kushal 19 99 \n"
     ]
    }
   ],
   "source": [
    "#4\n",
    "records = dict({\"rec1\" : {\"id\" : 12,\"name\" : \"manav\",\"age\" : 19,\"percentage\" : 99}, \n",
    "                \"rec2\" : {\"id\" : 87,\"name\" : \"vinit\",\"age\" : 18,\"percentage\" : 99}});\n",
    "\n",
    "records1 = dict({\"rec3\" : {\"id\" : 22,\"name\" : \"preet\",\"age\" : 19,\"percentage\" : 99}, \n",
    "                \"rec4\" : {\"id\" : 25,\"name\" : \"kushal\",\"age\" : 19,\"percentage\" : 99}});\n",
    "\n",
    "records3 = {**records, **records1};\n",
    "\n",
    "# print(records3)\n",
    "\n",
    "for rec in records3 :\n",
    "    for val in records3[rec] :\n",
    "      print(records3[rec][val], end = \" \" )\n",
    "    print()\n",
    "\n"
   ]
  },
  {
   "cell_type": "code",
   "execution_count": null,
   "metadata": {
    "colab": {
     "base_uri": "https://localhost:8080/"
    },
    "id": "UDjmnzZ0fot2",
    "outputId": "aa6b0fc5-fe77-4d83-c803-6d37a45f1a78"
   },
   "outputs": [
    {
     "name": "stdout",
     "output_type": "stream",
     "text": [
      "12 manav 19 99 \n",
      "87 vinit 18 99 \n",
      "565 preet 19 99 \n",
      "55 kushal 18 99 \n",
      "89 mann 19 99 \n"
     ]
    }
   ],
   "source": [
    "#5\n",
    "\n",
    "records = dict({\"rec1\" : {\"id\" : 12,\"name\" : \"manav\",\"age\" : 19,\"percentage\" : 99}, \n",
    "                \"rec2\" : {\"id\" : 87,\"name\" : \"vinit\",\"age\" : 18,\"percentage\" : 99},\n",
    "                \"rec3\" : {\"id\" : 565,\"name\" : \"preet\",\"age\" : 19,\"percentage\" : 99}, \n",
    "                \"rec4\" : {\"id\" : 55,\"name\" : \"kushal\",\"age\" : 18,\"percentage\" : 99},\n",
    "                \"rec5\" : {\"id\" : 89,\"name\" : \"mann\",\"age\" : 19,\"percentage\" : 99}, \n",
    "                \"rec6\" : {\"id\" : 990,\"name\" : \"meet\",\"age\" : 18,\"percentage\" : 99}}          \n",
    "               );\n",
    "\n",
    "count = 0;\n",
    "\n",
    "for ind in records :\n",
    "  if(count < 5) :\n",
    "    count += 1\n",
    "    for ind2 in records[ind] :     \n",
    "        print(records[ind][ind2], end = \" \")       \n",
    "  else :\n",
    "    break;\n",
    "  print()\n"
   ]
  },
  {
   "cell_type": "code",
   "execution_count": null,
   "metadata": {
    "colab": {
     "base_uri": "https://localhost:8080/"
    },
    "id": "m6Dc4qdXgfby",
    "outputId": "c7637468-0eec-4ce0-a950-cee0b5748da6"
   },
   "outputs": [
    {
     "name": "stdout",
     "output_type": "stream",
     "text": [
      "{'rec2': {'id': 87, 'name': 'vinit', 'age': 18, 'percentage': 99}, 'rec3': {'id': 565, 'name': 'preet', 'age': 19, 'percentage': 99}, 'rec4': {'id': 55, 'name': 'kushal', 'age': 18, 'percentage': 99}, 'rec5': {'id': 89, 'name': 'mann', 'age': 19, 'percentage': 99}, 'rec6': {'id': 990, 'name': 'meet', 'age': 18, 'percentage': 99}}\n"
     ]
    }
   ],
   "source": [
    "#6\n",
    "records = dict({\"rec1\" : {\"id\" : 12,\"name\" : \"manav\",\"age\" : 19,\"percentage\" : 99}, \n",
    "                \"rec2\" : {\"id\" : 87,\"name\" : \"vinit\",\"age\" : 18,\"percentage\" : 99},\n",
    "                \"rec3\" : {\"id\" : 565,\"name\" : \"preet\",\"age\" : 19,\"percentage\" : 99}, \n",
    "                \"rec4\" : {\"id\" : 55,\"name\" : \"kushal\",\"age\" : 18,\"percentage\" : 99},\n",
    "                \"rec5\" : {\"id\" : 89,\"name\" : \"mann\",\"age\" : 19,\"percentage\" : 99}, \n",
    "                \"rec6\" : {\"id\" : 990,\"name\" : \"meet\",\"age\" : 18,\"percentage\" : 99}}          \n",
    "               );\n",
    "\n",
    "li = []\n",
    "\n",
    "for ind in records :\n",
    "    if records[ind][\"name\"] == \"manav\":\n",
    "      li.append(ind)\n",
    "\n",
    "for i in li :\n",
    "  records.pop(i)\n",
    "\n",
    "print(records)\n"
   ]
  },
  {
   "cell_type": "code",
   "execution_count": null,
   "metadata": {
    "colab": {
     "base_uri": "https://localhost:8080/"
    },
    "id": "W1l4zpPioqWP",
    "outputId": "5416cdfc-ee4d-4ad0-8639-d9aa83027d69"
   },
   "outputs": [
    {
     "name": "stdout",
     "output_type": "stream",
     "text": [
      "{'ram': 65, 'shyam': 75, 'radha': 70, 'gopi': 60}\n"
     ]
    }
   ],
   "source": [
    "#7\n",
    "\n",
    "D1 = {\"ram\":60, \"shyam\":70, \"radha\":70}\n",
    "D2 = {\"ram\":70, \"shyam\":80, \"gopi\":60}\n",
    "avg = dict();\n",
    "for ind in D1 : \n",
    "  if ind in D2.keys() :\n",
    "    avg[ind] =int(( D1[ind] + D2[ind] ) /2)\n",
    "  else :\n",
    "    avg[ind] = D1[ind]\n",
    "\n",
    "for ind in D2 :\n",
    "    if ind in avg.keys() :\n",
    "      pass\n",
    "    else :\n",
    "      avg[ind] = D2[ind]\n",
    "\n",
    "print(avg)"
   ]
  },
  {
   "cell_type": "code",
   "execution_count": null,
   "metadata": {
    "colab": {
     "base_uri": "https://localhost:8080/"
    },
    "id": "1r5if3BJsnhv",
    "outputId": "f61ceb81-529b-4a3b-f1b7-b87d3c868287"
   },
   "outputs": [
    {
     "name": "stdout",
     "output_type": "stream",
     "text": [
      "('rec4', {'id': 55, 'name': 'kushal', 'age': 18, 'percentage': 99})\n",
      "('rec1', {'id': 12, 'name': 'manav', 'age': 19, 'percentage': 99})\n",
      "('rec5', {'id': 89, 'name': 'mann', 'age': 19, 'percentage': 99})\n",
      "('rec6', {'id': 990, 'name': 'meet', 'age': 18, 'percentage': 99})\n",
      "('rec3', {'id': 565, 'name': 'preet', 'age': 19, 'percentage': 99})\n",
      "('rec2', {'id': 87, 'name': 'vinit', 'age': 18, 'percentage': 99})\n"
     ]
    }
   ],
   "source": [
    "#8\n",
    "records = dict({\"rec1\" : {\"id\" : 12,\"name\" : \"manav\",\"age\" : 19,\"percentage\" : 99}, \n",
    "                \"rec2\" : {\"id\" : 87,\"name\" : \"vinit\",\"age\" : 18,\"percentage\" : 99},\n",
    "                \"rec3\" : {\"id\" : 565,\"name\" : \"preet\",\"age\" : 19,\"percentage\" : 99}, \n",
    "                \"rec4\" : {\"id\" : 55,\"name\" : \"kushal\",\"age\" : 18,\"percentage\" : 99},\n",
    "                \"rec5\" : {\"id\" : 89,\"name\" : \"mann\",\"age\" : 19,\"percentage\" : 99}, \n",
    "                \"rec6\" : {\"id\" : 990,\"name\" : \"meet\",\"age\" : 18,\"percentage\" : 99}}          \n",
    "               );\n",
    "\n",
    "for z in (sorted(records.items(), reverse = False, key = lambda kv: kv[1]['name'])) : \n",
    "  print(z)"
   ]
  },
  {
   "cell_type": "code",
   "execution_count": null,
   "metadata": {
    "id": "X2Ltni1Y3GC2"
   },
   "outputs": [],
   "source": [
    "#9\n",
    "dic = [{\"V\":\"S001\"}, {\"V\": \"S002\"}, {\"VI\": \"S001\"}, {\"VI\":\n",
    "\"S005\"}, {\"VII\":\"S005\"}, {\"V\":\"S009\"},{\"VIII\":\"S007\"}]\n",
    "s = set()\n",
    "for i in dic:\n",
    "  for j in i:\n",
    "    s.add(i[j])\n",
    "\n",
    "print(s)"
   ]
  },
  {
   "cell_type": "code",
   "execution_count": null,
   "metadata": {
    "id": "ZoeuHLS_3QAr"
   },
   "outputs": [],
   "source": [
    "# Q10\n",
    "Maths = {1, 2, 3, 5, 7, 9}\n",
    "Physics = { 2, 4, 6, 9}\n",
    "Chemistry = {1, 3, 5, 9}\n",
    "print(\"Maths & Physics : \",Maths.union(Physics))\n",
    "print(\"Chemistry & Physics : \",Chemistry.union(Physics))\n",
    "print(\"Maths & Chemistry : \",Maths.union(Chemistry))\n",
    "print(\"Only one subject : \",(Chemistry ^ Maths ^ Physics)  - (Chemistry & Maths & Physics))"
   ]
  },
  {
   "cell_type": "markdown",
   "metadata": {
    "id": "q6sHn2IvvwgK"
   },
   "source": [
    "## Task 1"
   ]
  },
  {
   "cell_type": "code",
   "execution_count": 1,
   "metadata": {
    "id": "MxAKLYT-vtIw"
   },
   "outputs": [
    {
     "data": {
      "text/html": [
       "<div>\n",
       "<style scoped>\n",
       "    .dataframe tbody tr th:only-of-type {\n",
       "        vertical-align: middle;\n",
       "    }\n",
       "\n",
       "    .dataframe tbody tr th {\n",
       "        vertical-align: top;\n",
       "    }\n",
       "\n",
       "    .dataframe thead th {\n",
       "        text-align: right;\n",
       "    }\n",
       "</style>\n",
       "<table border=\"1\" class=\"dataframe\">\n",
       "  <thead>\n",
       "    <tr style=\"text-align: right;\">\n",
       "      <th></th>\n",
       "      <th>Outlook</th>\n",
       "      <th>Temp</th>\n",
       "      <th>Wind</th>\n",
       "      <th>Humidity</th>\n",
       "      <th>Class</th>\n",
       "    </tr>\n",
       "  </thead>\n",
       "  <tbody>\n",
       "    <tr>\n",
       "      <th>0</th>\n",
       "      <td>R</td>\n",
       "      <td>H</td>\n",
       "      <td>F</td>\n",
       "      <td>Normal</td>\n",
       "      <td>N</td>\n",
       "    </tr>\n",
       "    <tr>\n",
       "      <th>1</th>\n",
       "      <td>R</td>\n",
       "      <td>H</td>\n",
       "      <td>T</td>\n",
       "      <td>High</td>\n",
       "      <td>N</td>\n",
       "    </tr>\n",
       "    <tr>\n",
       "      <th>2</th>\n",
       "      <td>O</td>\n",
       "      <td>H</td>\n",
       "      <td>F</td>\n",
       "      <td>Normal</td>\n",
       "      <td>Y</td>\n",
       "    </tr>\n",
       "    <tr>\n",
       "      <th>3</th>\n",
       "      <td>S</td>\n",
       "      <td>M</td>\n",
       "      <td>F</td>\n",
       "      <td>Normal</td>\n",
       "      <td>N</td>\n",
       "    </tr>\n",
       "    <tr>\n",
       "      <th>4</th>\n",
       "      <td>S</td>\n",
       "      <td>M</td>\n",
       "      <td>F</td>\n",
       "      <td>Normal</td>\n",
       "      <td>Y</td>\n",
       "    </tr>\n",
       "  </tbody>\n",
       "</table>\n",
       "</div>"
      ],
      "text/plain": [
       "  Outlook Temp Wind Humidity Class\n",
       "0       R    H    F   Normal     N\n",
       "1       R    H    T     High     N\n",
       "2       O    H    F   Normal     Y\n",
       "3       S    M    F   Normal     N\n",
       "4       S    M    F   Normal     Y"
      ]
     },
     "execution_count": 1,
     "metadata": {},
     "output_type": "execute_result"
    }
   ],
   "source": [
    "import numpy as np\n",
    "import pandas as pd\n",
    "from sklearn.preprocessing import LabelEncoder,OneHotEncoder\n",
    "\n",
    "df = pd.read_csv('Dataset2.csv')\n",
    "df.head()"
   ]
  },
  {
   "cell_type": "code",
   "execution_count": 3,
   "metadata": {},
   "outputs": [
    {
     "data": {
      "text/html": [
       "<div>\n",
       "<style scoped>\n",
       "    .dataframe tbody tr th:only-of-type {\n",
       "        vertical-align: middle;\n",
       "    }\n",
       "\n",
       "    .dataframe tbody tr th {\n",
       "        vertical-align: top;\n",
       "    }\n",
       "\n",
       "    .dataframe thead th {\n",
       "        text-align: right;\n",
       "    }\n",
       "</style>\n",
       "<table border=\"1\" class=\"dataframe\">\n",
       "  <thead>\n",
       "    <tr style=\"text-align: right;\">\n",
       "      <th></th>\n",
       "      <th>Outlook</th>\n",
       "      <th>Temp</th>\n",
       "      <th>Wind</th>\n",
       "      <th>Humidity</th>\n",
       "      <th>Class</th>\n",
       "    </tr>\n",
       "  </thead>\n",
       "  <tbody>\n",
       "    <tr>\n",
       "      <th>0</th>\n",
       "      <td>1</td>\n",
       "      <td>1</td>\n",
       "      <td>0</td>\n",
       "      <td>2</td>\n",
       "      <td>0</td>\n",
       "    </tr>\n",
       "    <tr>\n",
       "      <th>1</th>\n",
       "      <td>1</td>\n",
       "      <td>1</td>\n",
       "      <td>1</td>\n",
       "      <td>0</td>\n",
       "      <td>0</td>\n",
       "    </tr>\n",
       "    <tr>\n",
       "      <th>2</th>\n",
       "      <td>0</td>\n",
       "      <td>1</td>\n",
       "      <td>0</td>\n",
       "      <td>2</td>\n",
       "      <td>1</td>\n",
       "    </tr>\n",
       "    <tr>\n",
       "      <th>3</th>\n",
       "      <td>2</td>\n",
       "      <td>2</td>\n",
       "      <td>0</td>\n",
       "      <td>2</td>\n",
       "      <td>0</td>\n",
       "    </tr>\n",
       "    <tr>\n",
       "      <th>4</th>\n",
       "      <td>2</td>\n",
       "      <td>2</td>\n",
       "      <td>0</td>\n",
       "      <td>2</td>\n",
       "      <td>1</td>\n",
       "    </tr>\n",
       "  </tbody>\n",
       "</table>\n",
       "</div>"
      ],
      "text/plain": [
       "   Outlook  Temp  Wind  Humidity  Class\n",
       "0        1     1     0         2      0\n",
       "1        1     1     1         0      0\n",
       "2        0     1     0         2      1\n",
       "3        2     2     0         2      0\n",
       "4        2     2     0         2      1"
      ]
     },
     "execution_count": 3,
     "metadata": {},
     "output_type": "execute_result"
    }
   ],
   "source": [
    "le = LabelEncoder()\n",
    "df[\"Outlook\"] = le.fit_transform(df[\"Outlook\"])\n",
    "df[\"Temp\"] = le.fit_transform(df[\"Temp\"])\n",
    "df[\"Wind\"] = le.fit_transform(df[\"Wind\"])\n",
    "df[\"Humidity\"] = le.fit_transform(df[\"Humidity\"])\n",
    "df[\"Class\"] = le.fit_transform(df[\"Class\"])\n",
    "\n",
    "df.head()"
   ]
  },
  {
   "cell_type": "code",
   "execution_count": 11,
   "metadata": {},
   "outputs": [],
   "source": [
    "X = df.iloc[:, :-1]\n",
    "y = df[\"Class\"]"
   ]
  },
  {
   "cell_type": "code",
   "execution_count": 12,
   "metadata": {},
   "outputs": [],
   "source": [
    "from sklearn.model_selection import train_test_split\n",
    "X_train, X_test, y_train, y_test = train_test_split(X, y, test_size=10, random_state=70)"
   ]
  },
  {
   "cell_type": "code",
   "execution_count": 15,
   "metadata": {},
   "outputs": [
    {
     "data": {
      "text/plain": [
       "0.7"
      ]
     },
     "execution_count": 15,
     "metadata": {},
     "output_type": "execute_result"
    }
   ],
   "source": [
    "from sklearn.naive_bayes import GaussianNB\n",
    "gnb = GaussianNB()\n",
    "gnb.fit(X_train, y_train)\n",
    "gnb.score(X_test, y_test)"
   ]
  },
  {
   "cell_type": "markdown",
   "metadata": {},
   "source": [
    "## Task2 : Digits Dataset "
   ]
  },
  {
   "cell_type": "code",
   "execution_count": 25,
   "metadata": {},
   "outputs": [],
   "source": [
    "from sklearn import datasets\n",
    "\n",
    "digits = datasets.load_digits()\n",
    "digits\n",
    "X = digits.data\n",
    "Y = digits.target"
   ]
  },
  {
   "cell_type": "code",
   "execution_count": 27,
   "metadata": {},
   "outputs": [
    {
     "data": {
      "text/plain": [
       "64"
      ]
     },
     "execution_count": 27,
     "metadata": {},
     "output_type": "execute_result"
    }
   ],
   "source": [
    "len(X[0])"
   ]
  },
  {
   "cell_type": "code",
   "execution_count": 34,
   "metadata": {},
   "outputs": [
    {
     "data": {
      "text/plain": [
       "(1797, 1797)"
      ]
     },
     "execution_count": 34,
     "metadata": {},
     "output_type": "execute_result"
    }
   ],
   "source": [
    "len(X), len(Y)"
   ]
  },
  {
   "cell_type": "code",
   "execution_count": 37,
   "metadata": {},
   "outputs": [
    {
     "data": {
      "text/plain": [
       "array([ 0.,  0.,  5., 13.,  9.,  1.,  0.,  0.,  0.,  0., 13., 15., 10.,\n",
       "       15.,  5.,  0.,  0.,  3., 15.,  2.,  0., 11.,  8.,  0.,  0.,  4.,\n",
       "       12.,  0.,  0.,  8.,  8.,  0.,  0.,  5.,  8.,  0.,  0.,  9.,  8.,\n",
       "        0.,  0.,  4., 11.,  0.,  1., 12.,  7.,  0.,  0.,  2., 14.,  5.,\n",
       "       10., 12.,  0.,  0.,  0.,  0.,  6., 13., 10.,  0.,  0.,  0.])"
      ]
     },
     "execution_count": 37,
     "metadata": {},
     "output_type": "execute_result"
    }
   ],
   "source": [
    "X[0]"
   ]
  },
  {
   "cell_type": "code",
   "execution_count": 39,
   "metadata": {},
   "outputs": [],
   "source": [
    "X_train, X_test, y_train, y_test = train_test_split(X, Y, test_size=35, random_state=70)"
   ]
  },
  {
   "cell_type": "code",
   "execution_count": 40,
   "metadata": {},
   "outputs": [
    {
     "data": {
      "text/plain": [
       "0.9714285714285714"
      ]
     },
     "execution_count": 40,
     "metadata": {},
     "output_type": "execute_result"
    }
   ],
   "source": [
    "from sklearn.naive_bayes import GaussianNB\n",
    "gnb = GaussianNB()\n",
    "gnb.fit(X_train, y_train)\n",
    "gnb.score(X_test, y_test)"
   ]
  }
 ],
 "metadata": {
  "colab": {
   "provenance": []
  },
  "kernelspec": {
   "display_name": "Python 3 (ipykernel)",
   "language": "python",
   "name": "python3"
  },
  "language_info": {
   "codemirror_mode": {
    "name": "ipython",
    "version": 3
   },
   "file_extension": ".py",
   "mimetype": "text/x-python",
   "name": "python",
   "nbconvert_exporter": "python",
   "pygments_lexer": "ipython3",
   "version": "3.9.7"
  }
 },
 "nbformat": 4,
 "nbformat_minor": 1
}
