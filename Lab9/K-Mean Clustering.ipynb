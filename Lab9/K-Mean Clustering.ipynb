{
 "cells": [
  {
   "cell_type": "code",
   "execution_count": 1,
   "id": "a33124ae",
   "metadata": {
    "collapsed": true
   },
   "outputs": [
    {
     "name": "stdout",
     "output_type": "stream",
     "text": [
      "[[ 2.17058568  0.85600391]\n",
      " [ 0.79717677  4.38116783]\n",
      " [ 2.24471791  0.86666164]\n",
      " [ 0.65349051  4.26123927]\n",
      " [ 0.76655949  4.01978374]\n",
      " [ 0.90668765  4.33505712]\n",
      " [-1.75639774  2.83031825]\n",
      " [-1.33701985  2.93539251]\n",
      " [ 2.18972647  0.97915603]\n",
      " [ 0.84940566  4.23123909]\n",
      " [ 1.12208819  4.32958391]\n",
      " [ 1.22232821  4.5442633 ]\n",
      " [ 2.14840001  0.59041492]\n",
      " [ 1.28282592  4.59765908]\n",
      " [-1.67585498  2.75259455]\n",
      " [ 2.42877931  1.07887259]\n",
      " [-1.54659452  2.7851866 ]\n",
      " [ 0.81364082  3.95853081]\n",
      " [-1.54055233  3.26055081]\n",
      " [-1.74778068  2.92831528]\n",
      " [-1.65562769  2.47320163]\n",
      " [-1.53476058  2.68426356]\n",
      " [-1.39887771  2.59449105]\n",
      " [ 0.79871293  3.90762803]\n",
      " [ 1.841117    1.10855401]\n",
      " [ 2.08064994  0.97806153]\n",
      " [ 1.90128431  1.0055135 ]\n",
      " [ 1.82223755  1.07782896]\n",
      " [-1.60074038  2.87000643]\n",
      " [-1.3725459   3.08258309]\n",
      " [ 1.00507879  4.59464203]\n",
      " [ 2.35291796  1.2768415 ]\n",
      " [ 1.97254373  0.7481727 ]\n",
      " [ 1.27508589  4.26275567]\n",
      " [-1.61801051  2.92137809]\n",
      " [-1.05027506  3.10677816]\n",
      " [ 0.95562631  4.38590703]\n",
      " [ 1.92040099  0.90402977]\n",
      " [ 2.1265408   1.03897829]\n",
      " [-1.67481661  3.22648518]\n",
      " [-1.30157683  2.70189596]\n",
      " [ 2.13573585  0.76070164]\n",
      " [ 2.11491516  1.16294084]\n",
      " [ 0.63501604  4.69394241]\n",
      " [ 1.00725956  4.37941983]\n",
      " [ 0.87433964  4.21617247]\n",
      " [ 1.88110809  0.78189373]\n",
      " [ 1.91635395  0.86773675]\n",
      " [-1.70946846  3.14128552]\n",
      " [-1.42224868  2.883573  ]\n",
      " [-1.09425682  3.18518785]\n",
      " [ 1.92809831  1.03295032]\n",
      " [ 0.79481041  4.31417641]\n",
      " [ 2.09692252  1.09299147]\n",
      " [-1.6265105   3.30378867]\n",
      " [-1.35553789  2.78767714]\n",
      " [ 2.29102344  0.86167869]\n",
      " [ 2.05736753  1.25483776]\n",
      " [ 0.98542178  4.26635056]\n",
      " [ 2.43189766  0.62811185]\n",
      " [ 1.80117052  1.091543  ]\n",
      " [-1.7854754   2.97129244]\n",
      " [-1.68758595  2.77997231]\n",
      " [-1.49356931  3.04488855]\n",
      " [-1.82515553  3.0057606 ]\n",
      " [ 1.97463213  1.14215267]\n",
      " [ 1.12847762  4.32812233]\n",
      " [-1.72694708  2.60892804]\n",
      " [ 1.99295702  0.90889673]\n",
      " [ 1.16628776  4.27351589]\n",
      " [-1.34273225  2.98162779]\n",
      " [ 1.430221    4.01291419]\n",
      " [ 0.46567212  4.43451105]\n",
      " [ 2.43985593  1.19376662]\n",
      " [ 1.88302238  1.27967665]\n",
      " [ 1.20415022  4.05682216]\n",
      " [ 1.01175531  4.22343114]\n",
      " [ 0.84177799  4.2318767 ]\n",
      " [-1.5977028   2.642892  ]\n",
      " [ 2.13055263  0.6777835 ]\n",
      " [ 0.72571101  4.4592854 ]\n",
      " [ 0.98957352  4.36428171]\n",
      " [ 2.00166685  1.05815494]\n",
      " [ 0.65023041  4.39634378]\n",
      " [ 1.82064284  1.2863879 ]\n",
      " [ 1.06504273  4.37052219]\n",
      " [ 0.97063363  4.3894537 ]\n",
      " [ 0.87410905  4.06766089]\n",
      " [ 2.1780834   1.08210499]\n",
      " [ 0.89880472  4.24332678]\n",
      " [ 1.96823681  1.26751641]\n",
      " [ 2.13446886  0.67905136]\n",
      " [-1.30697209  3.04893501]\n",
      " [-1.73375258  3.05420116]\n",
      " [-1.7900855   2.82556534]\n",
      " [-1.28929805  2.98127078]\n",
      " [ 1.03888362  4.13296818]\n",
      " [ 1.14915732  4.15535432]\n",
      " [-1.40185772  2.59747073]\n",
      " [-1.77199112  3.08675486]]\n",
      "\n",
      "[1 0 1 0 0 0 2 2 1 0 0 0 1 0 2 1 2 0 2 2 2 2 2 0 1 1 1 1 2 2 0 1 1 0 2 2 0\n",
      " 1 1 2 2 1 1 0 0 0 1 1 2 2 2 1 0 1 2 2 1 1 0 1 1 2 2 2 2 1 0 2 1 0 2 0 0 1\n",
      " 1 0 0 0 2 1 0 0 1 0 1 0 0 0 1 0 1 1 2 2 2 2 0 0 2 2]\n"
     ]
    }
   ],
   "source": [
    "from sklearn.datasets import make_blobs\n",
    "X, y = make_blobs(n_samples=100, centers=3, n_features=2,\n",
    "cluster_std=0.2, random_state=0)\n",
    "\n",
    "print(X)\n",
    "print()\n",
    "print(y)"
   ]
  },
  {
   "cell_type": "code",
   "execution_count": 3,
   "id": "0e7a08bc",
   "metadata": {},
   "outputs": [
    {
     "data": {
      "text/html": [
       "<div>\n",
       "<style scoped>\n",
       "    .dataframe tbody tr th:only-of-type {\n",
       "        vertical-align: middle;\n",
       "    }\n",
       "\n",
       "    .dataframe tbody tr th {\n",
       "        vertical-align: top;\n",
       "    }\n",
       "\n",
       "    .dataframe thead th {\n",
       "        text-align: right;\n",
       "    }\n",
       "</style>\n",
       "<table border=\"1\" class=\"dataframe\">\n",
       "  <thead>\n",
       "    <tr style=\"text-align: right;\">\n",
       "      <th></th>\n",
       "      <th>X</th>\n",
       "      <th>Y</th>\n",
       "    </tr>\n",
       "  </thead>\n",
       "  <tbody>\n",
       "    <tr>\n",
       "      <th>0</th>\n",
       "      <td>2.170586</td>\n",
       "      <td>0.856004</td>\n",
       "    </tr>\n",
       "    <tr>\n",
       "      <th>1</th>\n",
       "      <td>0.797177</td>\n",
       "      <td>4.381168</td>\n",
       "    </tr>\n",
       "    <tr>\n",
       "      <th>2</th>\n",
       "      <td>2.244718</td>\n",
       "      <td>0.866662</td>\n",
       "    </tr>\n",
       "    <tr>\n",
       "      <th>3</th>\n",
       "      <td>0.653491</td>\n",
       "      <td>4.261239</td>\n",
       "    </tr>\n",
       "    <tr>\n",
       "      <th>4</th>\n",
       "      <td>0.766559</td>\n",
       "      <td>4.019784</td>\n",
       "    </tr>\n",
       "  </tbody>\n",
       "</table>\n",
       "</div>"
      ],
      "text/plain": [
       "          X         Y\n",
       "0  2.170586  0.856004\n",
       "1  0.797177  4.381168\n",
       "2  2.244718  0.866662\n",
       "3  0.653491  4.261239\n",
       "4  0.766559  4.019784"
      ]
     },
     "execution_count": 3,
     "metadata": {},
     "output_type": "execute_result"
    }
   ],
   "source": [
    "# creating dataFrame\n",
    "\n",
    "import pandas as pd\n",
    "\n",
    "df = pd.DataFrame(X, columns=[\"X\", \"Y\"])\n",
    "df.head()"
   ]
  },
  {
   "cell_type": "code",
   "execution_count": 5,
   "id": "0d9b0f96",
   "metadata": {},
   "outputs": [
    {
     "data": {
      "image/png": "[encoded data removed]",
      "text/plain": [
       "<Figure size 432x432 with 1 Axes>"
      ]
     },
     "metadata": {
      "needs_background": "light"
     },
     "output_type": "display_data"
    }
   ],
   "source": [
    "import matplotlib.pyplot as plt\n",
    "%matplotlib inline\n",
    "\n",
    "\n",
    "\n",
    "# Plot the data\n",
    "plt.figure(figsize=(6, 6))\n",
    "plt.scatter( df[\"X\"], df[\"Y\"])\n",
    "plt.xlabel('X-axis')\n",
    "plt.ylabel('Y-axis')\n",
    "plt.title('Visualization of raw data');"
   ]
  },
  {
   "cell_type": "code",
   "execution_count": 10,
   "id": "09e4421b",
   "metadata": {},
   "outputs": [],
   "source": [
    "from sklearn.cluster import KMeans\n",
    "\n",
    "kmeans = KMeans(n_clusters=3, random_state=0).fit(X)\n",
    "\n"
   ]
  },
  {
   "cell_type": "code",
   "execution_count": 15,
   "id": "1616c850",
   "metadata": {},
   "outputs": [
    {
     "data": {
      "text/plain": [
       "array([1, 0, 1, 0, 0, 0, 2, 2, 1, 0, 0, 0, 1, 0, 2, 1, 2, 0, 2, 2, 2, 2,\n",
       "       2, 0, 1, 1, 1, 1, 2, 2, 0, 1, 1, 0, 2, 2, 0, 1, 1, 2, 2, 1, 1, 0,\n",
       "       0, 0, 1, 1, 2, 2, 2, 1, 0, 1, 2, 2, 1, 1, 0, 1, 1, 2, 2, 2, 2, 1,\n",
       "       0, 2, 1, 0, 2, 0, 0, 1, 1, 0, 0, 0, 2, 1, 0, 0, 1, 0, 1, 0, 0, 0,\n",
       "       1, 0, 1, 1, 2, 2, 2, 2, 0, 0, 2, 2])"
      ]
     },
     "execution_count": 15,
     "metadata": {},
     "output_type": "execute_result"
    }
   ],
   "source": [
    "kmeans.labels_"
   ]
  },
  {
   "cell_type": "code",
   "execution_count": 16,
   "id": "21ace2ff",
   "metadata": {},
   "outputs": [
    {
     "data": {
      "text/plain": [
       "array([[ 0.95164831,  4.28882085],\n",
       "       [ 2.0720792 ,  0.98848385],\n",
       "       [-1.538563  ,  2.91165191]])"
      ]
     },
     "execution_count": 16,
     "metadata": {},
     "output_type": "execute_result"
    }
   ],
   "source": [
    "# kmeans.predict([[0, 0], [12, 3]])\n",
    "kmeans.cluster_centers_"
   ]
  },
  {
   "cell_type": "code",
   "execution_count": 17,
   "id": "d82ccbe0",
   "metadata": {},
   "outputs": [
    {
     "data": {
      "text/html": [
       "<div>\n",
       "<style scoped>\n",
       "    .dataframe tbody tr th:only-of-type {\n",
       "        vertical-align: middle;\n",
       "    }\n",
       "\n",
       "    .dataframe tbody tr th {\n",
       "        vertical-align: top;\n",
       "    }\n",
       "\n",
       "    .dataframe thead th {\n",
       "        text-align: right;\n",
       "    }\n",
       "</style>\n",
       "<table border=\"1\" class=\"dataframe\">\n",
       "  <thead>\n",
       "    <tr style=\"text-align: right;\">\n",
       "      <th></th>\n",
       "      <th>X</th>\n",
       "      <th>Y</th>\n",
       "      <th>labels</th>\n",
       "    </tr>\n",
       "  </thead>\n",
       "  <tbody>\n",
       "    <tr>\n",
       "      <th>0</th>\n",
       "      <td>2.170586</td>\n",
       "      <td>0.856004</td>\n",
       "      <td>1</td>\n",
       "    </tr>\n",
       "    <tr>\n",
       "      <th>1</th>\n",
       "      <td>0.797177</td>\n",
       "      <td>4.381168</td>\n",
       "      <td>0</td>\n",
       "    </tr>\n",
       "    <tr>\n",
       "      <th>2</th>\n",
       "      <td>2.244718</td>\n",
       "      <td>0.866662</td>\n",
       "      <td>1</td>\n",
       "    </tr>\n",
       "    <tr>\n",
       "      <th>3</th>\n",
       "      <td>0.653491</td>\n",
       "      <td>4.261239</td>\n",
       "      <td>0</td>\n",
       "    </tr>\n",
       "    <tr>\n",
       "      <th>4</th>\n",
       "      <td>0.766559</td>\n",
       "      <td>4.019784</td>\n",
       "      <td>0</td>\n",
       "    </tr>\n",
       "  </tbody>\n",
       "</table>\n",
       "</div>"
      ],
      "text/plain": [
       "          X         Y  labels\n",
       "0  2.170586  0.856004       1\n",
       "1  0.797177  4.381168       0\n",
       "2  2.244718  0.866662       1\n",
       "3  0.653491  4.261239       0\n",
       "4  0.766559  4.019784       0"
      ]
     },
     "execution_count": 17,
     "metadata": {},
     "output_type": "execute_result"
    }
   ],
   "source": [
    "# add column to the df\n",
    "\n",
    "df[\"labels\"] = kmeans.labels_\n",
    "df.head()"
   ]
  },
  {
   "cell_type": "code",
   "execution_count": 20,
   "id": "b23b59d6",
   "metadata": {},
   "outputs": [
    {
     "data": {
      "text/plain": [
       "1     0.797177\n",
       "3     0.653491\n",
       "4     0.766559\n",
       "5     0.906688\n",
       "9     0.849406\n",
       "10    1.122088\n",
       "11    1.222328\n",
       "13    1.282826\n",
       "17    0.813641\n",
       "23    0.798713\n",
       "30    1.005079\n",
       "33    1.275086\n",
       "36    0.955626\n",
       "43    0.635016\n",
       "44    1.007260\n",
       "45    0.874340\n",
       "52    0.794810\n",
       "58    0.985422\n",
       "66    1.128478\n",
       "69    1.166288\n",
       "71    1.430221\n",
       "72    0.465672\n",
       "75    1.204150\n",
       "76    1.011755\n",
       "77    0.841778\n",
       "80    0.725711\n",
       "81    0.989574\n",
       "83    0.650230\n",
       "85    1.065043\n",
       "86    0.970634\n",
       "87    0.874109\n",
       "89    0.898805\n",
       "96    1.038884\n",
       "97    1.149157\n",
       "Name: X, dtype: float64"
      ]
     },
     "execution_count": 20,
     "metadata": {},
     "output_type": "execute_result"
    }
   ],
   "source": []
  },
  {
   "cell_type": "code",
   "execution_count": 21,
   "id": "d5816134",
   "metadata": {},
   "outputs": [
    {
     "data": {
      "text/plain": [
       "<matplotlib.collections.PathCollection at 0x226c6d43be0>"
      ]
     },
     "execution_count": 21,
     "metadata": {},
     "output_type": "execute_result"
    },
    {
     "data": {
      "image/png": "[encoded data removed]",
      "text/plain": [
       "<Figure size 432x432 with 1 Axes>"
      ]
     },
     "metadata": {
      "needs_background": "light"
     },
     "output_type": "display_data"
    }
   ],
   "source": [
    "# plotting cluster data\n",
    "\n",
    "# Plot the clustered data\n",
    "fig, ax = plt.subplots(figsize=(6, 6))\n",
    "plt.scatter(df[\"X\"][df[\"labels\"] == 0] , df[\"Y\"][df[\"labels\"] == 0],\n",
    "            c='green', label='cluster 1')\n",
    "plt.scatter(df[\"X\"][df[\"labels\"] == 1] , df[\"Y\"][df[\"labels\"] == 1],\n",
    "            c='red', label='cluster 2')\n",
    "plt.scatter(df[\"X\"][df[\"labels\"] == 2] , df[\"Y\"][df[\"labels\"] == 2],\n",
    "            c='yellow', label='cluster 3')\n",
    "\n"
   ]
  },
  {
   "cell_type": "code",
   "execution_count": 26,
   "id": "3f726b7a",
   "metadata": {},
   "outputs": [
    {
     "name": "stdout",
     "output_type": "stream",
     "text": [
      "0.8816040239688525\n"
     ]
    }
   ],
   "source": [
    "from sklearn.metrics import silhouette_score\n",
    "\n",
    "silhouette_score = silhouette_score(X, kmeans.labels_, metric='euclidean')\n",
    "print(silhouette_score)"
   ]
  },
  {
   "cell_type": "code",
   "execution_count": 29,
   "id": "1a2731a8",
   "metadata": {},
   "outputs": [
    {
     "ename": "ModuleNotFoundError",
     "evalue": "No module named 'yellowbrick'",
     "output_type": "error",
     "traceback": [
      "\u001b[1;31m---------------------------------------------------------------------------\u001b[0m",
      "\u001b[1;31mModuleNotFoundError\u001b[0m                       Traceback (most recent call last)",
      "\u001b[1;32m~\\AppData\\Local\\Temp/ipykernel_10736/1779624532.py\u001b[0m in \u001b[0;36m<module>\u001b[1;34m\u001b[0m\n\u001b[1;32m----> 1\u001b[1;33m \u001b[1;32mfrom\u001b[0m \u001b[0myellowbrick\u001b[0m\u001b[1;33m.\u001b[0m\u001b[0mcluster\u001b[0m \u001b[1;32mimport\u001b[0m \u001b[0mKElbowVisualizer\u001b[0m\u001b[1;33m\u001b[0m\u001b[1;33m\u001b[0m\u001b[0m\n\u001b[0m\u001b[0;32m      2\u001b[0m \u001b[1;33m\u001b[0m\u001b[0m\n\u001b[0;32m      3\u001b[0m \u001b[0mvisualizer\u001b[0m \u001b[1;33m=\u001b[0m \u001b[0mKElbowVisualizer\u001b[0m\u001b[1;33m(\u001b[0m\u001b[0mkmeans\u001b[0m\u001b[1;33m,\u001b[0m \u001b[0mk\u001b[0m\u001b[1;33m=\u001b[0m\u001b[1;33m(\u001b[0m\u001b[1;33m-\u001b[0m\u001b[1;36m2\u001b[0m\u001b[1;33m,\u001b[0m\u001b[1;36m2\u001b[0m\u001b[1;33m)\u001b[0m\u001b[1;33m)\u001b[0m\u001b[1;33m\u001b[0m\u001b[1;33m\u001b[0m\u001b[0m\n\u001b[0;32m      4\u001b[0m \u001b[1;33m\u001b[0m\u001b[0m\n\u001b[0;32m      5\u001b[0m \u001b[0mvisualizer\u001b[0m\u001b[1;33m.\u001b[0m\u001b[0mfit\u001b[0m\u001b[1;33m(\u001b[0m\u001b[0mX\u001b[0m\u001b[1;33m)\u001b[0m        \u001b[1;31m# Fit the data to the visualizer\u001b[0m\u001b[1;33m\u001b[0m\u001b[1;33m\u001b[0m\u001b[0m\n",
      "\u001b[1;31mModuleNotFoundError\u001b[0m: No module named 'yellowbrick'"
     ]
    }
   ],
   "source": [
    "from yellowbrick.cluster import KElbowVisualizer\n",
    "\n",
    "visualizer = KElbowVisualizer(kmeans, k=(-2,2))\n",
    "\n",
    "visualizer.fit(X)        # Fit the data to the visualizer\n",
    "visualizer.show()      "
   ]
  }
 ],
 "metadata": {
  "kernelspec": {
   "display_name": "Python 3 (ipykernel)",
   "language": "python",
   "name": "python3"
  },
  "language_info": {
   "codemirror_mode": {
    "name": "ipython",
    "version": 3
   },
   "file_extension": ".py",
   "mimetype": "text/x-python",
   "name": "python",
   "nbconvert_exporter": "python",
   "pygments_lexer": "ipython3",
   "version": "3.9.7"
  }
 },
 "nbformat": 4,
 "nbformat_minor": 5
}
