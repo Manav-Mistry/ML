{
 "cells": [
  {
   "cell_type": "markdown",
   "metadata": {},
   "source": [
    "<h1 style=\"color:blue\">Numpy</h1>"
   ]
  },
  {
   "cell_type": "markdown",
   "metadata": {},
   "source": [
    "## Numpy practice "
   ]
  },
  {
   "cell_type": "code",
   "execution_count": null,
   "metadata": {
    "id": "1AYJJ6JK-p3x"
   },
   "outputs": [],
   "source": [
    "import numpy as np"
   ]
  },
  {
   "cell_type": "code",
   "execution_count": null,
   "metadata": {
    "colab": {
     "base_uri": "https://localhost:8080/"
    },
    "id": "LnlBwYi2AHDj",
    "outputId": "cf660b7b-e67c-4dbc-dbf9-8d9e10e23a56"
   },
   "outputs": [
    {
     "name": "stdout",
     "output_type": "stream",
     "text": [
      "12.5  TYPE:  <class 'float'>\n",
      "Anisha Malhotra  TYPE:  <class 'str'>\n",
      "[1, 2, 3]  TYPE:  <class 'list'>\n"
     ]
    }
   ],
   "source": [
    "x=12.5\n",
    "print(x,\" TYPE: \",type(x))\n",
    "x=\"Anisha Malhotra\"\n",
    "print(x,\" TYPE: \",type(x))\n",
    "x=[1,2,3]\n",
    "print(x,\" TYPE: \",type(x))"
   ]
  },
  {
   "cell_type": "code",
   "execution_count": null,
   "metadata": {
    "colab": {
     "base_uri": "https://localhost:8080/"
    },
    "id": "dPkZADBKAUJN",
    "outputId": "733221c3-28c1-4a0a-a911-4a27b4ba4ccd"
   },
   "outputs": [
    {
     "name": "stdout",
     "output_type": "stream",
     "text": [
      "[1, 2, 3, 4, 5]\n",
      "[1 2 3 4 5]\n",
      "<class 'list'>\n",
      "<class 'numpy.ndarray'>\n",
      "[ 2  4  6  8 10]\n",
      "[1, 2, 3, 4, 5, 1, 2, 3, 4, 5]\n",
      "[ 6  8 10 12 14]\n",
      "[1, 2, 3, 4, 5, 5, 6, 7, 8, 9]\n",
      "[1, 2, 3, 4, 5, 1, 2, 3, 4, 5, 1, 2, 3, 4, 5]\n",
      "[ 3  6  9 12 15]\n"
     ]
    }
   ],
   "source": [
    "alist = [1,2,3,4,5]\n",
    "narray = np.array([1,2,3,4,5])\n",
    "blist = [5,6,7,8,9]\n",
    "#narray1 = np.array([5,6,7,8]) elements should be of same shape\n",
    "narray1 = np.array([5,6,7,8,9])\n",
    "print(alist)\n",
    "print(narray)\n",
    "print(type(alist))\n",
    "print(type(narray))\n",
    "print(narray+narray) #element wise addition\n",
    "print(alist+alist) #union including repeated values\n",
    "print(narray+narray1)\n",
    "print(alist+blist)\n",
    "print(alist*3)\n",
    "print(narray*3)"
   ]
  },
  {
   "cell_type": "code",
   "execution_count": null,
   "metadata": {
    "colab": {
     "base_uri": "https://localhost:8080/"
    },
    "id": "_JdE3QjCDF7A",
    "outputId": "3e3758bc-18ee-454a-f855-700fbc6f8185"
   },
   "outputs": [
    {
     "name": "stdout",
     "output_type": "stream",
     "text": [
      "[[3. 3.]\n",
      " [3. 3.]]\n",
      "[[3. 3.]\n",
      " [3. 3.]]\n",
      "[[-1.  1.]\n",
      " [-1.  1.]]\n",
      "[[-1.  1.]\n",
      " [-1.  1.]]\n",
      "[[2. 2.]\n",
      " [2. 2.]]\n",
      "[[2. 2.]\n",
      " [2. 2.]]\n",
      "[[0.5 2. ]\n",
      " [0.5 2. ]]\n",
      "[[0.5 2. ]\n",
      " [0.5 2. ]]\n"
     ]
    }
   ],
   "source": [
    "x = np.array([[1,2],[1,2]], dtype=np.float64)\n",
    "y = np.array([[2,1],[2,1]], dtype=np.float64)\n",
    "print(x + y)\n",
    "print(np.add(x, y))\n",
    "print(x - y)\n",
    "print(np.subtract(x, y))\n",
    "print(x * y)\n",
    "print(np.multiply(x, y))\n",
    "print(x / y)\n",
    "print(np.divide(x, y))\n"
   ]
  },
  {
   "cell_type": "code",
   "execution_count": null,
   "metadata": {
    "colab": {
     "base_uri": "https://localhost:8080/"
    },
    "id": "82tVrYRDGrzJ",
    "outputId": "299562dc-4994-4f43-c5ed-c9f9abb98d31"
   },
   "outputs": [
    {
     "name": "stdout",
     "output_type": "stream",
     "text": [
      "[[6. 3.]\n",
      " [6. 3.]]\n",
      "[[1.         1.41421356]\n",
      " [1.         1.41421356]]\n",
      "[[6. 3.]\n",
      " [6. 3.]]\n",
      "[[6. 3.]\n",
      " [6. 3.]]\n",
      "[[6. 3.]\n",
      " [6. 3.]]\n"
     ]
    }
   ],
   "source": [
    "x = np.array([[1,2],[1,2]], dtype=np.float64)\n",
    "y = np.array([[2,1],[2,1]], dtype=np.float64)\n",
    "print(x.dot(y))\n",
    "print(np.sqrt(x))\n",
    "print(x.dot(y))\n",
    "print(np.dot(x, y))\n",
    "print(x @ y)"
   ]
  },
  {
   "cell_type": "code",
   "execution_count": null,
   "metadata": {
    "colab": {
     "base_uri": "https://localhost:8080/"
    },
    "id": "Mx1U74ffHp4R",
    "outputId": "7ffe460f-106e-43fd-c31c-082ed7e75435"
   },
   "outputs": [
    {
     "name": "stdout",
     "output_type": "stream",
     "text": [
      "21\n",
      "[ 4  6 11]\n",
      "[ 9 12]\n",
      "[[1 2 6]\n",
      " [3 4 5]]\n",
      "transpose\n",
      " [[1 3]\n",
      " [2 4]\n",
      " [6 5]]\n"
     ]
    }
   ],
   "source": [
    "x = np.array([[1,2,6],[3,4,5]])\n",
    "print(np.sum(x)) \n",
    "print(np.sum(x, axis=0)) \n",
    "print(np.sum(x, axis=1))\n",
    "print(x)\n",
    "print(\"transpose\\n\", x.T)"
   ]
  },
  {
   "cell_type": "code",
   "execution_count": null,
   "metadata": {
    "colab": {
     "base_uri": "https://localhost:8080/"
    },
    "id": "OKhW84eXIhrp",
    "outputId": "b284dce2-fd9d-48e8-c4dc-82f1c884e764"
   },
   "outputs": [
    {
     "name": "stdout",
     "output_type": "stream",
     "text": [
      "[[1 2]\n",
      " [3 4]\n",
      " [6 7]]\n",
      "[[ 2  4]\n",
      " [ 6  8]\n",
      " [12 14]]\n",
      "[[ 3  5]\n",
      " [ 7  9]\n",
      " [13 15]]\n"
     ]
    }
   ],
   "source": [
    "#badmatrix = np.array([[1,2 ], [3, 4], [6,7,8]]) # Define a matrix.\n",
    "\n",
    "print(badmatrix) # Print the malformed matrix\n",
    "print(badmatrix * 2) # It is supposed to scale the whole matrix\n",
    "badmatrix = np.array([[1,2 ], [3, 4], [6,7]])\n",
    "result = badmatrix * 2 + 1\n",
    "print(result)"
   ]
  },
  {
   "cell_type": "code",
   "execution_count": null,
   "metadata": {
    "colab": {
     "base_uri": "https://localhost:8080/"
    },
    "id": "pE_nqkcbJxp5",
    "outputId": "503e54b3-e11a-4a55-f1ed-3cfc423d8c42"
   },
   "outputs": [
    {
     "name": "stdout",
     "output_type": "stream",
     "text": [
      "5.477225575051661\n",
      "5.477225575051661\n"
     ]
    }
   ],
   "source": [
    "nparray = np.array([1, 2, 3, 4])#array\n",
    "nparray = np.array([[1, 2, 3, 4]])#matrix\n",
    "nparray1 = np.array([1, 2, 3, 4]) # Define an array\n",
    "norm1 = np.linalg.norm(nparray1)\n",
    "nparray2 = np.array([[1, 2], [3, 4]]) # if not mentioned \n",
    "norm2 = np.linalg.norm(nparray2)\n",
    "print(norm1)\n",
    "print(norm2)"
   ]
  },
  {
   "cell_type": "code",
   "execution_count": null,
   "metadata": {
    "colab": {
     "base_uri": "https://localhost:8080/"
    },
    "id": "_M6d67LkMc9U",
    "outputId": "cd010110-3bee-4837-f917-4ff05606b603"
   },
   "outputs": [
    {
     "name": "stdout",
     "output_type": "stream",
     "text": [
      "[[1 2 3 4]\n",
      " [1 2 3 4]\n",
      " [1 2 3 4]\n",
      " [1 2 3 4]\n",
      " [1 2 3 4]]\n",
      "[[1 2 3 4 5]\n",
      " [1 2 3 4 5]\n",
      " [1 2 3 4 5]\n",
      " [1 2 3 4 5]]\n",
      "[[10 20 30 40 50]\n",
      " [10 20 30 40 50]\n",
      " [10 20 30 40 50]\n",
      " [10 20 30 40 50]\n",
      " [10 20 30 40 50]]\n",
      "[[ 1  2  3  4]\n",
      " [ 2  4  6  8]\n",
      " [ 3  6  9 12]\n",
      " [ 4  8 12 16]\n",
      " [ 5 10 15 20]]\n",
      "2.5\n",
      "2.5\n",
      "[[1 1 1 1 1]\n",
      " [2 2 2 2 2]\n",
      " [3 3 3 3 3]\n",
      " [4 4 4 4 4]]\n",
      "[[10 20 30 40 50]\n",
      " [10 20 30 40 50]\n",
      " [10 20 30 40 50]\n",
      " [10 20 30 40 50]\n",
      " [10 20 30 40 50]]\n",
      "0.0\n",
      "[2 2 2 2 2]\n"
     ]
    }
   ],
   "source": [
    "#exercise\n",
    "\n",
    "#ex1,2\n",
    "nparray1 = np.array([[1, 2, 3, 4],[1, 2, 3, 4],[1, 2, 3, 4],[1, 2, 3, 4],[1, 2, 3, 4]])\n",
    "nparray2 = np.array([[1, 2, 3, 4,5],[1, 2, 3, 4,5],[1, 2, 3, 4,5],[1, 2, 3, 4,5]])\n",
    "print(nparray1)\n",
    "print(nparray2)\n",
    "\n",
    "#ex3\n",
    "print(nparray1.dot(nparray2))\n",
    "#print(np.multiply(nparray1, nparray2)) error\n",
    "\n",
    "#ex4\n",
    "print(np.multiply(nparray1, nparray2.T))\n",
    "\n",
    "#ex5\n",
    "print(np.mean(nparray1))\n",
    "print(np.median(nparray1))\n",
    "\n",
    "#ex6\n",
    "sq_matrix = nparray1.dot(nparray2)\n",
    "print(nparray1.T)\n",
    "print(sq_matrix)\n",
    "det1 = np.linalg.det(sq_matrix)\n",
    "print(det1)\n",
    "\n",
    "#ex7\n",
    "print(nparray1[:,1])\n",
    "\n",
    "#ex8"
   ]
  },
  {
   "cell_type": "markdown",
   "metadata": {},
   "source": [
    "# Numpy Examples"
   ]
  },
  {
   "cell_type": "code",
   "execution_count": 121,
   "metadata": {},
   "outputs": [
    {
     "name": "stdout",
     "output_type": "stream",
     "text": [
      "[[ 5 10 15 20]\n",
      " [10 20 30 40]\n",
      " [15 30 45 60]\n",
      " [20 40 60 80]]\n",
      "\n",
      "[[ 1  1  1  1  1]\n",
      " [ 4  4  4  4  4]\n",
      " [ 9  9  9  9  9]\n",
      " [16 16 16 16 16]]\n",
      "\n",
      "2.5\n",
      "\n",
      "2.5\n",
      "\n",
      "[[1 2 3 4]\n",
      " [1 2 3 4]\n",
      " [1 2 3 4]\n",
      " [1 2 3 4]\n",
      " [1 2 3 4]]\n",
      "\n",
      "[[ 5 10 15 20]\n",
      " [10 20 30 40]\n",
      " [15 30 45 60]\n",
      " [20 40 60 80]]\n",
      "\n",
      "0.0\n",
      "\n",
      "[1 2 3 4]\n"
     ]
    }
   ],
   "source": [
    "import numpy as np\n",
    "\n",
    "\n",
    "arr1 = np.array([[1,1,1,1,1],\n",
    "              [2,2,2,2,2],\n",
    "              [3,3,3,3,3],\n",
    "              [4,4,4,4,4]])\n",
    "\n",
    "arr2 = np.array([[1,2,3,4],\n",
    "              [1,2,3,4],\n",
    "              [1,2,3,4],\n",
    "              [1,2,3,4],\n",
    "              [1,2,3,4]])\n",
    "\n",
    "\n",
    "print(arr1.dot(arr2))\n",
    "print()\n",
    "\n",
    "print(np.multiply(arr1,arr2.T))\n",
    "print()\n",
    "\n",
    "print(np.mean(arr1))\n",
    "print()\n",
    "\n",
    "print(np.median(arr1))\n",
    "print()\n",
    "\n",
    "print(arr1.T)\n",
    "print()\n",
    "\n",
    "print(arr1.dot(arr2))\n",
    "print()\n",
    "\n",
    "print(np.linalg.det(arr1.dot(arr2)))\n",
    "print()\n",
    "\n",
    "print(arr1[:,1])"
   ]
  },
  {
   "cell_type": "markdown",
   "metadata": {
    "id": "4H5OE3W7U3RG"
   },
   "source": [
    "<h1 style=\"color:blue\">NLTK</h1>"
   ]
  },
  {
   "cell_type": "markdown",
   "metadata": {},
   "source": [
    "### NLTK practice"
   ]
  },
  {
   "cell_type": "code",
   "execution_count": 3,
   "metadata": {},
   "outputs": [],
   "source": [
    "import nltk # Python library for NLP\n",
    "from nltk.corpus import twitter_samples # sample Twitter dataset from NLTK\n",
    "import matplotlib.pyplot as plt # library for visualization\n",
    "import random"
   ]
  },
  {
   "cell_type": "code",
   "execution_count": 6,
   "metadata": {},
   "outputs": [
    {
     "name": "stderr",
     "output_type": "stream",
     "text": [
      "[nltk_data] Downloading package twitter_samples to\n",
      "[nltk_data]     C:\\Users\\Admin\\AppData\\Roaming\\nltk_data...\n",
      "[nltk_data]   Package twitter_samples is already up-to-date!\n"
     ]
    }
   ],
   "source": [
    "nltk.download('twitter_samples')\n",
    "\n",
    "all_positive_tweets = twitter_samples.strings('positive_tweets.json')\n",
    "all_negative_tweets = twitter_samples.strings('negative_tweets.json')"
   ]
  },
  {
   "cell_type": "code",
   "execution_count": 11,
   "metadata": {},
   "outputs": [
    {
     "name": "stdout",
     "output_type": "stream",
     "text": [
      "<class 'list'>\n",
      "<class 'str'>\n"
     ]
    }
   ],
   "source": [
    "print(type(all_positive_tweets))\n",
    "print(type(all_positive_tweets[0]))"
   ]
  },
  {
   "cell_type": "code",
   "execution_count": 13,
   "metadata": {},
   "outputs": [
    {
     "data": {
      "image/png": "[encoded data removed]",
      "text/plain": [
       "<Figure size 360x360 with 1 Axes>"
      ]
     },
     "metadata": {},
     "output_type": "display_data"
    }
   ],
   "source": [
    "fig = plt.figure(figsize=(5, 5))\n",
    "\n",
    "labels = 'Positives', 'Negative'\n",
    "\n",
    "sizes = [len(all_positive_tweets), len(all_negative_tweets)]\n",
    "\n",
    "plt.pie(sizes, labels=labels, autopct='%1.1f%%',shadow=True, startangle=90)\n",
    "\n",
    "plt.axis('equal')\n",
    "\n",
    "# Display the chart\n",
    "plt.show()"
   ]
  },
  {
   "cell_type": "code",
   "execution_count": 15,
   "metadata": {},
   "outputs": [
    {
     "name": "stdout",
     "output_type": "stream",
     "text": [
      "\u001b[92m@tanjalakic_ It's NEVER a bad time for a bath, if you have us Rubber Ducks with you! :-) #quacketyquack\n"
     ]
    }
   ],
   "source": [
    "print('\\033[92m' + all_positive_tweets[random.randint(0,5000)])"
   ]
  },
  {
   "cell_type": "code",
   "execution_count": 17,
   "metadata": {},
   "outputs": [
    {
     "name": "stderr",
     "output_type": "stream",
     "text": [
      "[nltk_data] Downloading package stopwords to\n",
      "[nltk_data]     C:\\Users\\Admin\\AppData\\Roaming\\nltk_data...\n",
      "[nltk_data]   Package stopwords is already up-to-date!\n"
     ]
    },
    {
     "data": {
      "text/plain": [
       "True"
      ]
     },
     "execution_count": 17,
     "metadata": {},
     "output_type": "execute_result"
    }
   ],
   "source": [
    "nltk.download('stopwords')"
   ]
  },
  {
   "cell_type": "code",
   "execution_count": 18,
   "metadata": {},
   "outputs": [],
   "source": [
    "import re\n",
    "import string # for string operations\n",
    "from nltk.corpus import stopwords # module for stop words that come␣\n",
    "\n",
    "from nltk.stem import PorterStemmer # module for stemming\n",
    "from nltk.tokenize import TweetTokenizer # module for tokenizing strings\n",
    "from nltk.stem import WordNetLemmatizer"
   ]
  },
  {
   "cell_type": "markdown",
   "metadata": {},
   "source": [
    "# Product review dataset"
   ]
  },
  {
   "cell_type": "code",
   "execution_count": 26,
   "metadata": {},
   "outputs": [
    {
     "name": "stderr",
     "output_type": "stream",
     "text": [
      "[nltk_data] Downloading package pros_cons to\n",
      "[nltk_data]     C:\\Users\\Admin\\AppData\\Roaming\\nltk_data...\n",
      "[nltk_data]   Unzipping corpora\\pros_cons.zip.\n"
     ]
    },
    {
     "data": {
      "text/plain": [
       "True"
      ]
     },
     "execution_count": 26,
     "metadata": {},
     "output_type": "execute_result"
    }
   ],
   "source": [
    "nltk.download('pros_cons')"
   ]
  },
  {
   "cell_type": "code",
   "execution_count": 39,
   "metadata": {},
   "outputs": [],
   "source": [
    "from nltk.corpus import pros_cons\n",
    "pros = open('C:/Users/Admin/Downloads/pros_cons/IntegratedPros.txt','r').read()\n"
   ]
  },
  {
   "cell_type": "code",
   "execution_count": 56,
   "metadata": {
    "collapsed": true
   },
   "outputs": [
    {
     "data": {
      "text/plain": [
       "['Easy to use, economical!',\n",
       " \"Digital is where it's at...down with developing film!\",\n",
       " 'Good image quality, 3x optical zoom, macro mode, inexpensive',\n",
       " 'Awesome features/easy to use/fun/versatile/low price/Cust SVS 2nd 2 none!',\n",
       " 'intuitive, user friendly',\n",
       " 'Simple, Flexable, Reliable',\n",
       " 'battery life, download speed',\n",
       " 'Agfa quality in a small box, great for table top and tests',\n",
       " 'Image quality, price, video link',\n",
       " 'No Extras to Buy, Very Flexible, High Quality Images, Good Software',\n",
       " 'simplicity',\n",
       " 'Comes with software, good price, excellent pictures.',\n",
       " 'Clear pics',\n",
       " 'Price, Over all Performance, Zoom Feature',\n",
       " 'clear, srisp picture, durable camera, good desing, nice features',\n",
       " 'Inexpensive compared to some',\n",
       " 'Great picture quality, swivel lens, many options',\n",
       " 'Very simple controls and a wide range of features',\n",
       " 'Great camera, easy to use, good looking, high quality images.',\n",
       " 'Megapixel quality, easy to use',\n",
       " 'durable, easy to use',\n",
       " 'Sharp, crisp, pictures.',\n",
       " 'Ease of use, quality pictures.',\n",
       " 'pic quality, smart media,price',\n",
       " 'megapixel quality, easy to use',\n",
       " 'Easy to use, takes GREAT pictures, full of features.',\n",
       " 'Saturated, sharp images at all resolutions, twist-style body',\n",
       " 'very clear photos',\n",
       " 'Nickle Hydride batteries,  ease of use, excellent color rendition',\n",
       " 'Picture quality, Twist body',\n",
       " 'perfect shots, long-focus, easy to use, a lot of features, good software',\n",
       " 'Easy to use, stylish, good picture quality, good price, good company.',\n",
       " 'Good quality pictures for a low price, great first camera',\n",
       " 'This camera is a nice easy to use camera.',\n",
       " 'Takes great pictures',\n",
       " 'Inexpensive and clear pictures',\n",
       " 'Camera is very easy to learn and use.',\n",
       " 'extra film, led for image viewing, software is easy to use, sleek design',\n",
       " 'Easy to use, great pictures',\n",
       " 'Ease of use; instant review; inexpensive',\n",
       " 'cheap',\n",
       " 'Inexpensive, good quality, easy to use',\n",
       " 'Acceptable Quality Pictures. Decent amount of options.',\n",
       " 'Low price, easy to use. Quality pictures.',\n",
       " 'Low price, 4 levels of resolution, EZ to use',\n",
       " 'None',\n",
       " 'Easy to use, fabulous picture quality, lots of features',\n",
       " 'sturdy, easy to use, ',\n",
       " 'Strong, Well Built body',\n",
       " 'Attractive, easy to use, great value',\n",
       " 'No internal memory (uses cards), lightweight, compact, easy to use',\n",
       " 'Swell buy for the price, ',\n",
       " 'Inexpensive, versatile, fun, sturdy, and cool.',\n",
       " 'Ease of use, TV connection cable, Decent software, interchangeable compact flash cards in many sizes',\n",
       " 'Price, Quality, Storage capacity',\n",
       " 'Price, Ease of Use, Great Software package, factory support',\n",
       " 'Great Pictures for the Cost.',\n",
       " 'Easy to use - fun at first',\n",
       " 'inexpensive,easy to use',\n",
       " 'cheaper than buying film',\n",
       " 'Easy to use',\n",
       " 'Good value for the money, Simple to learn/use',\n",
       " 'Quick and easy to use.',\n",
       " 'Takes great pictures in four resolutions',\n",
       " 'Decent resolution',\n",
       " 'Fantastic value, great images, solid camera, GREAT company, EXCELLENT customer service (read my 5/20/2000 update)',\n",
       " 'sturdy, great price, easy to use',\n",
       " 'Good quality inexpensive initially',\n",
       " 'cost',\n",
       " 'Easy to use, good quality, great price',\n",
       " 'Easy, fast image transfer to PC or printer',\n",
       " 'Changing resolution',\n",
       " 'reasonable price This features you would expect from a very expensive camera',\n",
       " 'Easy to use, great outdoor pics.',\n",
       " 'simple to use',\n",
       " 'Good price',\n",
       " 'handy, high quality pictures',\n",
       " 'Best camera we  have had',\n",
       " 'Great software, easy to use camera',\n",
       " 'User friendly, priced right',\n",
       " 'Easy to use, compact',\n",
       " 'Easy to use, picture galleries, self-adjusting flash',\n",
       " 'Cute, cheap, anybody could use it',\n",
       " 'Cheap, cute, sturdy, reliable',\n",
       " 'good for beginners, funky blue design, cheap',\n",
       " 'Good price for resolution and ease of use',\n",
       " 'Low cost, easy to use, pretty good pictures, fine for ebay',\n",
       " 'inexpensive',\n",
       " 'Price',\n",
       " \"Price, Style--it's Blue :)\",\n",
       " 'Blue design FUN! Takes good pictures for me, LCD and Optical view finder, easy to use',\n",
       " 'Very easy camera to use',\n",
       " 'Easy to use. Great range of settings for the flash, the resolution and the focal length. The camera itself looks pretty darn cool too.',\n",
       " 'Customer support, value for dollar',\n",
       " 'Price',\n",
       " 'Price, Ease of Use, LCD Monitor',\n",
       " 'High Quality Photos, Dependable, Easy to Use',\n",
       " 'friendly',\n",
       " 'cheap, easy to use',\n",
       " 'Price, Great pictures, Smart Media slot',\n",
       " 'cost, easy to use',\n",
       " 'compact, stylish, good quality pictures',\n",
       " 'Ease of use, clear &amp;amp; crisp pictures, LCD',\n",
       " 'You get so much for what you pay',\n",
       " 'Great camera, great price!',\n",
       " 'Good images, uploadable, easy to use, LCD, everything',\n",
       " 'easy to use, affordable, several nice features',\n",
       " 'Wonderful Software Included; Easy-to-Use; Great Picture Quality; Lots of Features; Low Cost',\n",
       " 'Gallery, Viewing Lense, High Capacity for storing pictures, Nice Design, High Resolution/Good Quality photos.',\n",
       " 'Relatively low-cost, decent picture quality and simple to use',\n",
       " 'cool looking. decent pics. like the flash and size options.',\n",
       " 'Easy to use; relatively inexpensive; quality pretty good; wonderful customer service',\n",
       " 'very inexpensive,  good quality pictures',\n",
       " 'GREAT DIGITAL 1ST CAMERA',\n",
       " 'Very simple to use, software is pretty self explanatory.',\n",
       " 'compact and reasonable pictures',\n",
       " 'zero',\n",
       " \"It's light and low tech.\",\n",
       " 'The company honored my warranty.',\n",
       " 'Inexpensive, Easy to operate',\n",
       " 'NOT ONE',\n",
       " 'cost',\n",
       " 'inexpensive, webcam conversion included, easy to use',\n",
       " 'Photos look good on TV',\n",
       " 'Price. EVERYTHING is included. ',\n",
       " 'A camera to carry with you at all times.',\n",
       " 'Good for inexpensive snapshots',\n",
       " '- small, low power consumption, decent outdoor pictures, fast USB connection',\n",
       " 'Small, light, simple, pockatable',\n",
       " 'Cheap.  Complete.  USB interface.',\n",
       " 'quality good for price',\n",
       " 'Tiny camera with lots of big features.',\n",
       " 'It is made for video conferencing and still photography with quality  pictures.',\n",
       " 'Great inexpensive digital camera',\n",
       " 'Inexpensive, Supposed \"Dual\" capabilities, ability to display pics on TV with included cable, extras included.',\n",
       " 'Good value, good photos, simple to use',\n",
       " 'Nice picture as a web camera when the lighting is good.',\n",
       " \"affordable, high quality pictures, holds a lot of pictures, USB port, pocket-sized, so it's easy to carry around.\",\n",
       " 'Pricing, Image Quality, Dimensions, USB-port, CF-slot, Flash, WebCam',\n",
       " 'Small, inexpensive, easy',\n",
       " 'Easy to handle, good quality with enough light, webcam too.',\n",
       " 'Good pics,price and easy to use.',\n",
       " 'Lightweight, small, great webcam',\n",
       " 'Image Quality, CF Card Slot, Flash, USB',\n",
       " 'Can you find anything better for this price?',\n",
       " 'Price, ease of use, size.',\n",
       " 'CompactFlash, USB, has flash, great outdoor image quality, good for web or beginner',\n",
       " 'Flash, Digital, USB, high or low quality, WEB CAM,  ',\n",
       " 'Price/Quality, agfanet prints, size, software bundle, versatility',\n",
       " 'Inexpensive, good pictures in good lighting conditions',\n",
       " 'LCD screen, Clik! drive, navigation nob, easy software',\n",
       " 'Easy to use, 1 Megapixel',\n",
       " 'good pic quality &amp;amp; price',\n",
       " 'lightweight, easy to use',\n",
       " 'Simplicity, cord bundle, Photo Quality',\n",
       " 'Easy to use, great picture quality',\n",
       " 'inexpensive Clik! media, 1.5 MP resolution, 2x digital zoom',\n",
       " 'good image quality, affordable',\n",
       " 'Not many.',\n",
       " 'Good $ ',\n",
       " 'ease of use, compact size',\n",
       " 'Pretty, lightweight, cheap',\n",
       " 'takes good images',\n",
       " 'Value',\n",
       " 'photos transfer from camera to software quickly, easy to get started with',\n",
       " 'Good price, good quality photos.',\n",
       " 'Cheap, easy, good for the amateur photographer',\n",
       " 'Ease of use, great quality pictures, cost',\n",
       " 'can be used as a drive, USB compatible, great picture quality, cheaper media.',\n",
       " 'quality',\n",
       " 'Excellent Quality, Cheap, easy to use',\n",
       " 'Connectivity options: PCMIA,USB,serial',\n",
       " 'Good feature control, nice macro feature, good image quality',\n",
       " 'USB, megapixel, mass storage, LCD preview',\n",
       " 'Inexpensive Media, Optical View Finder, Switchable LCD, LCD Cover',\n",
       " 'Price, Photo quality, weight',\n",
       " 'Photowise 1.7; Switchable LCD; LCD cover; optical viewfinder',\n",
       " 'Easy to use software and camera, came with everything needed to get started right away. ',\n",
       " 'Easy to use, cheap',\n",
       " 'Excellent image quality and expanded storage space',\n",
       " 'nice pictures',\n",
       " 'accessories',\n",
       " 'none',\n",
       " 'You can take ALL high-resolution pictures without worrying about space!',\n",
       " 'clear pictures, lots of memory space (40MB each clik! disk)',\n",
       " 'Cute little blue camera',\n",
       " 'pretty packaging',\n",
       " 'It was free!',\n",
       " 'Ease of use, price',\n",
       " 'small, cheap, built in flash',\n",
       " 'Cheap, functional',\n",
       " 'small, lightweight, can preview images on television',\n",
       " 'cheap, cute, easy to use',\n",
       " 'price, flash, easy to use',\n",
       " 'cheap, E-Z to use',\n",
       " 'I sold it again on Ebay.',\n",
       " 'none',\n",
       " 'Priced right for a beginner.',\n",
       " 'tv-out, webcam capable',\n",
       " 'Inexpensive, Smaller-Than-Pocket-Size',\n",
       " 'Cheap, tiny.',\n",
       " 'user-friendly',\n",
       " 'resolution and price',\n",
       " 'small size',\n",
       " 'it has a flash',\n",
       " 'Inexpensive, sleek looking',\n",
       " 'dont like it ',\n",
       " 'none',\n",
       " 'light weight; has functions; takes pictures',\n",
       " 'Price',\n",
       " 'Great price',\n",
       " 'It is a pretty color and it is very compact',\n",
       " 'takes pics',\n",
       " 'Its cheap',\n",
       " 'easy, compact, self timer',\n",
       " 'NON',\n",
       " 'small, light, shiny, blue, cheap',\n",
       " 'Looks pretty, has extra functions',\n",
       " \"at least it wasn't take expensive\",\n",
       " 'Cheap, easy to use. Good for web pictures.',\n",
       " 'It was free',\n",
       " 'Cheap, small.',\n",
       " 'Low cost, light weight, functional',\n",
       " 'cheap, light, small',\n",
       " 'size, ease of use',\n",
       " 'None, period.',\n",
       " 'none',\n",
       " \"I'm still looking for one\",\n",
       " 'cute, easy to use',\n",
       " \"Inexpensive, has many features more expensive cameras don't, intuitive interface\",\n",
       " 'Specs sound good (better than reality)',\n",
       " 'Makes a good paperweight',\n",
       " 'NONE',\n",
       " 'Cheap',\n",
       " 'inexpensive, compact, and looks cool',\n",
       " 'cute design &amp;amp; obvious controls',\n",
       " 'Cheap, cute.',\n",
       " 'priced for value',\n",
       " 'SMALL EASY TO CARRY',\n",
       " 'none',\n",
       " 'Low price',\n",
       " 'nice price, easy interface, many features',\n",
       " 'Lightweight, simple to use',\n",
       " 'low price',\n",
       " 'none',\n",
       " 'None',\n",
       " 'light weight, good construction',\n",
       " 'Cheap',\n",
       " 'pretty cheap, small, well labeled',\n",
       " 'Absolutely nothing',\n",
       " 'Small size, attractive design',\n",
       " 'It was cheap',\n",
       " 'Inexpensive and easy to use',\n",
       " 'Camera is cheap and functional with a couple of options.',\n",
       " 'Nada',\n",
       " 'Good for scaring small children and a good gag gift.',\n",
       " 'None',\n",
       " \"Compact, cheap, color, miraculously the software isn't buggy\",\n",
       " 'Ease to use ...',\n",
       " 'small, light, good resolution, well priced',\n",
       " 'very small uncomplicated and very nice portable tool for graphics students',\n",
       " 'Superb Quality Pictures, LOW LOW PRICE, TRUE 1.3megapixel,  super portable',\n",
       " 'Small and very light.',\n",
       " '1.3MP digital camera, webcam, extremely small size, simple to use.',\n",
       " 'Lightweight&amp;#13;&amp;#10;Good value&amp;#13;&amp;#10;Ultra fun',\n",
       " 'Surprisingly good pictures and video from this inexpensive tiny camera.',\n",
       " 'Great quality photos.',\n",
       " 'Great for email, short videos &amp; conference calling',\n",
       " '\"Spy camera\" size. Can go anywhere., , Good quality images.',\n",
       " 'Tiny, decent photos, easy to use.',\n",
       " 'Tiny Size, Inexpensive, Picture and Video Capture, Over 1 mp, Easy to use Software',\n",
       " 'easy-to-use, inexpensive, compact, marginal image quality',\n",
       " 'Excellent image quality, perfectly portable.',\n",
       " 'digital camcorder ability, inexpensive, fun',\n",
       " 'Fits in your pocket, low cost, color photos, works independent of computer, adequate software included.',\n",
       " 'Highly portable, runs on 2 AAA batteries, good for kitschy snapshots or mini-movies.',\n",
       " 'As small as a large magic marker, good, simple e-camera to carry all the time.',\n",
       " 'Small, Easy to Use, Cheap, Fun to Use, Bundled Software, Three Functions',\n",
       " 'Fun and Easy to use. Variety of modes.',\n",
       " 'small, convinent , easy to use , high quality live imagez &amp; picturez',\n",
       " 'Easy to use, good interface&amp;#13;&amp;#10;great \"gadget\" appeal&amp;#13;&amp;#10;',\n",
       " 'very small, cool toy',\n",
       " 'Great software and easy to use.',\n",
       " 'small and easy to use, Price',\n",
       " \"Compact size, easy to use, price, great software bundle.  Feels like you're James Bond.\",\n",
       " \"The 'continuous shoot' mode; compact size; instant snapshots.\",\n",
       " 'Compact,easy to use,cheap',\n",
       " 'its small',\n",
       " 'great camera highly recommend to all. easy  to use,awesome pictures',\n",
       " \"It's small and it's cheap\",\n",
       " 'Cheap price for what it can do.',\n",
       " 'small, can be used as still, movie or web camera, low price',\n",
       " 'Lightweight, easy to use, inexpensive, great for beginners.',\n",
       " 'Photo output quality, fast printing speeds, Good Reliability',\n",
       " 'Great photo print quality, Reliable, Compact, Easy to use and set up',\n",
       " 'Fast printer, very good quality',\n",
       " 'Beautiful output even at low resolution, fast, easy setup',\n",
       " 'great quality and speed, good consumable value',\n",
       " 'Speedy, excellent quality',\n",
       " 'Fast, no paper jams, prints clearly ',\n",
       " 'Fast PPM, Easy Set-up, Output is dry, great manual',\n",
       " 'Hello Hewlett Packard',\n",
       " 'Great quality and speed',\n",
       " 'Fast, sharp, reliable.',\n",
       " 'Fast, excellent print quality.',\n",
       " 'clear, sharp text and deep, rich color',\n",
       " 'Great Quality Prints, Super Fast',\n",
       " 'good color and very fast',\n",
       " 'Outstanding Quality',\n",
       " 'Print is life like',\n",
       " 'Good speed, good quality printer',\n",
       " 'Superior Quality,Razor-like sharpness, SPEED BABY !!!!!',\n",
       " 'Nice photos',\n",
       " 'photo quality printing on photo paper',\n",
       " 'Overall good printer',\n",
       " 'Fast, very high resolution',\n",
       " 'Unbeatable output',\n",
       " 'fast',\n",
       " 'Too many to list',\n",
       " 'high ink volume, extremely fast',\n",
       " 'great photo quality, fast, crisp b&amp;amp;w',\n",
       " 'Excellent print quality, fast, reliable, economy mode, Mac Serial, PC Parallel, and USB interfaces.',\n",
       " 'Very fast, and verasitile... Photo quality results',\n",
       " 'Fast, good color, small margins.',\n",
       " 'Fast, Easy, USB, Great Quality',\n",
       " 'Fast; photo quality; customizable software settings',\n",
       " 'Fast print speed.  High resolution.  Excellent warm tone rendition - low dither.',\n",
       " 'Beautiful pictures, economical, a company that I trust',\n",
       " 'Fast, prints text great, works well with digital photos',\n",
       " 'fast, compact, east to load/unload ink',\n",
       " 'Fast, high quality, and a good small business printer',\n",
       " 'Terrific photo prints, faster than my HP 1000c and a lot less money.',\n",
       " \"great quality print and speed for it's size\",\n",
       " 'Easy to hook up',\n",
       " 'Easy install, great quality, HP durability',\n",
       " 'Ethernet capable, fast, high resolution output',\n",
       " 'VERY little maintenance',\n",
       " 'Good quality, fast and quet',\n",
       " 'Quick high quality output',\n",
       " 'ease of use, fast B/W prints, small driver footprint',\n",
       " 'Cost and Software Included',\n",
       " 'Good for the electronically challenged, Low Cost, Great Software, ',\n",
       " 'Good for the electronically challenged, Low Cost, Great Software, ',\n",
       " 'A Cheap, easy to use camera.',\n",
       " 'A Cheap, easy to use camera.',\n",
       " \"There isn't any.\",\n",
       " 'The software package has some good editing capabilities.',\n",
       " 'Cheap, nice software package.',\n",
       " 'Good starter camera for an older child, very inexpensive',\n",
       " 'Cheap, Great for child or e-bay pictures, etc. Software comes with it.',\n",
       " 'Worked one time',\n",
       " 'Easy to use, affordable and does just what I wanted it to do!',\n",
       " 'Inexpensive, good for kids',\n",
       " 'Easy to use. Not very expensive.',\n",
       " 'Cheap, easy to use, fun, makes videos',\n",
       " 'cheap',\n",
       " 'affordable, ',\n",
       " 'It was on sale for $20.',\n",
       " \"It's cheap and simple to use\",\n",
       " 'cheap, very portable, if it breaks who cares.',\n",
       " 'A Cheap, easy to use camera.',\n",
       " 'Cheap',\n",
       " 'Holds about 80 pics in internal memory on lowest setting.',\n",
       " 'Inexpensive',\n",
       " 'very inexpensive',\n",
       " 'Cheap.. umm.. is it a digital camera',\n",
       " 'Excellent bottom end camera,easy to operate,good pics too.',\n",
       " 'Low Price, 1.3Mp image, ease of use, ',\n",
       " \"Price w/rebates an offer you can't refuse\",\n",
       " 'Inexpensive',\n",
       " 'Reasonable priced, easy to use, kid friendly',\n",
       " 'Strong flash, direct TV connection, Free photo editing software, above average pic quality',\n",
       " 'easy install and cheeeeeep',\n",
       " 'Cheap Price',\n",
       " 'easily turns, my baby fits comfertably!',\n",
       " 'Handles beautifully, lightweight',\n",
       " 'Lightweight, durable, fun',\n",
       " 'If you want a stroller for an active lifestyle this is the one and only',\n",
       " 'great item',\n",
       " 'Lightweight, comfortable to run behind, sturdy, easy to clean',\n",
       " 'Ease of use over a variety of surfaces.',\n",
       " 'Very easy to walk with. My Daughter loves it',\n",
       " 'High Quality, Smooth Ride, Washable, Comfortable',\n",
       " 'durable and easy to maneuver',\n",
       " 'Super smooth, easy to assemble, comfortable for baby',\n",
       " 'Smoooooth ride.  Great restraint system.  ',\n",
       " 'Great design, and wheels, comfortable, easy to push',\n",
       " 'This stroller is washable, and easy to use.',\n",
       " 'Excellent to handle.  Comfortable ride.  The canopy is perfect for those really sunny days.',\n",
       " 'Excellent for jogging with infants/toddlers. Well-made, excellent on rough terrain',\n",
       " 'tripod wheels, easy to push on all terrains.',\n",
       " 'Great design, safe, durable, and comfortable',\n",
       " 'the best stroller for jogging and running, period.',\n",
       " 'It is easy to use and works on all types of surfaces.',\n",
       " 'Rolls easily over virtually all terrain, looks nice!',\n",
       " 'Solidly built, smooth ride, folds nicely',\n",
       " 'durability',\n",
       " 'Very Comfortable to use',\n",
       " 'It works...',\n",
       " 'great stroller',\n",
       " '16\" wheels = smooth ride, easy to push even for a small person',\n",
       " 'Ideal for jogging and getting over rough terrain',\n",
       " 'smooth ride',\n",
       " 'You can run with a baby!',\n",
       " 'Sturdy, Durable, Easy to use',\n",
       " 'Everything',\n",
       " 'Rides smoothly over dirt, grass, small rocks, etc.',\n",
       " 'Smooth running style',\n",
       " 'Great Concept, Simple Use, Good Storage, Comfy Fit',\n",
       " 'Awesome for taking toddler with you to exercise!',\n",
       " 'Get it if you have more kids',\n",
       " 'Really great stroller',\n",
       " 'VERY easy to manuever because of the large tires.',\n",
       " 'Does not pull to the side, runs straight as an arrow, super lightweight',\n",
       " 'light, smooth ride',\n",
       " 'Steady, smooth riding,  good running stride space',\n",
       " 'strolls beautifully, lots of different choices',\n",
       " 'Runs smoothly, rugged.',\n",
       " 'Extremely easy to break down',\n",
       " 'It is so lightweight and easy to use.',\n",
       " '3 wheels are better than 4',\n",
       " 'large tires, durability, comfort',\n",
       " 'Easy to push.  Gets you outside.',\n",
       " 'Lightweight, easy to put together, literally glides',\n",
       " 'Ease of use, Strudy, Convient',\n",
       " 'Maneuverability, Lightweight',\n",
       " 'Lightweight, easy to maneuver, easy to put together.',\n",
       " 'Stability, comfort',\n",
       " 'Too Many to List',\n",
       " 'Solid, simple, very good roller',\n",
       " 'Durable, lightweight, easy-to-setup',\n",
       " 'extremely easy to push over all surfaces, folds easily ',\n",
       " 'Light, easy to steer',\n",
       " 'Lightweight and easy to push, great company, great warranty',\n",
       " 'easy to assemble and use, attractive, all-terrain ',\n",
       " 'great for those adventures.',\n",
       " 'comfortable and light weight',\n",
       " 'easy to steer, goes over any surface, has a hand brake and a &amp;quot;leash&amp;quot; ',\n",
       " 'works well the first few months',\n",
       " \"great fun, accessible, tailored for mom's getting in shape\",\n",
       " 'lightweight, comfortable for child',\n",
       " 'Very useful.',\n",
       " 'three wheels',\n",
       " 'Very lightweight, easy to use, great safety straps, built to last.',\n",
       " 'Very lightweight, sturdy, lifetime warranty, safe, American-made',\n",
       " 'ease of use',\n",
       " 'Extremely easy to push, well built',\n",
       " 'Folds up easily, runs smoothly, lets my son look around at the scenery.',\n",
       " '5 Point Harness. Easy folding. Great for small children all the way up to pre-teens!',\n",
       " 'Light weight.',\n",
       " \"Great for walking/jogging on all terrains; lightweight; children's weight differences do not throw the stroller off.\",\n",
       " 'Very high quality, versatile and useful.',\n",
       " 'Perfect for on-the-go',\n",
       " 'Lightweight, Good Quality, Easy to Maneuver',\n",
       " 'See Review for product comparisons',\n",
       " 'sturdy, stable, easy to collapse, lightweight, ',\n",
       " 'The SUV of strollers.  It will go through anything. ',\n",
       " 'Lightweight for running,durable and great on trails.',\n",
       " 'Absolutely wonderful for accommodating twins and their car seats with special attachment bar!',\n",
       " 'Maneuvers well, very good turning ration AND looks great',\n",
       " 'easy to steer, roomy seats',\n",
       " 'You can put a baby seat on the back seat, It is easy to push, it is very light weight',\n",
       " 'Really durable, takes abuse very well, remains comfy.Outstanding maneuverability',\n",
       " 'easy to push and turn, plenty of room for 2 children ',\n",
       " 'large seats and basket, lightweight',\n",
       " 'durability, lightweight',\n",
       " 'Terrific design, carries infant car seat',\n",
       " 'Easy to push and turns great.',\n",
       " 'can use as a travel system, easy to steer',\n",
       " 'cost effective, durable, reliable, wide wheel base, large seats, light weight.',\n",
       " 'Easy to manuever',\n",
       " 'design',\n",
       " 'Can hold TWO infant car seats!',\n",
       " 'Light, plush, durable',\n",
       " 'Comfy and functional',\n",
       " 'ok storage, like the baby carseat snap-in feature',\n",
       " 'Works with a variety of cars eats, converts for older children',\n",
       " 'Very smooth ride',\n",
       " 'Can use with a variety of infant carseat/carriers',\n",
       " 'light, folds easily, nice materials, plushy seats, drives well',\n",
       " 'Very comfy for a toddler/infant combo.',\n",
       " 'Clever idea, smaller than many tandem strollers',\n",
       " 'Really handy, great for our family',\n",
       " 'Versatile, easy to maneuver, and easy to open and close.',\n",
       " 'great for the one not on the go and the one that is.&amp;#13;&amp;#10;',\n",
       " 'Great idea for 2 small children; can be used with infant carrier',\n",
       " 'Great for baby and toddler',\n",
       " '&amp;quot;big kid&amp;quot; and newborn can ride together',\n",
       " 'not bulky like double strollers, not constricting for older kids',\n",
       " 'Offers convenience if you have older children',\n",
       " 'The stand up feature',\n",
       " 'looks, speed, fold up hoody-thing',\n",
       " 'accommodates 2 children, easy to fold and unfold',\n",
       " 'meets a unique need of families',\n",
       " 'Durable',\n",
       " 'The standing/sitting feature in the back, low price',\n",
       " 'Good for taking walks',\n",
       " 'Great for that child that thinks she is too big for a stroller',\n",
       " '2 For 1',\n",
       " 'Great idea!',\n",
       " 'Great concept',\n",
       " 'maneuverability, versatility',\n",
       " 'sturdy durable easy assemble',\n",
       " 'Size, easy folding, price',\n",
       " 'Affordable, Easy to push, Nice and smooth ride',\n",
       " 'great idea, easy to fold',\n",
       " 'great for preschoolers',\n",
       " 'allows another small child to ride (without car seat attached)',\n",
       " 'good stroller for indoors, 2 lightweight children, no lifting of one child in and out',\n",
       " 'size, ability for older child to stand',\n",
       " 'Everything',\n",
       " 'compact size',\n",
       " 'take up less space than a regular double stroller',\n",
       " 'Small, Compact, Sits 2 children, Entertainment of older child',\n",
       " 'place for infant seat, reclining seat, seatbelts in every position',\n",
       " 'lightweight ',\n",
       " 'Toddler security yet freedom!',\n",
       " 'Easily accessible rear seating for preschooler',\n",
       " 'Convenience',\n",
       " 'smaller than other double strollers.',\n",
       " 'Not many....',\n",
       " 'Good idea',\n",
       " 'infant car seat attaches easily',\n",
       " 'None',\n",
       " 'Fun, Practical, Easy Drive',\n",
       " 'easy to use',\n",
       " 'Perfect for an infant and older toddler',\n",
       " 'Being able to &amp;quot;contain&amp;quot; an active preschooler',\n",
       " 'allows a child too big to sit in a stroller a chance to have a ride. ',\n",
       " 'Unique features, holds multiple children if necessary',\n",
       " 'Older child can sit or stand',\n",
       " 'high resale value',\n",
       " 'great for hauling the toddler and the baby',\n",
       " 'Very durable and easy to manuever',\n",
       " 'narrow, easy to get through doors and aisles',\n",
       " 'Ease of use, no assembly required, price',\n",
       " 'lightweight, sturdy, easy to push, options for older child',\n",
       " 'fits two with freedom for the older one!',\n",
       " 'Pushes easy,lets your child have a choice,use from birth until 5years old.',\n",
       " 'Can fit 2 children',\n",
       " 'ADF, fast printing, excellent print quality',\n",
       " 'Great Price and Performance.  Real fast good quality copier for the money.',\n",
       " 'Fast Printing, Great Printer, Good Quality, Work in Windows XP,Toner lasts a long time.',\n",
       " 'A fast digital copier and laser printer',\n",
       " 'None!',\n",
       " 'Fast Digital Copies, Cheap Cartridge, Very Reliable',\n",
       " \"Can't beat it for the money.\",\n",
       " 'Ease of use, Price of toner, Quality of copies',\n",
       " 'Small size, inexpensive, ease of use',\n",
       " 'Good price, prints fast',\n",
       " '2 sec warm up time. No paper jams. long lasting toner. crisp edges.',\n",
       " 'speed, price',\n",
       " 'inexpensive, easy to use, reliable',\n",
       " 'Excellent Value.....Inexpensive not Cheap',\n",
       " 'Fast, reliable, not too expensive',\n",
       " 'Great Value, 12ppm, Decent Quality',\n",
       " 'Fast, reliable, cheap, good quality output.',\n",
       " 'Fast, excellent quality and affordable.',\n",
       " 'Good technical support (they need it); nice copies; price',\n",
       " 'Cheap, great performance, user-friendly.',\n",
       " \"Good speed, nice output, can't beat the price\",\n",
       " 'Low Cost, Attractive Design, Easy of Setup, Easy of use',\n",
       " 'Fast, easy, solid. Very inexpensive toner.',\n",
       " 'Price, Set-up, Quality',\n",
       " 'Price, Speed, Cost of Maintenance, Performance',\n",
       " 'Low price and operating cost, very good text, fast',\n",
       " '100 pages a day with no problem, CHEAP, FAST, INCREDIBLE deal!',\n",
       " 'Fast speed, low per page cost.',\n",
       " 'Economical, great print quality, fast, user-friendly, mac compliant, great support, USB, great paper handling, great output, quiet, automatic sleep mode',\n",
       " 'Remarkably inexpensive and incredibly fast.',\n",
       " 'quick, compact, manual feed slot, price',\n",
       " 'USB, ease of use, speed, support',\n",
       " 'cheap, fast and excellent printer',\n",
       " '12 ppm, 600x 600 resolution, AFFORDABLE!',\n",
       " 'fast printing, high quality output, very easy to set up',\n",
       " 'Super printer',\n",
       " 'Cost, comes out great',\n",
       " 'Fast; affordable; top-quality text output',\n",
       " 'Inexpensive, multiplatform, quality output of type',\n",
       " 'Fast and affordable; with a proper paper tray',\n",
       " 'Fast,clear printing',\n",
       " 'Well priced, easy to setup and use,reliable, fast, good quality',\n",
       " 'Nearly Jam-Free, nearly problem-free, fast, ultra-reliable, great print quality',\n",
       " 'Cheap, works well for a single user',\n",
       " 'Low maintenance, takes a beating, great for a home office',\n",
       " 'A great deal; upgradrable and reasonably priced.',\n",
       " 'Fast warmup, fast printing, both USB &amp; Parallel ports, expandable RAM.',\n",
       " 'Print speed, quality, upgradability, price, reliability, quite small, easy to print on envelopes/small paper',\n",
       " 'Fast, high quality, good toner life, great tech support, Windows/Mac compatible',\n",
       " 'Easy to setup.  High peformance.  Excellent cost.  Beats competitors.',\n",
       " 'Speed, price',\n",
       " 'Fast, quiet, inexpensive.',\n",
       " 'Fast, good quality, and affordable.',\n",
       " 'Affordable. Fast. Great Tech Support.',\n",
       " 'Excellent quality, extremely fast speeds',\n",
       " 'Low cost, good print quality, works with D-Link DI-713P Router/Print Server',\n",
       " 'Small footprint, easy setup, decent speed and print quality.',\n",
       " 'Low price, easy setup, works well with Mac OS 10.2',\n",
       " 'Great quality, low price, easy setup',\n",
       " 'Low price, small footprint, simple.',\n",
       " 'Price, Speed, Quality of Printout',\n",
       " 'Crisp laser; relative ease of use; low cost.',\n",
       " 'Cheap operating costs, excellent standby mode, good print quality. ',\n",
       " 'Holds a lot of paper, prints fast, high quality material; rarely jams.',\n",
       " 'Fast,quality prints b&amp;w prints at a good price.',\n",
       " 'Ultra-fast, sharp output, power-saving mode, easy duplexing, single-sheet feed',\n",
       " 'Reasonable price, it does well what it was designed to do',\n",
       " 'Moderate speed, good print quality, hibernation feature',\n",
       " \"clear printing, paper doesn't jam, reasonably priced toner &amp; drum, easy to use\",\n",
       " 'User Friendly, compact, economical laser for small home office',\n",
       " 'Quick, good print quality, reliable paper-handling and inexpensive',\n",
       " 'Excellent black and white printouts. NO smudge. Sharp graphics. Long lasting toner.',\n",
       " 'HL 1440 has fast print speed 15p, great quality text,small footfrint.',\n",
       " 'A no-nonsense, easy to use, inexpensive laser printer.',\n",
       " 'Fast, easy to network, clear printing, good price',\n",
       " 'Fast, No Banding ',\n",
       " 'Fast printing, good drivers, very reasonable price.',\n",
       " 'large paper tray, fast and crisp output',\n",
       " 'energy saver hibernation; price',\n",
       " 'Price, print quality',\n",
       " 'Inexpensive solution',\n",
       " 'Stylish, small foot print, priced right',\n",
       " 'Very fast, quiet, extremely easy to set up and use. Toner is cheaper than HP.',\n",
       " 'Very Low Price, yet has needed features',\n",
       " 'fast, inexpensive',\n",
       " 'Quite dependable, decent printing, good color.  A good all-around machine for home or office.',\n",
       " 'Inexpensive; multi-function.',\n",
       " 'Good quality printing, fast, and efficient',\n",
       " 'Does everything well.  Works, has clear documentation.',\n",
       " 'Best for the money',\n",
       " 'NONE',\n",
       " 'Great quality photos fax scanner printer small light weight',\n",
       " 'all in one, pcfax is great.',\n",
       " 'ADF(automatic document feeder)Text',\n",
       " 'Photo Quality. Ink lasts a long time. Easy to use.',\n",
       " 'Inexpensive, easy to use.  Fast',\n",
       " 'Its a color printer, scanner, fax &amp; copier  all for the price of one!',\n",
       " 'Printer, Fax, Scanner, all-in-one!',\n",
       " 'easy to install, fast printing',\n",
       " \"IF YOU DON'T HAVE A LOT OF ROOM THIS IS THE PRODUCT FOR YOU\",\n",
       " 'Multiple functions that takes up less desktop space.',\n",
       " 'Easy to set up and use.  Great versatility for small price.',\n",
       " 'great product',\n",
       " 'Low cost, easy to use',\n",
       " 'Excellent print quality; easily set up.',\n",
       " 'reliable, prints well, switches between fax and printer mode with no problems',\n",
       " 'Price, Resolution Output',\n",
       " 'All functions work',\n",
       " 'Fast to operate,great printing,easy to install to computer,wonderful for faxing',\n",
       " 'easy to set up and use',\n",
       " 'Get for Companies',\n",
       " 'Buttons are well placed on display. Functions easy to sort through.',\n",
       " 'Lots of functions',\n",
       " 'does everything. 30 page feeder is very useful for home copies',\n",
       " 'Works well with Windows XP',\n",
       " 'Many features for one low price, quiet operation.',\n",
       " 'Compact, Flatbed scanner, Flatbed copier, Large inkjet cartridges',\n",
       " 'ease of use; fast copying and faxing; low ink usage',\n",
       " 'Not many.It to be good scanner',\n",
       " 'Very good initial print quality.Quick performance both send and receive fax.',\n",
       " 'Multifunctionality, but muted by problems',\n",
       " 'Cheap',\n",
       " 'Easy and convenient to use',\n",
       " 'All-in-one',\n",
       " 'Speed, accuracy, simplicity',\n",
       " 'Very Good all around unit, before the print head goes out',\n",
       " 'prints, scans',\n",
       " 'Does everything quite well.',\n",
       " 'reliable, fast, good switching between phone/fax functions',\n",
       " 'Still a good idea!',\n",
       " 'Good Print Quality',\n",
       " \"6 in one unit, doesn't take up much space.\",\n",
       " 'four separate cartridges, price, Photo Capture Center, 250 paper capacity, flat bed color scanner',\n",
       " 'all-in-one',\n",
       " 'ALL in one machine',\n",
       " 'Multifunction',\n",
       " 'None - Piece of garbage. AND IT KEEPS GETTING WORSE!',\n",
       " 'All-In-One, four separate printer cartridges, affordable price, 250 paper capacity',\n",
       " 'All in one, when it works',\n",
       " 'Aftermarket ink available at great prices...Great range of print quality',\n",
       " 'Good black print quality; easy setup, easy fax send/receive.',\n",
       " 'Initially was great multifunction for our small business.  It replaced a Hp3000',\n",
       " 'allows photo printout from the MFC',\n",
       " 'Great all in one laser multifunction machine; Brother a good name.',\n",
       " 'The most capability for the cost; lowest cost per page, automatic sheet feeder, built-in scanner, ability to use just a parallel port.',\n",
       " 'Moderately fast printing, multifunctionality',\n",
       " 'Good features and design',\n",
       " 'Great functionality',\n",
       " 'see Key Features',\n",
       " 'Just a great MFC in every way, per page costs very low',\n",
       " 'Excellent Laser Printer and Fax, Good Copier, Excellent Customer Service',\n",
       " 'laser fax is cheaper, fair quality, flatbed fax',\n",
       " 'simple setup, fast, well designed',\n",
       " 'Affordable, easy setup, no maintenance.',\n",
       " 'Easy to Use, Quick',\n",
       " 'Cheap, extremely easy to operate and install',\n",
       " 'It was cheap',\n",
       " 'Cheap, good print quality and usually efficient. Not to mention small.',\n",
       " 'Compact and cheap, no paper jams, easy to use, prints on envelopes well, sturdy case',\n",
       " 'printer is cheap, and good for text, easy to use',\n",
       " 'Low Cost',\n",
       " 'Cheap, and simple',\n",
       " 'compact',\n",
       " 'inexpensive',\n",
       " 'every aspect about it',\n",
       " 'Small, lightweight .... Low Cost',\n",
       " 'Compact, easy to use, and Inexpensive',\n",
       " 'Inexpensive Printer ',\n",
       " 'Good Quality Printing, Great Price',\n",
       " 'value, quality, easy installation',\n",
       " 'inexpensive, good quality for the price you pay.',\n",
       " 'Extremely easy set up process',\n",
       " 'compact and space saving',\n",
       " 'Inexpensive, Easy to use',\n",
       " 'Compact and inexpensive',\n",
       " 'none',\n",
       " 'Easy to transport, easy to use. Nice color.',\n",
       " 'Price and a name you can trust',\n",
       " 'small, compact, light-weight, easy to install',\n",
       " 'cheap, easy to set up, easy to use, acceptable quality',\n",
       " 'Low cost, Good output.',\n",
       " 'Inexpensive, easy to install and use',\n",
       " 'good color',\n",
       " 'Easy to install. Easy to use&amp;gt;',\n",
       " 'good quality printing',\n",
       " 'quiet, quality, efficient',\n",
       " 'FREE!!',\n",
       " 'unbeatable price, easy setup, reliable',\n",
       " 'slow',\n",
       " 'Quality',\n",
       " \"hmmmm.... hold on, I'm thinking\",\n",
       " 'Durable, Easy To Use',\n",
       " 'Inexpensive printer',\n",
       " 'Great Quailty with everything ',\n",
       " 'Inexpensive, reliable, decent job for the money.',\n",
       " 'Fast setup great print quality',\n",
       " 'Price',\n",
       " 'It does put out printed materials',\n",
       " 'The realibilty, the cost, ',\n",
       " 'came with free software',\n",
       " 'Good printing quality',\n",
       " 'Ease of use, price',\n",
       " 'Inexpensive, perfect for text printing',\n",
       " 'Good price, Above average print quality.',\n",
       " 'Very cheap!',\n",
       " 'great for kids and small printer jobs',\n",
       " 'Good Quality for Price',\n",
       " 'price of printer',\n",
       " 'size',\n",
       " 'Cheap, Reliable, Accurate, Excellent print quality',\n",
       " 'nonbad photoprint, low noise level',\n",
       " 'decent print quality came with my pc for free easy to use',\n",
       " 'good quality&amp;#13;&amp;#10;small, takes up little space,&amp;#13;&amp;#10;inexpensive&amp;#13;&amp;#10;easy hook up/instructions&amp;#13;&amp;#10;sleek look',\n",
       " 'Absolutely None',\n",
       " 'Cheap printer for simple personal use. ',\n",
       " 'For its price it prints okay',\n",
       " 'Very User Friendly&amp;#13;&amp;#10;Compact design&amp;#13;&amp;#10;Quite affordable 2nd hand',\n",
       " 'Easy to use',\n",
       " \"It's cheap, does the job for me\",\n",
       " 'Small/compact, fast accurate prints, owners manual reader friendly',\n",
       " 'small',\n",
       " 'Size and easy of use',\n",
       " \"Low cost, ink doesn't run when wet\",\n",
       " 'Very cheap, good B/W printing, optional scanner cartridge',\n",
       " 'cheap',\n",
       " 'Low cost',\n",
       " 'very straightforward, reliable, great customer support,light,easy to move and transport, easy to set up, versatile',\n",
       " 'prints quietly and fast',\n",
       " 'Good printer, great prices.',\n",
       " 'fast printing, good print quality, good price, ',\n",
       " 'Versatility - fax, copy, scan with available scanner cartridge.',\n",
       " \"None, except maybe it's inexpensive.\",\n",
       " 'Decent printing quality',\n",
       " 'Very inexpensive printer and ink ',\n",
       " 'Great performance...Crisp printing...Prints 5 ppm',\n",
       " 'Fast printing, good quality printing',\n",
       " 'good budget printer to meet basic printing needs',\n",
       " 'price, print quality, ease of use',\n",
       " 'Inexpensive, good print quality 70% of the time, small and lightweight',\n",
       " \"cartridges won't put a whole in your wallet, it is small, dual cartrage system\",\n",
       " 'Good quality printer',\n",
       " 'low unit price',\n",
       " 'The IS-22 Scanner Attachment is great',\n",
       " 'Inexpensive, easily replaceable cartridges, inexpensive to replace cartridges',\n",
       " 'price effective,very inexpensive',\n",
       " 'Software included, print quality, scanner ',\n",
       " 'Good print quality',\n",
       " 'cheap',\n",
       " 'Low price, easy to set up and use.',\n",
       " 'good printer, IS-22 compatable',\n",
       " 'Low price, Decent output',\n",
       " 'inexpensive',\n",
       " 'FAST PRINTING - GREAT PRICE',\n",
       " 'Inexpensive price and ink tanks',\n",
       " 'DOES PRODUCE AND DUPLICATE',\n",
       " 'Low maintenance, low price, reliable',\n",
       " 'High-quality, neat-looking documents',\n",
       " 'cheap',\n",
       " 'Easy to use',\n",
       " 'PERFECT',\n",
       " 'Price, output quality',\n",
       " 'Cheap, small size, design',\n",
       " 'Incredible Color, Small size, Easy cartridge loading, good price',\n",
       " 'Light and small',\n",
       " 'the sound',\n",
       " 'Cheap, easy to use, fair quality.',\n",
       " \"The scanner feature works well, it's cheap, it prints papers OK\",\n",
       " 'Low Cost, Compact Design',\n",
       " 'Very small and good print quality',\n",
       " \"Cheap (if you can't afford anything else)\",\n",
       " \"It's cheap\",\n",
       " 'Affordability, easy to install and use, no problems so far',\n",
       " 'Color, speed, cost and desktop space.',\n",
       " 'Cheap, Inexpensive ink',\n",
       " 'replaceable printer heads, inexpensive ink alternatives, low starting cost',\n",
       " 'great print quality',\n",
       " 'Dual cartridge printer, can use a photo cartridge.',\n",
       " 'Compact and nice quality for the price',\n",
       " 'Price.  Rebate = $30',\n",
       " 'Cheap good printer',\n",
       " 'Cost effective, good quality',\n",
       " 'Fast printing and quiet',\n",
       " 'Good Print quality',\n",
       " 'scanning cartridge, color ink lasts a long time',\n",
       " 'Economical, Does the Job',\n",
       " 'Small deskspace....great price',\n",
       " 'compact, great printing,scanner conversion',\n",
       " 'inexpensive, reliable, easy to find and inexpensive cartridges, ink dries fast',\n",
       " 'Fast printing speed, good quality, durable',\n",
       " 'Inexpensive',\n",
       " 'it is lightweight, small and fair good print quality',\n",
       " 'A good value',\n",
       " 'Good price, fair print quality, compact',\n",
       " 'Great for Kids Schoolwork',\n",
       " 'fast, cheap, small',\n",
       " \"It's small and cheap\",\n",
       " 'supposedly a very good printer',\n",
       " 'great versatility ',\n",
       " 'Reliable, compact, inexpensive',\n",
       " 'none',\n",
       " \"it works, it's cheap, it's small, ink is cheap\",\n",
       " 'Easy to use, reliable',\n",
       " 'Good quality for the price',\n",
       " 'Easy to use and install, good quality.',\n",
       " 'Utter reliability. Virtually &lt;i&gt;never&lt;/i&gt; jams, even when fed scraps. Availability of unbelievably cheap ink cartridges!',\n",
       " 'Affordable',\n",
       " 'Not too many.',\n",
       " 'good picture quality, low price',\n",
       " 'It came free with our computer',\n",
       " 'Cheap, Small, Easy to Use',\n",
       " 'Small, prints clear, beautiful colors.',\n",
       " 'Ink last quite long',\n",
       " 'For its price it prints okay',\n",
       " 'Cheap Price, Cheap Black Ink Refills',\n",
       " 'Cheap, Easy to use',\n",
       " 'lightweight, does not take up a lot of room, inexpensive',\n",
       " 'Still looking for some.',\n",
       " '5 pages per minute in black&amp;#13;&amp;#10;and 2 in color',\n",
       " 'Good quality printing, inexpensive, small size, very affordable ink.',\n",
       " 'great resolution, cheaper inks, cheap price',\n",
       " 'Inexpensive, ink is cheap, good quality',\n",
       " 'Inexpensive to buy and use, good quality printing for home.',\n",
       " 'compact, inexpensive ink, turns into a scanner',\n",
       " 'Very inexpensive - easy to use',\n",
       " 'Hard to beat for the money.',\n",
       " 'Ease of use, installation, size, price.',\n",
       " 'Cheap, Quiet, Small',\n",
       " 'Quiet, cheap, small, easy to find ink.',\n",
       " 'low price, text print quality',\n",
       " 'Cheap',\n",
       " 'easy to use, great quality',\n",
       " 'price',\n",
       " 'Small and easy to use',\n",
       " 'cheap',\n",
       " 'For its price it prints okay',\n",
       " 'reliable and very easy to use',\n",
       " 'easy use, quiet',\n",
       " 'Great for everyday paper use, affordable',\n",
       " 'excellant printing, light weight, very durable!',\n",
       " 'Inexpensive, durable, easy setup',\n",
       " 'easy to use',\n",
       " 'price',\n",
       " 'Crisp and Clear Graphics and Text; Inexpensive',\n",
       " 'Great Price, Can double of Scanner,good resolution, good software package',\n",
       " 'Very inexpensive',\n",
       " 'Cheap, good for essays/reports',\n",
       " 'Above average printer; great price!',\n",
       " 'Inexpensive, small',\n",
       " 'Very cheap, small footprint',\n",
       " 'It Works!',\n",
       " 'Cost-low',\n",
       " 'Inexpensive',\n",
       " 'reliable',\n",
       " 'Cheap',\n",
       " 'small, light, compact, good print quality',\n",
       " 'Inexpensive, easy to use, many options, supports wide variety of paper sizes',\n",
       " 'Quick, Easy to install and use',\n",
       " \"Great good quality printing, doesn't take up much space, hardly costs anything.\",\n",
       " 'Price',\n",
       " 'Inexpensive, no paper jams, true color performance, prints evenly and quickly',\n",
       " 'inexpensive, small and tidy, quiet',\n",
       " 'Its small and reliable, it will fit on any desktop. ',\n",
       " 'Clear crisp printing. Very affordable.',\n",
       " 'Easy to use, good paper feed.',\n",
       " 'Good Price',\n",
       " 'great for basic text use, inexpensive, durable',\n",
       " 'Low cost, okay print quality, small.',\n",
       " 'Cheap!, fast, easy to find ink cartridges',\n",
       " 'The ink is seperate, making it cheaper to replace just black ink. Versatile.',\n",
       " 'Has a nice shape and fits almost anywhere',\n",
       " 'Cheap, good overall quality for the money, small footprint, attractive, usb option built-in',\n",
       " 'Smaller, and takes up less space than competing models.',\n",
       " 'Very inexpensive, turns itself on/off, small, quiet, ink system, free USB cable, name brand.',\n",
       " 'CHEAP',\n",
       " 'Small footprint, auto on/off',\n",
       " 'Low price. Decent quality prints. Good software bundle. Dependable.',\n",
       " 'Compact, inexpensive, reliable, easy to find ink tanks',\n",
       " 'cheap/does the job/small in size',\n",
       " 'Cheap Ink, Inexpensive, Cartridge easy to replace',\n",
       " 'Compact, Relatively Inexpensive Cartridges, Fairly Fast, User Friendly Drivers and Software',\n",
       " 'Relatively easy to get working, USB connection handy.',\n",
       " 'Inexpensive, easy to use.',\n",
       " 'Small Footprint, Speed, Quality of Print.',\n",
       " 'small, light, OK for occasional printouts',\n",
       " 'cheap, long-lasting',\n",
       " 'Printer has been very reliable setup easy,configures on printer cable with in Umax scanner',\n",
       " 'good price',\n",
       " 'Durable, good price',\n",
       " 'great price',\n",
       " 'easy to learn to use',\n",
       " 'does print',\n",
       " 'Easy To Find Replacement Ink, Easy To Use',\n",
       " 'Good for the kids',\n",
       " 'great price, good printing quality',\n",
       " 'Price, Print Quality',\n",
       " 'Price, good for simple things, quality is decent.',\n",
       " 'quite reliable',\n",
       " 'Nice picture',\n",
       " 'For its price it prints okay',\n",
       " 'small, light, easy to use, good as a backup or second printer',\n",
       " 'good quality printing, nice color, price, rebate offer',\n",
       " 'compact, affordable',\n",
       " 'Inexpensive, good quality print, ease of use',\n",
       " 'size and cost',\n",
       " 'Cheap and Simple',\n",
       " 'Price',\n",
       " 'small footprint, saves space, relatively inexpensive.',\n",
       " 'Price, size, weight, software, refillable color cartridges',\n",
       " 'Cheap (came with computer &amp;quot;package&amp;quot;)',\n",
       " 'sleek model easy fit in tight area',\n",
       " 'Works good for basic things',\n",
       " 'adequate print quality',\n",
       " 'It prints great detail in my pictures',\n",
       " 'price',\n",
       " 'Nice printing quality, affordable',\n",
       " 'inexpensive, but works well',\n",
       " 'Cheap Reliable',\n",
       " 'great when printing in black ink;  great deals on cartridges if you look around',\n",
       " 'none',\n",
       " 'Good text printing &amp;amp; no jams',\n",
       " 'Decent print quality, low price',\n",
       " 'Compact, Color, Quality',\n",
       " 'Compact and inexpensive',\n",
       " 'Great Product ',\n",
       " 'Low cost, good quality, reliable',\n",
       " 'good price, easy to use',\n",
       " 'It looks nice',\n",
       " 'inexpensive',\n",
       " 'Very Affordable and Compact',\n",
       " 'Versatile, good quality color images, inexpensive',\n",
       " 'value',\n",
       " 'Inexpensive unit, excellent color print quality',\n",
       " 'Inexpensive, Good Black and White Print Quality, Ok Color Printing Quality',\n",
       " 'Initial purchase price good',\n",
       " 'A good product for the price.',\n",
       " 'low cost, easy to use',\n",
       " 'Free',\n",
       " 'Easy to use, cheap, durable, good print quality, fast black and white printing, color compatibility...',\n",
       " 'Excellent print quality for a low price',\n",
       " 'My Disgust',\n",
       " 'Quality printing, great price',\n",
       " 'inexpensive, acceptable quality of printing, reliable machine',\n",
       " 'Light and Compact',\n",
       " 'Never a problem, small size',\n",
       " 'Small, Cheap, Decent Warranty, CHEAP...',\n",
       " 'Compact, lightweight and easy to use.',\n",
       " 'Compact size, upright style.  Easy replacement of carts.  Works w/different paper types.',\n",
       " 'Dirt Cheap, simple drivers, compact unit',\n",
       " 'easy to use and install, cheap price',\n",
       " 'Good quality printing, easy to use',\n",
       " 'Never Jams, Quick Setup, Great Bundle',\n",
       " \"Automatic poweron/poweroff, that's about it\",\n",
       " 'small and compact',\n",
       " 'Good quality text and images, reasonably quick for an inkjet',\n",
       " 'seperate ink cartridges',\n",
       " 'Great for home use, good color, dependable as any out there, individual ink colors.',\n",
       " 'Good printing quality. Low cost.',\n",
       " 'Ability to purchase separate printer cartridges.',\n",
       " 'Easy to use, Ink Provided, A strong home printer',\n",
       " 'cheap ink, good speed and resolution',\n",
       " ...]"
      ]
     },
     "execution_count": 56,
     "metadata": {},
     "output_type": "execute_result"
    }
   ],
   "source": [
    "prosList = re.findall(\"<Pros>(.*)</Pros>\", pros)\n",
    "prosList"
   ]
  },
  {
   "cell_type": "code",
   "execution_count": 57,
   "metadata": {},
   "outputs": [
    {
     "data": {
      "text/plain": [
       "'Comes with software, good price, excellent pictures.'"
      ]
     },
     "execution_count": 57,
     "metadata": {},
     "output_type": "execute_result"
    }
   ],
   "source": [
    "prosList[11]"
   ]
  },
  {
   "cell_type": "markdown",
   "metadata": {},
   "source": [
    "<h2 style=\"color:green\">1) Tokenizing the string</h2>"
   ]
  },
  {
   "cell_type": "code",
   "execution_count": 58,
   "metadata": {
    "collapsed": true
   },
   "outputs": [
    {
     "name": "stderr",
     "output_type": "stream",
     "text": [
      "[nltk_data] Downloading package stopwords to\n",
      "[nltk_data]     C:\\Users\\Admin\\AppData\\Roaming\\nltk_data...\n",
      "[nltk_data]   Package stopwords is already up-to-date!\n"
     ]
    },
    {
     "data": {
      "text/plain": [
       "True"
      ]
     },
     "execution_count": 58,
     "metadata": {},
     "output_type": "execute_result"
    }
   ],
   "source": [
    "nltk.download('stopwords')"
   ]
  },
  {
   "cell_type": "code",
   "execution_count": 69,
   "metadata": {},
   "outputs": [
    {
     "data": {
      "text/plain": [
       "'Blue design FUN! Takes good pictures for me, LCD and Optical view finder, easy to use'"
      ]
     },
     "execution_count": 69,
     "metadata": {},
     "output_type": "execute_result"
    }
   ],
   "source": [
    "pros90 = prosList[90]\n",
    "pros90"
   ]
  },
  {
   "cell_type": "code",
   "execution_count": 71,
   "metadata": {},
   "outputs": [
    {
     "data": {
      "text/plain": [
       "['blue',\n",
       " 'design',\n",
       " 'fun',\n",
       " '!',\n",
       " 'takes',\n",
       " 'good',\n",
       " 'pictures',\n",
       " 'for',\n",
       " 'me',\n",
       " ',',\n",
       " 'lcd',\n",
       " 'and',\n",
       " 'optical',\n",
       " 'view',\n",
       " 'finder',\n",
       " ',',\n",
       " 'easy',\n",
       " 'to',\n",
       " 'use']"
      ]
     },
     "execution_count": 71,
     "metadata": {},
     "output_type": "execute_result"
    }
   ],
   "source": [
    "# instantiate tokenizer class\n",
    "tokenizer = TweetTokenizer(preserve_case=False)\n",
    "\n",
    "# tokenize tweets\n",
    "pros_tokens = tokenizer.tokenize(pros90)\n",
    "pros_tokens"
   ]
  },
  {
   "cell_type": "code",
   "execution_count": 74,
   "metadata": {},
   "outputs": [
    {
     "data": {
      "text/plain": [
       "['blue',\n",
       " 'design',\n",
       " 'fun',\n",
       " 'takes',\n",
       " 'good',\n",
       " 'pictures',\n",
       " 'lcd',\n",
       " 'optical',\n",
       " 'view',\n",
       " 'finder',\n",
       " 'easy',\n",
       " 'use']"
      ]
     },
     "execution_count": 74,
     "metadata": {},
     "output_type": "execute_result"
    }
   ],
   "source": [
    "stopwords_english = stopwords.words('english')\n",
    "pros_clean = []\n",
    "\n",
    "for word in pros_tokens:\n",
    "    if (word not in stopwords_english and word not in string.punctuation):\n",
    "        pros_clean.append(word)\n",
    "\n",
    "pros_clean"
   ]
  },
  {
   "cell_type": "markdown",
   "metadata": {},
   "source": [
    "<h2 style=\"color:green\">2) Lemmatizing</h2>"
   ]
  },
  {
   "cell_type": "code",
   "execution_count": 75,
   "metadata": {
    "collapsed": true
   },
   "outputs": [
    {
     "name": "stderr",
     "output_type": "stream",
     "text": [
      "[nltk_data] Downloading package wordnet to\n",
      "[nltk_data]     C:\\Users\\Admin\\AppData\\Roaming\\nltk_data...\n"
     ]
    },
    {
     "data": {
      "text/plain": [
       "True"
      ]
     },
     "execution_count": 75,
     "metadata": {},
     "output_type": "execute_result"
    }
   ],
   "source": [
    "nltk.download('wordnet')"
   ]
  },
  {
   "cell_type": "code",
   "execution_count": 77,
   "metadata": {},
   "outputs": [
    {
     "data": {
      "text/plain": [
       "['blue',\n",
       " 'design',\n",
       " 'fun',\n",
       " 'take',\n",
       " 'good',\n",
       " 'picture',\n",
       " 'lcd',\n",
       " 'optical',\n",
       " 'view',\n",
       " 'finder',\n",
       " 'easy',\n",
       " 'use']"
      ]
     },
     "execution_count": 77,
     "metadata": {},
     "output_type": "execute_result"
    }
   ],
   "source": [
    "# Instantiate stemming class\n",
    "wordnet_lemmatizer = WordNetLemmatizer()\n",
    "\n",
    "pros_lem = []\n",
    "\n",
    "for word in pros_clean:\n",
    "    lem_words = wordnet_lemmatizer.lemmatize(word,pos =\"v\")# stemming word\n",
    "    pros_lem.append(lem_words) # append to the list\n",
    "\n",
    "pros_lem"
   ]
  },
  {
   "cell_type": "markdown",
   "metadata": {},
   "source": []
  },
  {
   "cell_type": "markdown",
   "metadata": {},
   "source": [
    "# Pandas"
   ]
  },
  {
   "cell_type": "code",
   "execution_count": 78,
   "metadata": {},
   "outputs": [],
   "source": [
    "import numpy as np\n",
    "import pandas as pd\n",
    "import matplotlib.pyplot as plt"
   ]
  },
  {
   "cell_type": "code",
   "execution_count": 83,
   "metadata": {},
   "outputs": [
    {
     "data": {
      "text/html": [
       "<div>\n",
       "<style scoped>\n",
       "    .dataframe tbody tr th:only-of-type {\n",
       "        vertical-align: middle;\n",
       "    }\n",
       "\n",
       "    .dataframe tbody tr th {\n",
       "        vertical-align: top;\n",
       "    }\n",
       "\n",
       "    .dataframe thead th {\n",
       "        text-align: right;\n",
       "    }\n",
       "</style>\n",
       "<table border=\"1\" class=\"dataframe\">\n",
       "  <thead>\n",
       "    <tr style=\"text-align: right;\">\n",
       "      <th></th>\n",
       "      <th>Id</th>\n",
       "      <th>SepalLengthCm</th>\n",
       "      <th>SepalWidthCm</th>\n",
       "      <th>PetalLengthCm</th>\n",
       "      <th>PetalWidthCm</th>\n",
       "      <th>Species</th>\n",
       "    </tr>\n",
       "  </thead>\n",
       "  <tbody>\n",
       "    <tr>\n",
       "      <th>0</th>\n",
       "      <td>1</td>\n",
       "      <td>5.1</td>\n",
       "      <td>3.5</td>\n",
       "      <td>1.4</td>\n",
       "      <td>0.2</td>\n",
       "      <td>Iris-setosa</td>\n",
       "    </tr>\n",
       "    <tr>\n",
       "      <th>1</th>\n",
       "      <td>2</td>\n",
       "      <td>4.9</td>\n",
       "      <td>3.0</td>\n",
       "      <td>1.4</td>\n",
       "      <td>0.2</td>\n",
       "      <td>Iris-setosa</td>\n",
       "    </tr>\n",
       "    <tr>\n",
       "      <th>2</th>\n",
       "      <td>3</td>\n",
       "      <td>4.7</td>\n",
       "      <td>3.2</td>\n",
       "      <td>1.3</td>\n",
       "      <td>0.2</td>\n",
       "      <td>Iris-setosa</td>\n",
       "    </tr>\n",
       "    <tr>\n",
       "      <th>3</th>\n",
       "      <td>4</td>\n",
       "      <td>4.6</td>\n",
       "      <td>3.1</td>\n",
       "      <td>1.5</td>\n",
       "      <td>0.2</td>\n",
       "      <td>Iris-setosa</td>\n",
       "    </tr>\n",
       "    <tr>\n",
       "      <th>4</th>\n",
       "      <td>5</td>\n",
       "      <td>5.0</td>\n",
       "      <td>3.6</td>\n",
       "      <td>1.4</td>\n",
       "      <td>0.2</td>\n",
       "      <td>Iris-setosa</td>\n",
       "    </tr>\n",
       "  </tbody>\n",
       "</table>\n",
       "</div>"
      ],
      "text/plain": [
       "   Id  SepalLengthCm  SepalWidthCm  PetalLengthCm  PetalWidthCm      Species\n",
       "0   1            5.1           3.5            1.4           0.2  Iris-setosa\n",
       "1   2            4.9           3.0            1.4           0.2  Iris-setosa\n",
       "2   3            4.7           3.2            1.3           0.2  Iris-setosa\n",
       "3   4            4.6           3.1            1.5           0.2  Iris-setosa\n",
       "4   5            5.0           3.6            1.4           0.2  Iris-setosa"
      ]
     },
     "execution_count": 83,
     "metadata": {},
     "output_type": "execute_result"
    }
   ],
   "source": [
    "iris = pd.read_csv(\"Iris.csv\")\n",
    "iris.head()"
   ]
  },
  {
   "cell_type": "code",
   "execution_count": 85,
   "metadata": {},
   "outputs": [
    {
     "data": {
      "image/png": "[encoded data removed]",
      "text/plain": [
       "<Figure size 432x288 with 1 Axes>"
      ]
     },
     "metadata": {
      "needs_background": "light"
     },
     "output_type": "display_data"
    }
   ],
   "source": [
    "%matplotlib inline\n",
    "#1)Draw Scatter Plot between SepalLengthCm and SepalWidthCm for “Iris.csv” file with proper labelling.\n",
    "\n",
    "fig, axis = plt.subplots()\n",
    "# Grid lines, Xticks, Xlabel, Ylabel\n",
    "\n",
    "axis.yaxis.grid(True)\n",
    "axis.set_title('SepalLengthCm vs SepalWidthCm',fontsize=20)\n",
    "axis.set_xlabel('SepalLengthCm',fontsize=10)\n",
    "axis.set_ylabel('SepalWidthCm',fontsize=10)\n",
    "\n",
    "X = iris['SepalLengthCm']\n",
    "Y = iris['SepalWidthCm']\n",
    "\n",
    "axis.scatter(X, Y)\n",
    "plt.show()"
   ]
  },
  {
   "cell_type": "code",
   "execution_count": 87,
   "metadata": {},
   "outputs": [
    {
     "data": {
      "text/plain": [
       "[]"
      ]
     },
     "execution_count": 87,
     "metadata": {},
     "output_type": "execute_result"
    },
    {
     "data": {
      "image/png": "[encoded data removed]",
      "text/plain": [
       "<Figure size 432x288 with 1 Axes>"
      ]
     },
     "metadata": {
      "needs_background": "light"
     },
     "output_type": "display_data"
    }
   ],
   "source": [
    "#Draw Histogram of SepalLengthCm with proper labelling.\n",
    "\n",
    "plt.hist(iris['SepalLengthCm'], 10, facecolor=\"green\")\n",
    "\n",
    "plt.xlabel(\"length\")\n",
    "plt.ylabel(\"count\")\n",
    "plt.title(\"SepalLengthCm\")\n",
    "\n",
    "plt.grid(True)\n",
    "plt.plot()"
   ]
  },
  {
   "cell_type": "code",
   "execution_count": 98,
   "metadata": {},
   "outputs": [
    {
     "data": {
      "text/plain": [
       "Index(['Id'], dtype='object')"
      ]
     },
     "execution_count": 98,
     "metadata": {},
     "output_type": "execute_result"
    }
   ],
   "source": [
    "#3) Plot bar chart of Species.\n",
    "speciesDf = iris[['Id','Species']].groupby('Species').count()\n",
    "speciesDf.columns"
   ]
  },
  {
   "cell_type": "code",
   "execution_count": 99,
   "metadata": {},
   "outputs": [
    {
     "data": {
      "image/png": "[encoded data removed]",
      "text/plain": [
       "<Figure size 432x288 with 1 Axes>"
      ]
     },
     "metadata": {
      "needs_background": "light"
     },
     "output_type": "display_data"
    }
   ],
   "source": [
    "Species = speciesDf.index\n",
    "count = speciesDf[\"Id\"].values\n",
    "\n",
    "plt.bar(Species, count)\n",
    "plt.show()"
   ]
  },
  {
   "cell_type": "markdown",
   "metadata": {},
   "source": [
    "# Scikit Learn Library"
   ]
  },
  {
   "cell_type": "code",
   "execution_count": 100,
   "metadata": {},
   "outputs": [],
   "source": [
    "from sklearn import datasets #various toy datasets\n",
    "from sklearn import metrics #Check accuracy of model\n",
    "from sklearn.linear_model import LogisticRegression"
   ]
  },
  {
   "cell_type": "markdown",
   "metadata": {},
   "source": [
    "### Practice with iris dataset"
   ]
  },
  {
   "cell_type": "code",
   "execution_count": 101,
   "metadata": {},
   "outputs": [],
   "source": [
    "iris = datasets.load_iris()"
   ]
  },
  {
   "cell_type": "code",
   "execution_count": 104,
   "metadata": {},
   "outputs": [
    {
     "name": "stdout",
     "output_type": "stream",
     "text": [
      "Feature names: ['sepal length (cm)', 'sepal width (cm)', 'petal length (cm)', 'petal width (cm)']\n",
      "Target names: ['setosa' 'versicolor' 'virginica']\n",
      "\n",
      "First 10 rows of X:\n",
      " [[5.1 3.5 1.4 0.2]\n",
      " [4.9 3.  1.4 0.2]\n",
      " [4.7 3.2 1.3 0.2]\n",
      " [4.6 3.1 1.5 0.2]\n",
      " [5.  3.6 1.4 0.2]\n",
      " [5.4 3.9 1.7 0.4]\n",
      " [4.6 3.4 1.4 0.3]\n",
      " [5.  3.4 1.5 0.2]\n",
      " [4.4 2.9 1.4 0.2]\n",
      " [4.9 3.1 1.5 0.1]]\n"
     ]
    }
   ],
   "source": [
    "X = iris.data\n",
    "y= iris.target\n",
    "feature_names = iris.feature_names\n",
    "target_names = iris.target_names\n",
    "print(\"Feature names:\", feature_names)\n",
    "print(\"Target names:\", target_names)\n",
    "print(\"\\nFirst 10 rows of X:\\n\", X[:10])"
   ]
  },
  {
   "cell_type": "code",
   "execution_count": 105,
   "metadata": {},
   "outputs": [],
   "source": [
    "from sklearn.model_selection import train_test_split"
   ]
  },
  {
   "cell_type": "code",
   "execution_count": 113,
   "metadata": {},
   "outputs": [],
   "source": [
    "X_train, X_test, y_train, y_test = train_test_split(\n",
    "    X, y, test_size = 0.3, random_state=1\n",
    ")"
   ]
  },
  {
   "cell_type": "code",
   "execution_count": 115,
   "metadata": {},
   "outputs": [
    {
     "name": "stdout",
     "output_type": "stream",
     "text": [
      "45\n"
     ]
    }
   ],
   "source": [
    "print(len(X_test))"
   ]
  },
  {
   "cell_type": "markdown",
   "metadata": {},
   "source": [
    "<h2 style=\"color:green\">California housing data </h2>"
   ]
  },
  {
   "cell_type": "code",
   "execution_count": 116,
   "metadata": {},
   "outputs": [],
   "source": [
    "california = datasets.fetch_california_housing()"
   ]
  },
  {
   "cell_type": "code",
   "execution_count": 117,
   "metadata": {},
   "outputs": [
    {
     "name": "stdout",
     "output_type": "stream",
     "text": [
      "['MedInc', 'HouseAge', 'AveRooms', 'AveBedrms', 'Population', 'AveOccup', 'Latitude', 'Longitude']\n",
      "\n",
      "['MedHouseVal']\n"
     ]
    }
   ],
   "source": [
    "print(california.feature_names)\n",
    "print()\n",
    "print(california.target_names)"
   ]
  },
  {
   "cell_type": "code",
   "execution_count": 118,
   "metadata": {},
   "outputs": [],
   "source": [
    "X = california.data\n",
    "y = california.target\n",
    "\n",
    "X_train, X_test, y_train, y_test = train_test_split(\n",
    "    X, y, test_size = 0.4, random_state=1\n",
    ")"
   ]
  }
 ],
 "metadata": {
  "colab": {
   "provenance": []
  },
  "kernelspec": {
   "display_name": "Python 3 (ipykernel)",
   "language": "python",
   "name": "python3"
  },
  "language_info": {
   "codemirror_mode": {
    "name": "ipython",
    "version": 3
   },
   "file_extension": ".py",
   "mimetype": "text/x-python",
   "name": "python",
   "nbconvert_exporter": "python",
   "pygments_lexer": "ipython3",
   "version": "3.9.7"
  }
 },
 "nbformat": 4,
 "nbformat_minor": 1
}
