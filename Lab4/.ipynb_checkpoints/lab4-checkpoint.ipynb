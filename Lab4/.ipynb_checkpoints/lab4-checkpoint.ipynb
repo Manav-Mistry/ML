{
 "cells": [
  {
   "cell_type": "code",
   "execution_count": 2,
   "id": "f823a1b4",
   "metadata": {},
   "outputs": [
    {
     "ename": "ModuleNotFoundError",
     "evalue": "No module named 'torch'",
     "output_type": "error",
     "traceback": [
      "\u001b[1;31m---------------------------------------------------------------------------\u001b[0m",
      "\u001b[1;31mModuleNotFoundError\u001b[0m                       Traceback (most recent call last)",
      "\u001b[1;32m~\\AppData\\Local\\Temp/ipykernel_20392/2978542231.py\u001b[0m in \u001b[0;36m<module>\u001b[1;34m\u001b[0m\n\u001b[0;32m      1\u001b[0m \u001b[1;32mimport\u001b[0m \u001b[0mnumpy\u001b[0m \u001b[1;32mas\u001b[0m \u001b[0mnp\u001b[0m\u001b[1;33m\u001b[0m\u001b[1;33m\u001b[0m\u001b[0m\n\u001b[1;32m----> 2\u001b[1;33m \u001b[1;32mimport\u001b[0m \u001b[0mtorch\u001b[0m\u001b[1;33m\u001b[0m\u001b[1;33m\u001b[0m\u001b[0m\n\u001b[0m\u001b[0;32m      3\u001b[0m \u001b[1;32mimport\u001b[0m \u001b[0mtorch\u001b[0m\u001b[1;33m.\u001b[0m\u001b[0mnn\u001b[0m \u001b[1;32mas\u001b[0m \u001b[0mnn\u001b[0m\u001b[1;33m\u001b[0m\u001b[1;33m\u001b[0m\u001b[0m\n\u001b[0;32m      4\u001b[0m \u001b[1;33m\u001b[0m\u001b[0m\n",
      "\u001b[1;31mModuleNotFoundError\u001b[0m: No module named 'torch'"
     ]
    }
   ],
   "source": [
    "import numpy as np\n",
    "import torch\n",
    "import torch.nn as nn\n",
    "     "
   ]
  },
  {
   "cell_type": "code",
   "execution_count": null,
   "id": "6f81662f",
   "metadata": {},
   "outputs": [],
   "source": [
    "inputs = np.array([[73, 67, 43], [91, 88, 64], [87, 134, 58],\n",
    "                   [102, 43, 37],[69, 96, 70], [73, 67, 43],\n",
    "                   [91, 88, 64], [87, 134, 58], [102, 43, 37], \n",
    "                   [69,96, 70], [73, 67, 43], [91, 88, 64]], dtype='float32')\n",
    "\n",
    "targets = np.array([[56, 70], [81, 101], [119, 133], [22, 37], \n",
    "                    [103, 119],[56, 70], [81, 101], [119, 133], \n",
    "                    [22, 37], [103, 119],[56, 70], [81, 101]],dtype='float32')\n",
    "\n",
    "inputs, targets"
   ]
  },
  {
   "cell_type": "code",
   "execution_count": null,
   "id": "3733fd27",
   "metadata": {},
   "outputs": [],
   "source": [
    "inputs = torch.from_numpy(inputs)\n",
    "targets = torch.from_numpy(targets)\n",
    "\n",
    "inputs, targets"
   ]
  },
  {
   "cell_type": "code",
   "execution_count": null,
   "id": "f738aced",
   "metadata": {},
   "outputs": [],
   "source": [
    "from torch.utils.data import TensorDataset, DataLoader\n",
    "import torch.nn.functional as F"
   ]
  },
  {
   "cell_type": "code",
   "execution_count": null,
   "id": "cc655292",
   "metadata": {},
   "outputs": [],
   "source": [
    "dataset = TensorDataset(inputs,targets)\n",
    "dataset[0]"
   ]
  },
  {
   "cell_type": "code",
   "execution_count": null,
   "id": "040c0376",
   "metadata": {},
   "outputs": [],
   "source": [
    "# Define data loader\n",
    "dataloader = DataLoader(dataset,batch_size=15, shuffle=True)"
   ]
  },
  {
   "cell_type": "code",
   "execution_count": null,
   "id": "3fe79947",
   "metadata": {},
   "outputs": [],
   "source": [
    "model = nn.Linear(in_features=3, out_features=2, bias=True)"
   ]
  },
  {
   "cell_type": "code",
   "execution_count": null,
   "id": "3b0676ca",
   "metadata": {},
   "outputs": [],
   "source": [
    "optimizer = torch.optim.SGD(model.parameters(), 0.0001)"
   ]
  },
  {
   "cell_type": "code",
   "execution_count": null,
   "id": "955ebaa4",
   "metadata": {},
   "outputs": [],
   "source": [
    "loss_fn = F.mse_loss"
   ]
  },
  {
   "cell_type": "code",
   "execution_count": null,
   "id": "035a7bf5",
   "metadata": {},
   "outputs": [],
   "source": [
    "def fit(num_epochs:int, model, loss_fn, optimizer):\n",
    "  for epoch in range(num_epochs):\n",
    "    batch = 0\n",
    "    for xb,yb in dataloader:\n",
    "      batch += 1\n",
    "      pred = model(xb)\n",
    "      loss = loss_fn(pred, yb)\n",
    "      optimizer.zero_grad()\n",
    "      loss.backward()\n",
    "      optimizer.step()\n",
    "      print('epoch {} batch {} batch size {} loss {}'.format(epoch,batch,len(xb),loss.item()))\n",
    "\n",
    "fit(1000, model, loss_fn, optimizer)"
   ]
  },
  {
   "cell_type": "code",
   "execution_count": null,
   "id": "5d20c4da",
   "metadata": {},
   "outputs": [],
   "source": [
    "new_data = torch.Tensor([[87, 134, 58], [102, 43, 37], [69, 96,70]])\n",
    "new_targets = torch.Tensor([[119, 133], [22, 37], [103, 119]])\n",
    "pred_new_data = model(new_data)\n",
    "print(\"Predict (after training): \",new_targets,\"\\n\", pred_new_data)"
   ]
  },
  {
   "cell_type": "code",
   "execution_count": null,
   "id": "c2ef8e64",
   "metadata": {},
   "outputs": [],
   "source": []
  }
 ],
 "metadata": {
  "kernelspec": {
   "display_name": "Python 3 (ipykernel)",
   "language": "python",
   "name": "python3"
  },
  "language_info": {
   "codemirror_mode": {
    "name": "ipython",
    "version": 3
   },
   "file_extension": ".py",
   "mimetype": "text/x-python",
   "name": "python",
   "nbconvert_exporter": "python",
   "pygments_lexer": "ipython3",
   "version": "3.9.7"
  }
 },
 "nbformat": 4,
 "nbformat_minor": 5
}
