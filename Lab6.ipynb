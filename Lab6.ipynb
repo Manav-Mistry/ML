{
  "nbformat": 4,
  "nbformat_minor": 0,
  "metadata": {
    "colab": {
      "provenance": [],
      "authorship_tag": "ABX9TyNehyDn+DarqEE6JF1b0ODz",
      "include_colab_link": true
    },
    "kernelspec": {
      "name": "python3",
      "display_name": "Python 3"
    },
    "language_info": {
      "name": "python"
    },
    "accelerator": "GPU",
    "gpuClass": "standard"
  },
  "cells": [
    {
      "cell_type": "markdown",
      "metadata": {
        "id": "view-in-github",
        "colab_type": "text"
      },
      "source": [
        "<a href=\"https://colab.research.google.com/github/Manav-Mistry/ML/blob/master/Lab6.ipynb\" target=\"_parent\"><img src=\"https://colab.research.google.com/assets/colab-badge.svg\" alt=\"Open In Colab\"/></a>"
      ]
    },
    {
      "cell_type": "code",
      "execution_count": 35,
      "metadata": {
        "id": "jzpiDGvhPAdw"
      },
      "outputs": [],
      "source": [
        "import pandas as pd\n",
        "from nltk.corpus import stopwords\n",
        "import string\n",
        "import re\n",
        "from sklearn.feature_extraction.text import CountVectorizer\n",
        "from sklearn.metrics import classification_report\n",
        "from sklearn.naive_bayes import MultinomialNB\n",
        "from sklearn.tree import DecisionTreeClassifier\n",
        "from sklearn.model_selection import train_test_split\n",
        "import seaborn as sns\n",
        "from wordcloud import WordCloud\n",
        "import matplotlib.pyplot as plt"
      ]
    },
    {
      "cell_type": "code",
      "source": [
        "!pip install -q kaggle\n"
      ],
      "metadata": {
        "id": "x2GREBm9R2t0"
      },
      "execution_count": 36,
      "outputs": []
    },
    {
      "cell_type": "code",
      "source": [],
      "metadata": {
        "id": "padIzdk8SMNG"
      },
      "execution_count": 36,
      "outputs": []
    },
    {
      "cell_type": "code",
      "source": [
        "! mkdir ~/.kaggle"
      ],
      "metadata": {
        "id": "NmdZhuNNTgkv",
        "colab": {
          "base_uri": "https://localhost:8080/"
        },
        "outputId": "13ba61f4-2023-4fb5-996d-180433ea6088"
      },
      "execution_count": 37,
      "outputs": [
        {
          "output_type": "stream",
          "name": "stdout",
          "text": [
            "mkdir: cannot create directory ‘/root/.kaggle’: File exists\n"
          ]
        }
      ]
    },
    {
      "cell_type": "code",
      "source": [
        "! cp kaggle.json ~/.kaggle/"
      ],
      "metadata": {
        "id": "4-LRrcoiTsod",
        "colab": {
          "base_uri": "https://localhost:8080/"
        },
        "outputId": "b9a31834-855a-4ca3-df1e-e3aeb8a3eabd"
      },
      "execution_count": 38,
      "outputs": [
        {
          "output_type": "stream",
          "name": "stdout",
          "text": [
            "cp: cannot stat 'kaggle.json': No such file or directory\n"
          ]
        }
      ]
    },
    {
      "cell_type": "code",
      "source": [
        " ! chmod 600 ~/.kaggle/kaggle.json"
      ],
      "metadata": {
        "id": "waICLDEaTzzh",
        "colab": {
          "base_uri": "https://localhost:8080/"
        },
        "outputId": "4c574399-a2b1-4d35-aa16-4cf24705b894"
      },
      "execution_count": 39,
      "outputs": [
        {
          "output_type": "stream",
          "name": "stdout",
          "text": [
            "chmod: cannot access '/root/.kaggle/kaggle.json': No such file or directory\n"
          ]
        }
      ]
    },
    {
      "cell_type": "code",
      "source": [
        "! kaggle datasets list"
      ],
      "metadata": {
        "colab": {
          "base_uri": "https://localhost:8080/"
        },
        "id": "hV-fPvt9UJRC",
        "outputId": "2cbf7684-5097-43c4-b4d2-cbfa029929f7"
      },
      "execution_count": 40,
      "outputs": [
        {
          "output_type": "stream",
          "name": "stdout",
          "text": [
            "Traceback (most recent call last):\n",
            "  File \"/usr/local/bin/kaggle\", line 5, in <module>\n",
            "    from kaggle.cli import main\n",
            "  File \"/usr/local/lib/python3.8/dist-packages/kaggle/__init__.py\", line 23, in <module>\n",
            "    api.authenticate()\n",
            "  File \"/usr/local/lib/python3.8/dist-packages/kaggle/api/kaggle_api_extended.py\", line 164, in authenticate\n",
            "    raise IOError('Could not find {}. Make sure it\\'s located in'\n",
            "OSError: Could not find kaggle.json. Make sure it's located in /root/.kaggle. Or use the environment method.\n"
          ]
        }
      ]
    },
    {
      "cell_type": "code",
      "source": [
        "!mkdir -p data\n",
        "!wget -nc https://nyc3.digitaloceanspaces.com/ml-files-distro/v1/investigating-sentiment-analysis/data/training.1600000.processed.noemoticon.csv.zip -P data\n",
        "!unzip -n -d data data/training.1600000.processed.noemoticon.csv.zip"
      ],
      "metadata": {
        "colab": {
          "base_uri": "https://localhost:8080/"
        },
        "id": "LlUNYPGsUjeC",
        "outputId": "2cfaf7d2-4709-4644-94f5-09e79dab3eb8"
      },
      "execution_count": 41,
      "outputs": [
        {
          "output_type": "stream",
          "name": "stdout",
          "text": [
            "File ‘data/training.1600000.processed.noemoticon.csv.zip’ already there; not retrieving.\n",
            "\n",
            "Archive:  data/training.1600000.processed.noemoticon.csv.zip\n"
          ]
        }
      ]
    },
    {
      "cell_type": "code",
      "source": [
        "import pandas as pd\n",
        "\n",
        "df = pd.read_csv(\"data/training.1600000.processed.noemoticon.csv\",\n",
        "                names=['sentiment', 'id', 'date', 'query', 'user', 'text'],\n",
        "                encoding='latin-1')\n",
        "df.head()"
      ],
      "metadata": {
        "colab": {
          "base_uri": "https://localhost:8080/",
          "height": 206
        },
        "id": "2z810TxiWnfe",
        "outputId": "944b1b21-9731-46a4-a5fe-f334bdcce682"
      },
      "execution_count": 42,
      "outputs": [
        {
          "output_type": "execute_result",
          "data": {
            "text/plain": [
              "   sentiment          id                          date     query  \\\n",
              "0          0  1467810369  Mon Apr 06 22:19:45 PDT 2009  NO_QUERY   \n",
              "1          0  1467810672  Mon Apr 06 22:19:49 PDT 2009  NO_QUERY   \n",
              "2          0  1467810917  Mon Apr 06 22:19:53 PDT 2009  NO_QUERY   \n",
              "3          0  1467811184  Mon Apr 06 22:19:57 PDT 2009  NO_QUERY   \n",
              "4          0  1467811193  Mon Apr 06 22:19:57 PDT 2009  NO_QUERY   \n",
              "\n",
              "              user                                               text  \n",
              "0  _TheSpecialOne_  @switchfoot http://twitpic.com/2y1zl - Awww, t...  \n",
              "1    scotthamilton  is upset that he can't update his Facebook by ...  \n",
              "2         mattycus  @Kenichan I dived many times for the ball. Man...  \n",
              "3          ElleCTF    my whole body feels itchy and like its on fire   \n",
              "4           Karoli  @nationwideclass no, it's not behaving at all....  "
            ],
            "text/html": [
              "\n",
              "  <div id=\"df-c12db620-2014-42b2-8261-d512e339c34b\">\n",
              "    <div class=\"colab-df-container\">\n",
              "      <div>\n",
              "<style scoped>\n",
              "    .dataframe tbody tr th:only-of-type {\n",
              "        vertical-align: middle;\n",
              "    }\n",
              "\n",
              "    .dataframe tbody tr th {\n",
              "        vertical-align: top;\n",
              "    }\n",
              "\n",
              "    .dataframe thead th {\n",
              "        text-align: right;\n",
              "    }\n",
              "</style>\n",
              "<table border=\"1\" class=\"dataframe\">\n",
              "  <thead>\n",
              "    <tr style=\"text-align: right;\">\n",
              "      <th></th>\n",
              "      <th>sentiment</th>\n",
              "      <th>id</th>\n",
              "      <th>date</th>\n",
              "      <th>query</th>\n",
              "      <th>user</th>\n",
              "      <th>text</th>\n",
              "    </tr>\n",
              "  </thead>\n",
              "  <tbody>\n",
              "    <tr>\n",
              "      <th>0</th>\n",
              "      <td>0</td>\n",
              "      <td>1467810369</td>\n",
              "      <td>Mon Apr 06 22:19:45 PDT 2009</td>\n",
              "      <td>NO_QUERY</td>\n",
              "      <td>_TheSpecialOne_</td>\n",
              "      <td>@switchfoot http://twitpic.com/2y1zl - Awww, t...</td>\n",
              "    </tr>\n",
              "    <tr>\n",
              "      <th>1</th>\n",
              "      <td>0</td>\n",
              "      <td>1467810672</td>\n",
              "      <td>Mon Apr 06 22:19:49 PDT 2009</td>\n",
              "      <td>NO_QUERY</td>\n",
              "      <td>scotthamilton</td>\n",
              "      <td>is upset that he can't update his Facebook by ...</td>\n",
              "    </tr>\n",
              "    <tr>\n",
              "      <th>2</th>\n",
              "      <td>0</td>\n",
              "      <td>1467810917</td>\n",
              "      <td>Mon Apr 06 22:19:53 PDT 2009</td>\n",
              "      <td>NO_QUERY</td>\n",
              "      <td>mattycus</td>\n",
              "      <td>@Kenichan I dived many times for the ball. Man...</td>\n",
              "    </tr>\n",
              "    <tr>\n",
              "      <th>3</th>\n",
              "      <td>0</td>\n",
              "      <td>1467811184</td>\n",
              "      <td>Mon Apr 06 22:19:57 PDT 2009</td>\n",
              "      <td>NO_QUERY</td>\n",
              "      <td>ElleCTF</td>\n",
              "      <td>my whole body feels itchy and like its on fire</td>\n",
              "    </tr>\n",
              "    <tr>\n",
              "      <th>4</th>\n",
              "      <td>0</td>\n",
              "      <td>1467811193</td>\n",
              "      <td>Mon Apr 06 22:19:57 PDT 2009</td>\n",
              "      <td>NO_QUERY</td>\n",
              "      <td>Karoli</td>\n",
              "      <td>@nationwideclass no, it's not behaving at all....</td>\n",
              "    </tr>\n",
              "  </tbody>\n",
              "</table>\n",
              "</div>\n",
              "      <button class=\"colab-df-convert\" onclick=\"convertToInteractive('df-c12db620-2014-42b2-8261-d512e339c34b')\"\n",
              "              title=\"Convert this dataframe to an interactive table.\"\n",
              "              style=\"display:none;\">\n",
              "        \n",
              "  <svg xmlns=\"http://www.w3.org/2000/svg\" height=\"24px\"viewBox=\"0 0 24 24\"\n",
              "       width=\"24px\">\n",
              "    <path d=\"M0 0h24v24H0V0z\" fill=\"none\"/>\n",
              "    <path d=\"M18.56 5.44l.94 2.06.94-2.06 2.06-.94-2.06-.94-.94-2.06-.94 2.06-2.06.94zm-11 1L8.5 8.5l.94-2.06 2.06-.94-2.06-.94L8.5 2.5l-.94 2.06-2.06.94zm10 10l.94 2.06.94-2.06 2.06-.94-2.06-.94-.94-2.06-.94 2.06-2.06.94z\"/><path d=\"M17.41 7.96l-1.37-1.37c-.4-.4-.92-.59-1.43-.59-.52 0-1.04.2-1.43.59L10.3 9.45l-7.72 7.72c-.78.78-.78 2.05 0 2.83L4 21.41c.39.39.9.59 1.41.59.51 0 1.02-.2 1.41-.59l7.78-7.78 2.81-2.81c.8-.78.8-2.07 0-2.86zM5.41 20L4 18.59l7.72-7.72 1.47 1.35L5.41 20z\"/>\n",
              "  </svg>\n",
              "      </button>\n",
              "      \n",
              "  <style>\n",
              "    .colab-df-container {\n",
              "      display:flex;\n",
              "      flex-wrap:wrap;\n",
              "      gap: 12px;\n",
              "    }\n",
              "\n",
              "    .colab-df-convert {\n",
              "      background-color: #E8F0FE;\n",
              "      border: none;\n",
              "      border-radius: 50%;\n",
              "      cursor: pointer;\n",
              "      display: none;\n",
              "      fill: #1967D2;\n",
              "      height: 32px;\n",
              "      padding: 0 0 0 0;\n",
              "      width: 32px;\n",
              "    }\n",
              "\n",
              "    .colab-df-convert:hover {\n",
              "      background-color: #E2EBFA;\n",
              "      box-shadow: 0px 1px 2px rgba(60, 64, 67, 0.3), 0px 1px 3px 1px rgba(60, 64, 67, 0.15);\n",
              "      fill: #174EA6;\n",
              "    }\n",
              "\n",
              "    [theme=dark] .colab-df-convert {\n",
              "      background-color: #3B4455;\n",
              "      fill: #D2E3FC;\n",
              "    }\n",
              "\n",
              "    [theme=dark] .colab-df-convert:hover {\n",
              "      background-color: #434B5C;\n",
              "      box-shadow: 0px 1px 3px 1px rgba(0, 0, 0, 0.15);\n",
              "      filter: drop-shadow(0px 1px 2px rgba(0, 0, 0, 0.3));\n",
              "      fill: #FFFFFF;\n",
              "    }\n",
              "  </style>\n",
              "\n",
              "      <script>\n",
              "        const buttonEl =\n",
              "          document.querySelector('#df-c12db620-2014-42b2-8261-d512e339c34b button.colab-df-convert');\n",
              "        buttonEl.style.display =\n",
              "          google.colab.kernel.accessAllowed ? 'block' : 'none';\n",
              "\n",
              "        async function convertToInteractive(key) {\n",
              "          const element = document.querySelector('#df-c12db620-2014-42b2-8261-d512e339c34b');\n",
              "          const dataTable =\n",
              "            await google.colab.kernel.invokeFunction('convertToInteractive',\n",
              "                                                     [key], {});\n",
              "          if (!dataTable) return;\n",
              "\n",
              "          const docLinkHtml = 'Like what you see? Visit the ' +\n",
              "            '<a target=\"_blank\" href=https://colab.research.google.com/notebooks/data_table.ipynb>data table notebook</a>'\n",
              "            + ' to learn more about interactive tables.';\n",
              "          element.innerHTML = '';\n",
              "          dataTable['output_type'] = 'display_data';\n",
              "          await google.colab.output.renderOutput(dataTable, element);\n",
              "          const docLink = document.createElement('div');\n",
              "          docLink.innerHTML = docLinkHtml;\n",
              "          element.appendChild(docLink);\n",
              "        }\n",
              "      </script>\n",
              "    </div>\n",
              "  </div>\n",
              "  "
            ]
          },
          "metadata": {},
          "execution_count": 42
        }
      ]
    },
    {
      "cell_type": "code",
      "source": [
        "df[\"sentiment\"] = df[\"sentiment\"].replace(4,1)\n"
      ],
      "metadata": {
        "id": "V22KZyZwW7Kd"
      },
      "execution_count": 43,
      "outputs": []
    },
    {
      "cell_type": "code",
      "source": [
        "# plotting the data using countplot\n",
        "sns.countplot(x=\"sentiment\",data=df)"
      ],
      "metadata": {
        "colab": {
          "base_uri": "https://localhost:8080/",
          "height": 296
        },
        "id": "dyS1H4J9XfrT",
        "outputId": "0bcadc23-383b-4325-9b4b-37cada58ff06"
      },
      "execution_count": 44,
      "outputs": [
        {
          "output_type": "execute_result",
          "data": {
            "text/plain": [
              "<matplotlib.axes._subplots.AxesSubplot at 0x7f257f417850>"
            ]
          },
          "metadata": {},
          "execution_count": 44
        },
        {
          "output_type": "display_data",
          "data": {
            "text/plain": [
              "<Figure size 432x288 with 1 Axes>"
            ],
            "image/png": "[encoded data removed]"
          },
          "metadata": {
            "needs_background": "light"
          }
        }
      ]
    },
    {
      "cell_type": "code",
      "source": [
        "positive_tweets = df[df[\"sentiment\"] == 1][\"text\"].tolist()\n"
      ],
      "metadata": {
        "id": "L1wFKmfxXhlj"
      },
      "execution_count": 45,
      "outputs": []
    },
    {
      "cell_type": "code",
      "source": [
        "# positive_tweets_string = \" \".join(positive_tweets)\n",
        "# positive_tweets_string\n",
        "# plt.figure(figsize=(15,15))\n",
        "# plt.imshow(WordCloud().generate(positive_tweets_string))"
      ],
      "metadata": {
        "id": "gOqe66R3YBQj"
      },
      "execution_count": 46,
      "outputs": []
    },
    {
      "cell_type": "code",
      "source": [
        "# creating the string of negative tweets to analyze the words\n",
        "negative_tweets = df[df['sentiment'] == 0]['text'].tolist()\n",
        "# negative_tweets_string = \" \".join(negative_tweets)"
      ],
      "metadata": {
        "id": "lxtE_FRAYsRp"
      },
      "execution_count": 47,
      "outputs": []
    },
    {
      "cell_type": "code",
      "source": [
        "print(len(positive_tweets), len(negative_tweets))"
      ],
      "metadata": {
        "colab": {
          "base_uri": "https://localhost:8080/"
        },
        "id": "_sbv7b03b0XH",
        "outputId": "24199a5e-d131-447b-9d4b-a01ef1e90d4c"
      },
      "execution_count": 48,
      "outputs": [
        {
          "output_type": "stream",
          "name": "stdout",
          "text": [
            "800000 800000\n"
          ]
        }
      ]
    },
    {
      "cell_type": "code",
      "source": [
        "positive_tweets_some = positive_tweets[:2000]\n",
        "negative_tweets_some = negative_tweets[:2000]"
      ],
      "metadata": {
        "id": "YV5uBMUDduZS"
      },
      "execution_count": 49,
      "outputs": []
    },
    {
      "cell_type": "code",
      "source": [
        "import nltk\n",
        "nltk.download('stopwords')"
      ],
      "metadata": {
        "colab": {
          "base_uri": "https://localhost:8080/"
        },
        "id": "XPDtRd8ogABa",
        "outputId": "700199aa-9cf1-41ea-efd8-8a3566d6069f"
      },
      "execution_count": 50,
      "outputs": [
        {
          "output_type": "stream",
          "name": "stderr",
          "text": [
            "[nltk_data] Downloading package stopwords to /root/nltk_data...\n",
            "[nltk_data]   Package stopwords is already up-to-date!\n"
          ]
        },
        {
          "output_type": "execute_result",
          "data": {
            "text/plain": [
              "True"
            ]
          },
          "metadata": {},
          "execution_count": 50
        }
      ]
    },
    {
      "cell_type": "code",
      "source": [
        "# remove stop words\n",
        "import string\n",
        "from nltk.corpus import stopwords\n",
        "from nltk.stem import PorterStemmer \n",
        "from nltk.tokenize import TweetTokenizer\n",
        "from nltk.stem import WordNetLemmatizer\n",
        "\n",
        "stopwords_english = stopwords.words('english')\n",
        "\n",
        "n_positive_tweets = []\n",
        "\n",
        "# tokenize tweets\n",
        "for tweet_str in positive_tweets_some:\n",
        "\n",
        "  n_tweet_arr = []\n",
        "  tokenizer = TweetTokenizer(preserve_case=False)\n",
        "  tweet_arr = tokenizer.tokenize(tweet_str)\n",
        "  for word in tweet_arr:\n",
        "    if (word not in stopwords_english and word not in string.punctuation): \n",
        "      n_tweet_arr.append(word)\n",
        "\n",
        "  n_positive_tweets.append(n_tweet_arr)\n"
      ],
      "metadata": {
        "id": "u852KncucqsM"
      },
      "execution_count": 51,
      "outputs": []
    },
    {
      "cell_type": "code",
      "source": [
        "# for negative_tweets\n",
        "\n",
        "n_negative_tweets = []\n",
        "\n",
        "\n",
        "count = 0\n",
        "# tokenize tweets\n",
        "for tweet_str in negative_tweets_some:\n",
        "  n_tweet_arr = []\n",
        "  tokenizer = TweetTokenizer(preserve_case=False)\n",
        "  tweet_arr = tokenizer.tokenize(tweet_str)\n",
        "  for word in tweet_arr:\n",
        "    if (word not in stopwords_english and word not in string.punctuation): \n",
        "      n_tweet_arr.append(word)\n",
        "\n",
        "  n_negative_tweets.append(n_tweet_arr)"
      ],
      "metadata": {
        "id": "DkiU9ixJoo8c"
      },
      "execution_count": 52,
      "outputs": []
    },
    {
      "cell_type": "code",
      "source": [
        "import nltk\n",
        "# nltk.download('wordnet')\n",
        "# from nltk.stem import WordNetLemmatizer\n",
        "nltk.download('omw-1.4')"
      ],
      "metadata": {
        "colab": {
          "base_uri": "https://localhost:8080/"
        },
        "id": "iPhVVcyMl-7c",
        "outputId": "00fd4aa6-03b1-4f73-81df-c5f3aa838a50"
      },
      "execution_count": 53,
      "outputs": [
        {
          "output_type": "stream",
          "name": "stderr",
          "text": [
            "[nltk_data] Downloading package omw-1.4 to /root/nltk_data...\n",
            "[nltk_data]   Package omw-1.4 is already up-to-date!\n"
          ]
        },
        {
          "output_type": "execute_result",
          "data": {
            "text/plain": [
              "True"
            ]
          },
          "metadata": {},
          "execution_count": 53
        }
      ]
    },
    {
      "cell_type": "code",
      "source": [
        "# lemmatizing positive_tweets\n",
        "import nltk\n",
        "nltk.download('wordnet')\n",
        "# Instantiate stemming class\n",
        "\n",
        "lem_positive_tweets = []\n",
        "\n",
        "for tweet in n_positive_tweets:\n",
        "  wordnet_lemmatizer = WordNetLemmatizer()\n",
        "  tweet_lem = []\n",
        "\n",
        "  for word in tweet:\n",
        "    lem_words = wordnet_lemmatizer.lemmatize(word,pos =\"v\")\n",
        "    tweet_lem.append(lem_words)\n",
        "\n",
        "  lem_positive_tweets.append(tweet_lem)"
      ],
      "metadata": {
        "colab": {
          "base_uri": "https://localhost:8080/"
        },
        "id": "P-RnI-x2lBuz",
        "outputId": "4091e1d8-e201-4bdd-fd99-938a3aa9e255"
      },
      "execution_count": 54,
      "outputs": [
        {
          "output_type": "stream",
          "name": "stderr",
          "text": [
            "[nltk_data] Downloading package wordnet to /root/nltk_data...\n",
            "[nltk_data]   Package wordnet is already up-to-date!\n"
          ]
        }
      ]
    },
    {
      "cell_type": "code",
      "source": [
        "# lemmatizing negative_tweets\n",
        "import nltk\n",
        "nltk.download('wordnet')\n",
        "# Instantiate stemming class\n",
        "\n",
        "lem_negative_tweets = []\n",
        "\n",
        "for tweet in n_negative_tweets:\n",
        "  wordnet_lemmatizer = WordNetLemmatizer()\n",
        "  tweet_lem = []\n",
        "\n",
        "  for word in tweet:\n",
        "    lem_words = wordnet_lemmatizer.lemmatize(word,pos =\"v\")\n",
        "    tweet_lem.append(lem_words)\n",
        "\n",
        "  lem_negative_tweets.append(tweet_lem)"
      ],
      "metadata": {
        "colab": {
          "base_uri": "https://localhost:8080/"
        },
        "id": "2HuyLfMMpAPm",
        "outputId": "adf2d201-2da7-467f-9c8e-610e134dc0b4"
      },
      "execution_count": 55,
      "outputs": [
        {
          "output_type": "stream",
          "name": "stderr",
          "text": [
            "[nltk_data] Downloading package wordnet to /root/nltk_data...\n",
            "[nltk_data]   Package wordnet is already up-to-date!\n"
          ]
        }
      ]
    },
    {
      "cell_type": "code",
      "source": [
        "n_positive_tweets[90]"
      ],
      "metadata": {
        "colab": {
          "base_uri": "https://localhost:8080/"
        },
        "id": "eC66YmHzguEx",
        "outputId": "6ed9085d-aa7a-46e2-b163-9bc93832ea3a"
      },
      "execution_count": 56,
      "outputs": [
        {
          "output_type": "execute_result",
          "data": {
            "text/plain": [
              "['@marymayblood',\n",
              " 'would',\n",
              " 'love',\n",
              " 'come',\n",
              " 'help',\n",
              " 'unpack',\n",
              " 'let',\n",
              " 'know',\n",
              " 'need',\n",
              " 'sat',\n",
              " 'afternoon']"
            ]
          },
          "metadata": {},
          "execution_count": 56
        }
      ]
    },
    {
      "cell_type": "code",
      "source": [
        "lem_positive_tweets[90]"
      ],
      "metadata": {
        "colab": {
          "base_uri": "https://localhost:8080/"
        },
        "id": "hB1WYvoynD-R",
        "outputId": "0f2537bc-b052-4919-af51-fbfb82c45ddd"
      },
      "execution_count": 57,
      "outputs": [
        {
          "output_type": "execute_result",
          "data": {
            "text/plain": [
              "['@marymayblood',\n",
              " 'would',\n",
              " 'love',\n",
              " 'come',\n",
              " 'help',\n",
              " 'unpack',\n",
              " 'let',\n",
              " 'know',\n",
              " 'need',\n",
              " 'sit',\n",
              " 'afternoon']"
            ]
          },
          "metadata": {},
          "execution_count": 57
        }
      ]
    },
    {
      "cell_type": "code",
      "source": [
        "lem_negative_tweets[90]"
      ],
      "metadata": {
        "colab": {
          "base_uri": "https://localhost:8080/"
        },
        "id": "YAtUzALvqe69",
        "outputId": "e99b5997-f4ab-4878-9739-f6f94880a0f0"
      },
      "execution_count": 58,
      "outputs": [
        {
          "output_type": "execute_result",
          "data": {
            "text/plain": [
              "['@hollywoodheat',\n",
              " 'pay',\n",
              " 'attention',\n",
              " 'cover',\n",
              " 'photoshop',\n",
              " 'webpage',\n",
              " 'design',\n",
              " 'class',\n",
              " 'undergrad']"
            ]
          },
          "metadata": {},
          "execution_count": 58
        }
      ]
    },
    {
      "cell_type": "code",
      "source": [
        "# converting [[''], [], [], ...] to ['', '', ...] for positive_tweets\n",
        "\n",
        "lem_positive_tweets_string = []\n",
        "\n",
        "for lem_tweet in lem_positive_tweets:\n",
        "  lem_tweet_string = ' '.join([str(elem) for elem in lem_tweet])\n",
        "  lem_positive_tweets_string.append(lem_tweet_string)\n",
        "\n",
        "print(lem_positive_tweets_string[90])\n",
        "\n"
      ],
      "metadata": {
        "id": "4WHL8K2YnOex",
        "colab": {
          "base_uri": "https://localhost:8080/"
        },
        "outputId": "7f8015de-9ada-4693-d75d-38f41e3f7322"
      },
      "execution_count": 59,
      "outputs": [
        {
          "output_type": "stream",
          "name": "stdout",
          "text": [
            "@marymayblood would love come help unpack let know need sit afternoon\n"
          ]
        }
      ]
    },
    {
      "cell_type": "code",
      "source": [
        "# converting [[''], [], [], ...] to ['', '', ...] for negative_tweets\n",
        "\n",
        "lem_negative_tweets_string = []\n",
        "\n",
        "for lem_tweet in lem_negative_tweets:\n",
        "  lem_tweet_string = ' '.join([str(elem) for elem in lem_tweet])\n",
        "  lem_negative_tweets_string.append(lem_tweet_string)\n",
        "\n",
        "print(lem_negative_tweets_string[90])\n"
      ],
      "metadata": {
        "colab": {
          "base_uri": "https://localhost:8080/"
        },
        "id": "u4_mNrzqoTcp",
        "outputId": "04416daa-39d0-43a2-b36b-d4482bceea43"
      },
      "execution_count": 60,
      "outputs": [
        {
          "output_type": "stream",
          "name": "stdout",
          "text": [
            "@hollywoodheat pay attention cover photoshop webpage design class undergrad\n"
          ]
        }
      ]
    },
    {
      "cell_type": "code",
      "source": [
        "print(lem_positive_tweets_string[89])"
      ],
      "metadata": {
        "colab": {
          "base_uri": "https://localhost:8080/"
        },
        "id": "XzXmS4Ggssc_",
        "outputId": "d5f796f8-bdf7-44ba-c170-388eac260959"
      },
      "execution_count": 61,
      "outputs": [
        {
          "output_type": "stream",
          "name": "stdout",
          "text": [
            "nikki work ass bike try recover knee injury good\n"
          ]
        }
      ]
    },
    {
      "cell_type": "code",
      "source": [
        "print(len(lem_positive_tweets_string), len(lem_negative_tweets_string), type(lem_positive_tweets_string[0]))"
      ],
      "metadata": {
        "colab": {
          "base_uri": "https://localhost:8080/"
        },
        "id": "Pv84vabqvHg_",
        "outputId": "7ec17811-32ac-4ff2-ecaf-4455e9d24075"
      },
      "execution_count": 62,
      "outputs": [
        {
          "output_type": "stream",
          "name": "stdout",
          "text": [
            "2000 2000 <class 'str'>\n"
          ]
        }
      ]
    },
    {
      "cell_type": "code",
      "source": [
        "data = []\n",
        "data_labels = []\n",
        "\n",
        "for word in lem_positive_tweets_string:\n",
        "  data.append(word)\n",
        "  data_labels.append(1)\n",
        "\n",
        "for word in lem_negative_tweets_string:\n",
        "  data.append(word)\n",
        "  data_labels.append(0)"
      ],
      "metadata": {
        "id": "gTlOg_PCZMZb"
      },
      "execution_count": 74,
      "outputs": []
    },
    {
      "cell_type": "code",
      "source": [
        "# count vectorizer\n",
        "from sklearn.feature_extraction.text import CountVectorizer\n",
        "\n",
        "# Create a Vectorizer Object\n",
        "vectorizer = CountVectorizer()\n",
        "vectorizer.fit(data)\n",
        "# Printing the identified Unique words along with their indices\n",
        "print(\"Vocabulary: \", vectorizer.vocabulary_)\n",
        "# Encode the Document\n",
        "vector = vectorizer.transform(data).toarray()\n",
        "# Summarizing the Encoded Texts\n",
        "print(\"Encoded Document is:\")\n",
        "print(vector)"
      ],
      "metadata": {
        "colab": {
          "base_uri": "https://localhost:8080/"
        },
        "id": "s_OICLLealsR",
        "outputId": "d033b50c-2ef2-46d3-cda4-97d799225018"
      },
      "execution_count": 75,
      "outputs": [
        {
          "output_type": "stream",
          "name": "stdout",
          "text": [
            "Vocabulary:  {'love': 4536, 'health4uandpets': 3370, 'guy': 3260, 'best': 931, 'im': 3696, 'meet': 4820, 'one': 5487, 'besties': 936, 'tonight': 7525, 'cant': 1337, 'wait': 7989, 'girl': 3081, 'talk': 7273, 'darealsunisakim': 1972, 'thank': 7358, 'twitter': 7710, 'add': 329, 'sunisa': 7170, 'get': 3054, 'hin': 3466, 'show': 6686, 'dc': 2015, 'area': 622, 'sweetheart': 7221, 'sick': 6698, 'really': 6137, 'cheap': 1464, 'hurt': 3627, 'much': 5111, 'eat': 2405, 'real': 6131, 'food': 2857, 'plus': 5831, 'friends': 2943, 'make': 4654, 'soup': 6918, 'lovesbrooklyn2': 4543, 'effect': 2430, 'everyone': 2592, 'productoffear': 5971, 'tell': 7324, 'burst': 1251, 'laugh': 4314, 'loud': 4528, 'come': 1664, 'sulk': 7160, 'r_keith_hill': 6070, 'thans': 7363, 'response': 6241, 'ihad': 3674, 'already': 467, 'find': 2775, 'answer': 563, 'keepinupwkris': 4135, 'jealous': 3928, 'hope': 3537, 'great': 3204, 'time': 7463, 'vegas': 7895, 'like': 4416, 'acm': 310, 'tommcfly': 7512, 'ah': 381, 'congrats': 1716, 'mr': 5077, 'fletcher': 2812, 'finally': 2772, 'join': 4015, 'e4voip': 2389, 'respond': 6240, 'stupid': 7119, 'cat': 1384, 'help': 3411, 'type': 7740, 'forgive': 2872, 'errors': 2557, 'crazy': 1832, 'day': 2003, 'school': 6514, '10': 11, 'hours': 3567, 'straiiight': 7081, 'watch': 8024, 'hill': 3462, 'spencerpratt': 6952, 'ha': 3268, 'happy': 3322, 'birthday': 979, 'jb': 3919, 'naughtyhaughty': 5215, 'forget': 2871, 'two': 7730, 'half': 3287, 'men': 4841, 'nileyjileyluver': 5327, 'haha': 3274, 'worry': 8211, 'hang': 3306, 'soundwav2010': 6917, 'least': 4350, 'feel': 2739, 'lose': 4518, 'may': 4791, 'cause': 1393, 'many': 4690, 'later': 4310, 'usual': 7864, 'nights': 5313, 'addict': 330, 'lutheranlucciol': 4581, 'sure': 7190, 'dm': 2229, 'post': 5888, 'link': 4434, 'video': 7931, 'lol': 4487, 'miss': 4943, 'better': 940, 'permission': 5708, 'bless': 1021, 'first': 2789, 'tweetie': 7685, 'new': 5275, 'iphone': 3820, 'michellardi': 4881, 'know': 4220, 'think': 7412, 'globe': 3101, 'yeah': 8290, 'sana': 6450, 'gumaling': 3247, 'na': 5181, 'ko': 4222, 'para': 5619, 'alam': 422, 'din': 2162, 'kung': 4247, 'makakasama': 4653, 'ako': 420, 'nicolerichie': 5305, 'picture': 5759, 'sweet': 7220, 'catch': 1387, 'email': 2475, 'rss': 6376, 'random': 6099, 'bacn': 787, 'cut': 1900, 'early': 2395, '11': 20, '30': 149, 'pm': 5833, 'dinner': 2163, 'lauraw': 4322, 'dance': 1945, 'around': 641, 'room': 6344, 'pjs': 5800, 'jam': 3891, 'ipod': 3823, 'dizzy': 2212, 'well': 8065, 'ask': 670, 'place': 5803, 'peep': 5685, 'contest': 1743, 'vote': 7976, 'anyways': 580, 'go': 3112, 'bed': 890, 'goodnight': 3144, 'dream': 2317, 'http': 3589, 'twitpic': 7706, 'com': 1659, '2y2e0': 116, 'littlelumen': 4455, 'walk': 7996, 'put': 6028, 'deposit': 2083, 'tomorrow': 7520, 'followinq': 2851, 'dachesterfrench': 1924, 'shud': 6691, 'tha': 7355, 'lordpov': 4514, 'mean': 4806, 'back': 782, 'toilet': 7506, 'cubicle': 1878, 'somewhere': 6883, 'aw': 740, 'hold': 3492, 'puppy': 6019, 'he': 3359, 'mine': 4924, 'cutie': 1905, 'ijohn': 3682, 'kitteh': 4198, 'sleepin': 6783, 'crotch': 1861, 'prove': 5992, 'dramabeats': 2311, 'agree': 378, 'reach': 6126, 'amritsar': 503, 'hour': 3565, 'bus': 1252, 'wagah': 7983, 'border': 1091, '2pm': 106, 'bkite': 1001, '06fuj': 6, 'albinla': 426, 'let': 4385, 'interview': 3809, 'famous': 2695, 'super': 7177, 'star': 7009, 'spend': 6953, 'family': 2694, 'tire': 7476, 'gonna': 3134, 'didnt': 2142, 'eff': 2429, 'throat': 7432, 'ooooohh': 5505, 'crave': 1830, 'pina': 5773, 'colada': 1640, 'banana': 817, 'slushie': 6808, 'deon': 2079, 'upload': 7839, 'di': 2130, 'indowebster': 3749, 'dong': 2264, 'banggggg': 822, 'wisdomous': 8151, 'welcome': 8064, 'glad': 3092, 'enjoy': 2518, 'hawaii808shellz': 3349, 'hahaha': 3277, 'omg': 5483, 'wer': 8070, 'laughin': 4315, 'hook': 3532, 'cuz': 1909, 'das': 1984, 'rolll': 6340, 'ryt': 6418, 'sheldawg': 6640, 'sickwiththepen': 6701, 'awww': 757, 'pookie': 5865, 'll': 4468, 'pray': 5912, 'bag': 795, 'nurse': 5409, 'yay': 8282, 'cuddle': 1880, 'buddy': 1219, 'snob': 6838, 'bad': 789, 'life': 4404, 'across': 313, 'universe': 7819, 'sleep': 6781, 'rehearsal': 6192, 'annabellee': 548, 'dry': 2339, 'potato': 5891, 'huh': 3602, 'jonathanrknight': 4027, 'hi': 3445, 'jon': 4020, 'hear': 3374, 'see': 6560, 'cruise': 1864, 'cannot': 1336, 'knight': 4210, 'long': 4498, 'conversation': 1753, 'mom': 5001, 'phone': 5740, 'suitelifeofkell': 7157, 'yayyy': 8284, 'request': 6227, 'herrr': 3429, 'say': 6487, 'practice': 5908, 'line': 4433, 'mannerisms': 4681, 'voice': 7965, 'upcoming': 7835, 'feature': 2732, 'shoot': 6675, 'probably': 5958, 'drive': 2325, 'brock': 1193, 'read': 6128, 'moon': 5030, '3rd': 175, 'enough': 2521, 'twilight': 7697, 'series': 6584, 'today': 7499, 'month': 5025, 'anniversary': 552, 'sooooooo': 6898, 'diana': 2133, 'dont': 2269, 'even': 2583, 'tar': 7284, 'heel': 3392, 'ncaa': 5228, 'woot': 8192, 'bore': 1092, 'stevecla': 7045, 'wallpaper': 7998, 'red': 6164, 'square': 6982, 'pope_mello': 5872, 'notice': 5392, 'bb': 856, 'tryna': 7636, 'inspire': 3784, 'thats': 7367, 'kourtneykardash': 4235, 'can': 1325, 'night': 5307, 'workouts': 8204, 'ladygaga': 4273, 'ur': 7847, 'hot': 3558, 'ass': 674, 'austin': 724, 'annnd': 553, 'bob': 1056, 'purple': 6022, 'royal': 6372, 'color': 1653, 'way': 8032, 'quotablebuffy': 6059, 'bunch': 1238, 'buffy': 1223, 'songs': 6886, 'faves': 2721, 'vivian': 7955, 'nerf': 5255, 'herder': 3421, 'faith': 2680, 'spike': 6956, 'body': 1061, 'devunity': 2120, 'check': 1470, '2y2e2': 117, 'morning': 5041, 'tweetland': 7688, 'ahead': 386, 'friendster': 2944, 'ash_ct': 660, 'days': 2008, 'pic': 5755, 'noodlebox': 5368, 'amanda': 479, 'una_avion2010': 7775, 'sorrry': 6909, '2982378': 96, 'different': 2151, 'things': 7410, 'kevin': 4152, 'jonas': 4024, 'girlfriend': 3082, 'fuzeb': 2981, 'serious': 6585, 'sing': 6732, 'whoa': 8109, 'hehe': 3394, 'lsd': 4554, 'maybe': 4792, 'lolol': 4491, 'apothecaryjeri': 592, 'sicilians': 6697, 'damn': 1937, 'pizza': 5797, 'planet': 5810, 'chocolate': 1521, 'milk': 4916, 'gf': 3059, 'sutter': 7208, 'creek': 1842, 'tour': 7553, 'old': 5479, 'bodycoach': 1062, 'look': 4501, 'cho': 1516, 'personally': 5712, 'strawberry': 7088, 'become': 886, 'coach': 1620, 'soon': 6892, 'little__fish': 4454, 'guess': 3239, 'live': 4459, 'side': 6703, 'earth': 2397, 'east': 2401, 'mesa': 4855, 'losiento': 4520, 'paula_paige3489': 5659, 'apart': 586, 'sore': 6907, 'tryouts': 7637, 'fail': 2672, 'physics': 5753, 'test': 7345, 'homo': 3519, 'keeen': 4131, 'holiday': 3495, 'observe': 5434, 'update': 7836, 'alexa': 434, 'website': 8046, 'tinyurl': 7472, 'c48gzf': 1279, 'seem': 6563, 'improve': 3719, 'leiabox': 4369, 'us': 7856, 'totally': 7548, 'geeking': 3029, 'right': 6286, 'theragingocean': 7394, 'bonjour': 1074, 'spacecowboy': 6925, 'wish': 8153, 'either': 2446, 'work': 8196, 'kid': 4168, 'whenever': 8093, 'want': 8006, 'wherever': 8097, 'rebecca1158': 6145, 'brother': 1201, 'quite': 6057, 'weird': 8061, 'drdrew': 2315, 'give': 3091, 'hug': 3596, 'cookie': 1762, 'hey': 3437, 'take': 7267, 'care': 1353, 'rundown': 6396, 'write': 8229, 'wall': 7997, 'correct': 1789, 'poor': 5868, 'spell': 6949, 'highlighter': 3453, 'wash': 8018, 'hardcore': 3325, 'good': 3136, 'tech': 7307, 'clubzone': 1612, 'sushi': 7203, 'mattgalloway': 4774, 'carlyrush': 1358, 'suggest': 7151, 'bro': 1187, 'rock': 6324, 'jeffswarens': 3940, 'depend': 2082, 'version': 7914, 'speak2ashley': 6939, 'hand': 3301, 'still': 7055, 'pretty': 5939, 'weak': 8037, 'punch': 6014, 'anyone': 573, 'yet': 8306, 'turn': 7666, 'knobs': 4217, 'doesnt': 2246, 'honey3223': 3523, 'lurkers': 4578, 'interest': 3799, 'saravananp': 6469, 'north': 5381, 'need': 5242, 'decide': 2039, 'aaru': 276, 'hithavaru': 3476, 'ninage': 5330, 'ee': 2427, 'moovarolage': 5035, 'trstfndbby': 7621, 'um': 7766, 'buy': 1269, 'shit': 6663, 'koreans': 4230, 'oach': 5420, 'highest': 3452, 'quality': 6040, 'baby': 776, 'pay': 5669, 'extra': 2646, '50': 199, 'tag': 7262, 'sew': 6599, 'ice': 3650, 'cream': 1834, 'top': 7538, 'iamdiddy': 3642, 'finish': 2778, '200': 67, 'crunch': 1867, 'step': 7038, 'diddy': 2139, 'its_yvonne': 3859, 'daaang': 1923, 'possible': 5886, 'what': 8084, 'lauruy': 4327, 'west': 8072, 'mostly': 5049, 'san': 6449, 'jose': 4034, 'francisco': 2898, 'nikki': 5321, 'bike': 961, 'try': 7635, 'recover': 6162, 'knee': 4209, 'injury': 3768, 'marymayblood': 4748, 'would': 8219, 'unpack': 7826, 'sit': 6747, 'afternoon': 368, 'shenagians': 6645, 'team': 7302, 'awesome': 747, 'listen': 4450, 'music': 5135, 'chill': 1504, 'regret': 6187, 'do': 2237, 'till': 7460, 'kick': 4167, 'study': 7113, 'grow': 3228, 'rich': 6275, 'wow': 8220, 'amaze': 485, 'timeless': 7464, 'law': 4331, 'attraction': 705, 'we': 8036, 're': 6123, 'program': 5978, 'bittenbybooks': 989, 'oh': 5465, 've': 7892, 'it': 3845, 'week': 8056, 'though': 7424, '21': 73, 'chris': 1532, 'home': 3509, '67': 223, 'summer': 7164, 'davidgideon': 2000, '47': 187, 'ish': 3835, 'therealjspace': 7398, 'tweet': 7676, 'drink': 2324, 'its_anne': 3857, 'kay': 4122, 'determine': 2108, 'baseball': 832, 'years': 8293, 'since': 6731, 'sport': 6973, 'game': 3002, 'beycah': 945, 'becca': 881, 'missnappyboy': 4951, 'ohhh': 5467, 'nkow': 5342, 'lexington': 4395, 'ky': 4254, 'rite': 6299, 'next': 5285, 'preview': 5941, 'movie': 5065, 'obsess': 5435, 'beyonce': 946, 'broad': 1188, 'nut': 5410, 'easy': 2404, 'rider': 6281, 'fall': 2687, 'asleep': 671, 'miketomalaris': 4906, 'excite': 2623, 'broadcast': 1191, 'paris': 5627, 'roubaix': 6361, 'moment': 5002, 'belliestobabies': 909, 'people': 5694, 'survive': 7201, 'winter': 8148, 'without': 8161, 'jungle': 4075, 'gyms': 3264, 'jaredleto': 3906, 'start': 7018, 'last': 4306, 'holidayholiday': 3496, 'watchin': 8025, 'greek': 3209, 'knighty': 4213, 'media': 4813, 'design': 2100, 'client': 1597, 'profile': 5977, 'greeks05': 3210, 'lame': 4285, 'stalk': 7003, 'sexy': 6605, 'lou911': 4526, 'aww': 755, 'another': 561, 'nitey': 5339, 'nite': 5337, 'ahh': 388, 'kinda': 4181, 'nervous': 5257, 'til': 7459, 'plan': 5808, 'whatever': 8086, 'happier': 3318, 'here': 3422, 'hopin': 3540, 'fb': 2727, 'store': 7074, 'missvic': 4956, 'jimmyeatworld': 3983, 'www': 8244, 'deezer': 2048, 'track': 7565, '885843': 244, 'urbanthai': 7849, 'pamfr': 5606, 'pam': 5605, 'yes': 8300, 'short': 6679, 'struggle': 7107, 'choices': 1524, 'every': 2589, 'hmm': 3485, 'lot': 4522, 'that': 7366, 'course': 1809, 'late': 4308, 'guykawasaki': 3261, '100': 12, '000': 1, 'followers': 2849, 'almost': 458, 'larrycarroll': 4303, 'nm': 5345, 'scream': 6523, 'wonder': 8177, 'freakin': 2911, 'cooool': 1771, 'i3renda': 3640, 'there': 7397, 'nothing': 5391, 'wrong': 8232, 'brissa': 1182, 'lauren': 4324, 'jbrotherlove': 3921, 'story': 7076, 'enbaldarlingg': 2503, 'mirror': 4939, 'amandahesser': 482, 'neat': 5235, 'god': 3116, 'overitnow': 5566, 'apologize': 590, 'share': 6627, 'spiritual': 6962, 'general': 3035, 'public': 6002, '31': 154, 'leave': 4352, 'ontario': 5496, 'speak': 6938, 'fam': 2692, 'japan': 3902, 'via': 7920, 'skype': 6770, 'little': 4453, '16': 44, 'mo': 4983, 'nephew': 5252, 'lissym': 4448, 'saw': 6485, 'someones': 6877, 'suck': 7142, 'mcfly': 4802, 'loser': 4519, 'kacimaureen': 4086, 'holy': 3506, 'laundry': 4318, 'woman': 8174, 'hate': 3341, 'trainer': 7575, 'markhoppus': 4720, 'youï': 8331, 'fuck': 2961, 'funny': 2974, 'set': 6592, 'touch': 7551, 'officially': 5459, 'nikhilnarayanan': 5319, 'tvc': 7671, 'yesterday': 8305, 'could': 1800, 'mannies': 4682, 'peddies': 5682, 'shut': 6693, 'fat': 2712, 'face': 2662, 'magopus': 4639, 'ever': 2586, 'run': 6394, 'ideas': 3660, 'nominate': 5360, 'ones': 5490, 'friend': 2939, 'beer': 894, 'monday': 5013, 'never': 5270, 'always': 474, 'hopeinhell': 3539, 'usually': 7865, 'follow': 2847, 'special72': 6942, 'special': 6941, '72': 229, 'luck': 4559, 'rest': 6243, 'cast': 1381, 'tbs': 7298, 'something': 6879, 'leak': 4347, 'land': 4289, 'among': 498, 'johnhays': 4009, 'entirely': 2527, 'creative': 1836, 'vibrant': 7923, 'reason': 6141, 'izzakizza': 3872, 'nada': 5185, 'holla': 3498, 'hows': 3577, 'mixtape': 4968, 'aussie_ali': 721, 'yep': 8298, 'easier': 2399, 'point': 5841, '140': 40, 'snarkattack': 6828, 'freezer': 2923, 'worthy': 8218, 'amoir': 497, 'scholarly': 6513, 'attention': 702, 'suppose': 7186, 'eye': 2652, '2y2jf': 119, 'cupcakes': 1887, 'purrplexa': 6023, 'wonderful': 8178, 'thing': 7409, 'favor': 2722, 'use': 7859, 'entire': 2526, 'english': 2516, 'language': 4293, 'expletives': 2642, 'mynameisgerard': 5158, 'flippin': 2821, 'cold': 1641, 'outside': 5558, 'ago': 377, 'sunny': 7172, 'rain': 6090, 'snow': 6841, 'sisterpatterson': 6745, 'raw': 6116, 'dough': 2290, 'tub': 7644, 'must': 5143, 'kindred': 4182, 'spirit': 6961, 'internet': 3803, 'dirty': 2169, 'song': 6885, 'nighty': 5317, 'blooms5887': 1039, 'tweetdeck': 7678, 'facebook': 2663, 'firestoned': 2787, 'dude': 2357, 'surprise': 7199, 'nsastrasasmita': 5403, 'figure': 2761, 'llama': 4469, 'malcolm': 4662, 'megan': 4822, 'theatre': 7373, 'kayotae': 4125, 'martini': 4740, 'city': 1570, 'soo': 6891, 'spring': 6978, 'break': 1144, 'moviess': 5067, 'everyday': 2591, 'pushplaynick': 6027, 'grandpa': 3192, 'chest': 1489, 'beef': 893, 'george': 3045, 'lopez': 4512, 'rule': 6388, 'katieporrello': 4118, 'katie': 4116, 'head': 3360, 'club': 1610, 'stellar': 7037, 'homey': 3516, 'youtube': 8330, 'cle9pjsras0': 1586, 'flower': 2828, 'peter': 5718, 'paul': 5656, 'mary': 4745, 'fav': 2718, 'def': 2049, 'shhhhhhhhhh': 6649, 'photos': 5746, 'hit': 3475, 'count': 1803, 'china': 1509, 'view': 7938, 'alone': 461, 'appreciate': 609, 'lonelybob': 4496, 'everywhere': 2599, 'provide': 5993, 'broadband': 1189, 'kiddin': 4170, 'callin': 1306, 'workout': 8203, 'infinitarchitek': 3757, 'stee322': 7035, 'hash': 3335, 'bash': 834, 'anyway': 579, 'loltothepower': 4492, 'correction': 1790, 'badass': 790, 'fringe': 2946, 'procoder': 5963, 'hmmm': 3486, 'upto': 7846, 'ninasplayground': 5331, 'christmas': 1543, 'bn': 1052, 'fun': 2969, 'yrold': 8335, 'cheat': 1469, 'reflection': 6178, 'tv': 7670, 'hair': 3284, 'blue': 1042, 'wendy_bowser': 8069, 'kind': 4180, 'word': 8193, 'stress': 7095, 'math': 4762, 'uhhh': 7758, 'mintcool': 4934, 'uh': 7756, 'designate': 2101, 'driver': 2326, 'pch': 5673, 'empressyen': 2497, 'whatcha': 8085, 'chucklin': 1550, 'bout': 1112, 'ms': 5091, 'yen': 8297, 'ijustine': 3683, 'gym': 3263, 'augustography': 717, 'climb': 1600, 'sin': 6730, '20': 66, 'unc': 7781, 'prepare': 5931, 'keyannaaa': 4157, 'include': 3730, 'magic': 4636, 'fountain': 2882, 'trip': 7607, 'trusty': 7633, 'book': 1081, 'anastasia': 514, 'laptop': 4299, '1ff65': 57, 'buzz': 1271, 'sietar': 6705, 'pattidigh': 5655, 'push': 6025, 'boundaries': 1110, 'boy': 1118, 'someone': 6876, 'money': 5015, 'manual': 4687, 'yoshigi': 8322, 'terrible': 7336, 'neck': 5237, 'ache': 306, 'chair': 1428, 'swopper': 7235, 'arrive': 643, 'juneaurock': 4073, 'hellz': 3409, 'definitely': 2055, 'download': 2295, '2y2jz': 120, 'stinkin': 7060, 'cute': 1901, 'lyndeeezy': 4596, 'hahah': 3276, 'blog': 1028, 'nice': 5293, 'recent': 6151, 'popular': 5874, 'list': 4449, 'together': 7505, 'michaelgrainger': 4878, 'common': 1679, 'ben_mayer': 916, 'wanna': 8005, 'save': 6483, 'dog': 2248, 'animals': 541, 'call': 1305, 'twit': 7704, 'police': 5852, 'klaris': 4204, 'nilagyan': 5323, 'ng': 5287, 'knorr': 4218, 'season': 6548, 'mix': 4967, 'ulit': 7764, 'ung': 7808, 'pancakes': 5609, 'hehehe': 3395, 'teka': 7321, 'heaven': 3383, 'egg': 2436, 'ba': 769, 'westneyrhindxx': 8074, 'hello': 3404, 'westney': 8073, 'whereiskevinn': 8096, 'comparison': 1686, 'stroke': 7103, 'experience': 2636, 'jephjacques': 3957, 'draw': 2313, 'giraffe': 3080, 'eyelashes': 2655, 'switchitnow': 7234, 'ahhh': 389, 'shiner': 6657, 'bock': 1060, 'reply': 6223, 'relive': 6205, 'holytshirt': 3508, 'beautiful': 878, 'warm': 8012, 'weather': 8040, 'pullin': 6011, 'nighter': 5309, 'wit': 8155, 'bffl': 949, 'madison': 4629, 'attractmode': 706, 'event': 2584, 'inevitable': 3753, 'sequels': 6581, 'hilarious': 3461, 'row': 6367, 'doooo': 2276, 'blip': 1025, 'fm': 2834, '3x8ok': 176, 'thenub': 7390, 'jimmycarr': 3982, 'big': 958, 'oaf': 5421, 'play': 5815, 'piano': 5754, 'bryon': 1210, 'tea': 7299, 'bitch': 984, 'mattbraga': 4772, 'stay': 7030, 'lavsmohan': 4330, 'yup': 8344, 'match': 4755, 'office': 5455, 'harder': 3326, 'peace': 5675, 'prayers': 5914, 'deejay_boogie': 2045, 'ya': 8267, 'beat': 874, 'traffic': 7569, 'india': 3739, 'win': 8137, 'zealand': 8354, '41': 182, 'wasnt': 8021, 'final': 2769, 'third': 7414, 'ashvala': 668, 'madras': 4631, 'road': 6309, 'concept': 1700, 'park': 5629, 'upstatement': 7845, 'apply': 605, 'class': 1581, 'manga': 4677, 'plurk': 5830, 'mzp1e': 5166, 'bradmantv': 1124, 'bring': 1179, 'joy': 4045, 'adri_mane': 342, 'roflmao': 6334, 'niqqa': 5335, 'please': 5822, 'ackin': 308, 'fool': 2859, 'comeagainjen': 1665, '2y2lx': 121, 'zogfqvh2me8': 8366, 'vjl': 7958, 'also': 469, 'fyi': 2984, 'pity': 5790, 'lindznicole': 4432, 'lexi_83': 4394, 'professional': 5973, 'october': 5442, '2008': 68, 'websites': 8047, 'anything': 576, 'rhonda_brown': 6268, 'tip': 7473, 'sam': 6441, 'mornings': 5042, 'nighttime': 5315, 'pocketfulofme': 5838, 'twin': 7699, 'jolilore': 4018, 'ember': 2480, 'possibly': 5887, 'xd': 8252, 'die': 2143, 'actually': 321, 'keep': 4133, 'rive': 6300, 'trugiaz': 7628, 'mate': 4756, 'darn': 1980, 'neil': 5250, 'nick': 5298, 'nora': 5376, 'playlist': 5818, 'theexclamation': 7383, 'perfect': 5700, 'venue': 7905, 'whine': 8101, 'waste': 8022, 'idea': 3659, 'donniewahlberg': 2268, 'hell': 3400, 'effin': 2432, 'man': 4669, 'roshnimo': 6355, 'lazy': 4339, 'tool': 7531, 'aiduong': 397, 'goodness': 3143, 'message': 4858, 'ai': 394, 'tina': 7470, 'parol': 5632, 'who': 8108, 'itunes': 3863, 'thedebbyryan': 7381, 'debby': 2036, 'sixty': 6752, 'six': 6751, 'bowl': 1115, 'dear': 2029, 'dbq': 2011, 'pain': 5597, 'asssss': 681, 'chat': 1459, 'lhawthorn': 4397, 'coincidence': 1637, 'fee': 2737, 'gsoc': 3236, 'news': 5280, 'discover': 2184, 'easter': 2402, 'craft': 1822, 'cross': 1860, 'buns': 1242, 'prince': 5946, 'egypt': 2437, 'aid': 395, 'meditations': 4817, 'nap': 5198, 'twitterpeeps': 7720, 'forward': 2879, 'dvd': 2375, 'extend': 2643, 'overdraft': 5564, '2nd': 104, 'weeks': 8058, 'aswell': 687, 'simonbotes': 6722, 'lightblue_82': 4410, 'woo': 8182, 'theaptour': 7371, 'eluts': 2472, 'frontstore': 2951, 'item': 3850, 'item_zoom': 3852, 'asp': 673, 'item_num': 3851, '3418': 161, 'catalog_num': 1385, 'mart_id': 4737, 'lutsdoll': 4582, 'level': 4389, 'mother_catalog_num': 5053, '554': 205, 'sjs86': 6754, 'sad': 6426, 'site': 6748, 'endless': 2508, 'lolly2420': 4489, 'heah': 3367, 'mark': 4716, 'blink': 1024, '182': 49, 'doubt': 2286, 'kelly_n_va': 4140, 'jordan': 4031, 'london': 4494, 'sun': 7167, 'girls': 3086, 'eyyy': 2658, 'tooo': 7533, 'hahaa': 3275, 'ace': 305, 'darl': 1978, 'xxxx': 8266, 'cbf': 1396, 'sleeeeeeeeeep': 6776, 'awwh': 756, 'babs': 775, 'underneith': 7793, 'shop': 6677, 'entrance': 2529, 'musik': 5141, 'transformer': 7578, 'lauredhel': 4323, 'friended': 2940, 'lj': 4467, 'reduce': 6166, 'heat': 3379, 'diego': 2144, 'whats': 8087, 'fight': 2759, 'epistemographer': 2539, 'digitalhumanist': 2158, 'disciplinary': 2180, 'phd': 5727, 'support': 7184, 'structure': 7106, 'sound': 6915, 'heavenly': 3384, 'registration': 6185, 'sem': 6570, 'twitterers': 7714, 'claire_brewer': 1573, 'aisles': 413, 'oxford': 5579, 'they': 7408, 'tragic': 7571, 'thornbek': 7422, 'erin': 2549, 'esurance': 2573, 'carry': 1368, 'boobookittifukk': 1078, 'beleive': 903, 'carpet': 1365, 'sight': 6709, 'cars': 1369, 'fast': 2710, 'furious': 2975, 'jennifer': 3947, 'betzitall': 943, 'battle': 847, 'homework': 3514, 'cosby': 1796, 'grrrrr': 3233, 'landrew': 4290, 'incendiary': 3728, 'headline': 3363, 'honeytech': 3527, 'sashakane': 6475, '5am': 209, 'breakfast': 1146, 'cook': 1760, 'ready': 6130, 'saad_83': 6424, 'myk14': 5153, 'high': 3451, 'fives': 2797, 'sytycda': 7248, 'unison': 7815, 'committment': 1678, 'incredible': 3736, 'considering': 1732, 'pressure': 5937, 'cityrat59': 1571, '15': 42, 'drag': 2306, 'behave': 899, 'cooler': 1767, 'babiiesss': 774, 'o_o': 5419, 'hahahaha': 3278, 'reesh': 6171, 'heyyyyyy': 3441, 'saddle': 6429, 'ranch': 6098, 'comedy': 1667, 'house': 3568, 'perform': 5703, 'grebel': 3207, 'talent': 7269, 'exams': 2616, 'undergrad': 7789, 'xshorty4lifex': 8259, 'white': 8104, 'thesouthernstar': 7406, 'sarapan': 6467, 'aja': 415, 'belum': 914, 'kok': 4225, 'udah': 7747, 'disamperin': 2173, 'sama': 6442, 'rumah': 6390, 'embrace': 2481, 'simple': 6724, 'reunion': 6256, 'extremely': 2651, 'lapcat': 4296, 'send': 6572, 'em': 2474, 'accountant': 302, 'oddly': 5449, 'refer': 6175, 'tax': 7294, 'evidence': 2602, 'mmcallen': 4976, 'sigh': 6707, 'gmic': 3108, 'johanna': 4004, 'portland': 5879, 'carrie': 1367, '37': 167, 'wal': 7993, 'mart': 4736, 'box': 1116, 'uber': 7745, 'axisportals': 761, 'scowl': 6520, 'temporary': 7327, 'adulthood': 345, 'melt': 4836, 'serendipity': 6582, 'wake': 7991, 'thx': 7444, 'inspiration': 3782, 'dye': 2382, 'create': 1835, 'account': 301, 'amyg0716': 508, 'gunnna': 3252, '2y2tq': 122, 'far': 2705, 'nearly': 5234, 'hopefully': 3538, 'craigsutton': 1825, 'thuquoc': 7440, 'jizzin': 3986, 'pant': 5613, 'armin': 640, 'van': 7885, 'buuren': 1268, 'mehulbhuva': 4827, 'tayswift': 7297, 'peru': 5714, 'speechless': 6946, 'someday': 6874, 'plz': 5832, 'ill': 3686, 'forever': 2869, 'seriously': 6586, 'rogieking': 6336, 'newborn': 5276, 'due': 2359, 'june': 4072, 'dodgers': 2245, 'padres': 5592, 'jbruin': 3922, 'esp': 2565, 'iowa': 3818, 'hay': 3351, 'smell': 6814, 'pjaficionado': 5799, 'everything': 2595, 'else': 2469, 'bonus': 1076, 'bs': 1211, 'vuittonretarded': 7978, 'mind': 4923, 'mistressathenax': 4961, 'proud': 5991, 'future': 2979, 'member': 4837, 'miss_tattoo': 4946, 'heyy': 3439, 'donnie': 2267, 'gift': 3070, 'usb': 7857, 'stick': 7052, 'giant': 3069, 'wicked': 8120, 'twt': 7732, '32811': 159, 'musicmonday': 5138, 'original': 5533, 'commercial': 1675, 'promo': 5984, 'nip': 5334, 'tuck': 7647, 'web20classroom': 8042, 'fabulous': 2661, 'wordahead': 8194, 'overall': 5563, 'luv': 4584, 'espressowoman54': 2569, 'tommyruffin': 7514, 'kendallmassey': 4143, 'jclayville': 3923, 'gerry_butler': 3053, 'church': 1553, 'serve': 6588, 'suspect': 7205, 'tiandrance': 7446, 'yoavsegal': 8317, 'sho': 6668, 'adamdexter': 325, 'allan_at_rogue': 448, 'allan': 447, 'joolz': 4029, 'soiree': 6867, 'brisbane': 1181, 'year': 8292, 'dark': 1974, 'within': 8160, 'chai': 1427, 'coffee': 1635, 'blogspot': 1031, '2009': 69, '04': 4, 'flavoured': 2809, 'html': 3588, 'chazdrums': 1463, 'doggies': 2250, 'burn': 1247, 'nose': 5383, 'foamingbbq': 2839, 'semester': 6571, 'skim': 6761, 'keywords': 4160, 'online': 5491, 'outline': 5556, 'dalecruse': 1932, 'net': 5260, 'business': 1255, 'partner': 5639, 'ghods': 3065, 'found': 2880, 'build': 1226, 'excellent': 2618, 'utility': 7868, '1st': 59, 'scott': 6518, 'bakula': 807, 'chuck': 1549, 'fatbellybella': 2714, 'period': 5705, 'guard': 3237, 'along': 462, 'hearts': 3378, 'fret': 2934, 'badu': 793, 'true': 7626, 'tedium': 7314, 'fix': 2798, 'file': 2763, 'inventor': 3813, 'laatina': 4262, 'mondays': 5014, 'past': 5649, '45': 185, 'min': 4922, 'lay': 4335, 'peepers': 5686, 'paint': 5599, 'clothe': 1607, 'msaleem': 5092, 'brutha': 1208, 'anotha': 560, 'mutha': 5144, 'ryanrossfanz': 6412, 'ryan': 6407, 'close': 1603, 'pick': 5756, 'ronashively': 6343, 'connections': 1722, 'academy': 291, 'thousands': 7428, 'country': 1806, 'queenie909': 6046, 'hum': 3606, 'party': 5641, 'kno': 4216, 'janets': 3898, 'nightcard': 5308, 'card': 1350, 'begin': 897, 'ankie': 546, 'german': 3049, 'bakeries': 806, 'sydney': 7237, 'import': 3714, 'honey': 3522, 'uncle': 7783, 'katiehayes415': 4117, 'levon': 4393, 'self': 6566, 'dmf71': 2232, 'change': 1441, 'name': 5195, 'qoosfr': 6035, 'queen': 6045, 'obscure': 5432, 'science': 6515, 'fiction': 2756, 'reference': 6176, 'instead': 3790, 'cbn': 1397, 'person': 5710, 'understand': 7795, 'dolfinfan': 2258, 'picnic': 5757, 'davejmatthews': 1993, 'nyc': 5414, 'nashipear': 5201, 'sorry': 6910, 'havent': 3345, 'corinmcblide': 1784, 'ok': 5474, 'tafe': 7261, 'quiz': 6058, 'photoshoot': 5747, 'sezdawg': 6606, 'berofx': 928, 'challenge': 1431, 'neverwinter': 5273, 'kameelahwrites': 4093, 'phew': 5728, 'gyal': 3262, 'keepin': 4134, 'brand': 1133, 'fellow': 2746, 'pfers': 5721, 'latte': 4313, 'munchkin': 5127, 'impossible': 3717, 'chriswolfe2007': 1545, 'momentbymoment1': 5004, 'glutenfreegirl': 3105, 'neighbor': 5249, 'produce': 5966, 'vegetables': 7896, 'milagro88': 4910, 'cel': 1406, 'chubbx': 1548, 'goooooood': 3157, 'brittyds': 1186, 'blame': 1009, 'darkknight808': 1977, 'okay': 5475, 'oven': 5561, 'wednesday': 8049, 'lorigama': 4516, 'lotsa': 4524, 'wink': 8145, 'jia_zhen': 3976, 'odd': 5447, 'amidst': 495, 'recession': 6153, 'hike': 3460, 'windows': 8140, 'temporarily': 7326, 'shoedazzle': 6673, 'society': 6851, 'kimkardashian': 4178, 'shoe': 6672, 'selection': 6565, 'robgokeemusic': 6318, 'foresee': 2868, 'sister': 6744, 'stray': 7090, 'direct': 2165, 'mars2thestars': 4733, 'hecklerxyz': 3389, 'fitness': 2794, 'strong': 7104, 'submit': 7130, 'stats': 7028, 'ain': 402, 'facesbyrozzj': 2664, 'ym': 8315, 'multiply': 5120, 'pet': 5716, 'able': 284, 'busy': 1258, 'mileycyrus': 4913, 'juz': 4083, 'eps': 2540, 'hm': 3484, 'instantly': 3789, 'fan': 2696, 'urs': 7854, 'lovin': 4546, 'humor': 3610, 'mucho': 5113, 'power': 5898, 'background': 784, 'exactly': 2612, 'paragon': 5621, 'mrskutcher': 5085, 'zone': 8368, 'normal': 5377, 'mantia': 4684, 'example': 2615, 'animation': 542, 'curious': 1890, 'therudetypist': 7403, 'invite': 3815, 'hunch': 3614, 'mac': 4609, 'map': 4692, 'panama': 5608, 'animal': 540, 'manyas': 4691, 'ddlovato': 2020, 'gladly': 3093, 'squirrel': 6986, 'jenny': 3953, 'kill': 4174, 'bird': 976, 'stone': 7069, 'vocals': 7963, 'part': 5634, 'whichever': 8100, 'wed': 8048, 'entourage': 2528, 'tagalog': 7263, 'abay': 279, 'sa': 6423, 'kasal': 4108, 'veil': 7897, 'mau': 4784, 'bern_morley': 927, 'petal': 5717, 'sweat': 7217, 'dfizzy': 2124, 'whoop': 8115, 'earlier': 2393, 'inbox': 3726, 'full': 2968, 'empty': 2499, 'chocolate_dip': 1522, 'complain': 1689, 'yoeyfreshier': 8319, 'tivon': 7482, 'clear': 1590, 'mademoiselledee': 4628, 'freaky': 2912, 'prep': 5929, 'cleveland': 1594, 'healthy': 3372, 'remedy': 6210, 'petparenthood': 5720, 'dogs': 2253, 'soma': 6871, 'staceysoleil': 6992, 'edward': 2425, 'hunt': 3620, 'victoriaerin': 7927, 'heyyyyyyyyyyy': 3442, 'philosophy': 5734, 'blah': 1007, 'aka': 417, 'myspace': 5161, 'yr': 8334, 'lastnight': 4307, 'psp': 5999, 'browser': 1205, 'aparajuli': 584, 'angels': 529, 'misstoriblack': 4954, 'absolutely': 287, 'continue': 1745, 'success': 7139, '2y2y1': 124, 'mattimassacre': 4777, 'afford': 359, 'loic': 4485, '800': 239, 'greatest': 3205, 'cartoon': 1372, 'newspaper': 5283, 'regard': 6182, 'levimorales': 4391, 'henry': 3417, 'ford': 2865, 'piercethevic': 5764, 'everythings': 2596, 'suplada': 7183, 'stuff': 7114, 'fr': 2887, 'uk': 7761, 'desperate': 2105, 'headphones': 3364, 'might': 4900, 'jac': 3876, 'tita': 7480, 'slow': 6803, 'eddieizzard': 2418, 'happen': 3317, 'gigs': 3073, 'friday': 2937, 'saturday': 6479, 'ty': 7737, 'gr8fl': 3176, 'emmylou': 2492, 'harris': 3330, '3x8zc': 177, 'cheeck': 1473, 'thiss': 7418, 'marvelous': 4742, 'idk': 3663, 'hoow': 3535, 'gona': 3133, 'throw': 7434, 'weeeek': 8055, 'seven': 6595, 'pound': 5894, 'aftermidnightproject': 367, 'jennmae': 3952, '430': 183, 'capones': 1347, 'nerdist': 5253, 'photo': 5743, 'elissakim': 2461, 'open': 5511, 'result': 6248, 'major': 4651, 'fmsquatro': 2836, 'al': 421, 'shoppping': 6678, 'kamy775': 4094, 'amp451': 502, 'dreamz': 2320, 'i140': 3639, 'scentsational': 6506, 'diss': 2200, 'bluestreak23': 1047, 'jasonandjodie': 3909, 'project': 5980, 'cookrn': 1765, 'woohoo': 8186, 'rockin': 6326, 'hard': 3324, 'core': 1781, 'imalcolmjames': 3703, 'internship': 3804, 'ive': 3867, 'teaneck': 7303, 'utah': 7866, 'feet': 2741, 'heh': 3393, 'mayhemstudios': 4794, 'larryczerwonka': 4304, 'pass': 5644, 'wisdom': 8150, 'dub': 2350, 'doctor': 2242, 'alcohol': 428, 'caffeine': 1292, 'exhaust': 2631, 'national': 5210, 'champ': 1434, 'centrelink': 1416, 'davesjessica': 1997, 'hella': 3401, 'italian': 3846, 'access': 294, 'research': 6232, 'machine': 4612, 'quad': 6039, '64': 221, 'bite': 987, 'opterons': 5518, '60': 216, 'ram': 6093, 'quick': 6049, 'jasmine': 3908, 'bohdi': 1063, 'pfspleen': 5722, 'strange': 7083, 'dreamin': 2318, 'how': 3574, 'jump': 4070, 'trampoine': 7576, 'wooot': 8190, 'sophieveronica': 6904, 'rad': 6082, 'finals': 2773, 'sophie': 6903, 'ps': 5996, 'everythins': 2597, 'cool': 1766, 'mat': 4754, 'huntersmama1985': 3622, 'none': 5363, 'expect': 2633, 'suai': 7126, 'shooter': 6676, 'tho': 7420, 'gotta': 3171, 'fire': 2782, 'feelin': 2740, 'morn': 5039, 'bc': 861, 'mexico': 4864, 'air': 406, 'somewhat': 6882, 'artistic': 654, 'sketch': 6757, 'pad': 5589, 'dress': 2322, 'ma_shinka': 4606, 'theashball': 7372, 'nodame': 5352, 'cantabile': 1338, 'classical': 1583, 'order': 5525, 'copy': 1778, 'underground': 7791, 'canary': 1329, 'skinny': 6763, 'jeans': 3931, 'ball': 809, 'deep': 2046, 'markegli': 4717, 'kariegli': 4105, 'menu': 4847, 'pasta': 5650, 'cheese': 1477, 'chicken': 1495, 'noodle': 5367, 'jersey': 3962, 'vonster': 7973, 'quote': 6061, 'croconaw': 1856, 'danielkirkley': 1956, 'lead': 4345, 'favorites': 2724, 'job': 3995, 'starbucks': 7011, 'lemonade': 4371, 'gg': 3060, 'boom': 1083, 'pow': 5897, 'oops': 5509, 'diva': 2208, 'university': 7820, 'latest': 4311, 'episode': 2536, 'newnownext': 5279, 'end': 2506, 'remember': 6211, 'alright': 468, 'pbnjen': 5671, 'pr': 5906, 'lucky': 4561, 'tothepc': 7549, 'weboword': 8044, 'dictionary': 2138, 'visual': 7949, 'vocabulary': 7962, 'affirmation': 358, 'lady': 4271, 'je': 3927, 'kakï': 4089, 'en': 2502, 'rip': 6293, 'od': 5446, 'trenutek': 7600, 'resnice': 6237, 'lamb': 4284, 'chowmein': 1531, 'hhhmmm': 3443, 'slightly': 6794, 'roast': 6313, 'butter': 1263, 'roll': 6339, 'yum': 8339, 'hungry': 3616, 'sony': 6890, 'mussomitchel': 5142, 'sometime': 6880, 'metro': 4862, 'station': 7025, 'tweeps': 7675, 'shower': 6687, 'haircut': 3285, 'bye': 1273, 'juliaroy': 4065, 'flickr': 2816, 'danielc': 1953, 'wrath': 8224, 'khan': 4162, 'juggernaut': 4060, 'dr': 2302, 'doom': 2275, 'magneto': 4638, 'xavier': 8249, 'ahahah': 384, 'n__n': 5180, 'ricardooooo': 6273, 'geek': 3028, 'tahoe': 7264, 'vicky': 7925, 'jay': 3912, 'recite': 6155, 'war': 8008, 'blush': 1049, 'princess': 5949, 'bride': 1166, 'wesley': 8071, 'lisaholmes': 4444, 'fiances': 2753, 'duplex': 2370, 'terwillegar': 7343, 'apleaforaaron': 588, 'hanker': 3310, 'austrian': 728, 'smoke': 6819, 'xxx': 8265, 'thastevieg': 7365, 'bunnys': 1241, 'lucy': 4564, 'lmao': 4471, 'pixelpipe': 5793, 'os': 5538, 'denise': 2073, 'la': 4260, 'toat': 7496, 'lumea': 4572, 'ctesdahl': 1875, 'digg': 2155, 'stumble': 7116, 'greatly': 3206, 'countless': 1805, 'xxstephy': 8264, 'tripcentral': 7608, 'ca': 1284, 'php': 5749, 'index': 3738, 'action': 316, 'playvideo': 5820, 'videoid': 7932, '89': 245, 'gpokr': 3174, 'bust': 1256, 'n00b': 5176, 'arses': 648, 'pokerstars': 5848, 'freeroll': 2919, 'coffeeeeeee': 1636, 'xphile1908': 8257, 'convenience': 1750, 'doc': 2239, '24': 81, 'karaoke': 4099, 'xt': 8260, 'drum': 2337, 'lessons': 4384, 'thursday': 7442, 'pepstein': 5697, 'print': 5951, 'fachatc': 2665, 'obi': 5430, 'und': 7785, 'hornbach': 3544, 'baumarkt': 849, 'tiny': 7471, 'd9wnza': 1919, 'honey_honeybun': 3524, 'geoff': 3041, 'teeth': 7317, 'hb': 3355, 'keith': 4136, 'olbermann': 5478, 'rerun': 6229, 'daily': 1929, 'michael': 4877, 'fox': 2885, 'guest': 3240, 'crush': 1868, 'imagejennation': 3700, 'whitrt': 8107, 'chinese': 1510, 'esotericsean': 2564, 'advertise': 350, 'skills': 6760, 'pmeanwellralph': 5834, 'offline': 5463, 'wks': 8165, 'pack': 5587, 'move': 5064, 'aaminahh': 273, 'receive': 6150, 'wahlberg': 7988, 'mandatory': 4672, 'codelust': 1632, 'sexxyindividual': 6604, 'dunno': 2369, 'ans': 562, 'talkin': 7274, 'pkahleeb': 5801, 'corybasil': 1794, 'hurry': 3626, 'publish': 6003, 'stevonelson': 7049, 'toy': 7560, 'fair': 2674, 'restful': 6245, 'slumber': 6805, 'marsacademy': 4734, 'ugh': 7752, 'boys': 1120, 'budget': 1220, 'method': 4860, 'methodically': 4861, '1liners': 58, 'sooo': 6895, 'laguna': 4279, 'south': 6921, 'sac': 6425, 'citrus': 1568, 'heights': 3398, 'stacielane': 6994, 'lip': 4441, 'service': 6590, 'csi': 1873, 'ny': 5413, 'light': 4409, 'workshop': 8205, 'fine': 2776, 'tune': 7659, 'maddy': 4625, 'pro': 5956, 'yeheeyyy': 8295, 'karma': 4106, 'mzrpe': 5167, 'javajive': 3910, 'humm': 3608, 'istore': 3844, 'alot': 463, 'similiar': 6721, 'reqs': 6226, 'nail': 5188, 'wet': 8075, 'but': 1260, 'helpful': 3412, 'flip': 2820, 'magazine': 4633, 'page': 5595, 'blackberry': 1003, 'bold': 1068, 'kingston': 4187, '8gb': 250, 'microsd': 4888, 'route': 6366, 'onthemapp': 5497, 'ditto': 2206, 'nirvana': 5336, 'sandwich': 6454, 'augustineiv': 716, 'kcarruthers': 4127, 'flick': 2814, 'prefer': 5921, 'twenius': 7692, 'steve_buscemi': 7044, 'england': 2515, 'gloomy': 3102, 'crap': 1827, 'leno': 4375, 'yessirrr': 8302, 'da': 1922, 'summah': 7162, 'lookthunder': 4503, 'anwering': 568, 'err': 2554, 'colleague': 1649, 'outfit': 5555, 'gown': 3173, 'agghhhh': 374, 'looosing': 4508, 'dallas': 1933, 'advance': 346, 'production': 5969, 'birhtday': 977, 'allergies': 451, 'bubble': 1215, 'davelindquist': 1995, 'director': 2167, 'present': 5934, 'producers': 5967, 'busybeeblogger': 1259, 'movies': 5066, 'lil': 4419, 'gilles': 3074, 'gott': 3170, 'homeee': 3511, 'sawww': 6486, 'haunt': 3343, 'conetticuttt': 1705, 'scaryyy': 6501, 'florida': 2827, 'thursdayyy': 7443, 'legmar': 4367, 'linnix': 4435, 'household': 3569, 'problems': 5960, 'entertain': 2524, 'surfclubhit': 7194, 'lovely': 4540, '85': 242, 'degree': 2061, 'stacylav': 6996, 'vancooooooover': 7886, 'shout': 6685, 'personal': 5711, 'ericbttn': 2546, 'accidentally': 296, 'alex': 433, 'realize': 6135, 'brainstormprick': 1129, 'record': 6161, 'witness': 8162, 'yaaaay': 8268, 'derekhousman': 2093, 'holler': 3500, 'boooooo': 1087, 'founnndddd': 2881, 'angelsmind': 530, 'mazda3rev': 4796, 'frenchgcfan': 2926, 'sweeeeden': 7219, '1am': 55, '_writersblock_': 266, 'car': 1349, 'heydemi': 3438, 'talented': 7270, 'visita': 7948, 'iglesia': 3671, '14': 39, 'load': 4474, 'fresno': 2932, 'urrrggg': 7853, 'username': 7863, 'caca': 1289, 'hotels': 3560, 'kuching': 4244, 'wolfsoul': 8172, 'heathersullivan': 3382, 'define': 2054, 'laurenrodriguez': 4326, 'trial': 7603, 'error': 2556, 'mrsabur': 5083, 'boss': 1099, 'yess': 8301, 'anaperiodista': 512, 'wrigley': 8228, 'field': 2757, 'lbheart_jessica': 4340, 'kenya': 4147, 'august': 715, 'tumaini': 7654, 'international': 3802, 'orphan': 5536, 'ycsing': 8285, 'nicki': 5300, 'pointlesswords': 5844, 'credit': 1840, 'switch': 7231, 'warp': 8015, 'aussie': 720, 'cattle': 1392, 'mfeatherstone': 4868, 'winner': 8146, 'hunnybunny': 3619, 'lova': 4534, 'willkuhn': 8135, 'granular': 3196, 'synth': 7244, 'tutorial': 7669, 'informative': 3763, 'paul_e_wog': 5657, 'gay': 3022, 'riedel': 6285, 'glass': 3095, 'twiverted': 7728, 'starvin': 7022, 'marvin': 4743, 'anymore': 572, 'feed': 2738, 'nightly': 5310, 'fish': 2790, 'noarmsjames': 5348, 'rumlover': 6393, 'attend': 700, 'emma': 2489, 'rice': 6274, 'meal': 4805, 'smile': 6818, 'lucky_23': 4562, 'avatar': 735, 'teh': 7318, 'purdiness': 6021, 'jennifermf': 3950, 'detriment': 2110, 'discriminatory': 2186, 'toward': 7557, 'ppl': 5903, 'gherkins': 3064, 'swim': 7228, 'workable': 8197, 'brook': 1199, 'computer': 1696, 'piczo': 5760, 'viva': 7952, 'bam': 815, '00': 0, 'angiekaybee': 531, 'february': 2734, 'dfcook': 2123, '8th': 251, 'subcribe': 7128, 'user': 7862, 'koolkidzblock': 4228, 'grab': 3178, 'freeze': 2922, 'rveturis': 6406, 'phoneboy': 5741, 'pinky': 5782, 'toe': 7503, 'months': 5026, 'concern': 1701, 'emilycello': 2486, 'nessun': 5259, 'realmente': 6138, 'davvvero': 2001, 'apple': 599, 'product': 5968, 'placement': 5804, 'hhrs': 3444, 'bday': 865, 'cake': 1299, 'loooooonnnng': 4505, 'nikan': 5318, 'reveal': 6258, 'nature': 5213, 'company': 1685, 'twinnadryl': 7700, 'freak': 2910, 'session': 6591, 'wifey': 8124, 'eh': 2438, 'hah': 3273, 'ilvdbch': 3694, 'dublin': 2352, 'noches': 5350, 'twitterricolsss': 7721, 'azmamakim': 764, 'ash': 659, 'kiddos': 4171, 'benhamin': 920, 'hsumilo': 3587, 'wii': 8127, 'bluff': 1048, 'islandcubfree': 3838, 'bud': 1218, 'hellhousemedia': 3402, 'modivation': 4993, 'mandiebear': 4674, 'promise': 5982, 'tis': 7478, '4pm': 196, 'blib': 1022, 'bncngoffthwlls': 1053, 'will': 8130, 'sarahmorrmorr': 6462, 'marathon': 4695, 'chasepino': 1458, 'cheapyd': 1468, 'cagcast': 1293, 'thnx': 7419, 'cheapy': 1467, 'boredum': 1094, 'mitchel': 4966, 'bug': 1224, 'sleepy': 6787, 'donï': 2273, 'america': 493, 'nickitynatnat': 5301, 'lee_knight': 4359, 'lee': 4358, 'craziness': 1831, 'rofl': 6333, 'amazin': 486, 'ak_ng': 416, 'insane': 3778, 'husband': 3629, 'skiddybabyyy': 6759, 'baha': 798, 'grr': 3231, 'atleast': 695, 'entertainment': 2525, 'rightnowradio': 6288, '3x99s': 178, 'ferretfreakx4': 2749, 'steal': 7034, 'turtlebus': 7668, 'seahorse': 6542, 'lovee': 4538, 'hermans': 3424, 'hermits': 3425, 'classic': 1582, 'group': 3227, 'erin2011': 2550, 'question': 6048, 'journalism': 4041, 'hesitate': 3434, 'favorite': 2723, 'dianna': 2134, 'recently': 6152, 'briancrouch': 1162, 'bothell': 1104, 'fred': 2913, 'meyer': 4866, 'however': 3576, 'status': 7029, 'becuz': 889, 'insomnia': 3780, 'allow': 456, 'kevinruddpm': 4154, 'dead': 2021, 'legend': 4363, 'broadbands': 1190, 'jessewilson': 3965, 'null': 5407, 'heap': 3373, 'perfectly': 5702, 'veronica78': 7910, 'bedtime': 892, 'bake': 802, 'abby': 280, 'mzsld': 5168, 'wooohhooo': 8188, 'beach': 866, 'awsome': 754, 'luve': 4586, 'water': 8026, 'soooo': 6896, 'seattle': 6550, 'aqui': 619, 'bech': 882, 'somethin': 6878, 'wwailord': 8242, 'mkay': 4972, 'deal': 2027, 'wmmarc': 8166, 'truly': 7629, 'canteen': 1339, 'ottumwa': 5547, 'loose': 4510, 'meat': 4811, 'hamburgers': 3296, 'cafe': 1291, 'friendly': 2941, 'demi': 2070, 'cod': 1629, 'hp': 3580, 'mini': 4925, '1000': 13, 'keyboard': 4158, 'bkbap': 999, 'advice': 352, 'abigaillovesyou': 282, 'worth': 8216, 'midnight': 4896, 'daveb41': 1991, 'ghosttheory': 3068, 'sample': 6446, 'evp': 2606, 'pollen': 5858, 'salt': 6440, 'daphne': 1971, 'derby': 2090, 'point_moot': 5842, 'scotch_mist': 6517, 'shanzer22': 6624, 'espresso': 2568, 'dreamweaver': 2319, 'handcoding': 3302, 'css': 1874, 'ftw': 2959, 'knightowl89': 4211, 'aaaaahhhh': 270, 'stop': 7073, 'zippy': 8363, 'wethetravis': 8076, 'liar': 4399, 'orlando': 5535, 'mama': 4666, 'exam': 2613, 'otherwise': 5546, 'harass': 3323, 'kylefox': 4257, 'problem': 5959, 'photography': 5744, 'limit': 4429, 'mercleve': 4850, 'pee': 5684, 'middle': 4893, 'golf': 3132, 'nooning': 5371, 'sharted': 6630, 'pies': 5765, 'venture': 7904, 'macon': 4616, 'georgia': 3047, 'undergraduate': 7790, 'professors': 5976, 'ryanstar': 6414, 'radford': 6083, 'sunday': 7169, 'spencerordonez': 6951, 'although': 470, 'karaokï': 4100, 'figa': 2758, 'gossip': 3164, 'xoxo': 8256, 'gabbyisactive': 2991, 'mmmmmm': 4982, 'market': 4718, 'stock': 7063, 'garyphayes': 3013, 'search': 6547, 'silkcharm': 6718, 'recommendations': 6159, 'crowdsourced': 1862, 'danniis': 1964, 'nd': 5231, 'duck': 2355, 'yaay': 8269, 'emmajapan': 2490, 'double': 2285, 'pls': 5826, 'detail': 2107, 'sales': 6437, 'fashionpalette': 2709, 'au': 707, 'claim': 1572, 'tix': 7483, 'lisanoelruocco': 4447, 'suit': 7154, 'approve': 611, 'europe': 2578, 'singapore': 6733, 'airlines': 409, 'flight': 2817, 'starrkissed': 7017, 'kittybuffiekat': 4201, 'bit': 982, 'ly': 4592, 'drsn8': 2335, 'tweetshrink': 7689, 'yea': 8287, 'customer': 1899, 'dhollings': 2128, 'twittertips': 7722, 'bar': 826, 'ff': 2752, 'twittys': 7727, 'johnny': 4012, 'depp': 2084, 'mgpotter': 4869, 'looooong': 4504, 'bebes': 880, 'kingdomguard': 4185, 'hothobolover': 3561, 'appearance': 597, 'aiorselvar': 405, 'spank': 6930, 'aior': 404, 'boot': 1089, '2y3cc': 128, 'baawwnggggg': 771, 'green': 3211, 'sign': 6710, 'ttual': 7642, 'poptopvw': 5873, 'arent': 623, 'fell': 2744, 'tredmill': 7592, 'closely': 1604, 'sunshine': 7173, 'coast': 1622, 'tan': 7277, 'cookcj': 1761, 'mug': 5116, 'where': 8095, 'airport': 411, 'alaska': 424, 'luggage': 4565, 'alaskaair': 425, 'ryuuenx': 6419, 'mention': 4846, 'nbn': 5226, 'fiber': 2754, 'regular': 6189, 'chumby': 1552, 'blast': 1012, '80': 238, 'matthartley': 4775, 'privarma': 5954, 'rupee': 6399, 'symbol': 7240, 'reliance': 6203, 'jenniferg07': 3948, 'kiss': 4193, 'officialjagex': 5458, 'info': 3760, 'mechscape': 4812, 'brad': 1123, 'paisley': 5600, 'ashleeadams': 662, 'ten': 7330, 'minutes': 4936, 'lack': 4267, 'consequences': 1728, 'factory': 2668, 'beachbar': 867, 'joycekim': 4047, 'heidimontag': 3396, 'case': 1375, 'role': 6338, 'row_13': 6368, 'raideil': 6088, 'host': 3557, 'domain': 2261, 'goin': 3124, 'dxckinyamouth': 2381, 'lvesckmelody': 4590, 'four': 2883, 'lurk': 4577, 'hertbeat': 3432, 'tuesday': 7650, 'jeff': 3934, 'dunham': 2365, 'achmed': 307, 'terrorist': 7341, 'woah': 8169, 'stoke': 7065, 'three': 7431, 'happpy': 3321, 'chelsea': 1482, 'lately': 4309, 'jlsbby': 3989, '2y0fo': 113, 'cutest': 1904, 'pride': 5945, 'prejudice': 5924, 'arlenecd': 637, 'cali': 1302, 'starrbby': 7016, 'newscast': 5281, 'fantastic': 2703, 'jerimee': 3959, 'thankfully': 7360, 'william': 8132, 'episodes': 2538, 'hop': 3536, 'distract': 2203, 'lunch': 4574, 'mztfi': 5169, 'dezine': 2122, 'amuse': 505, 'bush': 1253, 'suddenly': 7147, 'supportive': 7185, 'obama': 5426, 'tlot': 7487, 'ginadeangelo': 3076, 'vegan': 7894, 'alive': 444, 'drug': 2336, 'stonedi': 7070, 'compliment': 1694, 'town': 7559, 'canada': 1326, 'missrogue': 4953, 'anybody': 570, 'pull': 6010, 'sue': 7148, 'johnnie': 4011, 'cash': 1376, 'lie': 4403, 'babe': 773, 'playin': 5817, 'chictopia': 1496, 'designers': 2102, 'araza13': 621, 'miniatures': 4927, 'iwas': 3868, 'angilena': 533, 'rashmid': 6110, 'congratulations': 1718, 'tht': 7438, 'colorofviolence': 1655, 'spit': 6963, 'neither': 5251, 'pretend': 5938, 'anne': 549, 'instal': 3785, 'twitterberry': 7712, 'cricket': 1850, '771ukx4zhzq': 232, 'tweeties': 7686, 'all': 446, 'shazzam': 6635, 'vivvid': 7957, '78': 233, 'wemb': 8067, 'dwsmillionthhug': 2380, 'elvis': 2473, 'mib': 4874, 'deepbluesealove': 2047, 'defygravity81': 2058, 'espanol': 2566, 'francais': 2893, 'decisions': 2042, 'dan': 1942, 'leap': 4348, 'lake': 4280, 'grind': 3218, 'low': 4548, 'bacon': 788, 'jonathan': 4025, 'childhood': 1501, 'nick_carter': 5299, 'fanclub': 2698, 'backstreetboys': 785, 'persons': 5713, 'godson': 3122, 'malachi': 4658, 'lifechangingliv': 4405, 'highway': 3456, 'smooth': 6821, 'dorkas426': 2282, 'scenery': 6505, 'therealnph': 7399, 'nph': 5401, 'strippers': 7102, 'mydesire': 5151, 'shall': 6616, 'yvonne': 8346, 'id': 3658, 'responsibilities': 6242, 'terricook': 7338, 'rabbit': 6071, 'gggkeri': 3062, 'completely': 1693, 'fallout': 2691, 'dang': 1948, 'heroes': 3426, 'stage': 6999, 'complete': 1692, 'naw': 5219, 'fo': 2838, 'stag': 6998, 'hottest': 3562, 'world': 8207, 'butterflyb': 1264, 'dozen': 2301, 'coat': 1623, 'grand': 3189, 'marnier': 4728, 'parcel': 5624, 'hav': 3344, 'tang': 7278, 'hun': 3613, 'mee': 4819, 'sua': 7125, 'udong': 7748, 'ligo': 4414, 'raisin': 6092, 'hu': 3592, 'freebies': 2916, 'twurl': 7733, 'nl': 5343, 'w1kpvd': 7979, 'chochomojo': 1517, 'rye': 6415, '143gg': 41, '58': 207, 'britney': 1185, 'shauna': 6631, 'free': 2915, 'whatta': 8088, 'mess': 4857, 'abroad': 285, 'canï': 1342, 'jacqui': 3883, 'gagaï': 2995, 'poker': 5847, 'itï': 3864, 'addictive': 332, 'roommate': 6346, 'soccer': 6850, 'suggestions': 7152, 'brighten': 1172, 'feh1325': 2742, 'glue': 3104, 'chapstick': 1445, 'kjonge': 4203, 'gefelicidingest': 3032, 'secretfanofu': 6558, 'andrew': 519, 'sf': 6607, 'rentan': 6219, 'bonnie_klide': 1075, 'cab': 1285, 'ride': 6280, 'sofia': 6860, 'ninjaguitarsex': 5332, 'whole': 8112, 'nin': 5329, 'community': 1682, 'trentvanegas': 7599, 'trent': 7598, 'plenty': 5825, 'beta': 938, 'code': 1631, 'bumptop': 1237, 'rise': 6295, 'upside': 7843, 'eleven': 2458, 'tweeterdiva': 7680, 'herd': 3420, 'tammi_la': 7275, 'yuri': 8345, 'briandavidz': 1163, 'disney': 2195, '185': 50, 'conquer': 1725, 'grateful': 3199, 'jazf': 3917, 'contactnaveen': 1738, 'gr8': 3175, 'indeed': 3737, 'marabg': 4694, 'dashboard': 1986, 'ghost': 3066, 'mannn': 4683, 'memory': 4840, 'lane': 4291, '23': 78, '24ï': 85, 'student': 7111, 'idol': 3664, 'epic': 2533, 'aporto': 591, 'burger': 1245, 'amount': 500, 'chilli': 1506, 'sauce': 6480, 'mimis': 4921, 'thoughts': 7425, 'shick': 6650, 'gavin': 3020, 'degraw': 2060, 'lucky_kristin': 4563, 'cookies': 1763, 'girlguidecookies': 3083, 'studio': 7112, 'byee': 1274, 'hwaiting': 3632, 'afraid': 362, 'pupil': 6017, 'jeffree': 3936, 'comment': 1673, 'wide': 8121, 'awake': 741, 'gaga': 2994, 'princesssuperc': 5950, 'cici': 1557, 'drop': 2333, 'fantasy': 2704, '5th': 213, 'imagine': 3702, '111': 23, 'robots': 6322, 'alert': 432, 'brain': 1127, 'absorb': 288, 'endure': 2510, 'sike': 6714, 'gnite': 3111, 'paulfeig': 5662, 'blow': 1041, 'wbpodcast': 8035, 'hells': 3407, 'demmalition': 2072, 'clean': 1588, 'amy': 506, 'adams': 328, 'jus': 4077, 'hawaiian': 3350, 'relax': 6200, 'lisakimfleming': 4445, 'hzell': 3637, 'jamesdeen': 3892, 'jeepers': 3932, 'hassox': 3337, 'steve': 7043, 'okieannie': 5476, 'concentrate': 1699, 'screencaps': 6525, 'robgrimes': 6319, 'gooooood': 3156, 'dsiegel99': 2343, 'celebrate': 1407, 'twice': 7694, 'ich': 3652, 'hatte': 3342, 'gerade': 3048, 'kï': 4259, 'se': 6538, 'auf': 713, 'toast': 7494, 'germandoo': 3050, 'twitt': 7708, 'dbvlwt': 2013, 'gratitude': 3200, 'multiplier': 5119, 'doors': 2278, 'mmmm': 4979, 'france': 2894, 'lyrical': 4598, 'brilliance': 1177, 'thepartyscene': 7392, 'black': 1002, 'vivid': 7956, 'biology': 974, '4am': 191, 'ballookey': 813, 'recoil': 6157, 'pal': 5602, 'currently': 1892, 'texting': 7352, 'moron': 5045, 'punk': 6015, 'mad': 4620, 'mistygirlph': 4965, 'halloween': 3292, 'costume': 1798, 'fly': 2831, 'hk': 3482, 'nlpride08': 5344, 'shannonelizab': 6621, 'dsff': 2341, 'mp1jzfflms0': 5071, 'jamiegirl9': 3893, 'silly': 6719, 'goose': 3160, 'brown': 1202, 'superbowl': 7178, 'rootin': 6350, 'daygan': 2006, 'ubuntu': 7746, 'vampirebill': 7883, 'fromggwithlove': 2949, 'derherr': 2094, 'heads': 3365, 'up': 7834, 'judge': 4059, 'monsters': 5022, 'vs': 7977, 'alien': 441, '3d': 172, 'ginormica': 3078, 'favourite': 2725, 'superhero': 7179, 'mikeexists': 4904, 'sappy': 6458, 'stories': 7075, 'haz': 3354, 'boogie': 1079, 'galore': 3000, 'emily': 2485, 'bokul': 1066, 'jhoke': 3974, 'openoffice': 5513, 'crack': 1821, 'piracy': 5784, 'paranormal': 5623, 'state': 7024, 'msdebramaye': 5093, 'frankiekillsyo': 2902, 'chip': 1511, 'waffle': 7982, 'julieand': 4066, 'bible': 956, 'scripture': 6529, 'franklin': 2903, 'st': 6989, 'wild': 8129, 'arhi': 631, 'cred': 1839, 'dreptate': 2321, 'mpits': 5075, 'bandwagon': 821, 'devious_d': 2118, 'shantymanfan': 6623, 'package': 5588, 'plant': 5811, 'pot': 5890, 'fallenstar1': 2688, 'pout': 5896, 'morrissey': 5046, 'viahourt': 7922, 'ugly': 7755, 'betty': 942, 'arielbh': 633, 'anywat': 578, 'todaaaaay': 7498, 'nottingham': 5394, 'arataka': 620, 'zinedistro': 8361, 'caitlindean': 1297, 'stand': 7006, 'richardson': 6276, 'backup': 786, 'tape': 7283, 'holic': 3494, 'thalovebug': 7356, 'inject': 3767, 'korionmorris': 4233, 'yannionline': 8276, 'nanalipzz89': 5196, 'hiya': 3480, 'tudy': 7649, 'sweetie': 7222, 'jenniferlaurenh': 3949, 'follower': 2848, 'vlogbrothers': 7959, 'communicate': 1681, 'thru': 7436, 'vlogs': 7961, 'drmolliemarti': 2331, 'rockstar': 6328, 'sisters': 6746, 'women': 8175, 'mlm': 4974, 'fkn': 2800, 'fake': 2683, 'fukin': 2965, 'akelaa': 418, 'heart': 3375, 'tweetup': 7690, 'hon': 3520, 'mackmaine': 4615, 'checkin': 1471, 'wee': 8051, 'contract': 1746, 'dezignmusings': 2121, 'momentarily': 5003, 'divert': 2210, '5wcgx4vqp2o': 214, 'nespresso': 5258, 'jeff_sparxxx': 3935, '___': 260, 'fill': 2766, 'blank': 1010, 'choice': 1523, 'pediatrics': 5683, 'nkotb': 5341, 'piss': 5786, 'channel': 1442, 'fourzoas': 2884, 'jeanchia': 3929, 'dearie': 2030, 'goodluck': 3141, 'comfy': 1670, 'cuddly': 1881, 'content': 1742, 'josesosa': 4036, 'typical': 7742, 'adolescent': 338, 'son': 6884, 'allen': 449, 'verfolgern': 7907, 'einen': 2444, 'sonnigen': 6887, 'dienstag': 2145, 'dangersqueezit': 1950, 'bleach': 1015, 'away': 744, 'layer': 4336, 'victory': 7929, 'death': 2032, 'repeaterband': 6222, 'bum': 1233, 'ross_robinson': 6356, 'danniasheonline': 1963, 'awwww': 758, 'danni': 1962, 'gurl': 3253, 'muah': 5109, 'prop': 5987, 'anytime': 577, 'neeffresh': 5245, 'tweezey': 7691, 'sheezey': 6639, 'gotchu': 3166, 'mums': 5125, 'christineirmler': 1542, 'wigsie': 8126, 'waterfront': 8027, 'casablanca': 1374, 'belt': 913, 'congregation': 1719, 'upstairs': 7844, 'system': 7246, 'laura_mcauliffe': 4319, 'errrrr': 2559, 'mistake': 4959, 'aussies': 723, 'follwed': 2853, 'electric': 2452, 'ladys': 4274, 'ppukm': 5905, 'yamin': 8273, 'irc': 3825, 'jombuatduit': 4019, 'brettbodine': 1156, 'tmi': 7490, 'hiphopnonstoptv': 3470, 'saratoga': 6468, 'lp': 4551, 'endorsement': 2509, 'kmacable': 4206, 'crakle': 1826, 'bet': 937, 'jelous': 3942, 'nimbupani': 5328, 'cos': 1795, 'longer': 4499, 'therefore': 7400, 'spat': 6935, '2y3ln': 131, 'aikabelle': 400, 'mpconnolly': 5073, 'nouveau': 5395, 'riche': 6277, 'nru': 5402, 'officialtila': 5462, 'steak': 7033, 'dananner': 1944, 'castle': 1382, 'geekmp3': 3030, 'convince': 1758, 'paper': 5616, 'ultimate': 7765, 'fancy': 2699, 'stomp': 7067, 'yard': 8277, 'mann': 4680, 'drsecret': 2334, 'succeed': 7138, 'alirght': 442, 'folks': 2846, 'catchya': 1388, 'matt8u': 4770, 'nateflynn': 5207, 'peak': 5678, 'jacket': 3879, 'hoodies': 3531, 'mozunk': 5068, 'hover': 3573, 'unfavorite': 7801, 'train': 7574, 'travel': 7584, 'speed': 6947, 'rhifreakx': 6267, 'btw': 1214, 'plane': 5809, 'brb': 1141, 'ireland': 3827, 'refresh': 6180, 'poof': 5862, 'danzero': 1970, 'spoiler': 6969, '25mins': 89, 'jo': 3993, 'goddamn': 3118, 'danny': 1965, 'diaries': 2136, 'dudes': 2358, 'bbq': 860, 'eve': 2581, 'dion': 2164, 'eyedrops': 2654, 'rosekimknits': 6353, 'excuse': 2625, 'splurge': 6967, 'yarn': 8278, 'xallthatjazzx': 8248, 'tempt': 7329, 'lawl': 4332, 'hiannie': 3446, 'tiger': 7455, 'dchetty': 2017, 'mari_chiquitita': 4707, 'pics': 5758, 'festival': 2750, 'blueargon': 1044, 'handful': 3303, 'jacksonville': 3881, 'nc': 5227, 'alix_says': 445, 'except': 2619, 'nicer': 5296, 'normally': 5379, 'jnez': 3992, 'kitties': 4199, 'kiddies': 4169, 'iluvnkotb': 3693, 'organizations': 5529, 'lockbox': 4479, 'ec': 2413, '2am': 97, 'zebra': 8355, 'dg82p9': 2125, 'clip': 1601, 'hamu': 3300, 'tm': 7488, '2y3pg': 132, 'current': 1891, 'funky': 2973, 'font': 2854, 'rachhiiee_': 6079, 'er': 2544, 'mccainblogette': 4800, 'nearest': 5233, 'walgreens': 7995, 'ear': 2392, 'plug': 5828, 'stat': 7023, 'tissietc': 7479, 'brian_littrell': 1161, 'visit': 7947, 'ty_fed': 7738, 'bullshittery': 1232, 'jon_favreau': 4022, 'sequel': 6580, 'socalgurl83': 6849, 'translate': 7580, 'chanc': 1438, 'tipsen5537': 7474, 'clarify': 1579, 'jacatrenich': 3877, 'joeandjesse': 3998, 'lspearmanii': 4556, 'paulmason10538': 5665, 'mauibeech': 4785, 'gunka': 3250, 'maczter': 4619, 'thanktank': 7361, 'dr_alli': 2303, 'jack': 3878, 'defy': 2057, 'jonnylawchicago': 4028, 'recs': 6163, 'davekim': 1994, 'volunteer': 7970, 'phillyan': 5732, 'small': 6810, 'fropm': 2953, 'hint': 3468, 'isabellamcullen': 3834, 'rodneys': 6332, 'yaletown': 8272, 'missgoogle': 4949, 'dubai': 2351, 'montreal': 5027, 'relocation': 6207, 'shock': 6669, 'yo': 8316, 'conosco': 1724, 'glau': 3096, 'sinnamons': 6737, 'afterall': 366, 'awhile': 751, 'lightinthesky': 4413, 'nicefacemitchie': 5294, 'girllllll': 3085, 'lynj65': 4597, 'encouragement': 2505, 'vene2ia': 7903, 'cozy': 1817, 'mock': 4989, 'documentary': 2243, 'mockumentary': 4990, 'desire': 2103, 'confession': 1709, 'i_reporter': 3641, 'brooklynunion': 1200, '3pm': 174, '9am': 258, 'bind': 970, 'ima': 3697, 'sneak': 6830, 'sum': 7161, '4u': 197, 'littrellfans': 4458, 'matt_the_great': 4771, 'prayer': 5913, 'dose': 2283, 'grace': 3179, 'mercy': 4851, 'milezzzzzz': 4915, 'nobody': 5349, 'spin': 6958, 'triathlon': 7604, 'mackie': 4614, 'manhattan': 4679, 'twitterfox': 7717, 'flashsell': 2806, 'co': 1619, 'cc': 1399, 'parfumeslist': 5626, 'fragrance': 2889, 'offer': 5454, '70': 226, 'horrible': 3547, 'hulu': 3605, '28343': 94, 'horribles': 3548, 'p1': 5583, 'i0': 3638, 'ahhhh': 390, 'tribe': 7605, 'casserole': 1379, 'veg': 7893, 'yummo': 8341, 'robkardashian': 6320, 'rob': 6314, 'kardashian': 4102, 'hanlly': 3311, 'shawnorourke': 6634, 'tru': 7622, 'dat': 1987, 'sunburn': 7168, 'wholeee': 8113, 'skatinggg': 6756, 'rrrrrr': 6375, 'katnkyeri': 4119, 'respect': 6239, 'everyones': 2594, 'clarification': 1578, 'quiet': 6051, 'zoe': 8364, 'frankschuil': 2905, 'irl': 3828, 'opinion': 5515, 'beadiejay': 869, 'date': 1989, 'tumble': 7655, 'triplejhack': 7610, 'startrekmovie': 7020, 'premiere': 5927, 'soonish': 6894, 'supa': 7175, 'interwebs': 3810, 'conroy': 1726, 'dork': 2281, 'hat': 3339, 'staci_marie': 6993, 'door': 2277, 'soothe': 6901, 'activist': 319, 'wooho': 8185, 'joeylibetta': 4001, 'sniffle': 6835, 'preparation': 5930, 'revision': 6261, 'signal': 6711, 'systems': 7247, 'flamingindigo': 2804, 'natalielim': 5204, 'click': 1595, 'mouse': 5059, 'mice': 4875, 'equipment': 2543, 'labellemusik': 4264, 'slumdog': 6806, 'millionaire': 4918, 'netflix': 5264, 'yeaaaaaa': 8288, 'biker': 963, 'bettwen': 941, 'stod': 7064, 'sigaret': 6706, 'firm': 2788, 'moth': 5051, 'goinig': 3125, 'davebos': 1992, 'wooo': 8187, 'dk_emmanuel': 2225, 'solomon': 6869, 'wise': 8152, '3000': 151, 'wive': 8163, 'sancha': 6451, 'brave': 1140, 'jesus': 3968, 'growline': 3229, 'energy': 2511, 'lord': 4513, 'worldprayer': 8208, 'kesavareddy': 4150, 'mba': 4797, 'learn': 4349, 'techniques': 7311, 'jargons': 3907, 'materialbitch': 4759, 'theres': 7401, 'aweosme': 746, 'hail_mary_jane': 3283, 'ban': 816, 'others': 5545, 'believe': 904, 'whore': 8116, 'anonymous': 558, 'chamillionaire': 1433, 'fuckin': 2962, 'miltykiss': 4920, 'theme': 7388, 'dbsk': 2012, 'groove': 3223, 'mythos': 5165, 'cuttac': 1907, 'cocoandbreezy': 1626, 'zillaman': 8360, 'datboibabyc': 1988, 'wreckamic': 8225, 'reppin': 6225, 'texas': 7349, 'colorbakery': 1654, 'qs4': 6036, 'camillejaiden': 1320, 'bedbugs': 891, 'nileyjemilover': 5326, 'bestie': 935, 'hunz': 3623, 'flu': 2829, 'christy8_77': 1544, 'girlie': 3084, 'nickserv': 5302, 'register': 6184, 'izon': 3871, '123456': 30, 'gmail': 3106, '1xvdh': 62, 'everbody': 2587, 'marlycat': 4726, 'ily': 3695, 'katayy': 4111, 'kelly': 4139, 'clarkson': 1580, 'album': 427, 'pump': 6013, 'mp3': 5072, 'player': 5816, 'prince_p': 5947, 'hasta': 3338, 'pronto': 5986, 'babyknightowl': 779, 'trudy': 7625, 'mood': 5029, 'gaytwink': 3024, 'hourly': 3566, 'mykl': 5156, 'boheme': 1064, 'nsfw': 5404, 'spread': 6977, 'dlevo2': 2228, 'thejoe78': 7384, 'pregnancy': 5922, 'mobbler': 4984, 'nossoatelie': 5385, 'zombies': 8367, 'cupcake': 1886, 'form': 2874, 'necklace': 5238, 'djbec4': 2216, 'daydreamer20': 2005, 'tough': 7552, 'particularly': 5637, 'thecrazyjogger': 7380, 'itc': 3848, 'network': 5265, 'heavy': 3385, '18flr': 51, 'splendid': 6965, 'desk': 2104, 'flyer': 2832, 'buzzedition': 1272, 'susan': 7202, 'size': 6753, 'poll': 5857, 'ying': 8313, 'msn': 5099, 'karanbir': 4098, 'yrs': 8336, 'subway': 7137, 'indian': 3740, 'restaurant': 6244, 'stanleytang': 7007, 'productive': 5970, 'vacation': 7873, 'germans': 3051, 'agressive': 380, 'drivers': 2327, 'calgary': 1301, 'lads': 4270, 'gaspar': 3016, 'flame': 2803, 'versus': 7916, 'kings': 4186, 'heal': 3368, 'missus': 4955, 'education': 2423, 'le': 4344, 'naughty': 5214, 'spruce': 6980, 'tehe': 7319, 'progress': 5979, 'quilt': 6054, 'steady': 7032, 'teach': 7300, 'children': 1503, 'beloved': 912, 'comics': 1671, 'teleken': 7323, 'feat': 2730, 'engineer': 2514, 'darker': 1976, 'subscribe': 7131, 'google': 3152, 'reader': 6129, 'yummmminesssssss': 8340, '7am': 234, 'rubbish': 6379, 'bustxamovex': 1257, 'john': 4006, 'mayer': 4793, 'rendition': 6216, 'fallin': 2689, 'cddc7g': 1401, 'ninjen': 5333, 'youngster': 8328, 'adeline_sky': 334, 'muse': 5134, 'tennis': 7332, 'overweight': 5571, 'shape': 6625, 'starchile': 7013, 'congrat': 1715, 'ariherzog': 636, 'ari': 632, 'janeetmb': 3897, 'technically': 7310, 'mins': 4932, 'shilshi': 6654, 'older': 5480, 'rough': 6363, 'roadtrip': 6311, 'amsterdam': 504, 'motorcycle': 5058, 'janicerose': 3899, 'brody': 1196, 'cobaltcow': 1624, 'awful': 749, 'faithful': 2681, 'luvs': 4587, 'beiing': 901, 'mkl4': 4973, 'stylekid': 7123, 'mint': 4933, 'vanilla': 7888, 'ilovespots': 3692, 'wear': 8039, 'mandyblake': 4676, 'tickvg': 7449, 'ooh': 5499, 'painful': 5598, 'hellivina': 3403, 'dive': 2209, 'rescue': 6231, 'fuzzy': 2982, 'worthwhile': 8217, '2y3v4': 134, 'marini': 4713, 'eeoor': 2428, 'pleasure': 5823, 'sub': 7127, 'imbanditspal': 3705, 'chapter': 1446, 'katdogs': 4112, 'generation': 3036, 'parent': 5625, 'grandparents': 3193, 'mainly': 4647, 'yiayia': 8309, 'shakn': 6614, 'samosas': 6445, 'regularly': 6191, 'jentheju': 3955, 'cry': 1870, 'wont': 8181, 'ta': 7254, 'dontastorey': 2270, 'pssh': 6000, 'mcd': 4801, 'freddy': 2914, 'eddy': 2419, 'charity': 1450, 'auction': 709, 'fic': 2755, 'dooce': 2274, 'citrusandcandy': 1569, 'nyquil': 5415, 'marielxo': 4711, 'neetball': 5247, 'deeeeb': 2044, 'nah': 5187, 'jennys': 3954, 'ruhanirabin': 6386, 'technorati': 7313, 'barcampkl': 827, 'wade': 7981, 'voodooexp2009': 7975, 'bear': 873, 'ghostland': 3067, 'observatory': 5433, 'voodoo': 7974, 'cmputr': 1615, 'fireplace': 2786, 'ths': 7437, 'scuttle': 6533, 'bd': 864, 'exceed': 2617, 'expectations': 2634, 'surely': 7191, 'camp': 1321, 'daking240': 1931, 'regaring': 6183, 'godfather': 3120, 'ii': 3677, 'deliver': 2068, 'amozon': 501, 'brajeshwar': 1130, 'unique': 7814, 'trace': 7564, 'root': 6347, 'ad1951': 323, '_if': 262, 'exchange': 2622, 'maikwl': 4643, 'beforehand': 896, 'admit': 337, 'utterly': 7869, 'positively': 5884, 'sort': 6912, 'ehh': 2439, '35': 162, 'band': 820, 'tweethearts': 7684, 'tomo': 7515, 'booting': 1090, 'dustyedwards': 2372, 'nicely': 5295, 'rootbeerfloats8': 6348, 'gee': 3027, 'natlbug22': 5212, 'intense': 3796, 'missin': 4950, 'monkeymoo2': 5020, 'neded': 5240, 'pond': 5860, 'john_bishop': 4007, 'wooooo': 8189, 'techbabe': 7308, 'focus': 2840, 'shiny': 6658, 'cartbozman': 1370, 'matey': 4761, 'juggle': 4061, 'podcast': 5839, 'doezilla': 2247, 'omg_pichu': 5484, 'randomly': 6100, 'pagankinktress': 5594, 'bother': 1105, '30comau': 152, 'sec': 6553, 'mireika': 4938, 'natalietran': 5205, 'chapel': 1444, 'street': 7091, 'borscht': 1098, 'vodka': 7964, 'tear': 7304, 'corner': 1786, '218': 74, 'alexander': 435, 'christianazhu': 1539, 'aiesec': 398, 'bennygreenberg': 922, 'warrior': 8017, 'hub': 3593, 'kxjbq': 4253, 'retweet': 6253, 'kworkman': 4252, 'wine': 8142, 'bread': 1142, 'soinma': 6866, 'martha': 4739, 'alpaca': 465, 'sydney_holidays': 7238, 'realchrissystar': 6132, 'erineven': 2551, 'fedexing': 2736, 'application': 603, 'hitwithafish': 3479, 'lanaveenker': 4288, 'information': 3762, 'donfucious': 2263, 'frost': 2954, 'wheats': 8090, 'snack': 6825, 'magnetic': 4637, 'mattress': 4779, 'hpnri': 3581, 'mrsp_ifurnastee': 5087, 'rowr': 6370, 'cartermorrison': 1371, 'cameradeath': 1315, 'curvy': 1896, 'jenn_brown': 3945, 'guipulp': 3244, 'jcrillz': 3924, 'so': 6845, 'elmardc': 2467, 'elmar': 2466, 'zeet75': 8357, 'hrim': 3584, 'basic': 835, 'boyfriend': 1119, 'heavyhand': 3386, '2y3z2': 136, 'asst': 682, 'applicants': 602, 'twidroid': 7695, 'spam': 6927, 'g1': 2986, 'mobile': 4986, 'bill': 965, 'beckett': 883, 'lovato': 4535, 'homies': 3517, 'sdownes1972': 6537, 'stu': 7108, 'annekaf': 550, 'motion': 5054, 'overseas': 5570, 'anyhow': 571, 'hcc': 3357, 'sand': 6452, 'key': 4156, 'surf': 7192, 'wave': 8030, 'pierce': 5762, 'koi': 4224, 'remodel': 6214, 'apt': 617, 'twitterville': 7723, 'ciao': 1556, '5yac': 215, 'hairspray': 3286, 'grandma': 3190, 'salsa': 6439, 'verse': 7913, 'chorus': 1530, 'truegabe': 7627, 'feijoa': 2743, 'sorbet': 6906, 'muffins': 5115, 'chutney': 1554, 'etc': 2575, 'large': 4300, 'tree': 7593, 'voipover': 7968, '3g': 173, 'easily': 2400, 'grps': 3230, 'edge': 2420, 'source': 6920, 'sherlockjr': 6646, 'bitter': 990, 'tj_sopher': 7485, 'grill': 3216, 'ravensymone': 6115, 'hayy': 3353, 'young': 8325, 'anime': 543, 'parkrat': 5630, 'dj_bubble': 2213, 'hannahpoulton': 3313, 'chirpy': 1514, 'anasalido': 513, 'weekend': 8057, 'reality': 6134, 'bella456': 907, 'yogurt': 8320, 'menchie': 4842, 'plasticfuzzies': 5812, 'timmy': 7468, '19th': 54, 'shine': 6656, 'istilah': 3843, 'yang': 8274, 'aneh': 525, 'davemcclure': 1996, 'closer': 1605, 'ummahfilms': 7769, 'tweeter': 7679, 'ellie1971': 2464, 'thatï': 7368, 'jazz_nash': 3918, 'ahaha': 383, 'victorious': 7928, 'smange': 6811, 'agen': 371, 'spot': 6974, 'danthedaddy': 1969, 'wholeheartedly': 8114, 'darylsws': 1983, 'execute': 2628, 'strategy': 7086, 'zoecello': 8365, 'cello': 1411, 'cave': 1394, 'convergence': 1752, '13': 33, 'vanilla_b': 7889, 'kat': 4110, 'williams': 8133, 'mrpeterandre': 5082, 'film': 2767, 'sarakgee': 6466, 'sur': 7189, 'ehon': 2441, 'ot': 5541, 'yod9': 8318, 'tons': 7528, 'pc': 5672, 'fitnessdk': 2795, 'rebecca': 6144, 'nu': 5406, 'vi': 7919, 'marjorayy': 4715, 'wntd': 8168, 'supertim': 7182, 'hedder37': 3391, 'carlos0312': 1357, 'djmafia20': 2221, 'wha': 8078, '25th': 90, 'text': 7351, 'skyping': 6771, 'dad': 1925, 'lhr': 4398, 'dep': 2080, 'lounge': 4533, 'brink': 1180, 'adventure': 348, 'connection': 1721, 'denyhosts': 2078, 'mailbox': 4645, 'perhaps': 5704, 'shadow': 6611, 'jgar4': 3972, 'umadamgotlost': 7767, 'wharf': 8083, 'coldest': 1644, 'wind': 8138, 'butcher': 1261, 'meantime': 4808, 'felt': 2747, 'somebody': 6873, 'aerodynamic': 356, 'biscuits': 981, 'available': 734, 'bss7b': 1212, 'wbc2': 8034, 'fulfil': 2966, 'slump': 6807, 'experts': 2639, 'exist': 2632, 'nevermind': 5271, 'hiatus': 3447, '2y3zs': 137, 'queenzita': 6047, 'beanie': 871, 'silence': 6715, '854wcg': 243, 'francis': 2897, 'emilie': 2483, 'autumnal': 732, 'appear': 596, 'stevenage': 7048, 'supraluminal': 7188, 'velocity': 7899, 'angiem93': 532, '2y436': 138, 'bostinbloke': 1100, 'tr': 7563, 'imwb': 3723, 'mï': 5175, 'bay': 852, 'nï': 5417, 'ch': 1425, 'lï': 4600, 'thï': 7445, 'cao': 1343, 'nh': 5290, 'hayvock': 3352, 'jop': 4030, 'lchin': 4342, 'jog': 4002, 'ruby': 6380, 'frontier': 2950, 'hacker': 3271, 'attempt': 699, 'int': 3792, 'dateline': 1990, 'skip': 6765, 'age': 370, 'jelly': 3941, 'bean': 870, 'sexxy': 6603, 'cath_b': 1390, 't8kbb': 7251, 'amandadiva': 480, 'accept': 293, 'sockington': 6854, 'unaware': 7777, '292': 95, '018': 3, 'weight': 8059, 'slimming': 6796, 'lavender': 4329, 'bath': 840, 'starters': 7019, 'defeat': 2051, 'layin': 4337, 'vice': 7924, 'versa': 7912, 'tweeters': 7681, 'leoncitobonito': 4379, 'najicaloves': 5191, 'ticket': 7448, 'myla': 5157, 'fartingpen': 2708, 'occupy': 5438, 'mzyb1': 5172, 'hellobebe': 3405, 'zero': 8359, 'ggen': 3061, 'bloodandmilk': 1036, 'crescent': 1846, 'lion': 4439, 'withdrawn': 8159, 'unity': 7817, 'ryanjschmidt': 6409, 'gear': 3026, 'maxandcats': 4787, 'unplanned': 7827, 'gooooooood': 3158, 'rachel_new': 6076, 'teeny': 7316, 'leprechaun': 4380, 'history': 3474, 'tetris': 7347, 'cheer': 1476, 'ridiculously': 6283, 'apartment': 587, 'huggs': 3599, 'tomorow': 7519, 'fold': 2842, '48': 189, 'unitzeroone': 7818, 'fairy': 2678, 'goddess': 3119, 'joyandlife': 4046, 'hectic': 3390, 'inlookout': 3769, 'junk': 4076, 'mail': 4644, 'prgh': 5943, 'hospital': 3555, 'excitement': 2624, 'stacey9705': 6991, 'stacey': 6990, 'lizpdx': 4466, 'prob': 5957, 'rant': 6104, 'markvanbaale': 4723, 'shame': 6617, 'hansonmusic': 3315, 'squishymatter': 6988, 'alicia': 439, 'aussiecynic': 722, 'indonesian': 3747, 'jayjaylive': 3916, 'down': 2294, 'events': 2585, 'campaign': 1322, 'ordinator': 5526, 'takamasu': 7266, 'ishihara': 3836, 'miyavi': 4969, 'whiteguysdancin': 8105, 'subside': 7133, 'secondment': 6556, 'offices': 5456, 'asurana': 686, 'aptana': 618, 'nathanchase': 5209, 'flickchart': 2815, 'thinkn': 7413, '4ever': 193, 'rachelramsay': 6078, 'reseller': 6233, 'dylzwexford': 2383, 'motorbike': 5057, 'activity': 320, 'aries': 635, 'luke': 4569, 'dcupoy': 2019, 'horny': 3545, 'mikeyway': 4908, '2xzoe': 111, 'frankie': 2901, 'darlin': 1979, 'halls': 3293, 'ith': 3854, 'pug': 6007, 'lvl': 4591, 'blood': 1035, 'dk': 2224, 'eveything': 2600, 'whent': 8094, 'especially': 2567, 'sdotkdotc': 6536, 'withdraw': 8157, 'erinmaher': 2552, 'ummm': 7770, 'ashumittal': 667, 'deserve': 2099, 'skyhd': 6768, 'everybody': 2590, 'galaxyzoo': 2998, 'foodphilosophy': 2858, 'bounce': 1108, 'yahoo': 8270, 'url': 7852, 'polaroidskyline': 5850, 'professorhazard': 5975, '26': 91, 'stoners': 7071, 'shark': 6629, 'fileserver': 2765, 'nas': 5200, 'firefly': 2784, 'server': 6589, 'beanxcore': 872, 'majorgutterball': 4652, 'mrchinbsc': 5080, 'littleunred': 4456, 'runy': 6398, 'scyranth': 6534, 'sleeeep': 6777, 'chattin': 1460, 'surround': 7200, 'urself': 7855, 'positive': 5883, 'mjdancer38': 4971, 'sweater': 7218, 'couldnt': 1801, 'silk': 6717, 'polyester': 5859, 'blend': 1020, 'lovesit': 4544, 'chrisb': 1533, 'josui': 4040, 'gd': 3025, 'env': 2531, 'soooper': 6900, 'sayanosauras': 6488, 'vinu_ms': 7944, 'grindin': 3219, 'drama': 2310, 'bbc': 858, 'mural': 5129, 'mrsocial': 5086, 'gooddd': 3139, 'markjarvis': 4721, 'goody': 3148, 'emvicw': 2501, 'interpret': 3805, 'treyderbes': 7602, 'spoonbender': 6972, 'trey': 7601, 'sleazy': 6775, 'sleeepyy': 6780, 'jhayu': 3973, 'maggi': 4634, 'noodles': 5369, 'officialprofoz': 5460, 'oz': 5581, 'macosken': 4617, 'pinkcat': 5780, '2y0cg': 112, 'dish': 2191, 'taylor': 7295, 'table': 7255, 'formal': 2875, 'bright': 1171, 'breezy': 1151, 'lunchtime': 4575, 'wordpress': 8195, 'c5uufd': 1281, 'greggrunberg': 3213, 'act': 314, 'wonderfully': 8180, 'ep': 2532, 'monster': 5021, 'fate': 2716, 'worse': 8213, 'danko': 1960, 'vin': 7942, 'diesel': 2147, 'ing': 3764, 'towards': 7558, 'contact': 1736, 'kennethreitz': 4145, 'oatmeal': 5424, 'strawburry17': 7089, 'turkish': 7665, 'style': 7122, 'ek': 2448, '1xwae': 63, 'bombard': 1069, 'ho': 3488, 'chessington': 1488, 'onwards': 5498, 'charlie': 1453, 'unicorn': 7812, 'newgrounds': 5277, 'portal': 5878, '490280': 190, 'aniita_0517': 539, 'ani': 538, 'twitterworld': 7724, 'zzap': 8374, 'hide': 3450, 'anywaysss': 581, 'maikeru76': 4642, 'np': 5400, 'marriott': 4731, 'iin': 3680, 'mp': 5070, 'justg': 4079, 'logo': 4483, 'logofi': 4484, 'jake': 3889, 'gh': 3063, 'metallica': 4859, 'pikchur': 5767, 't4c': 7250, 'shihan': 6652, 'inprogress': 3776, 'marshmallows': 4735, 'goods': 3147, 'goldenfish00': 3129, 'yesss': 8303, 'rachel': 6075, 'fressh': 2933, 'artistwells': 655, 'mollydotcom': 4999, 'molly': 4998, 'lukaskywalker': 4568, 'oth': 5544, 's5': 6422, 'sendchocolate': 6573, 'jsut': 4057, 'noticeable': 5393, 'seek': 6561, 'truth': 7634, 'powerful': 5900, 'perl': 5706, 'cpan': 1818, 'installer': 3787, 'quirky': 6055, 'humour': 3611, 'docs': 2241, 'safe': 6433, 'justdes': 4078, 'aware': 743, 'kidsgoape': 4172, '7yrs': 237, 'thankyou': 7362, 'normgregory': 5380, 'huge': 3597, 'wrap': 8223, 'creepily': 1844, 'accurate': 303, 'kellyleahy': 4141, 'battery': 846, 'mey': 4865, 'kming': 4207, 'puppies': 6018, 'lalaki': 4283, 'babae': 772, 'mzz7b': 5174, 'timjennion': 7467, 'mistydavies': 4964, 'barcode': 828, 'scanners': 6495, 'tsarnick': 7638, 'headache': 3361, 'manage': 4670, 'bffs': 950, 'freelance': 2917, 'graduation': 3184, 'championship': 1437, 'twoosh': 7731, 'wishlist': 8154, 'musics': 5139, 'jprice': 4051, 'swing': 7229, 'htwn': 3591, 'aiden': 396, 'lukas': 4567, 'taylorians': 7296, 'francophones': 2899, 'franï': 2907, 'ais': 412, 'julesbianchi': 4063, 'participate': 5636, 'fusion': 2977, 'health': 3369, 'hospitals': 3556, 'clickabrick': 1596, 'org': 5528, 'addthis': 333, 'brick': 1164, 'efng': 2435, 'wheelbarrow': 8092, 'thanx': 7364, 'fang04': 2701, 'soemone': 6858, 'jk': 3988, 'sleeep': 6779, 'hotel': 3559, '112': 25, 'calories': 1311, 'coolest': 1768, 'testament': 7346, 'jonanthan': 4023, 'require': 6228, 'ibiza': 3646, 'minorca': 4930, 'mooch': 5028, 'besterzz': 933, 'tight': 7457, 'cuckold': 1879, 'nerve': 5256, 'niteflirt': 5338, 'romanxcandle': 6341, 'jillalbano': 3978, 'clearly': 1591, 'origin': 5532, 'iii': 3679, 'rudd': 6382, 'accom': 298, 'dj_vic': 2214, 'inc': 3727, 'hurricane': 3625, 'casual_intruder': 1383, 'harold': 3329, 'iphonedevgirl': 3821, 'active': 318, 'greet': 3212, 'berlin': 925, 'rodnet': 6331, 'rid': 6279, 'function': 2970, 'fever': 2751, 'yey': 8307, 'fluffy': 2830, 'inside': 3779, '2y487': 139, 'tmrw': 7491, 'bagay': 796, 'naman': 5194, 'chriscornell': 1535, 'engagament': 2512, 'ring': 6292, 'dash': 1985, 'midnight_plue': 4897, 'plue': 5827, 'mozy19': 5069, 'canucks': 1341, 'drbaher': 2314, 'tick': 7447, 'number': 5408, '2y4c4': 141, 'roundsparrow': 6365, 'second': 6555, 'rightgirl': 6287, 'ryanmwilson': 6410, 'urbanpinkpixie': 7848, 'het': 3435, 'tony': 7529, 'forename': 2867, 'anthony': 565, 'tw': 7672, 'supposedly': 7187, 'motel': 5050, 'owner': 5575, 'insurance': 3791, 'per': 5698, 'center': 1414, 'execs': 2627, 'leogaggl': 4377, 'mrtweet_alert': 5089, 'peterdeetm': 5719, 'twittin': 7726, 'liiiittle': 4415, 'dean': 2028, 'keally': 4129, 'chifor': 1499, 'cu': 1876, 'placere': 5805, 'dmcar': 2231, 'bottom': 1107, 'trousers': 7619, 'go0seegg': 3113, 'blondilucious': 1034, 'kelisha': 4137, 'taste': 7288, 'consider': 1731, 'disability': 2172, 'amongst': 499, 'dsi': 2342, 'najoo': 5192, 'heyyyy': 3440, 'ol': 5477, 'stayin': 7031, '9th': 259, '24th': 84, 'april': 616, 'pinguino': 5779, 'marge_and_puds': 4705, 'hughesforce': 3600, 'plato': 5814, 'notebook': 5388, 'collect': 1650, 'you': 8323, 'dhewlett': 2127, 'ignore': 3673, 'mysql': 5162, 'admin': 336, 'johnheimkes': 4010, 'rowanpony': 6369, 'deg': 2059, 'brrr': 1206, 'fanfiction': 2700, 'piece': 5761, 'swear': 7216, 'erik': 2547, 'lyanna': 4593, 'roses_are_red': 6354, 'award': 742, 'samandfuzzy': 6443, 'neww': 5284, 'rawr': 6117, 'boredd': 1093, 'surial': 7196, 'input': 3777, 'ncvbxfgf': 5230, 'jogabenita': 4003, 'valtan29': 7882, 'joeaugustin': 3999, 'lyrradnahc': 4599, 'arguments': 630, 'gentle': 3038, 'reminder': 6213, 'makeshift': 4657, 'patch': 5651, 'hittin': 3478, 'blackpool': 1005, 'besterz': 932, 'aparently': 585, 'whaaaat': 8080, 'yeahhh': 8291, 'woop': 8191, 'birth': 978, 'todaya': 7500, 'goood': 3154, 'wolfman70': 8171, 'chrisjkamrada': 1537, '2xw19': 110, 'spotonpr': 6975, 'psfk': 5998, 'conference': 1707, 'approx': 612, '400': 180, 'reasonable': 6142, 'blokeslib': 1033, 'relate': 6197, 'sloppy': 6801, 'meds': 4818, 'zukyleigh': 8371, 'madam': 4621, 'jmac777': 3990, 'mature': 4783, 'average': 736, 'abc': 281, 'rhyme': 6269, 'luvdamall': 4585, 'bleed': 1016, 'arfanchaudhry': 624, 'candle': 1333, 'ment': 4844, 'specific': 6944, 'gender': 3034, 'matter': 4773, 'royalguardofoz': 6373, 'emflip': 2482, 'tweetbook': 7677, 'mike_greening': 4903, 'horse': 3554, 'malunis': 4665, 'ohh': 5466, 'classics': 1584, 'armada': 639, 'seekers': 6562, 'minicons': 4928, 'terryfree': 7342, 'unfortunately': 7806, 'elementsofjazz': 2457, 'physically': 5752, 'steeltrain': 7036, 'knitster': 4215, 'loveistoartas': 4539, 'videos': 7933, 'chkdxb': 1515, 'examiner': 2614, '6143': 218, 'chicago': 1493, 'enneagram': 2520, 'baker_girl': 805, 'dilemma': 2160, 'baker': 804, 'laurange': 4321, 'panic': 5611, 'besides': 929, 'gargoyles': 3010, 'kinds': 4183, 'jen_huckdoll': 3944, 'musical': 5137, 'kinokuniyaaust': 4188, 'bookclub': 1082, 'writer': 8230, 'braille': 1126, 'porn': 5876, 'stunt': 7118, 'model': 4991, 'palmolive': 5604, 'dishwashing': 2192, 'liquid': 4443, 'shinyhappyhead': 6659, 'fairies': 2676, 'bond': 1072, 'hormone': 3543, 'climax': 1599, 'imqg': 3722, 'tnx': 7492, 'imarriage': 3704, 'daysss': 2009, 'gunna': 3251, 'grapes': 3197, 'effort': 2434, 'pogosaito': 5840, 'bushel': 1254, 'bananas': 819, 'm2thak': 4603, 'footlong': 2862, 'retard': 6250, 'mistressdragon': 4962, 'corrupt': 1793, 'hibernia1': 3449, 'ie': 3668, 'buenas': 1221, 'stonded': 7068, 'hetty4christ': 3436, 'yw': 8347, 'grass': 3198, 'jreneebuchholz': 4052, 'pleasant': 5821, 'convo': 1759, 'momma': 5007, 'boutr': 1113, 'danseto': 1968, 'roger': 6335, 'sir': 6740, 'cub': 1877, 'h4nn4hhh': 3267, 'becuase': 888, 'cyrus': 1918, 'surname': 7198, 'hurley': 3624, 'shirt': 6662, 'justis': 4082, 'likewise': 4418, 'nicnina': 5303, 'tolicesdoorkut': 7507, 'ria': 6270, 'pouco': 5893, 'bumbers': 1234, 'slingplayer': 6797, 'cd': 1400, 'leon': 4378, 'maxxiecat': 4790, 'blackehart': 1004, 'gratz': 3202, 'nazi': 5223, 'oskar': 5540, 'schindler': 6509, 'eivindj': 2447, 'dentist': 2076, 'sense': 6575, 'squeaky': 6983, 'shemah': 6644, 'shem': 6643, 'trailer': 7573, 'transformers': 7579, 'jpp': 4050, 'lucas': 4558, 'mesmerize': 4856, 'herbal': 3419, 'essence': 2571, 'freshselects': 2931, 'melaniemerkosky': 4830, 'heres': 3423, 'angel': 527, 'babyboxes': 778, 'livejournal': 4460, '123900': 31, 'googeegoo': 3151, 'edlectronic': 2422, 'ladytron': 4275, 'skinnylatte': 6764, 'matthew': 4776, 'broderick': 1194, 'broadway': 1192, 'hannah': 3312, 'montana': 5023, 'vivalanina': 7953, 'distance': 2202, 'relationship': 6198, 'lovingfromadistance': 4547, 'thingsforldrcouplestodo': 7411, 'koriannespeaks': 4232, 'addiction': 331, 'trouble': 7617, 'jsxm': 4058, 'swetdreamss': 7226, 'everyonee': 2593, 'jar': 3905, 'kyte': 4258, 'puff': 6006, 'bhs': 954, 'a1': 267, 'hl': 3483, 'sl': 6772, 'noise': 5355, 'tango': 7279, 'kisha': 4190, 'cnt': 1618, 'frm': 2947, 'decryption': 2043, 'physical': 5751, '2y4g4': 142, 'rrankinwalker': 6374, 'california': 1304, 'cashless': 1377, 'booo': 1084, 'joke': 4016, 'almostsurprised': 460, 'cataxrevolt': 1386, 'sober': 6848, 'accuse': 304, 'alcoholic': 429, 'horray': 3546, 'bazaar': 854, 'bizarre': 995, 'maker': 4656, 'faire': 2675, 'vendors': 7902, 'bazbiz': 855, 'honor': 3528, 'twliciousness': 7729, 'moltz': 5000, 'hank': 3309, 'lesson': 4383, 'c6nmgq': 1282, 'phillyd': 5733, 'reguards': 6188, 'phatelara': 5726, 'debbs': 2034, 'webbs': 8043, 'sleepover': 6786, 'corey': 1783, 'korey': 4231, 'foot': 2860, 'middleclassgirl': 4894, 'stretch': 7096, 'handwrote': 3305, 'installing': 3788, 'kotor': 4234, 'intend': 3795, 'thebigfelafel': 7374, 'rossi': 6357, 'torture': 7545, 'tweetin': 7687, '11m': 27, 'cornbreadturner': 1785, 'gotmilk': 3167, 'natasha': 5206, 'moffitt': 4997, 'library': 4401, 'golda': 3127, 'kuya': 4250, 'rosauro': 6352, 'ichat': 3653, 'certainly': 1423, 'lauralkgw': 4320, '18': 48, 'derangedangel': 2089, 'lordshaper': 4515, 'bait': 800, 'breath': 1150, 'maintain': 4648, 'fresher': 2929, 'dirtysoufyankee': 2170, 'likely': 4417, 'fresh': 2928, 'batch': 839, 'koolaid': 4227, 'yummy': 8342, 'munche': 5126, 'thomasgudgeon': 7421, 'kal_penn': 4091, 'congratulation': 1717, 'kutner': 4248, 'mediatemple': 4814, 'mt': 5103, 'referrals': 6177, 'djgreatscott': 2218, 'git': 3090, 'dov': 2293, 'hookitupppp': 3533, 'sayin': 6489, 'evankirkendall': 2580, 'australia': 727, 'foxwhisperer': 2886, 'ls4': 4553, 'masterballerina': 4753, 'ecull1901': 2416, 'creativejenius': 1837, 'teknetia': 7322, 'lush': 4579, 'products': 5972, 'jif': 3977, 'spoon': 6971, 'tomfelton': 7511, 'challens': 1432, 'elton': 2471, 'fricken': 2936, 'battlefield': 848, 'frenz': 2927, 'genethefotog': 3037, 'frd': 2909, 'jfreem94': 3971, 'grade': 3182, '96': 256, 'grader': 3183, 'auto': 730, 'dock': 2240, 'accident': 295, 'elizabethkle': 2462, 'quotation': 6060, 'housie': 3571, 'cherry': 1485, 'blossom': 1040, 'micresendo3000': 4886, 'sex': 6600, 'mental': 4845, 'image': 3699, 'useful': 7860, 'elainegiles': 2451, 'monitor': 5018, 'germany': 3052, 'crisis': 1853, 'mall': 4663, 'annoy': 556, 'sometimes': 6881, 'thenewschick': 7389, 'optimist': 5520, 'mariners': 4712, 'price': 5944, 'items': 3853, 'flyers': 2833, 'finalize': 2771, 'pajama': 5601, 'jammie': 3894, 'undaground': 7786, 'xjizzlebabix': 8254, 'snipr': 6837, 'fe6zu': 2729, 'poland': 5849, 'ingridmusic': 3765, 'article': 650, 'maltese': 4664, 'xxdrew0590': 8263, 'voicemail': 7966, '72331': 230, 'atmosphere': 696, 'board': 1054, 'inclusive': 3731, 'grandmother': 3191, 'innocent': 3773, 'gables': 2992, 'younger': 8327, 'lanaclevermomme': 4286, 'nasty': 5203, 'grams': 3188, 'ientje89': 3669, 'mfc': 4867, 'huglove': 3601, 'arse': 646, 'bizarro': 996, 'xx': 8262, 'aaronshale': 275, 'bruv': 1209, 'delay': 2065, 'houston': 3572, 'pint': 5783, 'mattwayneceleb': 4780, 'mommybrain': 5009, 'idjd': 3662, 'avvie': 739, 'bunny': 1240, 'return': 6252, 'colinsteers': 1647, '2vzw6': 107, 'naked': 5193, 'repeat': 6221, 'transmission': 7581, 'american': 494, 'canadian': 1327, 'dig': 2154, '13vpz': 38, 'photojack': 5745, 'audio': 711, 'exercise': 2629, 'belong': 911, 'sleeeepin': 6778, 'brandonjshaw': 1136, 'uni': 7811, 'gary_hitchman': 3012, 'pesamob': 5715, 'hubby': 3594, 'african': 364, 'finance': 2774, 'micro': 4887, 'bakee': 803, 'hihik': 3458, 'brandiei': 1134, 'matswife': 4768, '12': 29, 'mryoungharlem': 5090, 'splashy': 6964, 'jpierce': 4049, 'dwarf': 2378, 'raywjohnson': 6119, 'phewww': 5729, 'valorandvellum': 7881, 'sadly': 6430, 'marraige': 4729, 'melendez': 4833, 'eubanks': 2576, 'goldenshoes': 3130, 'pcos': 5674, 'las': 4305, 'bell': 906, 'billabong': 966, 'cwelchtn': 1911, 'chipdaves': 1512, 'beatles': 876, 'trek': 7595, 'golden': 3128, 'entry': 2530, 'reserve': 6235, 'circle': 1564, 'jjchicken': 3987, 'schofe': 6512, 'philip': 5730, 'ahem': 387, 'botb': 1103, 'jakechew': 3890, 'ang': 526, 'ganda': 3005, 'nga': 5288, 'intentional': 3797, 'colourfulmoney': 1656, 'nothin': 5390, 'doin': 2255, 'twitearth': 7705, 'edwardlawrence': 2426, 'musicthelev': 5140, 'owww': 5576, 'donk': 2265, 'diajarin': 2131, 'musicaddikt787': 5136, 'crystal': 1871, 'single': 6735, 'awe': 745, 'firebug': 2783, 'firefox': 2785, 'paddington': 5590, 'andy065': 522, 'dileno': 2161, 'straighten': 7080, 'equal': 2541, 'happiness': 3320, 'boat': 1055, 'tammzy': 7276, 'ridiculous': 6282, 'cept': 1418, 'audrina': 712, 'carmanuals': 1360, 'doityourselfs': 2257, 'electricity101': 2454, 'larry_david': 4302, 'material': 4758, 'inventive': 3812, 'intelligent': 3794, 'curb': 1889, 'fakeaclu': 2684, 'peoplebrowsr': 5695, 'columns': 1658, 'settings': 6593, 'cloud': 1608, 'honestly': 3521, 'malcolli': 4661, 'crits': 1854, 'godsgirlscam': 3121, 'girly': 3088, 'candy': 1334, 'cover': 1814, 'horribly': 3549, '90': 253, 'pre': 5916, 'empt': 2498, 'bittersweetbaby': 991, 'target': 7286, 'hiii': 3459, 'nicole': 5304, 'theprincebeme': 7393, 'scandalously': 6494, 'sarahatwood': 6461, 'rod': 6330, 'openingday': 5512, 'innala_re': 3771, 'clients': 1598, 'vid': 7930, 'loss': 4521, 'vlogging': 7960, 'alleycat24': 453, 'paulmonkey': 5666, 'sugar': 7150, 'rehydrate': 6194, 'quickly': 6050, 'bluegrass_it': 1046, 'exeter': 2630, '7th': 236, '2y4ky': 144, 'threadless': 7429, 'mariaandros': 4708, 'opps': 5516, 'cassette': 1380, 'maymaym': 4795, 'kfanyc': 4161, 'space': 6924, 'retailer': 6249, 'snufsnuf': 6842, 'penang': 5690, 'tmere': 7489, 'ed': 2417, 'jayjayklees': 3915, 'gold': 3126, 'lifes': 4407, 'atlanta': 694, 'hire': 3473, 'bejithebear': 902, 'infatuate': 3754, 'ramoso': 6096, 'hihi': 3457, 'bull': 1228, 'induct': 3750, 'flofficers': 2824, 'acmaster27': 311, 'political': 5855, 'bias': 955, 'cable': 1288, 'looooooong': 4506, 'cheekipoo': 1475, 'gooooooooood': 3159, 'adamcsmith': 324, 'french': 2925, 'franceskim': 2896, 'forecast': 2866, 'cyprus': 1917, 'turkey': 7664, 'mmmmm': 4981, 'brenton': 1155, 'butt': 1262, 'bikini': 964, 'ava': 733, 'cigarettes': 1560, 'apps': 613, 'dogbook': 2249, '6352671': 220, 'wohoooo': 8170, 'wilco': 8128, 'pukkelpop': 6009, 'massive': 4751, 'trench': 7596, 'warfare': 8009, 'defense': 2052, 'papal': 5614, '1983': 53, 'forum': 2877, 'based': 833, 'geopolitical': 3044, 'wargames': 8010, 'airplanemancf': 410, 'nicolevilareal': 5306, 'anefallarme': 524, 'chop': 1526, 'rush': 6400, 'scrivener': 6530, 'afterwards': 369, 'argue': 629, 'ahupua': 393, 'swirlyarts': 7230, 'cuteable': 1902, 'mi': 4871, 'promisin': 5983, 'cleanse': 1589, 'prayin': 5915, 'twittheads': 7725, 'weyburn': 8077, 'knitluck': 4214, 'crochet': 1855, 'washcloths': 8019, 'afghanartistry': 361, 'urge': 7850, 'karate': 4101, 'chopsticks': 1528, 'oriental': 5531, 'wing': 8143, '2y4o6': 145, 'moonfrye': 5031, 'extraordinarily': 2649, 'consistently': 1733, 'kyleandjackieo': 4256, 'hangbags': 3307, 'cherish': 1484, 'clamson': 1576, 'nooooooooo': 5374, 'iron': 3829, 'nag': 5186, 'thisismyiq': 7417, 'g0': 2985, 't0': 7249, 'wat': 8023, 'doinggggg': 2256, 'wtheck': 8238, 'cereal': 1420, 'innocent42nite': 3774, 'sadness': 6431, 'aswinanand': 688, 'verge': 7908, 'ruin': 6387, 'dontya': 2271, 'richschefren': 6278, 'amy440': 507, 'hahahha': 3281, 'cheesecake': 1478, 'captain': 1348, 'sparrow': 6933, 'digitalhero': 2157, 'ship': 6660, 'geoffjones': 3042, 'dunkroos': 2368, 'dunk': 2366, 'ems': 2500, 'flavor': 2808, 'awesomely': 748, 'oreo': 5527, 'stinson': 7061, 'lightbox': 4411, 'clock': 1602, 'vielleicht': 7935, 'rocky': 6329, 'horror': 3552, 'headin': 3362, 'cookin': 1764, 'wpwebhost': 8222, '110': 21, '80px': 241, 'banner': 824, 'sexpensive': 6602, 'orkut': 5534, 'phishing': 5736, 'note': 5387, 'damohopo': 1940, 'spare': 6931, 'gooey': 3149, 'lsndr87': 4555, 'lizlin': 4464, 'multivitamins': 5121, 'vitamins': 7951, 'gordonchiu': 3161, 'letter': 4386, 'alway': 473, 'qtbrowneyes': 6037, 'bikeindia': 962, 'bunnies': 1239, 'lcr': 4343, 'alrdy': 466, 'hollow': 3503, 'kim': 4176, 'harrison': 3331, 'witch': 8156, 'less': 4382, '24h': 83, 'launch': 4316, 'trust': 7632, 'idonthavefleas': 3666, 'sooooooooooo': 6899, 'ladyexec': 4272, 'mrtweet': 5088, 'positivity': 5885, 'bio': 971, 'connect': 1720, 'ryanhopesudie': 6408, 'mariannemarlow': 4709, 'maddysen': 4626, 'rapidshare': 6107, 'files': 2764, '218348030': 75, 'summer_cd_2009': 7165, 'zip': 8362, 'indie': 3743, 'pop': 5871, 'tyrese4real': 7743, 'sathyabhat': 6477, 'ahan': 385, 'danke': 1959, 'dougiemcfly': 2292, 'dougie': 2291, 'ocean': 5440, 'desert': 2098, 'lenten': 4376, 'xjane': 8253, 'subject': 7129, 'eww': 2609, 'maths': 4766, 'epidaetia': 2534, 'abt': 289, 'summit': 7166, 'sybil': 7236, 'michaelkwan': 4879, 'smart': 6813, '98': 257, 'interpretor': 3806, 'biz': 994, 'dev': 2111, 'yunoo': 8343, 'beers': 895, 'glenzgolfvi': 3098, 'pears': 5680, 'fruit': 2955, 'iuehasxb8em': 3865, 'isa': 3833, 'un': 7773, 'kodoliga': 4223, 'futuralogija': 2978, 'tonjac': 7527, 'artist': 652, '0mie': 10, 'jail': 3887, '_flik_': 261, 'worker': 8199, 'youngaq': 8326, 'ruthylany': 6405, 'johannacherry': 4005, 'midlifecrunch': 4895, 'k3n13': 4085, 'encantado': 2504, 'soulforce84': 6913, 'demib': 2071, 'rather': 6113, 'stalkers': 7005, 'blueflameit': 1045, 'ex': 2611, 'arrows': 644, 'privilege': 5955, 'theblades': 7375, 'slideshare_dan': 6792, 'megaupload': 4824, 'blegoopr': 1018, 'mere': 4852, 'suburbanhipster': 7135, 'michelle': 4882, 'msnichole': 5100, 'purse': 6024, 'twitterland': 7719, 'belle': 908, 'samiyusuf': 6444, 'recommend': 6158, 'immediate': 3709, 'ws': 8234, 'esma': 2562, 'naivelondongirl': 5190, 'howdy': 3575, 'maam': 4608, 'dandy': 1947, 'naive': 5189, 'dutch': 2373, 'djlogansama': 2220, 'fault': 2717, 'pj23harry': 5798, 'lokki': 4486, 'meow': 4848, 'wander': 8004, 'kristenjstewart': 4239, 'hipster': 3472, 'jerk': 3960, 'bricksh0t7': 1165, 'sarcasm': 6470, 'hellos': 3406, 'reflections': 6179, 'hunny': 3618, 'vampires': 7884, 'bloodsucking': 1037, 'salespeople': 6438, 'daddy': 1926, 'lycan': 4594, 'willie_day26': 8134, 'dancemasstv': 1946, 'noiseboyartist': 5356, 'complaint': 1690, 'agent': 373, 'of': 5451, '75': 231, 'degrees': 2062, 'spongebob': 6970, 'icywings11': 3657, 'icy': 3656, 'brill': 1175, 'disappear': 2174, 'mandy': 4675, 'jorskwen': 4033, 'properly': 5988, 'pix': 5791, 'comedian': 1666, 'griffin': 3214, 'difficult': 2152, 'sleeping': 6784, 'suicide': 7153, 'eight': 2442, 'york': 8321, 'grimtorn': 3217, 'religion': 6204, 'wheat': 8089, 'bix': 993, 'maple': 4693, 'syrup': 7245, 'alexandramusic': 436, 'darthweef': 1981, 'definately': 2053, 'rev': 6257, 'scam': 6492, 'fildias': 2762, 'n03es': 5177, 'jaybrannan': 3914, 'jerichok': 3958, 'gettin': 3056, 'hollywood': 3504, 'undead': 7787, 'mmmmhmmm': 4980, 'tom': 7509, 'jessica': 3966, 'kenichan': 4144, 'cigar': 1558, 'toffee': 7504, 'riles_puppy': 6290, 'puppyjamaica': 6020, 'pup': 6016, 'fwd': 2983, 'bark': 829, 'devo21': 2119, 'blueaero': 1043, 'ooo': 5501, 'novels': 5397, 'justin': 4081, 'farewell': 2707, 'simx': 6729, 'typeracer': 7741, 'fakecedric': 2685, 'ced': 1405, 'succinct': 7140, 'scarlettdane': 6499, 'volterra': 7969, 'benhafner': 919, 'jocam': 3997, 'couple': 1808, 'rokchic28': 6337, 'probs': 5961, 'sell': 6568, 'snedwan': 6831, 'triple': 7609, 'wrestlemania': 8227, 'predictions': 5920, 'itsangie': 3860, 'apples': 601, 'nectarines': 5239, 'flat': 2807, 'strawberries': 7087, 'cup': 1885, 'walnuts': 8000, 'slice': 6789, 'dice': 2137, 'perfection': 5701, 'myfwarhurst': 5152, 'pixies': 5796, 'underplay': 7794, 'yoyo_ma': 8332, 'twenty': 7693, 'rapey': 6106, 'weeeeeeh': 8054, 'hematocrit': 3414, 'souljaboytellem': 6914, 'vdichev': 7891, 'pingfm': 5776, 'monhae': 5017, 'tearful': 7306, 'simply': 6725, 'safety': 6434, 'dah': 1928, 'unemployment': 7798, 'mathewanthony': 4764, 'mathew': 4763, 'huhh': 3603, 'shipovalov': 6661, 'nokla': 5358, 'didigiggles': 2141, 'sermon': 6587, 'dragonball': 2307, 'evolution': 2605, 'fontana': 2855, 'uhh': 7757, 'marcfennell': 4698, 'premier': 5926, 'mynews24': 5159, 'shalinique': 6615, 'anjuli_nz': 545, 'island': 3837, 'driftered': 2323, 'champion': 1436, 'league': 4346, 'rmolden': 6306, 'maaan': 4607, 'kal': 4090, 'michellecottis': 4883, '89407': 247, 'louisgagliardi': 4531, 'shiiit': 6653, 'douche': 2288, 'scarf': 6497, 'bank': 823, 'fuuuuuuuun': 2980, 'meditate': 4816, 'ebbod1': 2410, 'ebbod2': 2411, 'ebbod3': 2412, 'puzzle': 6031, 'umtweeti': 7772, 'wam': 8001, 'apreezyl': 615, 'haay': 3269, 'attendance': 701, 'amaaazing': 478, 'uno': 7825, 'mers': 4854, 'pana': 5607, 'padurea': 5593, 'spatele': 6936, 'curtii': 1895, 'si': 6696, 'uitati': 7760, 'ce': 1402, 'gasit': 3015, 'totromancuta': 7550, 'deviantart': 2116, 'art': 649, 'born': 1096, '118398460': 26, 'mcawilliams': 4799, 'calm': 1309, 'heiko': 3399, 'sevinnyne6126': 6598, 'mattyza': 4782, 'wp': 8221, 'commerce': 1674, 'buggy': 1225, 'custom': 1898, 'didier': 2140, 'boost': 1088, 'uefa': 7749, 'cleague': 1587, 'score': 6516, '4us': 198, 'finger': 2777, 'tonebeep': 7523, 'hollleer': 3502, 'michellepearl': 4884, '2y4vg': 146, 'sc': 6491, 'santa': 6456, 'cruz': 1869, 'cactjn': 1290, 'mileys': 4914, 'chirp': 1513, 'lizmyers': 4465, 'impressions': 3718, 'tunes': 7661, 'legitimate': 4365, 'kumar': 4246, 'sanu': 6457, 'singers': 6734, 'imzw': 3724, 'partywater': 5642, 'no': 5346, 'madden': 4624, '08': 7, '09': 8, 'needlestack': 5244, 'scar': 6496, 'fulfillment': 2967, 'msg': 5095, 'jhonenv': 3975, 'precious': 5918, 'pinch': 5774, 'cheek': 1474, 'frog': 2948, 'n04bs': 5178, 'geez': 3031, 'o_0': 5418, 'robs_maid': 6323, 'lagiggles': 4278, 'pplist': 5904, 'viking': 7939, 'impersonation': 3712, 'helmet': 3410, 'saudarilee': 6481, 'rompers': 6342, 'zee': 8356, 'lookin': 4502, 'mellyford': 4835, 'kryptonite': 4242, 'melly': 4834, 'permit': 5709, '36': 163, 'susielin': 7204, 'convey': 1756, 'myopicjoe': 5160, 'benjamin': 921, 'button': 1266, 'script': 6527, 'smh': 6817, 'consume': 1735, 'advantage': 347, 'iammarkus': 3645, 'jep': 3956, 'iphoto': 3822, 'is': 3832, 'r5il': 6065, 'rachrouch': 6080, 'deadlines': 2023, 'anchorwoman': 516, 'multiple': 5118, 'dbwg8p': 2014, 'duanestorey': 2349, 'papalazarou': 5615, 'aha': 382, 'kilian': 4173, 'resharper': 6236, 'release': 6201, 'bac': 781, 'lib': 4400, '2morrow': 102, 'sheet': 6638, 'sehr': 6564, 'sucht': 7141, 'snake66': 6826, 'deaf': 2025, 'op': 5510, 'brighter': 1173, 'becky_howard': 885, 'hammett': 3298, 'fizzyduck': 2799, 'five': 2796, 'ryanodonnell': 6411, 'c3e3ub': 1278, 'damygeebo': 1941, 'carli': 1356, 'suzanne': 7212, 'hardly': 3328, 'luke_stephens': 4570, 'switchfoot': 7233, '2y1zl': 115, 'bummer': 1235, 'shoulda': 6682, 'david': 1998, 'carr': 1366, 'upset': 7842, 'bound': 1109, 'itchy': 3849, 'nationwideclass': 5211, 'kwesidei': 4251, 'crew': 1847, 'loltrish': 4493, 'tatiana_k': 7290, 'nope': 5375, 'twittera': 7711, 'que': 6044, 'muera': 5114, 'plain': 5807, 'pierced': 5763, 'ears': 2396, 'caregiving': 1355, 'ua': 7744, 'embarrass': 2478, 'octolinz16': 5443, 'smarrison': 6812, 'gun': 3249, 'zac': 8348, 'snyder': 6844, 'doucheclown': 2289, 'iamjazzyfizzle': 3643, 'iamlilnicki': 3644, 'hollis': 3501, 'scene': 6504, 'severely': 6597, 'wry': 8233, 'directors': 2168, 'lettya': 4388, 'rent': 6217, 'soundtrack': 6916, 'fakerpattypattz': 2686, 'alydesigns': 475, 'mid': 4891, 'valley': 7879, 'angry_barista': 535, 'ated': 690, 'blagh': 1006, 'marley': 4724, 'lilly': 4423, 'ooooh': 5503, 'leslie': 4381, 'meh': 4826, 'lover': 4542, 'exception': 2620, 'depress': 2085, 'hack': 3270, 'aim': 401, 'alielayus': 440, 'promote': 5985, 'unfornately': 7804, 'anaheim': 510, 'option': 5522, 'evaluations': 2579, 'julieebaby': 4067, 'humpninja': 3612, 'asian': 669, 'puke': 6008, 'cocomix04': 1628, 'workin': 8200, 'missxu': 4958, 'gmt': 3109, 'fnge': 2837, 'fleurylis': 2813, 'suitcases': 7156, 'tomorrows': 7521, 'practical': 5907, 'teardrops': 7305, 'guitar': 3245, 'comfortable': 1668, 'tracy': 7566, 'viennah': 7936, 'timeline': 7465, 'twanking': 7673, 'bgs': 952, 'uids': 7759, 'jeancjumbe': 3930, 'fave': 2719, 'strangely': 7084, 'lilo': 4424, 'samro': 6447, 'retweeting': 6254, 'dcuc33': 2018, 'diigo': 2159, 'tautao': 7293, 'localtweeps': 4477, 'unfollow': 7802, 'scroll': 6531, 'wayyy': 8033, 'hatch': 3340, 'crash': 1829, 'andywana': 523, 'pos': 5880, 'trade': 7568, 'assets': 678, 'andy': 521, 'oanhlove': 5423, 'mmm': 4977, '92': 255, 'sd': 6535, 'yer': 8299, 'batmanyng': 845, 'ps3': 5997, 'commission': 1676, 'wutcha': 8241, 'cop': 1774, 'coitus': 1638, 'cigarette': 1559, 'shuck': 6690, 'damm': 1935, 'wage': 7984, 'clam': 1574, 'katortiz': 4120, 'lt_algonquin': 4557, 'failwhale': 2673, 'allllll': 455, 'jdarter': 3925, 'unless': 7821, 'nikster': 5322, 'attire': 703, 'puma': 6012, 'singlet': 6736, 'adidas': 335, 'sock': 6853, 'leather': 4351, 'location': 4478, '2y2es': 118, 'ashleyac': 663, 'donkey': 2266, 'sensitive': 6577, 'nevertheless': 5272, 'me': 4803, 'asap': 657, 'charger': 1449, 'awol': 753, 'fml': 2835, 'arm': 638, 'unhappy': 7809, 'split': 6966, 'seccond': 6554, 'statravelau': 7027, 'newsletter': 5282, 'fare': 2706, 'unbelievable': 7779, 'boo': 1077, 'markhardy1974': 4719, 'itm': 3855, 'chalk': 1429, 'chalkboard': 1430, 'useless': 7861, 'getty': 3057, 'villa': 7941, 'msdrama': 5094, 'sup': 7174, 'tummy': 7657, 'hypnosis': 3636, 'januarycrimson': 3900, 'muahaha': 5110, 'evil': 2603, 'hollywoodheat': 3505, 'photoshop': 5748, 'webpage': 8045, 'cameron': 1318, 'threaten': 7430, 'sh': 6609, 'makeherfamous': 4655, 'constants': 1734, 'ulike': 7763, 'strider': 7098, '5248435': 202, 'rylee': 6416, 'wana': 8003, 'wnt': 8167, 'bracket': 1122, 'pool': 5866, 'stark': 7015, 'astros': 685, 'spartans': 6934, 'northern': 5382, 'calif': 1303, 'remain': 6208, 'imji': 3707, 'mangaaa': 4678, 'increase': 3735, 'capacity': 1344, 'whale': 8082, 'behind': 900, 'kpreyes': 4236, 'leg': 4361, 'strike': 7099, 'paradisej': 5620, 'complaints': 1691, 'overheat': 5565, 'recall': 6149, 'mommy': 5008, '6176014': 219, 'sophmore': 6905, 'henkuyinepu': 3416, 'overrate': 5568, 'marykatherine_q': 4747, 'moscow': 5047, 'whyyyyyyyy': 8119, 'jacobsummers': 3882, 'mea': 4804, 'culpa': 1884, 'alliana07': 454, 'refuse': 6181, 'salancaster': 6435, 'mercedesashley': 4849, 'inspirational': 3783, 'sadden': 6427, 'hibanick': 3448, 'wudnt': 8240, 'chance': 1439, 'crooners': 1859, 'erre_sc': 2555, 'aaw': 277, 'bh': 953, 'asba': 658, 'radio': 6084, 'ramen': 6095, 'oj': 5473, 'sickness': 6699, 'allyheman': 457, 'camilla': 1319, 'grum': 3234, 'wah': 7985, 'el': 2450, 'stupido': 7120, 'filter': 2768, 'puter': 6029, 'term': 7335, 'thecoolestout': 7379, 'ehhh': 2440, 'chelserlynn': 1483, 'cooooold': 1772, 'rumble': 6391, 'knights_': 4212, 'agency': 372, 'yawwwnn': 8281, 'imma': 3708, 'headstart': 3366, 'agh': 376, 'kenny': 4146, 'bridgetsbeaches': 1169, 'bridget': 1168, '100th': 16, '10th': 19, 'consecutive': 1727, 'ozesteph1992': 5582, 'stephan': 7039, 'mrsaintnick': 5084, 'leavin': 4353, 'edit': 2421, '536': 203, 'novel': 5396, 'manuscript': 4689, 'twista202': 7703, 'francesca': 2895, 'nokia': 5357, '1110': 24, 'breast': 1149, 'cancer': 1331, 'rumblepurr': 6392, 'daylight': 2007, 'onemoreproject': 5489, 'downtown': 2298, 'jonathanchard': 4026, 'calorie': 1310, 'sour': 6919, 'skittle': 6766, 'coke': 1639, 'eyebrows': 2653, 'wax': 8031, 'phantasy': 5725, 'macheist': 4611, 'serial': 6583, 'mich': 4876, 'downstairs': 2296, 'ryanseacrest': 6413, 'anoop': 559, 'pinkserendipity': 5781, 'sprint': 6979, '4g': 194, 'baltimore': 814, 'gosh': 3163, 'marieclr': 4710, 'sooooo': 6897, 'delete': 2066, '1xtti': 61, 'grrr': 3232, 'ipods': 3824, 'jai': 3886, 'ughh': 7753, 'penndbad': 5693, 'machineplay': 4613, 'therapyfail': 7396, 'colindemar': 1646, 'rail': 6089, 'gain': 2997, 'wrench': 8226, 'having': 3346, 'dannyvegasbaby': 1966, 'erika': 2548, 'obscura': 5431, 'slip': 6798, 'hobby': 3490, 'supersport': 7181, 'robluketic': 6321, 'qtr': 6038, 'snarl': 6829, 'activate': 317, 'selfcontrol': 6567, 'block': 1027, 'qc': 6033, 'regularize': 6190, 'internal': 3801, 'hillydop': 3465, 'spencer': 6950, 'goodlaura': 3140, 'reese': 6169, 'ttsc': 7641, 'finale': 2770, 'madame': 4622, 'president': 5936, 'too': 7530, 'sheï': 6648, 'screw': 6526, 'wanttss': 8007, 'tonite': 7526, 'cardiff': 1351, 'stustone': 7121, 'whack': 8081, 'wiggety': 8125, 'djalizay': 2215, 'choose': 1525, 'eloquentembrace': 2468, 'ds9': 2340, 'solid': 6868, 'cheechbud': 1472, 'hrs': 3585, 'protest': 5990, 'nightmares': 5312, 'mysteezradio': 5163, 'mandayyy': 4673, 'interrupt': 3807, 'japanese': 3903, 'gurumn': 3255, 'macbook': 4610, '132am': 35, 'tipsy': 7475, 'lonesome': 4497, 'forthcoming': 2876, 'e3': 2387, 'infinitydefines': 3758, 'omgawd': 5485, 'handle': 3304, 'auburn': 708, 'david_henrie': 1999, 'mag': 4632, 'fit': 2793, 'breadandbadger': 1143, 'paulaabdul': 5660, 'paula': 5658, 'imaginarypeach': 3701, 'ughhh': 7754, 'tuesdayï': 7652, 'lecture': 4355, 'accompaniers': 299, 'tragedy': 7570, 'disaster': 2177, 'correclty': 1788, 'sox': 6922, 'charlietm': 1454, 'labelsnotlove': 4265, 'mammy': 4668, 'depressd': 2087, 'explain': 2640, '8yr': 252, 'child': 1500, 'ircmaxell': 3826, 'anti': 566, 'depressants': 2086, 'paxil': 5668, 'wellbutrin': 8066, 'combo': 1662, 'efficacy': 2431, 'myconnecticut': 5150, 'woodntap': 8184, 'competitive': 1688, 'tourney': 7556, 'round': 6364, 'bathroom': 841, 'lakin': 4282, 'caitlinoconnor': 1298, 'tacos': 7258, 'margarhitas': 4703, 'telll': 7325, 'lonely': 4495, '22': 76, 'female': 2748, 'betfair': 939, 'kristencampisi': 4238, 'monkey': 5019, 'heartbroken': 3377, 'miss_om': 4944, 'sarahreedsc': 6464, 'treaty': 7591, 'brent': 1154, 'praise': 5910, 'guitarist': 3246, 'jpfurry': 4048, 'microwave': 4890, 'bff': 948, 'remind': 6212, 'court': 1810, 'doa': 2238, 'confuse': 1713, 'appraisal': 608, 'gah': 2996, 'burgaw': 1244, 'ooooooh': 5506, 'sealclap': 6544, 'shitloads': 6664, 'folders': 2843, '4chan': 192, 'moneys': 5016, 'mikey': 4907, 'nile': 5324, 'ic': 3649, 'brandizzzle08': 1135, 'yoyoyo': 8333, 'rude': 6384, 'reconnected': 6160, 'jemcam': 3943, 'netball': 5262, 'netbal': 5261, 'kissability': 4194, '13th': 37, 'july': 4068, 'dierks': 2146, 'bentley': 924, 'comin': 1672, 'columbus': 1657, 'sidekick': 6704, 'chriscantore': 1534, 'xm': 8255, 'gr8t': 3177, 'luvvvvv': 4588, 'retriever': 6251, 'sighhhh': 6708, 'aaaaand': 271, 'nausea': 5216, 'iï': 3874, 'axis': 760, 'mahavir': 4641, 'jayanti': 3913, 'contd': 1739, 'mathewsmichael': 4765, 'jobros': 3996, 'often': 5464, 'fishmouse': 2792, 'diannepulham': 2135, 'oooooooo': 5507, 'bostongarden': 1102, 'applications': 604, 'vincas': 7943, 'tense': 7333, 'whinging': 8102, 'rewrite': 6264, 'unreadable': 7829, 'review': 6259, 'correctly': 1791, 'huntermoore': 3621, 'its_nemesis': 3858, 'lovemeagan': 4541, 'stern': 7042, 'discussion': 2187, 'koodo': 4226, 'zaydia': 8353, 'seniority': 6574, 'technological': 7312, 'ineptness': 3752, 'bouts': 1114, 'gallbladder': 2999, 'pills': 5770, 'bass': 838, 'twittas': 7709, 'levenrambin': 4390, 'goodniight': 3146, 'riancurtis': 6271, 'kariajay': 4104, 'db2': 2010, 'aaronrva': 274, 'ashleyskyy': 664, 'margarita': 4704, 'worst': 8215, 'unfortunetly': 7807, 'schedule': 6507, 'hillsong': 3464, '0g': 9, 'milky': 4917, '200ml': 71, 'jokerrrr': 4017, 'stillllll': 7056, 'mraow': 5078, 'rape': 6105, 'karenucol': 4103, 'softball': 6862, 'basketball': 837, 'noo': 5366, 'terrify': 7340, 'management': 4671, 'assignment': 679, 'amazon': 488, 's3': 6421, 'plugin': 5829, 'provider': 5994, 'argh': 626, 'suuuper': 7209, 'austinhill': 725, 'tropic': 7615, 'thunder': 7439, 'dread': 2316, 'qweendassah': 6062, 'chiefdelphi': 1498, '2y2wr': 123, 'accord': 300, 'poo': 5861, 'poop': 5867, 'su': 7124, 'yin': 8312, 'huen': 3595, 'unbearable': 7778, 'guilt': 3242, 'staff': 6997, 'cw2l9t': 1910, 'joshy': 4038, 'tejanos': 7320, 'sandra': 6453, 'cantu': 1340, 'franzglaus': 2906, 'michigan': 4885, 'shameful': 6618, 'alicayaba': 438, 'cuuute': 1908, 'moooorniiiiiiing': 5033, 'cage': 1294, 'string': 7100, 'suitcase': 7155, 'underneath': 7792, 'drain': 2309, 'ridley1013': 6284, 'shapeshifting': 6626, 'copout': 1776, 'angela': 528, 'noah': 5347, 'savethestrib': 6484, 'out': 5553, 'halo': 3295, 'mythic': 5164, 'legendary': 4364, '600ms': 217, 'peavy': 5681, 'gayforpeavy': 3023, 'trishzw': 7611, 'megafast': 4821, 'warn': 8014, 'mouth': 5062, 'untill': 7830, 'brace': 1121, 'biofuel': 973, 'proposal': 5989, 'biof': 972, 'ceprvs': 1417, 'mizzchievouz': 4970, 'girlyvue': 3089, 'a5hleyf': 269, 'tromped': 7614, 'jew': 3970, 'organize': 5530, 'bone': 1073, 'griffmiester': 3215, 'hyperbets': 3634, 'miserable': 4940, 'rcompo': 6122, 'outage': 5554, 'neccessary': 5236, 'wekend': 8063, 'dumb': 2362, 'folk': 2845, 'theleaguesf': 7385, 'mantra': 4685, 'breakers': 1145, 'rambunctious': 6094, 'overreact': 5569, 'clamp': 1575, 'amber_benson': 489, 'important': 3715, 'sod': 6855, 'jeffree_star': 3937, 'permanent': 5707, 'fade': 2669, 'otakusecret': 5542, 'reaction': 6127, 'medicine': 4815, 'wtf': 8235, 'dangerm0use': 1949, 'maddyva': 4627, 'xblm': 8250, 'gamertag': 3004, 'hitokyri': 3477, 'nonsense': 5365, 'scoutbuck': 6519, 'troll': 7612, 'ugggggh': 7750, 'stooopeeed': 7072, '2y2yi': 125, 'buck': 1216, 'unfair': 7800, 'scratch': 6522, 'du': 2348, 'heif': 3397, 'tum': 7653, 'shoog': 6674, 'poots': 5870, 'cococourtney': 1627, 'sweets': 7224, 'chi': 1492, '6pm': 225, 'ttyl': 7643, 'sara_kate': 6459, 'carvin1': 1373, 'emotional': 2493, 'nchokkan': 5229, 'https': 3590, 'mycomicshop': 5149, 'tid': 7450, '395031': 170, 'poohpot': 5864, 'softbelly': 6863, 'mtub': 5106, 'posterior': 5889, 'articulation': 651, 'creak': 1833, 'drool': 2332, 'nathan': 5208, 'callum': 1307, 'wahhh': 7987, 'stou': 7078, '2552': 88, 'ohsbrat30': 5470, 'yucky': 8338, 'scrappy': 6521, 'seblefebvre': 6552, 'practise': 5909, 'holistic': 3497, 'duchess_rebecca': 2354, 'intervention': 3808, 'rut': 6403, 'idiot': 3661, 'ad': 322, 'craigslist': 1824, 'g4': 2987, 'psyched': 6001, 'hoax': 3489, 'pepperoni': 5696, 'valentino': 7877, 'sausage': 6482, 'cec5ka': 1404, 'soillodge': 6865, 'rocko': 6327, 'modern': 4992, 'marge_inovera': 4706, 'passion': 5646, 'benackerman': 917, 'bananaface': 818, 'carolrainbow': 1364, 'ox': 5578, 'builders': 1227, 'twiggassssssss': 7696, 'range': 6102, 'danadearmond': 1943, 'johnnybeane': 4013, 'default': 2050, 'ellievolia': 2465, 'oooonly': 5504, 'awh': 750, 'buttload': 1265, 'my': 5147, 'economics': 2415, 'robcthegeek': 6316, 'upon': 7840, 'hundred': 3615, 'islands': 3839, 'philippine': 5731, 'tourism': 7554, 'coral': 1779, 'rare': 6108, 'poach': 5837, 'apparently': 594, 'hummiemd': 3609, 'ids': 3667, 'fuckkkkkkkkkkkkk': 2963, 'celycarmo': 1413, 'officialrandl': 5461, 'announcement': 554, 'kishorek': 4191, 'illegal': 3687, 'torrents': 7543, 'avlbl': 738, 'legal': 4362, 'imiss': 3706, 'trolley': 7613, 'sardines': 6471, 'padre': 5591, 'remove': 6215, 'mts': 5104, 'randomlynat': 6101, 'jeez': 3933, 'supamagg': 7176, 'glittery': 3100, 'lighter': 4412, 'treesahquiche': 7594, 'applepears': 600, 'owl': 5574, 'mamasvan': 4667, 'camerafail': 1316, 'maxime68': 4789, 'megelder': 4825, 'uti': 7867, 'gabbie': 2990, 'sodas': 6857, 'jillianfish': 3980, 'anistorm': 544, 'sleep_til_noon': 6782, 'velvet': 7900, 'mocha': 4988, 'flash': 2805, '2y34e': 126, 'martens': 4738, 'december': 2037, 'repair': 6220, 'b_barnett': 768, 'sketchy': 6758, 'not': 5386, 'stare': 7014, 'passport': 5647, 'belly': 910, 'frame': 2891, 'toon': 7532, 'akianz': 419, 'combination': 1660, 'eazydoesit87': 2408, 'negative': 5248, 'confidence': 1710, 'sofii_noel': 6861, 'dammit': 1936, 'cease': 1403, 'disbelief': 2178, 'kevchoice': 4151, 'frago': 2888, 'therapist': 7395, 'nilelegania': 5325, 'tireddddddd': 7477, 'jst': 4056, 'teusday': 7348, 'ummmmm': 7771, 'corrosivecandy': 1792, 'snoo': 6839, 'amanorris': 484, 'sexist': 6601, 'bathtub': 842, 'iz': 3870, 'drano': 2312, 'dangit': 1951, 'nomadicmatt': 5359, 'duckling': 2356, 'boston': 1101, 'garden': 3007, 'dc2htx': 2016, 'sharethis': 6628, 'appomattox_news': 607, 'convict': 1757, 'altrincham': 471, 'install': 3786, 'bloody': 1038, 'knackered': 4208, 'helppp': 3413, 'jeffreecuntstar': 3938, 'garage': 3006, 'driveway': 2328, 'adorno': 340, 'prescribe': 5933, '2y36e': 127, 'camera': 1314, 'cellphone': 1412, 'brian_armstrong': 1160, 'vids': 7934, 'margaretcho': 4702, 'hightlight': 3455, 'sofa': 6859, 'uncapped': 7782, 'lodge': 4480, 'atekinzz': 691, 'zoo': 8369, 'lolitariot': 4488, 'alejandralei': 430, 'cousins': 1813, 'athlete': 692, 'yaknow': 8271, 'shawnna': 6633, 'tomomorrow': 7516, 'bestfriend': 934, 'brie': 1170, 'bottle': 1106, 'cabernet': 1287, 'tad': 7259, 'hamilton': 3297, 'gawwd': 3021, '40': 179, 'kaeeeep': 4087, 'brodhe': 1195, 'jyesmith': 4084, 'angst': 536, 'ap': 583, 'county': 1807, 'huuuge': 3631, 'cleders': 1592, 'shandasaurus': 6619, 'ebay': 2409, 'meanwhile': 4809, 'coleman': 1645, 'presentation': 5935, 'slide': 6790, 'hardest': 3327, '160': 45, 'previously': 5942, 'skin': 6762, 'straight': 7079, 'intro': 3811, 'houndour': 3564, 'vain': 7875, 'gloss': 3103, 'stuiy': 7115, 'spider': 6955, 'pratama': 5911, 'imac': 3698, '320': 158, 'indonesia': 3746, 'furniture': 2976, 'miss_sil': 4945, 'peaceful': 5676, 'r8zf': 6066, 'r8zy': 6068, 'r8zg': 6067, 'footage': 2861, 'hd': 3358, 'underxposed': 7796, 'jruby': 4054, 'hpricot': 3582, 'versions': 7915, 'jinxcat': 3985, 'unlike': 7822, 'fraking': 2890, 'app': 593, 'c4ooho': 1280, 'log': 4481, 'ttb': 7640, 'strongly': 7105, 'dislike': 2194, 'emmaketurah': 2491, 'swarley': 7215, 'goldfish': 3131, 'swell': 7225, 'allergic': 450, 'doubtful': 2287, 'snick_the_dog': 6833, 'izzy': 3873, 'she': 6636, 'floor': 2826, 'chase': 1456, 'godaddy': 3117, 'comp': 1684, 'happily': 3319, 'boba': 1057, 'humanopium': 3607, 'scary': 6500, 'ilovepie': 3691, 'dollar': 2259, 'goonite': 3153, 'cinema': 1563, 'christina': 1541, 'kelleyrowe': 4138, 'vomit': 7971, 'lymph': 4595, 'nod': 5351, 'rahm': 6087, 'emanuel': 2476, 'xbox': 8251, '360': 164, 'fancast': 2697, 'trumpet': 7630, 'sasii': 6476, 'hert': 3431, 'marybethune': 4746, 'opera': 5514, 'turtle': 7667, 'faster': 2711, 'soak': 6846, 'ginayates': 3077, 'maggie': 4635, 'mum': 5122, 'ewarden': 2608, 'miamiiboii': 4873, 'yu': 8337, 'wen': 8068, 'phlaimeaux': 5737, 'arrange': 642, 'marriages': 4730, 'convert': 1755, 'marry': 4732, 'emilyruppe': 2487, 'looser': 4511, 'imply': 3713, 'austins': 726, 'chordsy': 1529, 'lovebscott': 4537, '2y3cf': 129, 'curry': 1893, 'kant': 4095, 'cam': 1313, 'upp': 7841, 'embarasssiiiin': 2477, 'difference': 2150, 'tumblr': 7656, 'tieï': 7453, 'c8bvqh': 1283, 'daniela_95616': 1952, 'impune': 3721, 'isnt': 3840, 'unclever': 7784, 'wahh': 7986, 'anywhere': 582, 'dvr': 2377, 'inventory': 3814, 'ballinbitch': 811, 'ballin': 810, 'paaaaay': 5586, 'carlyw66': 1359, 'statistics': 7026, 'mumbo': 5123, 'jumbo': 4069, 'sloanb': 6799, 'evict': 2601, 'nachojohnny': 5184, 'brian': 1159, 'jessdubb': 3964, 'summe': 7163, 'lizchavez': 4461, 'eyelid': 2656, 'professor': 5974, 'ashamed': 661, 'extinct': 2645, 'cxe8w7': 1912, 'stubborn': 7109, 'grouchy': 3226, 'bmar': 1051, 'foo': 2856, 'moms': 5010, 'miniature': 4926, 'reeses': 6170, 'nwo': 5412, 'colddd': 1643, 'nightmare': 5311, 'affect': 357, 'born_4_broadway': 1097, 'ignacius': 3672, 'prepatory': 5932, 'birutagme': 980, 'whoisariston': 8111, 'tongue': 7524, 'in': 3725, 'remark': 6209, 'acronyms': 312, 'nz': 5416, 'matt': 4769, 'ballistic': 812, 'disappoint': 2175, 'kantu': 4096, 'danielledeleasa': 1957, '2y1pe': 114, 'yawn': 8279, 'travesty': 7585, 'quandotcom': 6041, 'amandaenglund': 481, 'inyoureyes2410': 3817, 'reckon': 6156, 'thousand_miles': 7427, 'clarianne': 1577, 'knot2serious': 4219, 'hannahsix': 3314, 'herpes': 3428, 'ocular': 5445, 'strain': 7082, 'folio': 2844, 'umm': 7768, 'insomniac': 3781, 'lll': 4470, 'phuckin': 5750, 'outta': 5559, 'minute': 4935, 'finland': 2781, 'lunafiko': 4573, 'prolly': 5981, 'earliest': 2394, 'blanket': 1011, 'earthquake': 2398, 'italy': 3847, 'naples': 5199, 'dragoneer': 2308, 'tp': 7561, '12player': 32, 'ankle': 547, 'raymondroman': 6118, 'noes': 5354, 'trash': 7582, 'radioactive': 6085, 'nother': 5389, 'coz': 1816, 'murd': 5130, 'chillen': 1505, 'louie094': 4529, 'careful': 1354, 'luisa': 4566, 'hillary006': 3463, 'whitney': 8106, 'cell': 1410, 'beso': 930, 'bobby': 1058, 'syekr': 7239, 'myki': 5155, 'stephenkruiser': 7040, 'nevadawolf': 5268, 'dnf': 2234, 'risk': 6296, 'coords': 1773, 'ftf': 2958, 'disgruntle': 2189, 'esn': 2563, '250': 87, 'moony394': 5032, 'kutnerrrr': 4249, 'lower': 4549, 'stomach': 7066, 'fallon': 2690, '56': 206, 'paulcoles': 5661, 'greed': 3208, 'motivate': 5055, 'individual': 3745, 'brat': 1139, 'rub': 6378, 'penn': 5692, 'redvinylgirl': 6167, 'homeworks': 3515, 'bidders': 957, 'gigdiary': 3072, 'leftovers': 4360, 'suffer': 7149, 'fatal': 2713, 'partion': 5638, 'manu': 4686, 'spunky': 6981, 'rotti': 6360, 'path': 5652, 'stink': 7059, 'crummy': 1865, 'disco': 2181, 'buu': 1267, 'gamebattles': 3003, 'outnumber': 5557, '2y3jp': 130, 'emitstop': 2488, 'bah': 797, 'anwb': 567, 'katebornstein': 4113, 'memorial': 4838, 'tattoo': 7291, 'strictest': 7097, 'official': 5457, 'disapprove': 2176, 'balamurugan': 808, 'longterm': 4500, 'justgelo': 4080, 'maxi': 4788, 'coachella': 1621, 'fund': 2971, 'crib': 1848, 'boooo': 1085, 'fri': 2935, 'spiral': 6960, 'dmb': 2230, 'followsavvy': 2852, 'everytime': 2598, 'sorryto': 6911, 'dtmafiaofficial': 2347, 'dtmafia': 2346, 'dun': 2363, 'followin': 2850, 'wht': 8117, 'augh': 714, 'sarth': 6474, 'mil': 4909, 'polish': 5853, 'fling': 2818, 'dawn': 2002, 'neecee': 5241, 'hoyts': 3579, 'distribution': 2204, 'crummyasshole': 1866, 'cillian': 1562, 'murphy': 5132, 'wally': 7999, 'daria': 1973, 'sarah': 6460, 'centre': 1415, 'commuters': 1683, 'odst': 5450, 'brutal': 1207, 'bioshock': 975, 'd_castillo': 1920, 'disconcert': 2182, 'devinthedude007': 2117, 'russians': 6401, 'delicious': 2067, 'tastiest': 7289, 'ilearn': 3685, 'carmonium': 1362, 'outttt': 5560, 'shouldve': 6684, 'bern': 926, 'pinging': 5777, 'kyle44': 4255, 'icons': 3655, 'diff': 2149, 'enterbelladonna': 2523, 'frustrate': 2956, 'lilbucknuts41': 4420, 'georgeruiz': 3046, 'moments': 5005, 'squid': 6985, 'thestar_rage': 7407, 'branch': 1132, 'midv': 4899, 'macs': 4618, 'polhillian': 5851, 'nkdreamer': 5340, '700': 227, 'jrk': 4053, 'tim_grainger': 7461, 'stimulus': 7057, 'ikimb0': 3684, 'bak': 801, 'havnt': 3347, 'awwwww': 759, 'sympathies': 7241, 'decision': 2041, 'collie': 1651, 'josephheustess': 4035, 'spoil': 6968, 'limbecky': 4427, 'theresawhite': 7402, 'slap': 6773, 'march': 4699, 'itouch': 3856, 'gross': 3224, 'pimple': 5772, 'torturedlady': 7546, 'ma': 4605, 'naaaaaaaaaaaaaaaaaaaam': 5182, 'marwan': 4744, 'accent': 292, 'unholyknight': 7810, 'whether': 8098, 'twitterer': 7713, 'wyldceltic1': 8246, 'tournament': 7555, 'carolina': 1363, 'aint': 403, 'nba': 5224, 'draft': 2305, 'reaaly': 6125, 'bitchfucks': 985, 'mqu': 5076, 'playradioplay': 5819, 'unexpected': 7799, 'superneej': 7180, 'homesick': 3512, 'criminals': 1852, 'breakn': 1147, 'n2': 5179, 'brownstone': 1203, 'lawnord': 4333, 'ci': 1555, 'misty': 4963, 'djsoulsister': 2222, 'val': 7876, 'iitsc': 3681, 'clubroom': 1611, 'updatingffe': 7837, 'compress': 1695, 'rily': 6291, 'workng': 8202, 'muscle': 5133, 'gng': 3110, 'ashok': 666, 'exec': 2626, 'chef': 1480, 'chopra': 1527, 'workload': 8201, 'razr': 6120, 'procrastinate': 5964, 'v0': 7871, 'e71': 2390, 'latroneb': 4312, 'esuriospiritus': 2574, 'flawda': 2810, 'blegghhhh': 1017, 'muir': 5117, 'loopt': 4509, 'koqabg': 4229, 'saddest': 6428, 'horrify': 3551, 'turbotax': 7662, 'amberpacific': 490, 'oats': 5425, 'adamgoldston': 327, 'usc': 7858, 'icecream': 3651, 'faithgg45': 2682, 'shockwave': 6671, 'rubyrose1': 6381, 'luxuryprgal': 4589, 'suriously': 7197, 'lc': 4341, 'vaccinate': 7874, 'pox': 5902, 'yawwwn': 8280, 'calve': 1312, 'cushings': 1897, 'disease': 2188, 'dispatch': 2198, 'starburst': 7012, 'favereds': 2720, 'fab': 2660, 'watermellon': 8028, 'andreabakes': 518, 'melatonin': 4831, 'vivekg86': 7954, 'netbeans': 5263, 'cairo': 1295, 'mtva': 5108, 'hadtobeyou': 3272, '900': 254, 'shortiethug': 6680, 'screen': 6524, 'dialogue': 2132, 'ashman01': 665, 'bypass': 1276, 'software': 6864, 'ihop': 3675, 'diet': 2148, 'pose': 5881, 'contactabe': 1737, 'cruel': 1863, 'debate': 2033, 'culminate': 1883, 'sarahsaturday': 6465, 'oneindia': 5488, 'mobi': 4985, 'android': 520, 'indic': 3742, 'languages': 4294, 'mtsiaklides': 5105, 'yia': 8308, 'winggato': 8144, 'swiftkaratechop': 7227, 'nomnoms': 5361, 'bcoz': 863, 'lecturer': 4356, 'procrastination': 5965, 'quarter': 6043, 'reaaaaad': 6124, '52': 201, 'degress': 2063, '11pm': 28, 'washington': 8020, 'homee': 3510, 'massage': 4750, 'spill': 6957, 'simpsons': 6726, 'dvds': 2376, 'mild': 4911, 'inner': 3772, 'infection': 3755, 'irritate': 3831, 'janebodehouse': 3896, 'cuteness': 1903, 'hoytfortenberry': 3578, 'thang': 7357, 'alarm': 423, '3am': 171, 'kalichosich': 4092, 'buffalo': 1222, 'sittin': 6749, 'kayla': 4123, 'reallly': 6136, 'dis': 2171, 'bokkie': 1065, 'treats': 7590, 'sicko': 6700, 'ladies': 4269, 'stucked': 7110, 'joannafbeckett': 3994, 'closest': 1606, 'miles': 4912, 'literature': 4452, 'phoneless': 5742, 'reek': 6168, 'tshirt': 7639, 'realise': 6133, 'stain': 7000, 'disgust': 2190, 'rootbeersoup': 6349, 'certain': 1422, 'burrito': 1249, 'eating': 2406, 'cronotriggers': 1858, 'adopt': 339, 'auntie': 718, 'tessm': 7344, 'tania': 7280, '38': 168, 'crappy': 1828, 'eam': 2391, '2y3ty': 133, 'linny': 4436, 'ilovefatsusan': 3690, 'twist': 7702, 'partially': 5635, 'toaster': 7495, 'counter': 1804, 'kitchen': 4196, 'speakeasy': 6940, 'stewiebrittany': 7050, 'monasmith': 5012, 'counciling': 1802, 'smugness': 6824, 'victoria': 7926, 'unpleasant': 7828, 'tube': 7645, 'lilibat': 4422, 'extraction': 2647, 'suspicious': 7206, 'codez': 1633, 'mia': 4872, 'reannaremick': 6139, 'taliasunset': 7272, 'expert': 2638, 'beachbassbone': 868, 'roomie': 6345, 'comforter': 1669, 'goto': 3168, 'laundromat': 4317, 'character': 1447, 'drivin': 2329, 'britain': 1183, 'suckassy': 7143, 'dennys': 2074, 'pkoi': 5802, 'fais': 2679, 'pas': 5643, 'beau': 877, 'bon': 1070, 'essay': 2570, 'chauncey78': 1461, 'endearingevania': 2507, 'interfere': 3800, 'widyatarina': 8122, 'noooooo': 5373, 'loyal': 4550, 'stack': 6995, 'yaykimo': 8283, 'phipstape': 5735, 'brew': 1158, 'rj': 6302, 'stiff': 7053, 'ouch': 5548, 'melamachinko': 4829, 'unfollowing': 7803, 'stringer': 7101, 'hof': 3491, '311': 156, 'nowhere': 5398, 'emiliexclarkex': 2484, 'plague': 5806, 'm25': 4602, '2y3y0': 135, 'pirate': 5785, 'verdict': 7906, 'featherinair': 2731, 'hall': 3289, 'immediately': 3710, 'mzxbg': 5170, 'options': 5523, 'viable': 7921, 'veiws': 7898, 'bjork': 998, 'becky': 884, 'buckwild': 1217, 'tantan': 7281, 'nabe': 5183, 'mzxcs': 5171, 'mon': 5011, 'sean': 6545, 'con': 1698, 'tomatosalsa': 7510, 'stalker': 7004, 'brettyboo': 1157, 'slessard': 6788, 'master': 4752, 'sephystryx': 6579, 'unloved': 7824, 'robbie': 6315, 'wipe': 8149, 'reload': 6206, '8900': 246, 'bbm': 859, 'mykele': 5154, 'sayyyy': 6490, 'whaaaa': 8079, 'beginnings': 898, 'astewart87': 683, 'manually': 4688, 'twitterfeed': 7716, 'lukewarm': 4571, 'linuxfoundation': 4438, '1099': 17, 'linux': 4437, 'throughout': 7433, 'skylineking722': 6769, 'connor': 1723, 'febi': 2733, 'inlove': 3770, 'powerbook': 5899, 'michaeltao': 4880, 'borez': 1095, 'msgs': 5096, 'ihopness': 3676, 'electrolytes': 2455, 'vitamin': 7950, 'sudam08': 7145, 'weeeeee': 8053, 'ip': 3819, 'fact': 2666, 'genuinely': 3040, 'celesteclara': 1409, 'theblondetheory': 7376, 'champagnemanoir': 1435, 'majesticflame': 4650, 'sucky': 7144, 'bengottlieb': 918, 'mattycus': 4781, 'rum': 6389, 'barrel': 831, 'shake': 6612, 'sleepless': 6785, 'billybush': 968, 'batmannn': 844, 'highly': 3454, 'scan': 6493, 'misterphipps': 4960, 'risotto': 6298, 'keeeerrrrriiiiii': 4130, '224am': 77, 'wonderfullll': 8179, 'yankees': 8275, 'haif': 3282, 'hemisphere': 3415, 'twitterfam': 7715, 'rachelcmrn': 6077, 'goodnights': 3145, 'greaaat': 3203, 'lappy': 4297, 'wtffffff': 8237, 'm4rkm': 4604, 'journey': 4044, 'vernonhamilton': 7909, 'stranger': 7085, 'debbugging': 2035, 'vb6': 7890, 'toddlington': 7501, 'percent': 5699, 'cutner': 1906, 'rosa': 6351, 'orpl3a': 5537, 'damnit': 1938, 'reaper': 6140, '13720': 36, 'ref_story_id': 6173, 'ref_type': 6174, '1101': 22, 'ref_name': 6172, 'comcast': 1663, 'quit': 6056, 'affordable': 360, 'duchess': 2353, 'legs': 4368, 'alexbigman': 437, 'tracydowds': 7567, 'microsoft': 4889, 'hq': 3583, 'king': 4184, 'kitty': 4200, 'conferenceing': 1708, 'toooo': 7534, 'muchh': 5112, 'cooooffffeeeeeeeee': 1770, 'bahaha': 799, 'whyinthehell': 8118, 'nosey': 5384, 'smokey_robinson': 6820, 'offend': 5453, 'chimpytwit': 1508, 'brilliant': 1178, 'swap': 7214, 'brolly': 1198, 'simonekali': 6723, 'autograph': 731, 'rt': 6377, 'khloe': 4164, 'apprentice': 610, 'jennlopez': 3951, 'tivo': 7481, '59': 208, 'mouthsex': 5063, 'adame': 326, 'ruddy': 6383, 'marcusmims': 4701, 'seat': 6549, 'force': 2864, 'synching': 7243, 'enter': 2522, 'bureaucratic': 1243, 'nw': 5411, 'migraine': 4901, 'buyology': 1270, 'premise': 5928, 'cloudpimps': 1609, 'decent': 2038, 'rate': 6112, 'sterling': 7041, 'flog': 2825, 'inch': 3729, 'dweeman': 2379, 'camper': 1323, 'dkoenigs': 2226, 'unworthy': 7833, 't_wolfe': 7253, 'sniffinglue': 6834, 'somehow': 6875, 'kisluvkis': 4192, 'silver_tulip27': 6720, 'fugly': 2964, 'mzygb': 5173, 'extraordinare': 2648, 'campus': 1324, 'torts': 7544, 'finished': 2779, 'airfare': 407, 'j_stricko': 3875, 'lenesha': 4374, 'murder': 5131, 'gotcha': 3165, 'nbensalem': 5225, 'maternity': 4760, 'citizensheep': 1567, 'thesage1014': 7404, 'seaghostdesigns': 6541, 'girlsgonechild': 3087, 'ulcer': 7762, 'danphelan': 1967, 'urgh': 7851, 'artistbabee': 653, 'bitchy': 986, 'oct': 5441, 'normalguyguide': 5378, 'wwi': 8243, 'noon': 5370, 'cexkqy': 1424, 'graemearcher': 3185, 'workshops': 8206, 'web': 8041, 'directions': 2166, 'benpritchett': 923, 'ben': 915, 'jap': 3901, 'baaaad': 770, 'rash': 6109, 'vhs': 7918, 'aloud': 464, 'freshly': 2930, 'squeeze': 6984, 'travian': 7586, 'total': 7547, 'cost': 1797, 'atk': 693, 'aggressor': 375, '273': 92, '310': 155, 'resources': 6238, 'mhm': 4870, 'octopuseatspie': 5444, 'chezburger': 1491, 'lobo': 4475, 'wif': 8123, 'spark': 6932, 'robertfperez': 6317, 'emotionally': 2494, 'arggg': 625, 'kaozdesign': 4097, 'shouldnt': 6683, 'pleeeease': 5824, 'siddharth_ind': 6702, 'ons': 5495, 'conflict': 1712, 'exceptional': 2621, 'trounce': 7618, 'msu': 5102, 'tuesdays': 7651, 'gracedent': 3180, 'hangnon': 3308, 'verruca': 7911, 'sirrah21': 6742, 'froofroo': 2952, '808': 240, 'sed': 6559, 'puerto': 6005, 'rican': 6272, 'joefernandez': 4000, 'klout': 4205, 'pornstartweet': 5877, 'mss': 5101, 'snippet': 6836, 'wts': 8239, 'unite': 7816, 'tara': 7285, 'sensesdestroyer': 6576, 'hn': 3487, 'sis': 6743, 'africa': 363, 'ouse': 5552, '_saffron': 264, 'snuggle': 6843, 'gsd': 3235, 'bawl': 851, 'jessy': 3967, 'mycaricature': 5148, 'pitch': 5789, 'incomprehension': 3734, 'corp': 1787, 'billy': 967, 'snaprebelx': 6827, 'cough': 1799, 'barnes': 830, '5minute': 212, 'johns': 4014, 'wood': 8183, 'paulieseow': 5663, 'hahahahahah': 3279, 'milo': 4919, 'shitty': 6666, 'simultaneously': 6728, 'regress': 6186, 'onlysweeter': 5493, 'laurwee_boo': 4328, 'jade': 3885, '4744827': 188, 'damnnn': 1939, 'sarahprout': 6463, 'tweetfinder': 7682, 'twilighter4life': 7698, 'yeh': 8294, 'transbay': 7577, 'sfmta': 6608, '_secretgarden_': 265, 'spammers': 6928, '25': 86, 'charleneli': 1451, 'disqus': 2199, 'integrate': 3793, 'conversations': 1754, 'platforms': 5813, 'js': 4055, 'kit': 4195, 'louis': 4530, 'authentic': 729, 'dam': 1934, 'henrygooden': 3418, 'oddchicken': 5448, 'smelt': 6816, 'electricity': 2453, 'big_think': 959, 'zack': 8349, 'login': 4482, 'bt': 1213, 'techhelp': 7309, 'starve': 7021, 'cuppa': 1888, 'mobilityvic': 4987, 'grog': 3221, 'pwc': 6032, 'inform': 3761, 'revisions': 6262, 'amazingly': 487, 'pointless': 5843, 'experiment': 2637, 'yield': 8310, 'lanyard': 4295, '1000000': 14, 'minimum': 4929, 'cmykevin': 1616, 'sonoma': 6889, 'malaysian': 4660, 'nasi': 5202, 'lemak': 4370, 'tarik': 7287, 'mereka': 4853, 'tak': 7265, 'faham': 2671, 'bm': 1050, '2y4bh': 140, 'waitin': 7990, 'theory': 7391, 'mornng': 5043, 'lorry': 4517, 'main': 4646, 'revolution': 6263, 'ourcitylight': 5551, 'sudden': 7146, 'amanita': 483, 'unlive': 7823, 'lanarisque': 4287, 'hahahahhha': 3280, 'poisening': 5845, 'missxmarisa': 4957, 'hutsoncap': 3630, 'danielhalpin': 1955, 'sarmar': 6472, 'moethebeat': 4996, 'moe': 4995, 'storylineee': 7077, 'gripping': 3220, 'brendamew2': 1153, 'pms': 5836, 'over': 5562, 'analyse': 511, 'doriantaylor': 2280, 'patio': 5654, 'rex': 6265, 'gardner': 3008, 'ooops': 5508, 'panini': 5612, 'thoroughly': 7423, 'nao': 5197, 'poison': 5846, 'rainy': 6091, 'cleo': 1593, 'vet': 7917, 'b4': 767, 'wk': 8164, 'kimmyawesome': 4179, 'ohhhh': 5468, 'daydee': 2004, 'password': 5648, 'prevent': 5940, 'paycheck': 5670, 'congest': 1714, 'penalba': 5689, 'por': 5875, 'decime': 2040, 'ke': 4128, 'estas': 2572, 'involucrado': 3816, 'esa': 2560, 'pagina': 5596, 'nicatrolls': 5292, 'obey': 5429, 'dissappointment': 2201, 'lifee': 4406, 'worsee': 8214, 'dnwallace': 2236, 'shudder': 6692, 'brekkie': 1152, 'boohoo': 1080, 'condolences': 1704, 'littleyellowjen': 4457, 'nawwww': 5221, 'derrick': 2096, '1xwxs': 64, 'ellen': 2463, 'flintstones': 2819, 'tablets': 7256, 'gooood': 3155, 'mattpro13': 4778, 'legitimately': 4366, 'onlytosee': 5494, 'pealuh': 5679, 'twitterholics': 7718, 'lizhenry': 4463, 'sha': 6610, 'cater': 1389, 'mostazzza': 5048, 'codaqueen': 1630, 'oakland': 5422, '18th': 52, 'elementary': 2456, 'sp2': 6923, 'ro': 6308, '5b7bdb': 210, 'brake': 1131, 'external': 2644, 'employ': 2495, 'tacce': 7257, 'devastate': 2113, 'slideshare': 6791, 'embed': 2479, 'flawless326': 2811, 'prune': 5995, 'am': 477, 'appointment': 606, 'amyserrata': 509, 'ironically': 3830, 'workday': 8198, 'lick': 4402, 'pudding': 6004, 'seafood': 6540, 'fork': 2873, 'enjoyable': 2519, 'slowly': 6804, 'wan': 8002, '64skpp': 222, 'eyrro': 2657, 'bummerr': 1236, 'jackhammers': 3880, 'almostcool': 459, 'jon8737': 4021, 'mph': 5074, 'nevada': 5267, 'gas': 3014, 'slot': 6802, 'gamble': 3001, 'amirrabennett': 496, '1001': 15, 'effinggggg': 2433, 'callung': 1308, 'tent': 7334, 'peepz': 5687, 'errrggggg': 2558, 'f1': 2659, 'elses': 2470, 'switcheasy': 7232, 'mel': 4828, 'parliament': 5631, 'watko': 8029, 'shockingly': 6670, 'cboyack': 1398, 'igeldard': 3670, 'iidiocracy': 3678, 'courtneybrwn': 1811, 'vip': 7945, 'guests': 3241, 'blohheeee': 1032, 'youku': 8324, 'fisheye': 2791, '2night': 105, 'eveing': 2582, 'offbytwo': 5452, 'cset': 1872, 'kevinpeterson': 4153, '2g': 99, 'void': 7967, 'warrenty': 8016, 'dent': 2075, 'chap': 1443, 'lips': 4442, 'ryleebeth': 6417, 'ye': 8286, 'weirdly': 8062, 'shes': 6647, 'lettin': 4387, 'kimboinlimbo': 4177, 'javelins': 3911, 'horrors_wench': 3553, 'toooooo': 7535, 'anxiety': 569, 'attack': 698, 'lakewood': 4281, 'rywlhq': 6420, 'lily': 4425, 'rocki': 6325, 'johnathon': 4008, 'batman': 843, '2y4j5': 143, 'gaspitsnicole': 3017, 'midd': 4892, 'hsnging': 3586, 'sync': 7242, 'subtitle': 7134, 'alyssaspears': 476, 'goofy': 3150, 'contempted': 1741, 'heroics': 3427, 'describe': 2097, 'overnight': 5567, 'glavas': 3097, 'darylo': 1982, 'guten': 3257, 'morgen': 5037, 'phantasialand': 5724, 'cologne': 1652, 'booooo': 1086, 'la_discoteca': 4261, 'nikicheong': 5320, 'krispykreme': 4237, 'msia': 5097, 'goats': 3115, 'wa': 7980, 'roadworks': 6312, 'develop': 2114, 'asma': 672, 'nawal': 5220, 'fe': 2728, 'obeerate': 5427, 'alwatan': 472, 'allergy': 452, 'pill': 5769, 'khqrightnow': 4165, 'announcements': 555, 'mother': 5052, 'thesis': 7405, 'goodd': 3138, 'nightt': 5314, 'neveerr': 5269, 'tiffinyhogg': 7454, 'timewarp': 7466, 'gutted': 3258, '245': 82, 'scrub': 6532, 'eileenb': 2443, 'dmukpr': 2233, 'baf03': 794, 'steven': 7047, 'weebeedee': 8052, 'windy': 8141, 'topic': 7539, 'concert': 1702, 'expensive': 2635, 'texts': 7353, 'rejoin': 6196, 'aerobics': 355, 'rm3': 6304, 'hartym': 3334, '500': 200, 'documentation': 2244, 'navy': 5218, 'seal': 6543, 'marcus': 4700, 'luttrell': 4583, 'doggy': 2251, 'rightpundits': 6289, '3669': 166, 'rage': 6086, 'eaton': 2407, 'zurich': 8373, 'smelly': 6815, 'classroom': 1585, 'fanofbsb4ever': 2702, 'priscillacruz': 5953, 'capoeira': 1346, 'zoom': 8370, 'educational': 2424, 'owh': 5573, 'avisionofbeauty': 737, 'motivation': 5056, 'missoliviaa': 4952, 'nooo': 5372, 'doze': 2300, 'lects': 4354, 'sheaf': 6637, 'badly': 791, 'smudge': 6823, 'slim': 6795, 'adventureland': 349, 'toll': 7508, 'scc_skwerl': 6503, 'ditch': 2205, 'parish': 5628, 'jimo': 3984, 'glitching': 3099, 'cya': 1913, 'rental': 6218, 'discount': 2183, 'pita': 5788, 'nevr': 5274, 'fax': 2726, 'cheapos': 1466, 'powerpoole': 5901, 'tricky': 7606, 'dra6on': 2304, 'gotobekiddingme': 3169, 'ditty003': 2207, 'ac': 290, '70000': 228, '150': 43, 'heatherlibby': 3381, 'christian': 1538, 'slater': 6774, 'shittt': 6665, 'beauty': 879, 'ekim1406': 2449, 'separate': 6578, 'shakily': 6613, 'ladder': 4268, 'digital': 2156, 'antenna': 564, 'vile': 7940, 'derision': 2095, 'rack': 6081, 'larrissar': 4301, 'grant': 3195, 'danielcalderonl': 1954, 'yeaah': 8289, 'pmelt': 5835, 'inflict': 3759, 'deadshits': 2024, 'childhoodflames': 1502, 'lilylauren': 4426, 'shave': 6632, 'moustaches': 5061, 'susy': 7207, 'cyantificnhs': 1914, 'chick': 1494, 'corea': 1782, 'sob': 6847, 'quant': 6042, 'process': 5962, 'assessment': 676, '2moro': 100, 'cancel': 1330, 'cheaply': 1465, 'whee': 8091, 'bivancamp': 992, 'suuuucks': 7210, 'neyawn': 5286, 'lfta': 4396, 'jerry': 3961, 'maguire': 4640, 'turd': 7663, 'shresthayash': 6688, 'toothpic': 7537, 'bffwiamc': 951, 'cousin': 1812, 'bleh': 1019, 'spew': 6954, 'burp': 1248, 'deadline': 2022, 'topshop': 7540, '6am': 224, 'tooooooooo': 7536, 'thankful': 7359, 'crichton': 1849, 'curse': 1894, 'marnieblaze': 4727, 'assessments': 677, 'harsh': 3333, 'staple': 7008, 'paulteeter': 5667, 'chewie': 1490, 'ocd': 5439, 'hip': 3469, 'dysplasia': 2385, 'hips': 3471, 'bf': 947, 'meningitis': 4843, 'nay': 5222, 'chu': 1547, 'ki': 4166, 'bao': 825, 'nhiï': 5291, 'coldd': 1642, 'eujsme0torw': 2577, 'schiphol': 6510, 'apperantly': 598, 'aalsmeer': 272, 'daisy': 1930, 'garretjiroux': 3011, 'garee': 3009, 'mmc': 4975, 'bcd': 862, 'oliyoung': 5481, 'assembly': 675, '2day': 98, 'jbeauty': 3920, 'oooh': 5502, 'killin': 4175, 'tucker': 7648, 'compassion': 1687, 'relatives': 6199, 'riskyrevenge': 6297, 'oishiieats': 5472, 'polite': 5854, 'elinchrom': 2460, 'ranger': 6103, 'memories': 4839, 'muzocan': 5146, 'issue': 3841, 'max': 4786, '8am': 249, 'kristensaywhaa': 4240, 'episodeee': 2537, 'scarletjac': 6498, 'malayalam': 4659, 'ohnotheydidnt': 5469, '33907252': 160, 'ibz2wb': 3648, 'txt': 7736, 'lmfao': 4473, 'frikkin': 2945, 'itsdawns': 3862, 'rmilana': 6305, 'danish': 1958, 'craftysince1990': 1823, 'partnerincrime': 5640, 'flake': 2802, 'razzberrie': 6121, '4gb': 195, 'laggy': 4276, 'computers': 1697, 'upgrade': 7838, 'defsound': 2056, 'aawwwww': 278, 'iv': 3866, 'zaibatsu': 8351, 'coyoteontherun': 1815, 'navel': 5217, 'truck': 7623, 'mtv': 5107, 'hasnt': 3336, 'gig': 3071, 'explanation': 2641, 'heartbreaking': 3376, 'frankly': 2904, 'blogger': 1030, 'fu': 2960, 'penguin': 5691, 'tpaw': 7562, 'mooorning': 5034, 'strengthen': 7094, 'bournemouth': 1111, '7s': 235, 'selsun': 6569, 'haole': 3316, 'rot': 6358, 'newing': 5278, 'lindseyviloria': 4431, 'sweetlyaroundme': 7223, 'stevediamond': 7046, 'noelclarke': 5353, 'hoo': 3529, 'chaffie': 1426, 'thousand': 7426, 'apologies': 589, 'fogive': 2841, 'itschelseastaub': 3861, 'chels': 1481, 'layout': 4338, 'coll_aka_aubrey': 1648, 'th': 7354, 'twat': 7674, 'holyjaw': 3507, 'commit': 1677, 'redgray': 6165, 'yest': 8304, 'pregnant': 5923, 'non': 5362, 'groggy': 3222, 'doglet': 2252, 'worral': 8210, 'dynoisthename': 2384, 'flirt': 2822, 'satisfy': 6478, 'terribly': 7337, 'marlonjenglish': 4725, 'kittcat8': 4197, 'basically': 836, 'goo': 3135, 'lron_jaii': 4552, 'lmaooo': 4472, 'mornin': 5040, 'baybeeee': 853, 'hood': 3530, 'teef': 7315, 'hommmmeeworrkkk': 3518, 'fellas': 2745, 'japh': 3904, 'arvo': 656, 'illness': 3688, 'keynote': 4159, 'whf': 8099, 'scc': 6502, 'derek': 2091, 'equinux': 2542, 'safari': 6432, 'tks': 7486, 'anatolia': 515, 'destroy': 2106, 'situation': 6750, '00am': 2, 'british': 1184, 'angry': 534, 'sociology': 6852, 'gummi': 3248, 'worm': 8209, 'peach': 5677, 'cheeto': 1479, '44': 184, 'ounce': 5550, 'soda': 6856, 'tubeyornot2b': 7646, 'tweetheart': 7683, 'pixie_anna': 5795, 'lotta': 4525, 'cyfyre': 1916, 'twinzzzzzzzzzzz': 7701, 'the': 7369, 'tomor': 7517, 'housewives': 3570, 'priorities': 5952, '23rd': 80, 'tennessee': 7331, 'disk': 2193, 'v3events': 7872, 'paronychia': 5633, '2y4vn': 147, 'siiiiike': 6713, 'miiiiine': 4902, 'stairs': 7001, 'cigs': 1561, 'paperwork': 5617, '5km': 211, 'tready': 7588, 'un1xnut': 7774, 'chaseboogie': 1457, 'cue': 1882, 'freeway': 2921, 'azraeel': 766, 'piglet': 5766, 'winnie': 8147, 'pooh': 5863, 'miso': 4942, 'severe': 6596, 'arghhhh': 628, 'byeee': 1275, 'skunkie': 6767, '130': 34, 'kashi': 4109, 'spinach': 6959, 'teachers': 7301, 'rotten': 6359, 'gogoma': 3123, 'lifestyle': 4408, 'goodbye': 3137, 'evilunicorn': 2604, 'honeyortar': 3526, 'hinge': 3467, 'smoothly': 6822, 'breakup': 1148, 'rachaelyamagata': 6074, 'rach': 6073, 'nightwyrm': 5316, 'hallucinate': 3294, 'rampantheart': 6097, 'brandzhd': 1137, 'takin': 7268, 'advisors': 354, 'advise': 353, 'moroccan': 5044, 'truckloads': 7624, 'kenyan': 4148, 'idolette': 3665, 'marissatastic': 4714, 'bigger': 960, 'taub': 7292, 'choclatdrop404': 1518, 'attn': 704, 'gen_marie': 3033, 'hbo': 3356, 'adreamforsteph': 341, 'creep': 1843, 'and': 517, 'or': 5524, 'fridge': 2938, 'junebugg15': 4074, 'owwwwww': 5577, 'doozy': 2279, 'slight': 6793, 'disneyland': 2196, 'rly': 6303, 'detox': 2109, 'h2o': 3266, 'ylizabeth': 8314, '540': 204, 'pixie': 5794, 'chuffer': 1551, 'afro': 365, 'kristinfinley': 4241, 'frank': 2900, 'morgan': 5036, 'race': 6072, 'chrisdjmoyles': 1536, 'wales': 7994, 'blahhh': 1008, 'unable': 7776, 'icky': 3654, 'reject': 6195, 'harrow': 3332, 'pg': 5723, 'optimise': 5519, 'neural': 5266, 'pathways': 5653, 'gmg2001': 3107, 'p90': 5584, 'fatboy': 2715, 'theese': 7382, 'spazmoraz': 6937, 'deprssing': 2088, 'keelybin': 4132, 'ermmm': 2553, 'cannibaleyes': 1335, 'eisie': 2445, '10pt': 18, 'obviously': 5436, 'warlach': 8011, 'paramount': 5622, 'cnn': 1617, 'near': 5232, '05': 5, 'hallet': 3291, 'dhq7xv': 2129, 'markress': 4722, 'samsungimaging': 6448, 'advertisements': 351, 'industrial': 3751, 'strength': 7093, 'texasvegetarian': 7350, 'ow': 5572, 'shift': 6651, 'lollypop': 4490, 'gillianme': 3075, 'pushover': 6026, 'dunkin': 2367, 'donuts': 2272, 'holland': 3499, 'blogged': 1029, '31st': 157, 'beware': 944, 'qzuuy': 6063, 'a2': 268, 'lanes': 4292, '2010': 72, 'tomoro': 7518, 'twitpix': 7707, 'zzzz': 8375, 'luckily': 4560, 'retyped': 6255, 'rougeforever': 6362, 'faffing': 2670, 'thecampingforum': 7378, 'forcasters': 2863, 'babybazooka': 777, 'cherylthelibr_n': 1487, 'rebuilders': 6148, 'rebuild': 6147, 'divorce': 2211, 'meganh93': 4823, 'drizzle': 2330, 'pour': 5895, 'ugghhh': 7751, 'ravenous': 6114, 'gipton': 3079, 'branston': 1138, 'sarnies': 6473, 'doh': 2254, 'restore': 6246, 'hamporter': 3299, 'annex': 551, 'nguyen': 5289, '1xtn7': 60, 'yellinq': 8296, 'mummyy': 5124, 'politicians': 5856, 'oprah': 5517, 'candicenicolepr': 1332, 'shannamoakler': 6620, 'christieeee': 1540, 'dearyy': 2031, 'circulation': 1565, 'belive': 905, 'tx': 7735, 'getn1w': 3055, 'pineapple': 5775, 'dollars': 2260, 'impose': 3716, 'whip': 8103, '46': 186, 'acknowledge': 309, 'pilvlp': 5771, 'creepy': 1845, 'kailuh': 4088, 'cock': 1625, 'ewww': 2610, 'amelia_torode': 492, 'forex': 2870, 'khbn': 4163, 'huggers': 3598, 'lab': 4263, 'report': 6224, '2359hr': 79, 'jillglavan': 3979, 'runawaystarling': 6395, 'unfort': 7805, 'oinker_aida': 5471, 'sinuses': 6738, 'jdpeterson': 3926, 'laurenlenewx': 4325, 'heck': 3388, 'goal': 3114, 'grad': 3181, 'charge': 1448, 'untimely': 7831, 'sneeze': 6832, 'gates': 3018, 'associate': 680, 'azppa': 765, 'convention': 1751, '17': 46, 'papyrus': 5618, 'pelf81': 5688, 'demand': 2069, 'cabbins': 1286, 'ew': 2607, 'dhdpne': 2126, 'lili_marlene': 4421, 'sux': 7211, 'brainiacmathew': 1128, 'loooooooooooooooooooooooooooooooonnnnnnngggggggg': 4507, 'jennchambless': 3946, 'dark_butterfly': 1975, 'paler': 5603, 'jun': 4071, 'healthier': 3371, 'discovery': 2185, 'cycle': 1915, '2work': 108, 'scheme': 6508, 'disc': 2179, 'halfauds': 3288, 'employee': 2496, 'wye': 8245, 'river': 6301, 'everquest': 2588, 'subscription': 7132, 'lapse': 4298, 'jesmayhemwa': 3963, 'prelude': 5925, 'katsun': 4121, 'optimistic': 5521, '365': 165, 'phoenix': 5739, 'xtra': 8261, 'shin': 6655, 'mousetrap': 5060, 'aholmes_nj': 392, 'downthemall': 2297, 'thisisguan': 7416, 'actinglikeamama': 315, 'recipe': 6154, 'gyros': 3265, 'aus': 719, 'feckin': 2735, 'arseholed': 647, 'sukottoxd': 7159, 'nonetheless': 5364, 'charp': 1455, 'nerdy': 5254, 'metropolitan': 4863, 'condition': 1703, 'louad': 4527, 'dzbppd': 2386, 'trend': 7597, 'wakeful': 7992, 'airlie': 408, 'mason': 4749, 'kiwinova': 4202, 'stingray': 7058, 'catseye': 1391, 'tide': 7451, 'badminton': 792, 'honeybaby': 3525, 'quil': 6053, 'soree': 6908, 't___t': 7252, '30secondstomars': 153, 'difficults': 2153, 'vanidosa27': 7887, 'inhaler': 3766, 'eri74': 2545, 'goodmorning': 3142, 'cb': 1395, 'cord': 1780, 'angus': 537, 'quietly': 6052, 'poorly': 5869, 'lung': 4576, 'grahamcracker': 3187, 'melbourne': 4832, 'department': 2081, 'm0nkfish': 4601, 'hershys': 3430, 'granola': 3194, 'raspberries': 6111, 'easterfest': 2403, 'sunky': 7171, 'horrid': 3550, 'seaf2009': 6539, 'improvise': 3720, 'innocentdrinks': 3775, 'minority': 4931, 'stake': 7002, 'trot': 7616, 'chauv': 1462, 'bkgirlfriday': 1000, 'hawaii': 3348, 'bulletin': 1230, 'thelmarockz': 7387, 'thelma': 7386, 'shiz': 6667, 'zeist': 8358, 'silent': 6716, 'sombody': 6872, 'tobe': 7497, 'oc': 5437, 'oscartg': 5539, 'trash_kitten': 7583, 'solution': 6870, 'spanish': 6929, 'stik': 7054, 'sims': 6727, 'gaah': 2989, 'dnt': 2235, 'limewire': 4428, 'linda_james': 4430, 'smaffulli': 6809, 'cert': 1421, 'ktml': 4243, 'camerakit': 1317, 'katerih': 4114, 'tj': 7484, 'martiy': 4741, 'ouchies': 5549, 'geoffmartinez': 3043, 'youre': 8329, 'secret': 6557, 'r9vr': 6069, 'jaime': 3888, 'loveyou': 4545, 'midterm': 4898, '300': 150, 'revise': 6260, 'lizdinkel': 4462, 'hyphy': 3635, 'e40': 2388, 'ripe': 6294, 'freight': 2924, 'mc': 4798, 'tadi': 7260, 'lagi': 4277, 'gaaaaaaaaaaaaaahhh': 2988, 'rufus': 6385, 'brillaint': 1176, 'crab': 1820, 'liten': 4451, 'maddeh': 4623, 'stummics': 7117, 'troybolton': 7620, 'hottiemcsuperbob': 3563, 'omfgz': 5482, 'arghh': 627, 'alergy': 431, 'fairly': 2677, 'misery': 4941, 'brightillusions': 1174, 'position': 5882, 'tighten': 7458, 'sophia': 6902, 'terrific': 7339, '2y5bz': 148, 'jmielcarz': 3991, 'warmness': 8013, 'levitate': 4392, 'casino': 1378, 'theajp': 7370, 'horizon': 3542, 'julian': 4064, 'bball': 857, 'phoebe': 5738, 'duncanmacrae': 2364, 'deny': 2077, 'vendor': 7901, 'gratuitous': 3201, 'grossness': 3225, 'onlinemigration': 5492, 'beatboxn': 875, 'unburnable': 7780, 'nt': 5405, 'abs': 286, 'gabysslave': 2993, 'len': 4372, 'wein': 8060, 'factorial': 2667, 'mathy': 4767, 'schnicklefritz': 6511, 'lend': 4373, 'friendlypharm': 2942, 'thecamacho': 7377, 'danm': 1961, 'montanas': 5024, 'labrys67': 4266, 'broked': 1197, 'ruthclayton': 6404, 'muwahaha': 5145, 'torcher': 7541, 'cardinaire': 1352, 'blimmin': 1023, 'otalia': 5543, 'nowww': 5399, '2morow': 101, 'dominate': 2262, 'hallelujah': 3290, 'econ': 2414, 'gaussian': 3019, 'copula': 1777, 'pa': 5585, 'tapauing': 7282, 'croissant': 1857, 'tuna': 7658, 'to': 7493, 'zuraidah': 8372, 'starbuck': 7010, 'frap': 2908, 'russyrhubarb': 6402, 'oberon': 5428, 'jeffsmithcars': 3939, 'arielehenriques': 634, 'preach': 5917, 'guilty': 3243, 'config': 1711, 'control': 1749, 'charley': 1452, 'djteck': 2223, 'nicest': 5297, 'indoors': 3748, 'contemplate': 1740, 'pile': 5768, 'djjc46': 2219, 'lust': 4580, 'mir': 4937, 'thirsty': 7415, 'indiblogger': 3741, 'neei': 5246, 'dotn': 2284, 'freeness': 2918, 'misselizabeth': 4948, 'shellfish': 6642, 'shrimp': 6689, 'd_trix': 1921, 'canal': 1328, 'louislucci': 4532, 'epidural': 2535, 'chronic': 1546, 'josordoni': 4039, 'combinator': 1661, 'oyster': 5580, 'sir_almo': 6741, 'valid': 7878, 'enibeni': 2517, 'duerme': 2360, 'temprano': 7328, 'valonthecoast': 7880, 'jamzeee': 3895, 'knowwwwww': 4221, 'sukkkk': 7158, 'gurls': 3254, 'arrrggghhh': 645, 'infidelsarecool': 3756, 'setup': 6594, 'subversion': 7136, 'imperiusrex': 3711, 'brahbrah': 1125, 'joshsharp': 4037, 'hes': 3433, 'whoh': 8110, 'hydraulics': 3633, 'hurty': 3628, 'squishy': 6987, 'vomitto': 7972, 'pixar': 5792, 'lisalent': 4446, 'freeview': 2920, 'travoradio': 7587, 'blipfm': 1026, 'dtizzler': 2345, 'undo': 7797, 'wolud': 8173, 'choco': 1520, 'specs': 6945, 'x60s': 8247, 'spag': 6926, 'bol': 1067, 'dssertation': 2344, 'ilovedt': 3689, 'blatantly': 1013, 'untrue': 7832, 'contradict': 1748, 'kath': 4115, 'annual': 557, 'duuuuuuuu': 2374, 'babyporridge': 780, 'cape': 1345, 'r1900': 6064, 'kulula': 4245, 'window': 8139, 'carmello': 1361, 'jimmy': 3981, '_laertesgirl': 263, 'chillin': 1507, 'hizzo': 3481, 'backbooth': 783, 'rn': 6307, 'fry': 2957, 'clumsiness': 1614, 'astound': 684, 'dullards': 2361, 'potential': 5892, 'surface': 7193, 'development': 2115, 'torrent': 7542, 'bj': 997, 'tragically': 7572, 'predictably': 5919, 'eliminate': 2459, 'pingping': 5778, 'zappoman': 8352, 'weapons': 8038, 'pandora': 5610, 'uninvent': 7813, 'reznik360': 6266, 'bonbonfire': 1071, 'confab': 1706, 'huhu': 3604, 'talentfull': 7271, '28': 93, 'puttin': 6030, 'princedavey': 5948, 'coolness': 1769, 'bobbyly': 1059, 'gentlemen': 3039, 'wednesdays': 8050, 'choclate': 1519, 'passengers': 5645, 'hunn': 3617, 'getvisible': 3058, 'journalists': 4043, 'ambulance': 491, 'lawyers': 4334, 'copenhagen': 1775, 'flo': 2823, 'devakishor': 2112, 'extravagant': 2650, 'conserve': 1730, 'iwouldificould': 3869, 'calculators': 1300, 'ato': 697, 'gov': 3172, 'scripts': 6528, 'axos': 762, 'context': 1744, 'kbs': 4126, 'esb': 2561, 'xr4': 8258, 'rebeccamayne': 6146, 'becs': 887, 'wilshipley': 8136, 'localization': 4476, 'dl2': 2227, 'incomplete': 3733, 'truncations': 7631, 'codylfriend': 1634, 'disobedientgirl': 2197, 'slog': 6800, 'mrbigglesrox': 5079, 'meanie': 4807, 'pauliwhirl': 5664, 'lotery': 4523, 'stfu': 7051, 'qidong': 6034, 'funeral': 2972, 'undergo': 7788, 'maintenance': 4649, 'anyshalyke': 575, 'jacvanek': 3884, 'twyla': 7734, 'bavster_twit': 850, 'sip': 6739, 'c25k': 1277, 'ominous': 5486, 'measles': 4810, 'shantelleb': 6622, 'aiiane': 399, 'deiondrasanders': 2064, 'ahhhhhhh': 391, 'boxee': 1117, 'timvansas': 7469, 'seanporter': 6546, 'uuu': 7870, 'downy': 2299, 'karsentheslater': 4107, 'pissy': 5787, 'mormon': 5038, 'craaaaap': 1819, 'kernel': 4149, 'sooner': 6893, 'az': 763, '1an3': 56, 'gorgeous': 3162, 'tyjanetrev': 7739, 'agreee': 379, 'mateee': 4757, 'drupal': 2338, 'framework': 2892, 'module': 4994, 'bitcache': 983, 'hebb': 3387, 'accidently': 297, 'brows': 1204, 'zackdft': 8350, 'bullshit': 1231, 'misscassandra': 4947, 'lions': 4440, 'tigers': 7456, 'shyt': 6695, 'consequently': 1729, 'djginaturner': 2217, 'gusta': 3256, 'marcellariley': 4697, 'hoptonhousebnb': 3541, 'tuner': 7660, 'kevo': 4155, 'bursaar': 1250, 'shots': 6681, 'kellyshibari': 4142, 'derek319': 2092, 'shwe370': 6694, 'ads': 343, 'adsense': 344, 'womenissues': 8176, 'snore': 6840, 'tommorow': 7513, 'wtfanabel': 8236, 'alissa_rules': 443, 'juicin': 4062, 'stitch': 7062, 'graft': 3186, 'hooray': 3534, 'reliable': 6202, 'signalflare': 6712, 'skankityspence': 6755, 'bridge': 1167, 'heath': 3380, 'ledger': 4357, 'indigored_hot': 3744, 'bits': 988, 'homeward': 3513, 'awillert': 752, 'withdrawel': 8158, 'madninjacurl': 4630, 'msjodiodie': 5098, 'commonplace': 1680, 'journalist': 4042, 'chidambaram': 1497, 'ibnlive': 3647, 'throws': 7435, 'at': 689, '89666': 248, 'resent': 6234, 'creativity': 1838, 'reheat': 6193, 'intentions': 3798, 'tidy': 7452, 'momentum': 5006, 'writers': 8231, 'sprain': 6976, 'gutz': 3259, 'mrnokill': 5081, 'appeal': 595, 'audience': 710, 'aiyerchitra': 414, 'yikes': 8311, 'clue': 1613, 'engage': 2513, 'muppet': 5128, 'timberlake': 7462, '39': 169, 'sans': 6455, 'guardian': 3238, 'fl': 2801, 'jetlag': 3969, 'thurs': 7441, 'helluva': 3408, 'todo': 7502, 'specialty': 6943, '178': 47, 'kaylee110': 4124, 'shelikescute': 6641, '40am': 181, 'sonny': 6888, 'kirstiekalamity': 4189, 'oohh': 5500, '2x': 109, 'apr': 614, 'sebby_peek': 6551, 'dadi_iyal': 1927, 'familiar': 2693, 'hole': 3493, 'sale': 6436, 'swallow': 7213, 'glands': 3094, 'streetwearbear': 7092, 'reaveling': 6143, 'cherrytreerec': 1486, 'restrictions': 6247, 'speedo': 6948, 'mmmf': 4978, 'forums': 2878, 'chanel': 1440, 'willadam': 8131, 'treat': 7589, 'surgically': 7195, 'celestechong': 1408, 'ceramic': 1419, 'abit': 283, 'visible': 7946, 'duration': 2371, 'crimestoppers': 1851, 'burglar': 1246, '200db': 70, 'deafening': 2026, 'tone': 7522, 'fightin': 2760, 'bin': 969, 'creed': 1841, 'jordar': 4032, 'mikerra': 4905, 'anyones': 574, 'istanbul': 3842, 'roads': 6310, 'blaze': 1014, 'viennateng': 7937, 'marburg': 4696, 'runs': 6397, '1y02l': 65, 'roxy_yeah': 6371, 'finito': 2780, 'contractors': 1747, 'incoming': 3732, 'bullet': 1229, 'caitlinaudrey': 1296, 'reschedule': 6230, 'circumstances': 1566, '2morw': 103, 'worryng': 8212, 'needle': 5243}\n",
            "Encoded Document is:\n",
            "[[0 0 0 ... 0 0 0]\n",
            " [0 0 0 ... 0 0 0]\n",
            " [0 0 0 ... 0 0 0]\n",
            " ...\n",
            " [0 0 0 ... 0 0 0]\n",
            " [0 0 0 ... 0 0 0]\n",
            " [0 0 0 ... 0 0 0]]\n"
          ]
        }
      ]
    },
    {
      "cell_type": "code",
      "source": [
        "df['sentiment'][:2000]"
      ],
      "metadata": {
        "id": "1ZA4NXonXYE6"
      },
      "execution_count": null,
      "outputs": []
    },
    {
      "cell_type": "code",
      "source": [
        "from sklearn.model_selection import train_test_split\n",
        "from sklearn import preprocessing\n",
        "# train, test, train_y, test_y = train_test_split(vector_positive_tweets, df['sentiment'][:2000], test_size = 0.20, random_state = 0)\n",
        "\n",
        "X_train, X_test, y_train, y_test = train_test_split(vector, data_labels, test_size = 0.2)\n"
      ],
      "metadata": {
        "id": "rLSMNOXKu34r"
      },
      "execution_count": 121,
      "outputs": []
    },
    {
      "cell_type": "code",
      "source": [
        "from sklearn.naive_bayes import GaussianNB\n",
        "\n",
        "gnb = GaussianNB()\n",
        "gnb.fit(X_train, y_train)\n",
        "gnb.score(X_test, y_test)"
      ],
      "metadata": {
        "colab": {
          "base_uri": "https://localhost:8080/"
        },
        "id": "0MJ1_JIZT-e2",
        "outputId": "5f31d94b-37e3-41cf-f4f9-56d9e9c1dfa9"
      },
      "execution_count": 125,
      "outputs": [
        {
          "output_type": "execute_result",
          "data": {
            "text/plain": [
              "0.54375"
            ]
          },
          "metadata": {},
          "execution_count": 125
        }
      ]
    },
    {
      "cell_type": "code",
      "source": [
        "from sklearn.naive_bayes import MultinomialNB\n",
        "\n",
        "mln = MultinomialNB()\n",
        "mln.fit(X_train, y_train)\n",
        "mln.score(X_test, y_test)"
      ],
      "metadata": {
        "colab": {
          "base_uri": "https://localhost:8080/"
        },
        "id": "KH2SXIklWd0o",
        "outputId": "7878e513-165e-4d1d-ef10-843a02816f7d"
      },
      "execution_count": 122,
      "outputs": [
        {
          "output_type": "execute_result",
          "data": {
            "text/plain": [
              "0.7075"
            ]
          },
          "metadata": {},
          "execution_count": 122
        }
      ]
    },
    {
      "cell_type": "code",
      "source": [
        "from sklearn.tree import DecisionTreeClassifier\n",
        "\n",
        "\n",
        "dt = DecisionTreeClassifier()\n",
        "dt.fit(X_train, y_train)\n"
      ],
      "metadata": {
        "colab": {
          "base_uri": "https://localhost:8080/"
        },
        "id": "H9a38DimW9X_",
        "outputId": "f5bf7f98-71e2-4e18-d277-04c32bda9f22"
      },
      "execution_count": 123,
      "outputs": [
        {
          "output_type": "execute_result",
          "data": {
            "text/plain": [
              "DecisionTreeClassifier()"
            ]
          },
          "metadata": {},
          "execution_count": 123
        }
      ]
    },
    {
      "cell_type": "code",
      "source": [
        "dt.score(X_test, y_test)"
      ],
      "metadata": {
        "colab": {
          "base_uri": "https://localhost:8080/"
        },
        "id": "R22Rr87FXPn_",
        "outputId": "88d6de47-6e7d-437a-cee2-2df8bb8d7731"
      },
      "execution_count": 124,
      "outputs": [
        {
          "output_type": "execute_result",
          "data": {
            "text/plain": [
              "0.62875"
            ]
          },
          "metadata": {},
          "execution_count": 124
        }
      ]
    },
    {
      "cell_type": "code",
      "source": [
        "from sklearn.linear_model import LogisticRegression\n",
        "\n",
        "logisticRegr = LogisticRegression()\n",
        "logisticRegr.fit(X_train, y_train)\n",
        "logisticRegr.score(X_test, y_test)"
      ],
      "metadata": {
        "colab": {
          "base_uri": "https://localhost:8080/"
        },
        "id": "F4XV5u9QcD-0",
        "outputId": "b782d4b0-84d2-4340-cff9-24b2bae56666"
      },
      "execution_count": 126,
      "outputs": [
        {
          "output_type": "execute_result",
          "data": {
            "text/plain": [
              "0.6925"
            ]
          },
          "metadata": {},
          "execution_count": 126
        }
      ]
    }
  ]
}