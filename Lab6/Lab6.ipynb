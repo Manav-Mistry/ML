{
  "nbformat": 4,
  "nbformat_minor": 0,
  "metadata": {
    "colab": {
      "provenance": []
    },
    "kernelspec": {
      "name": "python3",
      "display_name": "Python 3"
    },
    "language_info": {
      "name": "python"
    },
    "accelerator": "GPU",
    "gpuClass": "standard"
  },
  "cells": [
    {
      "cell_type": "code",
      "execution_count": null,
      "metadata": {
        "id": "jzpiDGvhPAdw"
      },
      "outputs": [],
      "source": [
        "import pandas as pd\n",
        "from nltk.corpus import stopwords\n",
        "import string\n",
        "import re\n",
        "from sklearn.feature_extraction.text import CountVectorizer\n",
        "from sklearn.metrics import classification_report\n",
        "from sklearn.naive_bayes import MultinomialNB\n",
        "from sklearn.tree import DecisionTreeClassifier\n",
        "from sklearn.model_selection import train_test_split\n",
        "import seaborn as sns\n",
        "from wordcloud import WordCloud\n",
        "import matplotlib.pyplot as plt"
      ]
    },
    {
      "cell_type": "code",
      "source": [
        "!pip install -q kaggle\n"
      ],
      "metadata": {
        "id": "x2GREBm9R2t0"
      },
      "execution_count": null,
      "outputs": []
    },
    {
      "cell_type": "code",
      "source": [],
      "metadata": {
        "id": "padIzdk8SMNG"
      },
      "execution_count": null,
      "outputs": []
    },
    {
      "cell_type": "code",
      "source": [
        "! mkdir ~/.kaggle"
      ],
      "metadata": {
        "id": "NmdZhuNNTgkv",
        "colab": {
          "base_uri": "https://localhost:8080/"
        },
        "outputId": "13ba61f4-2023-4fb5-996d-180433ea6088"
      },
      "execution_count": null,
      "outputs": [
        {
          "output_type": "stream",
          "name": "stdout",
          "text": [
            "mkdir: cannot create directory ‘/root/.kaggle’: File exists\n"
          ]
        }
      ]
    },
    {
      "cell_type": "code",
      "source": [
        "! cp kaggle.json ~/.kaggle/"
      ],
      "metadata": {
        "id": "4-LRrcoiTsod",
        "colab": {
          "base_uri": "https://localhost:8080/"
        },
        "outputId": "b9a31834-855a-4ca3-df1e-e3aeb8a3eabd"
      },
      "execution_count": null,
      "outputs": [
        {
          "output_type": "stream",
          "name": "stdout",
          "text": [
            "cp: cannot stat 'kaggle.json': No such file or directory\n"
          ]
        }
      ]
    },
    {
      "cell_type": "code",
      "source": [
        " ! chmod 600 ~/.kaggle/kaggle.json"
      ],
      "metadata": {
        "id": "waICLDEaTzzh",
        "colab": {
          "base_uri": "https://localhost:8080/"
        },
        "outputId": "4c574399-a2b1-4d35-aa16-4cf24705b894"
      },
      "execution_count": null,
      "outputs": [
        {
          "output_type": "stream",
          "name": "stdout",
          "text": [
            "chmod: cannot access '/root/.kaggle/kaggle.json': No such file or directory\n"
          ]
        }
      ]
    },
    {
      "cell_type": "code",
      "source": [
        "! kaggle datasets list"
      ],
      "metadata": {
        "colab": {
          "base_uri": "https://localhost:8080/"
        },
        "id": "hV-fPvt9UJRC",
        "outputId": "2cbf7684-5097-43c4-b4d2-cbfa029929f7"
      },
      "execution_count": null,
      "outputs": [
        {
          "output_type": "stream",
          "name": "stdout",
          "text": [
            "Traceback (most recent call last):\n",
            "  File \"/usr/local/bin/kaggle\", line 5, in <module>\n",
            "    from kaggle.cli import main\n",
            "  File \"/usr/local/lib/python3.8/dist-packages/kaggle/__init__.py\", line 23, in <module>\n",
            "    api.authenticate()\n",
            "  File \"/usr/local/lib/python3.8/dist-packages/kaggle/api/kaggle_api_extended.py\", line 164, in authenticate\n",
            "    raise IOError('Could not find {}. Make sure it\\'s located in'\n",
            "OSError: Could not find kaggle.json. Make sure it's located in /root/.kaggle. Or use the environment method.\n"
          ]
        }
      ]
    },
    {
      "cell_type": "code",
      "source": [
        "!mkdir -p data\n",
        "!wget -nc https://nyc3.digitaloceanspaces.com/ml-files-distro/v1/investigating-sentiment-analysis/data/training.1600000.processed.noemoticon.csv.zip -P data\n",
        "!unzip -n -d data data/training.1600000.processed.noemoticon.csv.zip"
      ],
      "metadata": {
        "colab": {
          "base_uri": "https://localhost:8080/"
        },
        "id": "LlUNYPGsUjeC",
        "outputId": "2cfaf7d2-4709-4644-94f5-09e79dab3eb8"
      },
      "execution_count": null,
      "outputs": [
        {
          "output_type": "stream",
          "name": "stdout",
          "text": [
            "File ‘data/training.1600000.processed.noemoticon.csv.zip’ already there; not retrieving.\n",
            "\n",
            "Archive:  data/training.1600000.processed.noemoticon.csv.zip\n"
          ]
        }
      ]
    },
    {
      "cell_type": "code",
      "source": [
        "import pandas as pd\n",
        "\n",
        "df = pd.read_csv(\"data/training.1600000.processed.noemoticon.csv\",\n",
        "                names=['sentiment', 'id', 'date', 'query', 'user', 'text'],\n",
        "                encoding='latin-1')\n",
        "df.head()"
      ],
      "metadata": {
        "colab": {
          "base_uri": "https://localhost:8080/",
          "height": 206
        },
        "id": "2z810TxiWnfe",
        "outputId": "944b1b21-9731-46a4-a5fe-f334bdcce682"
      },
      "execution_count": null,
      "outputs": [
        {
          "output_type": "execute_result",
          "data": {
            "text/plain": [
              "   sentiment          id                          date     query  \\\n",
              "0          0  1467810369  Mon Apr 06 22:19:45 PDT 2009  NO_QUERY   \n",
              "1          0  1467810672  Mon Apr 06 22:19:49 PDT 2009  NO_QUERY   \n",
              "2          0  1467810917  Mon Apr 06 22:19:53 PDT 2009  NO_QUERY   \n",
              "3          0  1467811184  Mon Apr 06 22:19:57 PDT 2009  NO_QUERY   \n",
              "4          0  1467811193  Mon Apr 06 22:19:57 PDT 2009  NO_QUERY   \n",
              "\n",
              "              user                                               text  \n",
              "0  _TheSpecialOne_  @switchfoot http://twitpic.com/2y1zl - Awww, t...  \n",
              "1    scotthamilton  is upset that he can't update his Facebook by ...  \n",
              "2         mattycus  @Kenichan I dived many times for the ball. Man...  \n",
              "3          ElleCTF    my whole body feels itchy and like its on fire   \n",
              "4           Karoli  @nationwideclass no, it's not behaving at all....  "
            ],
            "text/html": [
              "\n",
              "  <div id=\"df-c12db620-2014-42b2-8261-d512e339c34b\">\n",
              "    <div class=\"colab-df-container\">\n",
              "      <div>\n",
              "<style scoped>\n",
              "    .dataframe tbody tr th:only-of-type {\n",
              "        vertical-align: middle;\n",
              "    }\n",
              "\n",
              "    .dataframe tbody tr th {\n",
              "        vertical-align: top;\n",
              "    }\n",
              "\n",
              "    .dataframe thead th {\n",
              "        text-align: right;\n",
              "    }\n",
              "</style>\n",
              "<table border=\"1\" class=\"dataframe\">\n",
              "  <thead>\n",
              "    <tr style=\"text-align: right;\">\n",
              "      <th></th>\n",
              "      <th>sentiment</th>\n",
              "      <th>id</th>\n",
              "      <th>date</th>\n",
              "      <th>query</th>\n",
              "      <th>user</th>\n",
              "      <th>text</th>\n",
              "    </tr>\n",
              "  </thead>\n",
              "  <tbody>\n",
              "    <tr>\n",
              "      <th>0</th>\n",
              "      <td>0</td>\n",
              "      <td>1467810369</td>\n",
              "      <td>Mon Apr 06 22:19:45 PDT 2009</td>\n",
              "      <td>NO_QUERY</td>\n",
              "      <td>_TheSpecialOne_</td>\n",
              "      <td>@switchfoot http://twitpic.com/2y1zl - Awww, t...</td>\n",
              "    </tr>\n",
              "    <tr>\n",
              "      <th>1</th>\n",
              "      <td>0</td>\n",
              "      <td>1467810672</td>\n",
              "      <td>Mon Apr 06 22:19:49 PDT 2009</td>\n",
              "      <td>NO_QUERY</td>\n",
              "      <td>scotthamilton</td>\n",
              "      <td>is upset that he can't update his Facebook by ...</td>\n",
              "    </tr>\n",
              "    <tr>\n",
              "      <th>2</th>\n",
              "      <td>0</td>\n",
              "      <td>1467810917</td>\n",
              "      <td>Mon Apr 06 22:19:53 PDT 2009</td>\n",
              "      <td>NO_QUERY</td>\n",
              "      <td>mattycus</td>\n",
              "      <td>@Kenichan I dived many times for the ball. Man...</td>\n",
              "    </tr>\n",
              "    <tr>\n",
              "      <th>3</th>\n",
              "      <td>0</td>\n",
              "      <td>1467811184</td>\n",
              "      <td>Mon Apr 06 22:19:57 PDT 2009</td>\n",
              "      <td>NO_QUERY</td>\n",
              "      <td>ElleCTF</td>\n",
              "      <td>my whole body feels itchy and like its on fire</td>\n",
              "    </tr>\n",
              "    <tr>\n",
              "      <th>4</th>\n",
              "      <td>0</td>\n",
              "      <td>1467811193</td>\n",
              "      <td>Mon Apr 06 22:19:57 PDT 2009</td>\n",
              "      <td>NO_QUERY</td>\n",
              "      <td>Karoli</td>\n",
              "      <td>@nationwideclass no, it's not behaving at all....</td>\n",
              "    </tr>\n",
              "  </tbody>\n",
              "</table>\n",
              "</div>\n",
              "      <button class=\"colab-df-convert\" onclick=\"convertToInteractive('df-c12db620-2014-42b2-8261-d512e339c34b')\"\n",
              "              title=\"Convert this dataframe to an interactive table.\"\n",
              "              style=\"display:none;\">\n",
              "        \n",
              "  <svg xmlns=\"http://www.w3.org/2000/svg\" height=\"24px\"viewBox=\"0 0 24 24\"\n",
              "       width=\"24px\">\n",
              "    <path d=\"M0 0h24v24H0V0z\" fill=\"none\"/>\n",
              "    <path d=\"M18.56 5.44l.94 2.06.94-2.06 2.06-.94-2.06-.94-.94-2.06-.94 2.06-2.06.94zm-11 1L8.5 8.5l.94-2.06 2.06-.94-2.06-.94L8.5 2.5l-.94 2.06-2.06.94zm10 10l.94 2.06.94-2.06 2.06-.94-2.06-.94-.94-2.06-.94 2.06-2.06.94z\"/><path d=\"M17.41 7.96l-1.37-1.37c-.4-.4-.92-.59-1.43-.59-.52 0-1.04.2-1.43.59L10.3 9.45l-7.72 7.72c-.78.78-.78 2.05 0 2.83L4 21.41c.39.39.9.59 1.41.59.51 0 1.02-.2 1.41-.59l7.78-7.78 2.81-2.81c.8-.78.8-2.07 0-2.86zM5.41 20L4 18.59l7.72-7.72 1.47 1.35L5.41 20z\"/>\n",
              "  </svg>\n",
              "      </button>\n",
              "      \n",
              "  <style>\n",
              "    .colab-df-container {\n",
              "      display:flex;\n",
              "      flex-wrap:wrap;\n",
              "      gap: 12px;\n",
              "    }\n",
              "\n",
              "    .colab-df-convert {\n",
              "      background-color: #E8F0FE;\n",
              "      border: none;\n",
              "      border-radius: 50%;\n",
              "      cursor: pointer;\n",
              "      display: none;\n",
              "      fill: #1967D2;\n",
              "      height: 32px;\n",
              "      padding: 0 0 0 0;\n",
              "      width: 32px;\n",
              "    }\n",
              "\n",
              "    .colab-df-convert:hover {\n",
              "      background-color: #E2EBFA;\n",
              "      box-shadow: 0px 1px 2px rgba(60, 64, 67, 0.3), 0px 1px 3px 1px rgba(60, 64, 67, 0.15);\n",
              "      fill: #174EA6;\n",
              "    }\n",
              "\n",
              "    [theme=dark] .colab-df-convert {\n",
              "      background-color: #3B4455;\n",
              "      fill: #D2E3FC;\n",
              "    }\n",
              "\n",
              "    [theme=dark] .colab-df-convert:hover {\n",
              "      background-color: #434B5C;\n",
              "      box-shadow: 0px 1px 3px 1px rgba(0, 0, 0, 0.15);\n",
              "      filter: drop-shadow(0px 1px 2px rgba(0, 0, 0, 0.3));\n",
              "      fill: #FFFFFF;\n",
              "    }\n",
              "  </style>\n",
              "\n",
              "      <script>\n",
              "        const buttonEl =\n",
              "          document.querySelector('#df-c12db620-2014-42b2-8261-d512e339c34b button.colab-df-convert');\n",
              "        buttonEl.style.display =\n",
              "          google.colab.kernel.accessAllowed ? 'block' : 'none';\n",
              "\n",
              "        async function convertToInteractive(key) {\n",
              "          const element = document.querySelector('#df-c12db620-2014-42b2-8261-d512e339c34b');\n",
              "          const dataTable =\n",
              "            await google.colab.kernel.invokeFunction('convertToInteractive',\n",
              "                                                     [key], {});\n",
              "          if (!dataTable) return;\n",
              "\n",
              "          const docLinkHtml = 'Like what you see? Visit the ' +\n",
              "            '<a target=\"_blank\" href=https://colab.research.google.com/notebooks/data_table.ipynb>data table notebook</a>'\n",
              "            + ' to learn more about interactive tables.';\n",
              "          element.innerHTML = '';\n",
              "          dataTable['output_type'] = 'display_data';\n",
              "          await google.colab.output.renderOutput(dataTable, element);\n",
              "          const docLink = document.createElement('div');\n",
              "          docLink.innerHTML = docLinkHtml;\n",
              "          element.appendChild(docLink);\n",
              "        }\n",
              "      </script>\n",
              "    </div>\n",
              "  </div>\n",
              "  "
            ]
          },
          "metadata": {},
          "execution_count": 42
        }
      ]
    },
    {
      "cell_type": "code",
      "source": [
        "df[\"sentiment\"] = df[\"sentiment\"].replace(4,1)\n"
      ],
      "metadata": {
        "id": "V22KZyZwW7Kd"
      },
      "execution_count": null,
      "outputs": []
    },
    {
      "cell_type": "code",
      "source": [
        "# plotting the data using countplot\n",
        "sns.countplot(x=\"sentiment\",data=df)"
      ],
      "metadata": {
        "colab": {
          "base_uri": "https://localhost:8080/",
          "height": 296
        },
        "id": "dyS1H4J9XfrT",
        "outputId": "0bcadc23-383b-4325-9b4b-37cada58ff06"
      },
      "execution_count": null,
      "outputs": [
        {
          "output_type": "execute_result",
          "data": {
            "text/plain": [
              "<matplotlib.axes._subplots.AxesSubplot at 0x7f257f417850>"
            ]
          },
          "metadata": {},
          "execution_count": 44
        },
        {
          "output_type": "display_data",
          "data": {
            "text/plain": [
              "<Figure size 432x288 with 1 Axes>"
            ],
            "image/png": "[encoded data removed]"
          },
          "metadata": {
            "needs_background": "light"
          }
        }
      ]
    },
    {
      "cell_type": "code",
      "source": [
        "positive_tweets = df[df[\"sentiment\"] == 1][\"text\"].tolist()\n"
      ],
      "metadata": {
        "id": "L1wFKmfxXhlj"
      },
      "execution_count": null,
      "outputs": []
    },
    {
      "cell_type": "code",
      "source": [
        "# positive_tweets_string = \" \".join(positive_tweets)\n",
        "# positive_tweets_string\n",
        "# plt.figure(figsize=(15,15))\n",
        "# plt.imshow(WordCloud().generate(positive_tweets_string))"
      ],
      "metadata": {
        "id": "gOqe66R3YBQj"
      },
      "execution_count": null,
      "outputs": []
    },
    {
      "cell_type": "code",
      "source": [
        "# creating the string of negative tweets to analyze the words\n",
        "negative_tweets = df[df['sentiment'] == 0]['text'].tolist()\n",
        "# negative_tweets_string = \" \".join(negative_tweets)"
      ],
      "metadata": {
        "id": "lxtE_FRAYsRp"
      },
      "execution_count": null,
      "outputs": []
    },
    {
      "cell_type": "code",
      "source": [
        "print(len(positive_tweets), len(negative_tweets))"
      ],
      "metadata": {
        "colab": {
          "base_uri": "https://localhost:8080/"
        },
        "id": "_sbv7b03b0XH",
        "outputId": "24199a5e-d131-447b-9d4b-a01ef1e90d4c"
      },
      "execution_count": null,
      "outputs": [
        {
          "output_type": "stream",
          "name": "stdout",
          "text": [
            "800000 800000\n"
          ]
        }
      ]
    },
    {
      "cell_type": "code",
      "source": [
        "positive_tweets_some = positive_tweets[:2000]\n",
        "negative_tweets_some = negative_tweets[:2000]"
      ],
      "metadata": {
        "id": "YV5uBMUDduZS"
      },
      "execution_count": null,
      "outputs": []
    },
    {
      "cell_type": "code",
      "source": [
        "import nltk\n",
        "nltk.download('stopwords')"
      ],
      "metadata": {
        "colab": {
          "base_uri": "https://localhost:8080/"
        },
        "id": "XPDtRd8ogABa",
        "outputId": "700199aa-9cf1-41ea-efd8-8a3566d6069f"
      },
      "execution_count": null,
      "outputs": [
        {
          "output_type": "stream",
          "name": "stderr",
          "text": [
            "[nltk_data] Downloading package stopwords to /root/nltk_data...\n",
            "[nltk_data]   Package stopwords is already up-to-date!\n"
          ]
        },
        {
          "output_type": "execute_result",
          "data": {
            "text/plain": [
              "True"
            ]
          },
          "metadata": {},
          "execution_count": 50
        }
      ]
    },
    {
      "cell_type": "code",
      "source": [
        "# remove stop words\n",
        "import string\n",
        "from nltk.corpus import stopwords\n",
        "from nltk.stem import PorterStemmer \n",
        "from nltk.tokenize import TweetTokenizer\n",
        "from nltk.stem import WordNetLemmatizer\n",
        "\n",
        "stopwords_english = stopwords.words('english')\n",
        "\n",
        "n_positive_tweets = []\n",
        "\n",
        "# tokenize tweets\n",
        "for tweet_str in positive_tweets_some:\n",
        "\n",
        "  n_tweet_arr = []\n",
        "  tokenizer = TweetTokenizer(preserve_case=False)\n",
        "  tweet_arr = tokenizer.tokenize(tweet_str)\n",
        "  for word in tweet_arr:\n",
        "    if (word not in stopwords_english and word not in string.punctuation): \n",
        "      n_tweet_arr.append(word)\n",
        "\n",
        "  n_positive_tweets.append(n_tweet_arr)\n"
      ],
      "metadata": {
        "id": "u852KncucqsM"
      },
      "execution_count": null,
      "outputs": []
    },
    {
      "cell_type": "code",
      "source": [
        "# for negative_tweets\n",
        "\n",
        "n_negative_tweets = []\n",
        "\n",
        "\n",
        "count = 0\n",
        "# tokenize tweets\n",
        "for tweet_str in negative_tweets_some:\n",
        "  n_tweet_arr = []\n",
        "  tokenizer = TweetTokenizer(preserve_case=False)\n",
        "  tweet_arr = tokenizer.tokenize(tweet_str)\n",
        "  for word in tweet_arr:\n",
        "    if (word not in stopwords_english and word not in string.punctuation): \n",
        "      n_tweet_arr.append(word)\n",
        "\n",
        "  n_negative_tweets.append(n_tweet_arr)"
      ],
      "metadata": {
        "id": "DkiU9ixJoo8c"
      },
      "execution_count": null,
      "outputs": []
    },
    {
      "cell_type": "code",
      "source": [
        "import nltk\n",
        "# nltk.download('wordnet')\n",
        "# from nltk.stem import WordNetLemmatizer\n",
        "nltk.download('omw-1.4')"
      ],
      "metadata": {
        "colab": {
          "base_uri": "https://localhost:8080/"
        },
        "id": "iPhVVcyMl-7c",
        "outputId": "00fd4aa6-03b1-4f73-81df-c5f3aa838a50"
      },
      "execution_count": null,
      "outputs": [
        {
          "output_type": "stream",
          "name": "stderr",
          "text": [
            "[nltk_data] Downloading package omw-1.4 to /root/nltk_data...\n",
            "[nltk_data]   Package omw-1.4 is already up-to-date!\n"
          ]
        },
        {
          "output_type": "execute_result",
          "data": {
            "text/plain": [
              "True"
            ]
          },
          "metadata": {},
          "execution_count": 53
        }
      ]
    },
    {
      "cell_type": "code",
      "source": [
        "# lemmatizing positive_tweets\n",
        "import nltk\n",
        "nltk.download('wordnet')\n",
        "# Instantiate stemming class\n",
        "\n",
        "lem_positive_tweets = []\n",
        "\n",
        "for tweet in n_positive_tweets:\n",
        "  wordnet_lemmatizer = WordNetLemmatizer()\n",
        "  tweet_lem = []\n",
        "\n",
        "  for word in tweet:\n",
        "    lem_words = wordnet_lemmatizer.lemmatize(word,pos =\"v\")\n",
        "    tweet_lem.append(lem_words)\n",
        "\n",
        "  lem_positive_tweets.append(tweet_lem)"
      ],
      "metadata": {
        "colab": {
          "base_uri": "https://localhost:8080/"
        },
        "id": "P-RnI-x2lBuz",
        "outputId": "4091e1d8-e201-4bdd-fd99-938a3aa9e255"
      },
      "execution_count": null,
      "outputs": [
        {
          "output_type": "stream",
          "name": "stderr",
          "text": [
            "[nltk_data] Downloading package wordnet to /root/nltk_data...\n",
            "[nltk_data]   Package wordnet is already up-to-date!\n"
          ]
        }
      ]
    },
    {
      "cell_type": "code",
      "source": [
        "# lemmatizing negative_tweets\n",
        "import nltk\n",
        "nltk.download('wordnet')\n",
        "# Instantiate stemming class\n",
        "\n",
        "lem_negative_tweets = []\n",
        "\n",
        "for tweet in n_negative_tweets:\n",
        "  wordnet_lemmatizer = WordNetLemmatizer()\n",
        "  tweet_lem = []\n",
        "\n",
        "  for word in tweet:\n",
        "    lem_words = wordnet_lemmatizer.lemmatize(word,pos =\"v\")\n",
        "    tweet_lem.append(lem_words)\n",
        "\n",
        "  lem_negative_tweets.append(tweet_lem)"
      ],
      "metadata": {
        "colab": {
          "base_uri": "https://localhost:8080/"
        },
        "id": "2HuyLfMMpAPm",
        "outputId": "adf2d201-2da7-467f-9c8e-610e134dc0b4"
      },
      "execution_count": null,
      "outputs": [
        {
          "output_type": "stream",
          "name": "stderr",
          "text": [
            "[nltk_data] Downloading package wordnet to /root/nltk_data...\n",
            "[nltk_data]   Package wordnet is already up-to-date!\n"
          ]
        }
      ]
    },
    {
      "cell_type": "code",
      "source": [
        "n_positive_tweets[90]"
      ],
      "metadata": {
        "colab": {
          "base_uri": "https://localhost:8080/"
        },
        "id": "eC66YmHzguEx",
        "outputId": "6ed9085d-aa7a-46e2-b163-9bc93832ea3a"
      },
      "execution_count": null,
      "outputs": [
        {
          "output_type": "execute_result",
          "data": {
            "text/plain": [
              "['@marymayblood',\n",
              " 'would',\n",
              " 'love',\n",
              " 'come',\n",
              " 'help',\n",
              " 'unpack',\n",
              " 'let',\n",
              " 'know',\n",
              " 'need',\n",
              " 'sat',\n",
              " 'afternoon']"
            ]
          },
          "metadata": {},
          "execution_count": 56
        }
      ]
    },
    {
      "cell_type": "code",
      "source": [
        "lem_positive_tweets[90]"
      ],
      "metadata": {
        "colab": {
          "base_uri": "https://localhost:8080/"
        },
        "id": "hB1WYvoynD-R",
        "outputId": "0f2537bc-b052-4919-af51-fbfb82c45ddd"
      },
      "execution_count": null,
      "outputs": [
        {
          "output_type": "execute_result",
          "data": {
            "text/plain": [
              "['@marymayblood',\n",
              " 'would',\n",
              " 'love',\n",
              " 'come',\n",
              " 'help',\n",
              " 'unpack',\n",
              " 'let',\n",
              " 'know',\n",
              " 'need',\n",
              " 'sit',\n",
              " 'afternoon']"
            ]
          },
          "metadata": {},
          "execution_count": 57
        }
      ]
    },
    {
      "cell_type": "code",
      "source": [
        "lem_negative_tweets[90]"
      ],
      "metadata": {
        "colab": {
          "base_uri": "https://localhost:8080/"
        },
        "id": "YAtUzALvqe69",
        "outputId": "e99b5997-f4ab-4878-9739-f6f94880a0f0"
      },
      "execution_count": null,
      "outputs": [
        {
          "output_type": "execute_result",
          "data": {
            "text/plain": [
              "['@hollywoodheat',\n",
              " 'pay',\n",
              " 'attention',\n",
              " 'cover',\n",
              " 'photoshop',\n",
              " 'webpage',\n",
              " 'design',\n",
              " 'class',\n",
              " 'undergrad']"
            ]
          },
          "metadata": {},
          "execution_count": 58
        }
      ]
    },
    {
      "cell_type": "code",
      "source": [
        "# converting [[''], [], [], ...] to ['', '', ...] for positive_tweets\n",
        "\n",
        "lem_positive_tweets_string = []\n",
        "\n",
        "for lem_tweet in lem_positive_tweets:\n",
        "  lem_tweet_string = ' '.join([str(elem) for elem in lem_tweet])\n",
        "  lem_positive_tweets_string.append(lem_tweet_string)\n",
        "\n",
        "print(lem_positive_tweets_string[90])\n",
        "\n"
      ],
      "metadata": {
        "id": "4WHL8K2YnOex",
        "colab": {
          "base_uri": "https://localhost:8080/"
        },
        "outputId": "7f8015de-9ada-4693-d75d-38f41e3f7322"
      },
      "execution_count": null,
      "outputs": [
        {
          "output_type": "stream",
          "name": "stdout",
          "text": [
            "@marymayblood would love come help unpack let know need sit afternoon\n"
          ]
        }
      ]
    },
    {
      "cell_type": "code",
      "source": [
        "# converting [[''], [], [], ...] to ['', '', ...] for negative_tweets\n",
        "\n",
        "lem_negative_tweets_string = []\n",
        "\n",
        "for lem_tweet in lem_negative_tweets:\n",
        "  lem_tweet_string = ' '.join([str(elem) for elem in lem_tweet])\n",
        "  lem_negative_tweets_string.append(lem_tweet_string)\n",
        "\n",
        "print(lem_negative_tweets_string[90])\n"
      ],
      "metadata": {
        "colab": {
          "base_uri": "https://localhost:8080/"
        },
        "id": "u4_mNrzqoTcp",
        "outputId": "04416daa-39d0-43a2-b36b-d4482bceea43"
      },
      "execution_count": null,
      "outputs": [
        {
          "output_type": "stream",
          "name": "stdout",
          "text": [
            "@hollywoodheat pay attention cover photoshop webpage design class undergrad\n"
          ]
        }
      ]
    },
    {
      "cell_type": "code",
      "source": [
        "print(lem_positive_tweets_string[89])"
      ],
      "metadata": {
        "colab": {
          "base_uri": "https://localhost:8080/"
        },
        "id": "XzXmS4Ggssc_",
        "outputId": "d5f796f8-bdf7-44ba-c170-388eac260959"
      },
      "execution_count": null,
      "outputs": [
        {
          "output_type": "stream",
          "name": "stdout",
          "text": [
            "nikki work ass bike try recover knee injury good\n"
          ]
        }
      ]
    },
    {
      "cell_type": "code",
      "source": [
        "print(len(lem_positive_tweets_string), len(lem_negative_tweets_string), type(lem_positive_tweets_string[0]))"
      ],
      "metadata": {
        "colab": {
          "base_uri": "https://localhost:8080/"
        },
        "id": "Pv84vabqvHg_",
        "outputId": "7ec17811-32ac-4ff2-ecaf-4455e9d24075"
      },
      "execution_count": null,
      "outputs": [
        {
          "output_type": "stream",
          "name": "stdout",
          "text": [
            "2000 2000 <class 'str'>\n"
          ]
        }
      ]
    },
    {
      "cell_type": "code",
      "source": [
        "data = []\n",
        "data_labels = []\n",
        "\n",
        "for word in lem_positive_tweets_string:\n",
        "  data.append(word)\n",
        "  data_labels.append(1)\n",
        "\n",
        "for word in lem_negative_tweets_string:\n",
        "  data.append(word)\n",
        "  data_labels.append(0)"
      ],
      "metadata": {
        "id": "gTlOg_PCZMZb"
      },
      "execution_count": null,
      "outputs": []
    },
    {
      "cell_type": "code",
      "source": [
        "# count vectorizer\n",
        "from sklearn.feature_extraction.text import CountVectorizer\n",
        "\n",
        "# Create a Vectorizer Object\n",
        "vectorizer = CountVectorizer()\n",
        "vectorizer.fit(data)\n",
        "# Printing the identified Unique words along with their indices\n",
        "# print(\"Vocabulary: \", vectorizer.vocabulary_)\n",
        "# Encode the Document\n",
        "vector = vectorizer.transform(data).toarray()\n",
        "# Summarizing the Encoded Texts\n",
        "# print(\"Encoded Document is:\")\n",
        "# print(vector)"
      ],
      "metadata": {
        "id": "s_OICLLealsR"
      },
      "execution_count": null,
      "outputs": []
    },
    {
      "cell_type": "code",
      "source": [
        "df['sentiment'][:2000]"
      ],
      "metadata": {
        "id": "1ZA4NXonXYE6"
      },
      "execution_count": null,
      "outputs": []
    },
    {
      "cell_type": "code",
      "source": [
        "from sklearn.model_selection import train_test_split\n",
        "from sklearn import preprocessing\n",
        "# train, test, train_y, test_y = train_test_split(vector_positive_tweets, df['sentiment'][:2000], test_size = 0.20, random_state = 0)\n",
        "\n",
        "X_train, X_test, y_train, y_test = train_test_split(vector, data_labels, test_size = 0.2)\n"
      ],
      "metadata": {
        "id": "rLSMNOXKu34r"
      },
      "execution_count": null,
      "outputs": []
    },
    {
      "cell_type": "code",
      "source": [
        "from sklearn.naive_bayes import GaussianNB\n",
        "\n",
        "gnb = GaussianNB()\n",
        "gnb.fit(X_train, y_train)\n",
        "gnb.score(X_test, y_test)"
      ],
      "metadata": {
        "colab": {
          "base_uri": "https://localhost:8080/"
        },
        "id": "0MJ1_JIZT-e2",
        "outputId": "5f31d94b-37e3-41cf-f4f9-56d9e9c1dfa9"
      },
      "execution_count": null,
      "outputs": [
        {
          "output_type": "execute_result",
          "data": {
            "text/plain": [
              "0.54375"
            ]
          },
          "metadata": {},
          "execution_count": 125
        }
      ]
    },
    {
      "cell_type": "code",
      "source": [
        "from sklearn.naive_bayes import MultinomialNB\n",
        "\n",
        "mln = MultinomialNB()\n",
        "mln.fit(X_train, y_train)\n",
        "mln.score(X_test, y_test)"
      ],
      "metadata": {
        "colab": {
          "base_uri": "https://localhost:8080/"
        },
        "id": "KH2SXIklWd0o",
        "outputId": "7878e513-165e-4d1d-ef10-843a02816f7d"
      },
      "execution_count": null,
      "outputs": [
        {
          "output_type": "execute_result",
          "data": {
            "text/plain": [
              "0.7075"
            ]
          },
          "metadata": {},
          "execution_count": 122
        }
      ]
    },
    {
      "cell_type": "code",
      "source": [
        "from sklearn.tree import DecisionTreeClassifier\n",
        "\n",
        "\n",
        "dt = DecisionTreeClassifier()\n",
        "dt.fit(X_train, y_train)\n"
      ],
      "metadata": {
        "colab": {
          "base_uri": "https://localhost:8080/"
        },
        "id": "H9a38DimW9X_",
        "outputId": "f5bf7f98-71e2-4e18-d277-04c32bda9f22"
      },
      "execution_count": null,
      "outputs": [
        {
          "output_type": "execute_result",
          "data": {
            "text/plain": [
              "DecisionTreeClassifier()"
            ]
          },
          "metadata": {},
          "execution_count": 123
        }
      ]
    },
    {
      "cell_type": "code",
      "source": [
        "dt.score(X_test, y_test)"
      ],
      "metadata": {
        "colab": {
          "base_uri": "https://localhost:8080/"
        },
        "id": "R22Rr87FXPn_",
        "outputId": "88d6de47-6e7d-437a-cee2-2df8bb8d7731"
      },
      "execution_count": null,
      "outputs": [
        {
          "output_type": "execute_result",
          "data": {
            "text/plain": [
              "0.62875"
            ]
          },
          "metadata": {},
          "execution_count": 124
        }
      ]
    },
    {
      "cell_type": "code",
      "source": [
        "from sklearn.linear_model import LogisticRegression\n",
        "\n",
        "logisticRegr = LogisticRegression()\n",
        "logisticRegr.fit(X_train, y_train)\n",
        "logisticRegr.score(X_test, y_test)"
      ],
      "metadata": {
        "colab": {
          "base_uri": "https://localhost:8080/"
        },
        "id": "F4XV5u9QcD-0",
        "outputId": "b782d4b0-84d2-4340-cff9-24b2bae56666"
      },
      "execution_count": null,
      "outputs": [
        {
          "output_type": "execute_result",
          "data": {
            "text/plain": [
              "0.6925"
            ]
          },
          "metadata": {},
          "execution_count": 126
        }
      ]
    }
  ]
}